{
 "cells": [
  {
   "cell_type": "markdown",
   "id": "c5ec63f8",
   "metadata": {},
   "source": [
    "# Reading the ROOT files"
   ]
  },
  {
   "cell_type": "code",
   "execution_count": 156,
   "id": "0a3dd523-b817-4ab4-b576-f748269a8e83",
   "metadata": {
    "collapsed": true,
    "jupyter": {
     "outputs_hidden": true
    },
    "tags": []
   },
   "outputs": [
    {
     "ename": "ModuleNotFoundError",
     "evalue": "No module named 'tensorboard.plugins.hparams'",
     "output_type": "error",
     "traceback": [
      "\u001b[0;31m---------------------------------------------------------------------------\u001b[0m",
      "\u001b[0;31mModuleNotFoundError\u001b[0m                       Traceback (most recent call last)",
      "\u001b[0;32m<ipython-input-156-1d9137e83faf>\u001b[0m in \u001b[0;36m<module>\u001b[0;34m\u001b[0m\n\u001b[0;32m----> 1\u001b[0;31m \u001b[0;32mimport\u001b[0m \u001b[0mkeras_tuner\u001b[0m \u001b[0;32mas\u001b[0m \u001b[0mkt\u001b[0m\u001b[0;34m\u001b[0m\u001b[0;34m\u001b[0m\u001b[0m\n\u001b[0m",
      "\u001b[0;32m~/.local/lib/python3.8/site-packages/keras_tuner/__init__.py\u001b[0m in \u001b[0;36m<module>\u001b[0;34m\u001b[0m\n\u001b[1;32m     18\u001b[0m \u001b[0;34m\u001b[0m\u001b[0m\n\u001b[1;32m     19\u001b[0m \u001b[0;32mfrom\u001b[0m \u001b[0;34m.\u001b[0m \u001b[0;32mimport\u001b[0m \u001b[0mapplications\u001b[0m\u001b[0;34m\u001b[0m\u001b[0;34m\u001b[0m\u001b[0m\n\u001b[0;32m---> 20\u001b[0;31m \u001b[0;32mfrom\u001b[0m \u001b[0;34m.\u001b[0m \u001b[0;32mimport\u001b[0m \u001b[0moracles\u001b[0m\u001b[0;34m\u001b[0m\u001b[0;34m\u001b[0m\u001b[0m\n\u001b[0m\u001b[1;32m     21\u001b[0m \u001b[0;32mfrom\u001b[0m \u001b[0;34m.\u001b[0m \u001b[0;32mimport\u001b[0m \u001b[0mtuners\u001b[0m\u001b[0;34m\u001b[0m\u001b[0;34m\u001b[0m\u001b[0m\n\u001b[1;32m     22\u001b[0m \u001b[0;32mfrom\u001b[0m \u001b[0;34m.\u001b[0m\u001b[0mengine\u001b[0m\u001b[0;34m.\u001b[0m\u001b[0mhypermodel\u001b[0m \u001b[0;32mimport\u001b[0m \u001b[0mHyperModel\u001b[0m\u001b[0;34m\u001b[0m\u001b[0;34m\u001b[0m\u001b[0m\n",
      "\u001b[0;32m~/.local/lib/python3.8/site-packages/keras_tuner/oracles/__init__.py\u001b[0m in \u001b[0;36m<module>\u001b[0;34m\u001b[0m\n\u001b[1;32m     15\u001b[0m \u001b[0;31m# Keep the name of `BayesianOptimization`, `Hyperband` and `RandomSearch`\u001b[0m\u001b[0;34m\u001b[0m\u001b[0;34m\u001b[0m\u001b[0;34m\u001b[0m\u001b[0m\n\u001b[1;32m     16\u001b[0m \u001b[0;31m# for backward compatibility for 1.0.2 or earlier.\u001b[0m\u001b[0;34m\u001b[0m\u001b[0;34m\u001b[0m\u001b[0;34m\u001b[0m\u001b[0m\n\u001b[0;32m---> 17\u001b[0;31m \u001b[0;32mfrom\u001b[0m \u001b[0;34m.\u001b[0m\u001b[0;34m.\u001b[0m\u001b[0mtuners\u001b[0m\u001b[0;34m.\u001b[0m\u001b[0mbayesian\u001b[0m \u001b[0;32mimport\u001b[0m \u001b[0mBayesianOptimizationOracle\u001b[0m\u001b[0;34m\u001b[0m\u001b[0;34m\u001b[0m\u001b[0m\n\u001b[0m\u001b[1;32m     18\u001b[0m \u001b[0;32mfrom\u001b[0m \u001b[0;34m.\u001b[0m\u001b[0;34m.\u001b[0m\u001b[0mtuners\u001b[0m\u001b[0;34m.\u001b[0m\u001b[0mbayesian\u001b[0m \u001b[0;32mimport\u001b[0m \u001b[0mBayesianOptimizationOracle\u001b[0m \u001b[0;32mas\u001b[0m \u001b[0mBayesianOptimization\u001b[0m\u001b[0;34m\u001b[0m\u001b[0;34m\u001b[0m\u001b[0m\n\u001b[1;32m     19\u001b[0m \u001b[0;32mfrom\u001b[0m \u001b[0;34m.\u001b[0m\u001b[0;34m.\u001b[0m\u001b[0mtuners\u001b[0m\u001b[0;34m.\u001b[0m\u001b[0mhyperband\u001b[0m \u001b[0;32mimport\u001b[0m \u001b[0mHyperbandOracle\u001b[0m\u001b[0;34m\u001b[0m\u001b[0;34m\u001b[0m\u001b[0m\n",
      "\u001b[0;32m~/.local/lib/python3.8/site-packages/keras_tuner/tuners/__init__.py\u001b[0m in \u001b[0;36m<module>\u001b[0;34m\u001b[0m\n\u001b[1;32m     15\u001b[0m \u001b[0;32mfrom\u001b[0m \u001b[0m__future__\u001b[0m \u001b[0;32mimport\u001b[0m \u001b[0mabsolute_import\u001b[0m\u001b[0;34m\u001b[0m\u001b[0;34m\u001b[0m\u001b[0m\n\u001b[1;32m     16\u001b[0m \u001b[0;34m\u001b[0m\u001b[0m\n\u001b[0;32m---> 17\u001b[0;31m \u001b[0;32mfrom\u001b[0m \u001b[0;34m.\u001b[0m\u001b[0mbayesian\u001b[0m \u001b[0;32mimport\u001b[0m \u001b[0mBayesianOptimization\u001b[0m\u001b[0;34m\u001b[0m\u001b[0;34m\u001b[0m\u001b[0m\n\u001b[0m\u001b[1;32m     18\u001b[0m \u001b[0;32mfrom\u001b[0m \u001b[0;34m.\u001b[0m\u001b[0mhyperband\u001b[0m \u001b[0;32mimport\u001b[0m \u001b[0mHyperband\u001b[0m\u001b[0;34m\u001b[0m\u001b[0;34m\u001b[0m\u001b[0m\n\u001b[1;32m     19\u001b[0m \u001b[0;32mfrom\u001b[0m \u001b[0;34m.\u001b[0m\u001b[0mrandomsearch\u001b[0m \u001b[0;32mimport\u001b[0m \u001b[0mRandomSearch\u001b[0m\u001b[0;34m\u001b[0m\u001b[0;34m\u001b[0m\u001b[0m\n",
      "\u001b[0;32m~/.local/lib/python3.8/site-packages/keras_tuner/tuners/bayesian.py\u001b[0m in \u001b[0;36m<module>\u001b[0;34m\u001b[0m\n\u001b[1;32m      7\u001b[0m \u001b[0;34m\u001b[0m\u001b[0m\n\u001b[1;32m      8\u001b[0m \u001b[0;32mfrom\u001b[0m \u001b[0;34m.\u001b[0m\u001b[0;34m.\u001b[0m\u001b[0mengine\u001b[0m \u001b[0;32mimport\u001b[0m \u001b[0mhyperparameters\u001b[0m \u001b[0;32mas\u001b[0m \u001b[0mhp_module\u001b[0m\u001b[0;34m\u001b[0m\u001b[0;34m\u001b[0m\u001b[0m\n\u001b[0;32m----> 9\u001b[0;31m \u001b[0;32mfrom\u001b[0m \u001b[0;34m.\u001b[0m\u001b[0;34m.\u001b[0m\u001b[0mengine\u001b[0m \u001b[0;32mimport\u001b[0m \u001b[0mmulti_execution_tuner\u001b[0m\u001b[0;34m\u001b[0m\u001b[0;34m\u001b[0m\u001b[0m\n\u001b[0m\u001b[1;32m     10\u001b[0m \u001b[0;32mfrom\u001b[0m \u001b[0;34m.\u001b[0m\u001b[0;34m.\u001b[0m\u001b[0mengine\u001b[0m \u001b[0;32mimport\u001b[0m \u001b[0moracle\u001b[0m \u001b[0;32mas\u001b[0m \u001b[0moracle_module\u001b[0m\u001b[0;34m\u001b[0m\u001b[0;34m\u001b[0m\u001b[0m\n\u001b[1;32m     11\u001b[0m \u001b[0;32mfrom\u001b[0m \u001b[0;34m.\u001b[0m\u001b[0;34m.\u001b[0m\u001b[0mengine\u001b[0m \u001b[0;32mimport\u001b[0m \u001b[0mtrial\u001b[0m \u001b[0;32mas\u001b[0m \u001b[0mtrial_lib\u001b[0m\u001b[0;34m\u001b[0m\u001b[0;34m\u001b[0m\u001b[0m\n",
      "\u001b[0;32m~/.local/lib/python3.8/site-packages/keras_tuner/engine/multi_execution_tuner.py\u001b[0m in \u001b[0;36m<module>\u001b[0;34m\u001b[0m\n\u001b[1;32m     24\u001b[0m \u001b[0;34m\u001b[0m\u001b[0m\n\u001b[1;32m     25\u001b[0m \u001b[0;32mimport\u001b[0m \u001b[0mnumpy\u001b[0m \u001b[0;32mas\u001b[0m \u001b[0mnp\u001b[0m\u001b[0;34m\u001b[0m\u001b[0;34m\u001b[0m\u001b[0m\n\u001b[0;32m---> 26\u001b[0;31m \u001b[0;32mfrom\u001b[0m \u001b[0mtensorboard\u001b[0m\u001b[0;34m.\u001b[0m\u001b[0mplugins\u001b[0m\u001b[0;34m.\u001b[0m\u001b[0mhparams\u001b[0m \u001b[0;32mimport\u001b[0m \u001b[0mapi\u001b[0m \u001b[0;32mas\u001b[0m \u001b[0mhparams_api\u001b[0m\u001b[0;34m\u001b[0m\u001b[0;34m\u001b[0m\u001b[0m\n\u001b[0m\u001b[1;32m     27\u001b[0m \u001b[0;32mfrom\u001b[0m \u001b[0mtensorflow\u001b[0m \u001b[0;32mimport\u001b[0m \u001b[0mkeras\u001b[0m\u001b[0;34m\u001b[0m\u001b[0;34m\u001b[0m\u001b[0m\n\u001b[1;32m     28\u001b[0m \u001b[0;34m\u001b[0m\u001b[0m\n",
      "\u001b[0;31mModuleNotFoundError\u001b[0m: No module named 'tensorboard.plugins.hparams'"
     ]
    }
   ],
   "source": [
    "import keras_tuner as kt"
   ]
  },
  {
   "cell_type": "code",
   "execution_count": null,
   "id": "5222f0d7-2836-4b00-a6ae-e20b89ac1235",
   "metadata": {},
   "outputs": [],
   "source": [
    "kt.Hyperband()"
   ]
  },
  {
   "cell_type": "code",
   "execution_count": 1,
   "id": "e559d40d",
   "metadata": {},
   "outputs": [],
   "source": [
    "# %matplotlib notebookimport uproot\n",
    "import numpy as np\n",
    "import pandas as pd\n",
    "import awkward as ak\n",
    "from scipy.stats import norm\n",
    "import scipy.interpolate as interpolate\n",
    "from scipy.ndimage import median as med\n",
    "\n",
    "from tensorflow.keras.models import Sequential\n",
    "from tensorflow.keras.layers import LSTM, Dense, Dropout, Masking, Embedding, Input, InputLayer\n",
    "from tensorflow.keras.layers import Concatenate, Flatten\n",
    "from tensorflow.keras.models import Model\n",
    "from tensorflow.keras.preprocessing import sequence\n",
    "import keras_tuner as kt\n",
    "\n",
    "import tensorflow as tf\n",
    "import tensorflow.keras.backend as K\n",
    "from tensorflow.keras import callbacks\n",
    "\n",
    "from sklearn.model_selection import train_test_split\n",
    "from sklearn.metrics import confusion_matrix, roc_auc_score, roc_curve\n",
    "from sklearn.preprocessing import StandardScaler"
   ]
  },
  {
   "cell_type": "code",
   "execution_count": 41,
   "id": "5000d073-e1cf-409a-b602-55fe2d674081",
   "metadata": {},
   "outputs": [],
   "source": [
    "import tensorflow.keras.backend as K\n",
    "import tensorflow as tf\n",
    "def contrastive_loss(y, preds, margin=1):\n",
    "\t# explicitly cast the true class label data type to the predicted\n",
    "\t# class label data type (otherwise we run the risk of having two\n",
    "\t# separate data types, causing TensorFlow to error out)\n",
    "\ty = tf.cast(y, preds.dtype)\n",
    "\t# calculate the contrastive loss between the true labels and\n",
    "\t# the predicted labels\n",
    "\tsquaredPreds = K.square(preds)\n",
    "\tsquaredMargin = K.square(K.maximum(margin - preds, 0))\n",
    "\tloss = K.mean(y * squaredPreds + (1 - y) * squaredMargin)\n",
    "\t# return the computed contrastive loss to the calling function\n",
    "\treturn loss"
   ]
  },
  {
   "cell_type": "code",
   "execution_count": 102,
   "id": "fad49430-08c3-43bd-8ad5-a97194b0fecc",
   "metadata": {},
   "outputs": [],
   "source": [
    "from tensorflow.keras import callbacks"
   ]
  },
  {
   "cell_type": "code",
   "execution_count": 80,
   "id": "9e349e22",
   "metadata": {},
   "outputs": [],
   "source": [
    "from keras.models import Sequential\n",
    "from keras.layers import LSTM, Dense, Dropout, Masking, Embedding, Input, InputLayer\n",
    "from keras.preprocessing import sequence\n",
    "# from keras.preprocessing import to_categorical"
   ]
  },
  {
   "cell_type": "code",
   "execution_count": 45,
   "id": "36db0391",
   "metadata": {},
   "outputs": [],
   "source": [
    "import uproot\n",
    "import numpy as np\n",
    "import pandas as pd"
   ]
  },
  {
   "cell_type": "code",
   "execution_count": 46,
   "id": "695babfc",
   "metadata": {},
   "outputs": [],
   "source": [
    "import matplotlib.pyplot as plt\n",
    "import awkward as ak\n",
    "from mpl_toolkits.mplot3d import axes3d \n",
    "from matplotlib.colors import LogNorm\n",
    "import IPython\n",
    "from sklearn import metrics"
   ]
  },
  {
   "cell_type": "code",
   "execution_count": 47,
   "id": "de2fe1f8",
   "metadata": {},
   "outputs": [],
   "source": [
    "from sklearn.model_selection import train_test_split\n",
    "from sklearn.metrics import confusion_matrix, roc_auc_score, roc_curve\n",
    "import seaborn as sns\n",
    "from sklearn.preprocessing import StandardScaler\n",
    "from sklearn.ensemble import RandomForestClassifier"
   ]
  },
  {
   "cell_type": "code",
   "execution_count": 48,
   "id": "c48ded4f",
   "metadata": {},
   "outputs": [],
   "source": [
    "from scipy.stats import norm\n",
    "import scipy.interpolate as interpolate\n",
    "from scipy.ndimage import median as med"
   ]
  },
  {
   "cell_type": "code",
   "execution_count": 49,
   "id": "a38250fb-8a34-424d-812b-44516ed40e55",
   "metadata": {},
   "outputs": [],
   "source": [
    "from keras.layers import Concatenate, Flatten\n",
    "from keras.models import Model\n"
   ]
  },
  {
   "cell_type": "code",
   "execution_count": 50,
   "id": "332b809a-dea3-4b72-a6bd-52ea0b33d0b8",
   "metadata": {},
   "outputs": [],
   "source": [
    "pmtpos = np.loadtxt('pmtpositions.csv', delimiter=',')\n",
    "pmtpos = np.vstack((np.array([0, 0, 0]), pmtpos))"
   ]
  },
  {
   "cell_type": "code",
   "execution_count": 150,
   "id": "d72498a6-b68d-4dd9-a297-1d777329e77b",
   "metadata": {},
   "outputs": [],
   "source": [
    "ak.to_json(fastn, 'fastn.json')"
   ]
  },
  {
   "cell_type": "code",
   "execution_count": 51,
   "id": "62f23722",
   "metadata": {},
   "outputs": [],
   "source": [
    "fastn = uproot.open('data/fastn.root'+':data')\n",
    "ibd = uproot.open('data/ibd.root'+':data')\n",
    "fastn = fastn.arrays(library='awkward')\n",
    "ibd = ibd.arrays(library='awkward')"
   ]
  },
  {
   "cell_type": "code",
   "execution_count": 52,
   "id": "58a96911",
   "metadata": {
    "tags": []
   },
   "outputs": [
    {
     "name": "stdout",
     "output_type": "stream",
     "text": [
      "set 0\n",
      "set 1\n"
     ]
    }
   ],
   "source": [
    "# Time-sort all the data arrays for recurrent/sequential purposes. \n",
    "for j, data in enumerate([fastn, ibd]):\n",
    "#     data['restime'] = data['hittime']\n",
    "    print('set %i'%(j))\n",
    "    args = ak.argsort(data['hittime'])\n",
    "    for key in ['hittime', 'pmtcharge', 'channel']:\n",
    "        data[key] = data[key][args]"
   ]
  },
  {
   "cell_type": "markdown",
   "id": "99b26e4b",
   "metadata": {},
   "source": [
    "Separate out prompt/delayed IBD and delta-ray/neutron capture fast-neutrons"
   ]
  },
  {
   "cell_type": "code",
   "execution_count": 53,
   "id": "225d1eb8",
   "metadata": {
    "tags": []
   },
   "outputs": [],
   "source": [
    "# Get rid of the first and last events of each run \n",
    "ibd = ibd[ibd['inner_hit_prev']>0]\n",
    "ibd = ibd[ibd['inner_hit_next']>0]\n",
    "ibd = ibd[ibd['dt_prev_us']>0]\n",
    "fastn = fastn[fastn['inner_hit_prev']>0]\n",
    "fastn = fastn[fastn['inner_hit_next']>0]\n",
    "fastn = fastn[fastn['dt_prev_us']>0]"
   ]
  },
  {
   "cell_type": "markdown",
   "id": "f3076815",
   "metadata": {},
   "source": [
    "Make sure all times that are larger than ~600 us are set to some constant, e.g. 500 us. \n",
    "<br>\n",
    "This is because the rates are arbitrary in the case of us using these samples -- these are just injected rates. "
   ]
  },
  {
   "cell_type": "code",
   "execution_count": 54,
   "id": "8a25a759",
   "metadata": {
    "tags": []
   },
   "outputs": [],
   "source": [
    "dims = ak.fields(data)\n",
    "prev_vars = [i for i in dims if 'prev' in i.lower()]\n",
    "post_vars = [i for i in dims if 'next' in i.lower()]\n",
    "proxvars = np.append(prev_vars, post_vars)"
   ]
  },
  {
   "cell_type": "code",
   "execution_count": 55,
   "id": "07fb1d47-3bef-42c0-b50a-89d8f5d0e52c",
   "metadata": {
    "tags": []
   },
   "outputs": [],
   "source": [
    "prev_vars_replace = [0, 0, 0, 0, 0, 0, 0, 0, 0, 0, \n",
    "                     1e4, 1e4, 1e4, 1e4, 600, \n",
    "                     0, 0, 0, 0, 0, 0]\n",
    "post_vars_replace = [0, 0, 0, 0, 0, 0, 0, 0, 0, \n",
    "                     1e4, 1e4, 1e4, 1e4, 600]\n",
    "                     "
   ]
  },
  {
   "cell_type": "code",
   "execution_count": 56,
   "id": "f720dcc8",
   "metadata": {
    "tags": []
   },
   "outputs": [],
   "source": [
    "def calcr(data):\n",
    "    data['r'] = np.sqrt(data['x']**2+data['y']**2)\n",
    "    return data"
   ]
  },
  {
   "cell_type": "code",
   "execution_count": 57,
   "id": "687bb444",
   "metadata": {
    "tags": []
   },
   "outputs": [],
   "source": [
    "#do we need to also remove the distance information? \n",
    "for data in [fastn, ibd]:\n",
    "    data = calcr(data)\n",
    "    for t, varbls, replace in zip(['dt_prev_us', 'dt_next_us'], [prev_vars, post_vars], \n",
    "                        [prev_vars_replace, post_vars_replace]):\n",
    "        prox_mask = data[t]<600\n",
    "        for k, key in enumerate(varbls): \n",
    "            data[key] = ak.where(prox_mask, data[key], replace[k])"
   ]
  },
  {
   "cell_type": "code",
   "execution_count": 58,
   "id": "6c8db9de",
   "metadata": {},
   "outputs": [],
   "source": [
    "dimensions = [\n",
    "    'n9', 'n9_prev', 'n9_next',\n",
    "    'x', 'y', 'z',  'r',\n",
    "    'id_plus_dr_hit', 'inner_hit_prev', 'inner_hit_next',\n",
    "    'good_dir', 'good_dir_prev', 'good_dir_next',\n",
    "    'good_pos','good_pos_prev', 'good_pos_next',\n",
    "#     'distpmt', \n",
    "    'closestPMT', 'closestPMT_prev', 'closestPMT_next', \n",
    "    'drPrevr', 'dzPrevz', 'drNextr', 'dzNextz',\n",
    "     'dt_prev_us', 'dt_next_us',\n",
    "    'azimuth_ks', 'azimuth_ks_prev','azimuth_ks_next',\n",
    "    'n100', 'pe', \n",
    "    'beta_one', 'beta_two', 'beta_three', 'beta_four', 'beta_five', 'beta_six',\n",
    "    'beta_one_prev', 'beta_two_prev', 'beta_three_prev', 'beta_four_prev', 'beta_five_prev', 'beta_six_prev',\n",
    "]\n",
    "def get_dims(data, dimensions=dimensions):\n",
    "    df_cut = data[dimensions]\n",
    "    print('Remaining variables selected for analysis: %i'%(len(dimensions)))\n",
    "    return df_cut"
   ]
  },
  {
   "cell_type": "markdown",
   "id": "8fb0712d-3dc3-4556-8a9a-9e0c13d8116a",
   "metadata": {
    "tags": []
   },
   "source": [
    "## Data Prep"
   ]
  },
  {
   "cell_type": "code",
   "execution_count": null,
   "id": "a6a41e35-119b-4ee9-88af-c2c8e9cb27f7",
   "metadata": {},
   "outputs": [],
   "source": []
  },
  {
   "cell_type": "code",
   "execution_count": 66,
   "id": "1d1428ae-644e-4d91-845f-60eaf46c9cfa",
   "metadata": {
    "scrolled": true,
    "tags": []
   },
   "outputs": [
    {
     "name": "stdout",
     "output_type": "stream",
     "text": [
      "set 1 of 3\n",
      "-----Processing sample 0 of 36834-----\n",
      "-----Processing sample 10000 of 36834-----\n",
      "-----Processing sample 20000 of 36834-----\n",
      "-----Processing sample 30000 of 36834-----\n",
      "set 2 of 3\n",
      "-----Processing sample 0 of 25469-----\n",
      "-----Processing sample 10000 of 25469-----\n",
      "-----Processing sample 20000 of 25469-----\n"
     ]
    }
   ],
   "source": [
    "delaytime = 1e5\n",
    "c = 21.8 #cm/ns\n",
    "\n",
    "for j, data in enumerate([ibd, fastn]):\n",
    "    channels = []\n",
    "    charges = []\n",
    "    timess = []\n",
    "    chn = data['channel']    \n",
    "    print('set %i of %i'%(j+1, 3))\n",
    "    times = data['hittime']-800.\n",
    "    for i, ht in enumerate(data['hittime']): \n",
    "        if i%10_000==0:\n",
    "            print('-----Processing sample %i of %i-----'%(i, len(data)))\n",
    "        xyz = pmtpos[chn[i]] #cm\n",
    "        vertex = [data['x'][i]/10., data['y'][i]/10., data['z'][i]/10.] #cm\n",
    "        dist = np.sqrt(np.sum((xyz - vertex)**2, axis=1)) # cm\n",
    "        res = times[i] - dist/c\n",
    "        promptmask = np.logical_and(res<delaytime, res>-1*delaytime)\n",
    "        channels.append(data['channel'][i][promptmask])\n",
    "        charges.append(data['pmtcharge'][i][promptmask])\n",
    "        timess.append(res[promptmask])\n",
    "    data['restime'] = ak.Array(timess)\n",
    "    data['promptchan'], data['promptcharge'], data['prompttime'] = ak.Array(channels), ak.Array(charges), ak.Array(timess)"
   ]
  },
  {
   "cell_type": "markdown",
   "id": "ad00898f-90f2-4e6a-80a6-04d0e66e8b43",
   "metadata": {},
   "source": [
    "------"
   ]
  },
  {
   "cell_type": "code",
   "execution_count": 67,
   "id": "54bb3961-5b89-423d-b3de-0ca52ef52c15",
   "metadata": {},
   "outputs": [],
   "source": [
    "def prep_net_data(data_to_manipulate, \n",
    "                  prompt=True, restime=True,\n",
    "                  maxlen=100):\n",
    "    X = []\n",
    "    y = np.array([])\n",
    "    \n",
    "    if prompt==True:\n",
    "        keys = ['promptchan', 'promptcharge', 'prompttime']\n",
    "    elif prompt==False:\n",
    "        keys = ['channel', 'pmtcharge', 'hittime']\n",
    "    if restime==True:\n",
    "        keys.append('restime')\n",
    "        \n",
    "    diminput = len(keys)\n",
    "    for d, dat in enumerate(data_to_manipulate):\n",
    "        print('Running set %i of %i'%(d+1, len(data_to_manipulate)))\n",
    "        new = np.empty(shape=(len(dat), maxlen, diminput+2))\n",
    "\n",
    "        chn = sequence.pad_sequences(dat[keys[0]]+1, maxlen=maxlen, \n",
    "                                     padding='post', \n",
    "                                     dtype='int32')\n",
    "        chrg = sequence.pad_sequences(dat[keys[1]], maxlen=maxlen, \n",
    "                                      padding='post', \n",
    "                                      dtype='float64')\n",
    "        \n",
    "        xyz = pmtpos[chn]+1 #since value of 0 has meaning..\n",
    "        \n",
    "        time = sequence.pad_sequences(dat[keys[2]], maxlen=maxlen, \n",
    "                                      padding='post', \n",
    "                                      dtype='float64')\n",
    "        new[:,:,0] = chrg\n",
    "        new[:,:,1] = time    \n",
    "        new[:,:,2:5] = xyz+1\n",
    "        \n",
    "        if restime==True:\n",
    "            res_times = sequence.pad_sequences(dat[keys[3]], maxlen=maxlen, \n",
    "                                      padding='post', \n",
    "                                      dtype='float64')\n",
    "            new[:,:,5] = res_times\n",
    "            \n",
    "        if len(X)>0:\n",
    "            X = np.append(X, new, axis=0)\n",
    "        else: \n",
    "            X = new\n",
    "        y=np.append(y, d*np.ones(len(new)))    \n",
    "    return X, y"
   ]
  },
  {
   "cell_type": "markdown",
   "id": "84ee1904-e4b5-4755-aa3e-e0a1a95f1749",
   "metadata": {},
   "source": [
    "Add in residual time and pmt info (can cut for promptness in mask if wanted. Now not doing.) "
   ]
  },
  {
   "cell_type": "code",
   "execution_count": 30,
   "id": "df96322a",
   "metadata": {
    "scrolled": true
   },
   "outputs": [
    {
     "name": "stdout",
     "output_type": "stream",
     "text": [
      "set 1 of 3\n",
      "-----Processing sample 0 of 36834-----\n",
      "-----Processing sample 10000 of 36834-----\n",
      "-----Processing sample 20000 of 36834-----\n",
      "-----Processing sample 30000 of 36834-----\n",
      "set 2 of 3\n",
      "-----Processing sample 0 of 25469-----\n",
      "-----Processing sample 10000 of 25469-----\n",
      "-----Processing sample 20000 of 25469-----\n"
     ]
    }
   ],
   "source": [
    "delaytime = 1e5\n",
    "c = 21.8 #cm/ns\n",
    "\n",
    "for j, data in enumerate([ibd, fastn]):\n",
    "    channels = []\n",
    "    charges = []\n",
    "    timess = []\n",
    "    chn = data['channel']    \n",
    "    print('set %i of %i'%(j+1, 3))\n",
    "    times = data['hittime']-800.\n",
    "    for i, ht in enumerate(data['hittime']): \n",
    "        if i%10_000==0:\n",
    "            print('-----Processing sample %i of %i-----'%(i, len(data)))\n",
    "        xyz = pmtpos[chn[i]] #cm\n",
    "        vertex = [data['x'][i]/10., data['y'][i]/10., data['z'][i]/10.] #cm\n",
    "        dist = np.sqrt(np.sum((xyz - vertex)**2, axis=1)) # cm\n",
    "        res = times[i] - dist/c\n",
    "        promptmask = np.logical_and(res<delaytime, res>-1*delaytime)\n",
    "        channels.append(data['channel'][i][promptmask])\n",
    "        charges.append(data['pmtcharge'][i][promptmask])\n",
    "        timess.append(res[promptmask])\n",
    "    data['restime'] = ak.Array(timess)\n",
    "    data['promptchan'], data['promptcharge'], data['prompttime'] = ak.Array(channels), ak.Array(charges), ak.Array(timess)"
   ]
  },
  {
   "cell_type": "markdown",
   "id": "7b90ec20",
   "metadata": {},
   "source": [
    "------"
   ]
  },
  {
   "cell_type": "code",
   "execution_count": 31,
   "id": "b2f0d838",
   "metadata": {},
   "outputs": [],
   "source": [
    "def prep_net_data(data_to_manipulate, \n",
    "                  prompt=True, restime=True,\n",
    "                  maxlen=100):\n",
    "    X = []\n",
    "    y = np.array([])\n",
    "    \n",
    "    if prompt==True:\n",
    "        keys = ['promptchan', 'promptcharge', 'prompttime']\n",
    "    elif prompt==False:\n",
    "        keys = ['channel', 'pmtcharge', 'hittime']\n",
    "    if restime==True:\n",
    "        keys.append('restime')\n",
    "        \n",
    "    diminput = len(keys)\n",
    "    for d, dat in enumerate(data_to_manipulate):\n",
    "        print('Running set %i of %i'%(d+1, len(data_to_manipulate)))\n",
    "        new = np.empty(shape=(len(dat), maxlen, diminput+2))\n",
    "\n",
    "        chn = sequence.pad_sequences(dat[keys[0]]+1, maxlen=maxlen, \n",
    "                                     padding='post', \n",
    "                                     dtype='int32')\n",
    "        chrg = sequence.pad_sequences(dat[keys[1]], maxlen=maxlen, \n",
    "                                      padding='post', \n",
    "                                      dtype='float64')\n",
    "        \n",
    "        xyz = pmtpos[chn]+1 #since value of 0 has meaning..\n",
    "        \n",
    "        time = sequence.pad_sequences(dat[keys[2]], maxlen=maxlen, \n",
    "                                      padding='post', \n",
    "                                      dtype='float64')\n",
    "        new[:,:,0] = chrg\n",
    "        new[:,:,1] = time    \n",
    "        new[:,:,2:5] = xyz+1\n",
    "        \n",
    "        if restime==True:\n",
    "            res_times = sequence.pad_sequences(dat[keys[3]], maxlen=maxlen, \n",
    "                                      padding='post', \n",
    "                                      dtype='float64')\n",
    "            new[:,:,5] = res_times\n",
    "            \n",
    "        if len(X)>0:\n",
    "            X = np.append(X, new, axis=0)\n",
    "        else: \n",
    "            X = new\n",
    "        y=np.append(y, d*np.ones(len(new)))    \n",
    "    return X, y"
   ]
  },
  {
   "cell_type": "markdown",
   "id": "6982f8a7-a2ef-45a4-9e83-e81439c75796",
   "metadata": {
    "tags": []
   },
   "source": [
    "## Getting data in input form"
   ]
  },
  {
   "cell_type": "code",
   "execution_count": 68,
   "id": "9abf6f89-9fd8-4b43-b456-31c500f4b9a4",
   "metadata": {},
   "outputs": [],
   "source": [
    "all_data = ak.concatenate([ibd, fastn])"
   ]
  },
  {
   "cell_type": "code",
   "execution_count": 69,
   "id": "30f588b7-3f09-4645-8952-c0c41fbcdcc1",
   "metadata": {},
   "outputs": [],
   "source": [
    "fn = all_data['code']==2\n",
    "invbeta = all_data['code']==1\n",
    "id0 = all_data['subid']==0\n",
    "id1p = all_data['subid']>0 # >0 changes things "
   ]
  },
  {
   "cell_type": "code",
   "execution_count": 70,
   "id": "d21fb78b-06ad-447c-b527-83c8eccf1e4c",
   "metadata": {},
   "outputs": [],
   "source": [
    "ibd0_mask = ak.from_iter([all(t) for t in zip(invbeta, id0)])\n",
    "ibd1_mask = ak.from_iter([all(t) for t in zip(invbeta, id1p)])\n",
    "fastn0_mask = ak.from_iter([all(t) for t in zip(fn, id0)])\n",
    "fastn1_mask = ak.from_iter([all(t) for t in zip(fn, id1p)])"
   ]
  },
  {
   "cell_type": "code",
   "execution_count": 71,
   "id": "1734a65a-f5a5-4b0c-9bc3-3be00c4f25a2",
   "metadata": {},
   "outputs": [],
   "source": [
    "samples = min([ak.count_nonzero(fn), \n",
    "              ak.count_nonzero(ibd0_mask), \n",
    "              ak.count_nonzero(ibd1_mask)])"
   ]
  },
  {
   "cell_type": "code",
   "execution_count": 72,
   "id": "2137fb5e-05b5-4331-8d5e-fc5b11295eb9",
   "metadata": {},
   "outputs": [],
   "source": [
    "x1 = all_data[fn][:samples]\n",
    "x1 = ak.concatenate((x1, all_data[ibd0_mask][:samples]))\n",
    "x1 = ak.concatenate((x1, all_data[ibd1_mask][:samples]))\n",
    "\n",
    "data_to_manipulate = [all_data[fn][:samples],\n",
    "                     all_data[ibd0_mask][:samples], all_data[ibd1_mask][:samples]\n",
    "                     ]"
   ]
  },
  {
   "cell_type": "code",
   "execution_count": 73,
   "id": "0886a92e-709f-4c54-b9eb-85fe35031ced",
   "metadata": {},
   "outputs": [
    {
     "name": "stdout",
     "output_type": "stream",
     "text": [
      "Remaining variables selected for analysis: 42\n"
     ]
    }
   ],
   "source": [
    "# eplus = get_dims(positrons, dimensions=dimensions)[:samples]\n",
    "X1 = get_dims(x1, dimensions=dimensions)\n",
    "X1 = ak.to_pandas(X1)"
   ]
  },
  {
   "cell_type": "code",
   "execution_count": 74,
   "id": "5540b5cb-edb6-4ad8-8b24-dddb3824acf0",
   "metadata": {},
   "outputs": [
    {
     "name": "stdout",
     "output_type": "stream",
     "text": [
      "Running set 1 of 3\n",
      "Running set 2 of 3\n",
      "Running set 3 of 3\n"
     ]
    }
   ],
   "source": [
    "X2, y = prep_net_data(data_to_manipulate, prompt=False, restime=True, maxlen=200)"
   ]
  },
  {
   "cell_type": "code",
   "execution_count": 81,
   "id": "7e69f947-5806-46f7-af4a-5a0229f9bb53",
   "metadata": {},
   "outputs": [],
   "source": [
    "a = np.array(y.astype(int))\n",
    "b = np.zeros((a.size, a.max()+1), dtype='int32')\n",
    "b[np.arange(a.size),a] = 1\n",
    "y = b"
   ]
  },
  {
   "cell_type": "code",
   "execution_count": 82,
   "id": "cf3dbfb0-ee1c-4fbb-9c1b-c847accd18b7",
   "metadata": {},
   "outputs": [],
   "source": [
    "# Split dataset into training set and test set\n",
    "X_train1, X_test1, X_train2, X_test2, y_train, y_test = train_test_split(X1, X2, y, test_size=0.25, random_state=43) "
   ]
  },
  {
   "cell_type": "code",
   "execution_count": 83,
   "id": "22049157-99be-40fd-bb8f-1ed5f6be590f",
   "metadata": {},
   "outputs": [],
   "source": [
    "sc = StandardScaler()\n",
    "X_train1 = sc.fit_transform(X_train1)\n",
    "X_test1 = sc.transform(X_test1)"
   ]
  },
  {
   "cell_type": "markdown",
   "id": "8a71dc58-cbb7-4d67-9367-8c81cc0aba49",
   "metadata": {
    "tags": []
   },
   "source": [
    "## Non-sequential Model"
   ]
  },
  {
   "cell_type": "code",
   "execution_count": 122,
   "id": "bfd8afec-969d-4123-adaa-c6fd5603f389",
   "metadata": {},
   "outputs": [],
   "source": [
    "model1 = Sequential()\n",
    "# create the model\n",
    "model1.add(InputLayer(42))\n",
    "model1.add(Dense(128, activation='relu'))\n",
    "model1.add(Dropout(0.2))\n",
    "# model1.compile()"
   ]
  },
  {
   "cell_type": "code",
   "execution_count": 123,
   "id": "a64ef46f-d7d9-4e4a-8779-2b8442b3686e",
   "metadata": {},
   "outputs": [],
   "source": [
    "regressor2 = Sequential()\n",
    "input_shape = X2.shape[1:]\n",
    "regressor2.add(InputLayer(input_shape=input_shape))\n",
    "regressor2.add(LSTM(units=256, \n",
    "                   return_sequences=True, \n",
    "                   dropout=0.2,\n",
    "                  ))  \n",
    "\n",
    "regressor2.add(LSTM(units=128, \n",
    "                   return_sequences=True, \n",
    "                   dropout=0.2, \n",
    "                   \n",
    "                  ))\n",
    "regressor2.add(LSTM(units=64, \n",
    "                   return_sequences=False, \n",
    "                   dropout=0.2, \n",
    "                   \n",
    "                  ))"
   ]
  },
  {
   "cell_type": "code",
   "execution_count": 124,
   "id": "4dcd75ef-7b22-4d7e-a777-0f4e457c0bc8",
   "metadata": {},
   "outputs": [],
   "source": [
    "mergedOut = Concatenate()([model1.output, regressor2.output])"
   ]
  },
  {
   "cell_type": "code",
   "execution_count": 125,
   "id": "f1ad9db8-d611-49e5-8a89-e31cbe13c1c4",
   "metadata": {},
   "outputs": [],
   "source": [
    "mergedOut = Flatten()(mergedOut)    \n",
    "mergedOut = Dense(128, activation='relu')(mergedOut)\n",
    "mergedOut = Dropout(.2)(mergedOut)\n",
    "mergedOut = Dense(64, activation='relu')(mergedOut)\n",
    "mergedOut = Dropout(.2)(mergedOut)\n",
    "# output layer\n",
    "mergedOut = Dense(3, activation='softmax')(mergedOut)\n"
   ]
  },
  {
   "cell_type": "code",
   "execution_count": 126,
   "id": "608f14b3-cfd6-48ac-a616-670d15625afa",
   "metadata": {
    "scrolled": true,
    "tags": []
   },
   "outputs": [
    {
     "name": "stdout",
     "output_type": "stream",
     "text": [
      "Model: \"model_3\"\n",
      "__________________________________________________________________________________________________\n",
      "Layer (type)                    Output Shape         Param #     Connected to                     \n",
      "==================================================================================================\n",
      "input_14 (InputLayer)           [(None, 200, 6)]     0                                            \n",
      "__________________________________________________________________________________________________\n",
      "input_13 (InputLayer)           [(None, 42)]         0                                            \n",
      "__________________________________________________________________________________________________\n",
      "lstm_16 (LSTM)                  (None, 200, 256)     269312      input_14[0][0]                   \n",
      "__________________________________________________________________________________________________\n",
      "dense_12 (Dense)                (None, 128)          5504        input_13[0][0]                   \n",
      "__________________________________________________________________________________________________\n",
      "lstm_17 (LSTM)                  (None, 200, 128)     197120      lstm_16[0][0]                    \n",
      "__________________________________________________________________________________________________\n",
      "dropout_7 (Dropout)             (None, 128)          0           dense_12[0][0]                   \n",
      "__________________________________________________________________________________________________\n",
      "lstm_18 (LSTM)                  (None, 64)           49408       lstm_17[0][0]                    \n",
      "__________________________________________________________________________________________________\n",
      "concatenate_5 (Concatenate)     (None, 192)          0           dropout_7[0][0]                  \n",
      "                                                                 lstm_18[0][0]                    \n",
      "__________________________________________________________________________________________________\n",
      "flatten_2 (Flatten)             (None, 192)          0           concatenate_5[0][0]              \n",
      "__________________________________________________________________________________________________\n",
      "dense_13 (Dense)                (None, 128)          24704       flatten_2[0][0]                  \n",
      "__________________________________________________________________________________________________\n",
      "dropout_8 (Dropout)             (None, 128)          0           dense_13[0][0]                   \n",
      "__________________________________________________________________________________________________\n",
      "dense_14 (Dense)                (None, 64)           8256        dropout_8[0][0]                  \n",
      "__________________________________________________________________________________________________\n",
      "dropout_9 (Dropout)             (None, 64)           0           dense_14[0][0]                   \n",
      "__________________________________________________________________________________________________\n",
      "dense_15 (Dense)                (None, 3)            195         dropout_9[0][0]                  \n",
      "==================================================================================================\n",
      "Total params: 554,499\n",
      "Trainable params: 554,499\n",
      "Non-trainable params: 0\n",
      "__________________________________________________________________________________________________\n"
     ]
    }
   ],
   "source": [
    "newModel = Model([model1.input, regressor2.input], mergedOut)\n",
    "    #use lists if you want more than one input or output    \n",
    "newModel.compile(loss='categorical_crossentropy', optimizer='adam', metrics=['accuracy'])\n",
    "newModel.summary()"
   ]
  },
  {
   "cell_type": "markdown",
   "id": "78f609dc-b081-469e-ad37-0bd22fcfffbc",
   "metadata": {},
   "source": [
    "Typically seems to go down then slowly back up.. maybe training on the dense part too fast and propagating all errors there? give it more time maybe? "
   ]
  },
  {
   "cell_type": "code",
   "execution_count": 127,
   "id": "759958b3-9a89-44b3-afb4-05e4b41a64e3",
   "metadata": {},
   "outputs": [],
   "source": [
    "es = callbacks.EarlyStopping(monitor='val_loss', mode='min', verbose=1, patience=5)\n",
    "mc = callbacks.ModelCheckpoint('weights/best_model_3class.h5', monitor='val_loss', mode='min', save_best_only=True)"
   ]
  },
  {
   "cell_type": "code",
   "execution_count": 128,
   "id": "7cc44b87-dcc2-4ccb-9643-5796c2a623b2",
   "metadata": {
    "scrolled": true,
    "tags": []
   },
   "outputs": [
    {
     "name": "stdout",
     "output_type": "stream",
     "text": [
      "Epoch 1/100\n",
      "606/606 [==============================] - 543s 888ms/step - loss: 0.8050 - accuracy: 0.6329 - val_loss: 0.6685 - val_accuracy: 0.7025\n",
      "Epoch 2/100\n",
      "606/606 [==============================] - 542s 895ms/step - loss: 0.6891 - accuracy: 0.6983 - val_loss: 0.6607 - val_accuracy: 0.7053\n",
      "Epoch 3/100\n",
      "606/606 [==============================] - 534s 881ms/step - loss: 0.6717 - accuracy: 0.7068 - val_loss: 0.6549 - val_accuracy: 0.7074\n",
      "Epoch 4/100\n",
      "606/606 [==============================] - 518s 855ms/step - loss: 0.6572 - accuracy: 0.7129 - val_loss: 0.6522 - val_accuracy: 0.7109\n",
      "Epoch 5/100\n",
      "606/606 [==============================] - 512s 845ms/step - loss: 0.6546 - accuracy: 0.7094 - val_loss: 0.6474 - val_accuracy: 0.7091\n",
      "Epoch 6/100\n",
      "606/606 [==============================] - 501s 827ms/step - loss: 0.6491 - accuracy: 0.7164 - val_loss: 0.6483 - val_accuracy: 0.7103\n",
      "Epoch 7/100\n",
      "606/606 [==============================] - 502s 828ms/step - loss: 0.6515 - accuracy: 0.7139 - val_loss: 0.6471 - val_accuracy: 0.7094\n",
      "Epoch 8/100\n",
      "606/606 [==============================] - 513s 846ms/step - loss: 0.6493 - accuracy: 0.7117 - val_loss: 0.6424 - val_accuracy: 0.7145\n",
      "Epoch 9/100\n",
      "606/606 [==============================] - 525s 867ms/step - loss: 0.6402 - accuracy: 0.7201 - val_loss: 0.6445 - val_accuracy: 0.7117\n",
      "Epoch 10/100\n",
      "606/606 [==============================] - 523s 863ms/step - loss: 0.6393 - accuracy: 0.7173 - val_loss: 0.6433 - val_accuracy: 0.7153\n",
      "Epoch 11/100\n",
      "606/606 [==============================] - 525s 867ms/step - loss: 0.6342 - accuracy: 0.7224 - val_loss: 0.6428 - val_accuracy: 0.7122\n",
      "Epoch 12/100\n",
      "606/606 [==============================] - 526s 868ms/step - loss: 0.6337 - accuracy: 0.7209 - val_loss: 0.6446 - val_accuracy: 0.7133\n",
      "Epoch 13/100\n",
      "606/606 [==============================] - 524s 864ms/step - loss: 0.6374 - accuracy: 0.7176 - val_loss: 0.6426 - val_accuracy: 0.7148\n",
      "Epoch 00013: early stopping\n"
     ]
    }
   ],
   "source": [
    "history = newModel.fit([X_train1, X_train2], y_train,\n",
    "                       validation_data=([X_test1, X_test2], y_test),\n",
    "                       epochs=100, batch_size=64, \n",
    "                       callbacks=[es, mc]\n",
    "         )"
   ]
  },
  {
   "cell_type": "code",
   "execution_count": 129,
   "id": "cad5ed61-b062-4dde-beb6-7bccd6442c52",
   "metadata": {
    "tags": []
   },
   "outputs": [],
   "source": [
    "scores = newModel.predict([X_test1, X_test2])"
   ]
  },
  {
   "cell_type": "code",
   "execution_count": 130,
   "id": "e2d2e1ba-1ac0-4919-8e69-30867e24070e",
   "metadata": {},
   "outputs": [],
   "source": [
    "y_pred_2 = np.argmax(scores, axis=1)\n",
    "y_test_2 = np.argmax(y_test, axis=1)"
   ]
  },
  {
   "cell_type": "code",
   "execution_count": 131,
   "id": "050e77f6-a4e8-4b8e-9234-92f396c8fd64",
   "metadata": {
    "tags": []
   },
   "outputs": [
    {
     "data": {
      "image/png": "[encoded data removed]",
      "text/plain": [
       "<Figure size 432x288 with 2 Axes>"
      ]
     },
     "metadata": {
      "needs_background": "light"
     },
     "output_type": "display_data"
    }
   ],
   "source": [
    "confmat = confusion_matrix(y_test_2, y_pred_2)\n",
    "ax = sns.heatmap(confmat, annot=True, fmt='g', \n",
    "#                  norm=LogNorm()\n",
    "                )\n",
    "\n",
    "ax.set_title('Confusion Matrix from IBD/fast-neutron RNN')\n",
    "ax.set_xlabel('Predicted PID')\n",
    "ax.set_ylabel('Actual PID')\n",
    "\n",
    "ax.xaxis.set_ticklabels(['fastn', 'ibd0', 'ibd1'])\n",
    "ax.yaxis.set_ticklabels(['fastn', 'ibd0', 'ibd1'])\n",
    "\n",
    "plt.show()"
   ]
  },
  {
   "cell_type": "code",
   "execution_count": 132,
   "id": "b298a0c6-e8b9-4b23-a9f9-ca638be4b65a",
   "metadata": {
    "tags": []
   },
   "outputs": [
    {
     "data": {
      "image/png": "[encoded data removed]",
      "text/plain": [
       "<Figure size 576x360 with 1 Axes>"
      ]
     },
     "metadata": {
      "needs_background": "light"
     },
     "output_type": "display_data"
    }
   ],
   "source": [
    "cat1 = [0, 0, 1]\n",
    "cat2 = [1, 2, 2]\n",
    "labels = ['fastn/ibd0', 'fastn/ibd1', 'ibd0/ibd1', \n",
    "         ]\n",
    "plt.figure(figsize=(8,5))\n",
    "for i, j, label in zip(cat1, cat2, \n",
    "                        labels,\n",
    "                         ):\n",
    "    mask = [any(t) for t in zip(y_test_2==i, y_test_2==j)]\n",
    "    prob = scores[:, j][mask]\n",
    "    \n",
    "    guesses = y_test_2[mask]\n",
    "    guesses = guesses - np.min(guesses)\n",
    "    guesses = guesses/np.max(guesses)\n",
    "\n",
    "    fpr, tpr, thresholds = roc_curve(guesses, prob)\n",
    "        \n",
    "    auc = roc_auc_score(y_test_2[mask], prob)\n",
    "    plt.plot(fpr, tpr, \n",
    "         label='%s (AUC = %0.3f)'%(label, auc), \n",
    "#          color='darkorange', \n",
    "         lw=2, \n",
    "        )\n",
    "plt.xlim([-0.01, 1.0])\n",
    "plt.ylim([0, 1.05])\n",
    "plt.xlabel('False Positive Rate')\n",
    "plt.ylabel('True Positive Rate')\n",
    "plt.title('RNN ROC: Sub-class of ibd vs fast-neutrons')\n",
    "plt.plot([0, 1], [0, 1], color='navy', lw=2, linestyle='--')\n",
    "plt.legend()\n",
    "plt.grid()\n",
    "plt.show()"
   ]
  },
  {
   "cell_type": "code",
   "execution_count": null,
   "id": "5655b81d-be1c-4c5e-8070-999f9941096a",
   "metadata": {},
   "outputs": [],
   "source": [
    "ak.to"
   ]
  },
  {
   "cell_type": "code",
   "execution_count": null,
   "id": "ffc0a9c7-4d41-47c3-8756-c0f49b39ae5c",
   "metadata": {},
   "outputs": [],
   "source": []
  },
  {
   "cell_type": "markdown",
   "id": "2ffa371b-8067-40ac-ae5b-4ae98db5c0c0",
   "metadata": {},
   "source": [
    "## Binary Model "
   ]
  },
  {
   "cell_type": "code",
   "execution_count": null,
   "id": "7c6b419e-6cdf-4e3f-8781-35fa9cd54ed6",
   "metadata": {},
   "outputs": [],
   "source": []
  },
  {
   "cell_type": "code",
   "execution_count": 87,
   "id": "0f01e6c7-98e2-414a-9903-28be9f155ec2",
   "metadata": {},
   "outputs": [],
   "source": [
    "model1 = Sequential()\n",
    "# create the model\n",
    "model1.add(InputLayer(42))\n",
    "model1.compile()"
   ]
  },
  {
   "cell_type": "code",
   "execution_count": 88,
   "id": "fdf172d3-0b2c-4f1d-957a-7f16c550c780",
   "metadata": {},
   "outputs": [],
   "source": [
    "regressor2 = Sequential()\n",
    "input_shape = X2.shape[1:]\n",
    "regressor2.add(InputLayer(input_shape=input_shape))\n",
    "regressor2.add(LSTM(units=256, \n",
    "                   return_sequences=True, \n",
    "                   dropout=0.2,\n",
    "                  ))  \n",
    "\n",
    "regressor2.add(LSTM(units=128, \n",
    "                   return_sequences=True, \n",
    "                   dropout=0.2, \n",
    "                   \n",
    "                  ))\n",
    "regressor2.add(LSTM(units=64, \n",
    "                   return_sequences=True, \n",
    "                   dropout=0.2, \n",
    "                   \n",
    "                  ))\n",
    "\n",
    "regressor2.add(LSTM(units=32, \n",
    "                   return_sequences=False, \n",
    "                   dropout=0.2, \n",
    "                   \n",
    "                  ))"
   ]
  },
  {
   "cell_type": "code",
   "execution_count": 89,
   "id": "0f0b2462-de39-4533-b30a-9ddd4c8d11fb",
   "metadata": {},
   "outputs": [],
   "source": [
    "mergedOut = Concatenate()([model1.output, regressor2.output])"
   ]
  },
  {
   "cell_type": "code",
   "execution_count": 90,
   "id": "a328d2b6-ace5-46e6-b2cf-487837f5cbb7",
   "metadata": {},
   "outputs": [],
   "source": [
    "mergedOut = Flatten()(mergedOut)    \n",
    "mergedOut = Dense(256, activation='relu')(mergedOut)\n",
    "mergedOut = Dropout(.2)(mergedOut)\n",
    "mergedOut = Dense(128, activation='relu')(mergedOut)\n",
    "mergedOut = Dropout(.2)(mergedOut)\n",
    "mergedOut = Dense(64, activation='relu')(mergedOut)\n",
    "mergedOut = Dropout(.2)(mergedOut)\n",
    "# output layer\n",
    "mergedOut = Dense(1, activation='sigmoid')(mergedOut)\n"
   ]
  },
  {
   "cell_type": "code",
   "execution_count": 102,
   "id": "ae58cd05-f696-4fc5-baa1-c23bace347ad",
   "metadata": {
    "scrolled": true,
    "tags": []
   },
   "outputs": [
    {
     "name": "stdout",
     "output_type": "stream",
     "text": [
      "Model: \"model_6\"\n",
      "__________________________________________________________________________________________________\n",
      "Layer (type)                    Output Shape         Param #     Connected to                     \n",
      "==================================================================================================\n",
      "input_7 (InputLayer)            [(None, 200, 6)]     0                                            \n",
      "__________________________________________________________________________________________________\n",
      "lstm_13 (LSTM)                  (None, 200, 256)     269312      input_7[0][0]                    \n",
      "__________________________________________________________________________________________________\n",
      "lstm_14 (LSTM)                  (None, 200, 128)     197120      lstm_13[0][0]                    \n",
      "__________________________________________________________________________________________________\n",
      "lstm_15 (LSTM)                  (None, 200, 64)      49408       lstm_14[0][0]                    \n",
      "__________________________________________________________________________________________________\n",
      "input_6 (InputLayer)            [(None, 42)]         0                                            \n",
      "__________________________________________________________________________________________________\n",
      "lstm_16 (LSTM)                  (None, 32)           12416       lstm_15[0][0]                    \n",
      "__________________________________________________________________________________________________\n",
      "concatenate_5 (Concatenate)     (None, 74)           0           input_6[0][0]                    \n",
      "                                                                 lstm_16[0][0]                    \n",
      "__________________________________________________________________________________________________\n",
      "flatten_3 (Flatten)             (None, 74)           0           concatenate_5[0][0]              \n",
      "__________________________________________________________________________________________________\n",
      "dense_10 (Dense)                (None, 256)          19200       flatten_3[0][0]                  \n",
      "__________________________________________________________________________________________________\n",
      "dropout_7 (Dropout)             (None, 256)          0           dense_10[0][0]                   \n",
      "__________________________________________________________________________________________________\n",
      "dense_11 (Dense)                (None, 128)          32896       dropout_7[0][0]                  \n",
      "__________________________________________________________________________________________________\n",
      "dropout_8 (Dropout)             (None, 128)          0           dense_11[0][0]                   \n",
      "__________________________________________________________________________________________________\n",
      "dense_12 (Dense)                (None, 64)           8256        dropout_8[0][0]                  \n",
      "__________________________________________________________________________________________________\n",
      "dropout_9 (Dropout)             (None, 64)           0           dense_12[0][0]                   \n",
      "__________________________________________________________________________________________________\n",
      "dense_13 (Dense)                (None, 1)            65          dropout_9[0][0]                  \n",
      "==================================================================================================\n",
      "Total params: 588,673\n",
      "Trainable params: 588,673\n",
      "Non-trainable params: 0\n",
      "__________________________________________________________________________________________________\n"
     ]
    }
   ],
   "source": [
    "newModel2 = Model([model1.input, regressor2.input], mergedOut)\n",
    "    #use lists if you want more than one input or output    \n",
    "newModel2.compile(loss='binary_crossentropy', optimizer='adam', metrics=['accuracy'])\n",
    "newModel2.summary()"
   ]
  },
  {
   "cell_type": "markdown",
   "id": "88d332a3-0a1a-4ca0-9a06-0e2e82a67334",
   "metadata": {},
   "source": [
    "Typically seems to go down then slowly back up.. maybe training on the dense part too fast and propagating all errors there? give it more time maybe? "
   ]
  },
  {
   "cell_type": "code",
   "execution_count": 81,
   "id": "92aa06aa-d274-4345-aa33-11c9ebc58c6e",
   "metadata": {},
   "outputs": [],
   "source": [
    "checkpoint_path = \"training_2_cp.ckpt\"\n",
    "# checkpoint_dir = os.path.dirname(checkpoint_path)\n",
    "\n",
    "# Create a callback that saves the model's weights\n",
    "cp_callback = callbacks.ModelCheckpoint(filepath=checkpoint_path,\n",
    "                                                 save_weights_only=True,\n",
    "                                                 verbose=1)"
   ]
  },
  {
   "cell_type": "code",
   "execution_count": 32,
   "id": "ef2e3db5-06ad-43fb-96ed-598234101c07",
   "metadata": {},
   "outputs": [],
   "source": [
    "all_data = ak.concatenate([ibd, fastn])"
   ]
  },
  {
   "cell_type": "code",
   "execution_count": 33,
   "id": "adeead0d-ebbd-4f3a-8c0a-3f686fa2e690",
   "metadata": {},
   "outputs": [],
   "source": [
    "fn = all_data['code']==2\n",
    "invbeta = all_data['code']==1\n",
    "id0 = all_data['subid']==0\n",
    "id1p = all_data['subid']>0 # >0 changes things "
   ]
  },
  {
   "cell_type": "code",
   "execution_count": 34,
   "id": "8d3be733-a9e5-4eed-9da2-5e28c954cc07",
   "metadata": {},
   "outputs": [],
   "source": [
    "ibd0_mask = ak.from_iter([all(t) for t in zip(invbeta, id0)])\n",
    "ibd1_mask = ak.from_iter([all(t) for t in zip(invbeta, id1p)])\n",
    "fastn0_mask = ak.from_iter([all(t) for t in zip(fn, id0)])\n",
    "fastn1_mask = ak.from_iter([all(t) for t in zip(fn, id1p)])"
   ]
  },
  {
   "cell_type": "code",
   "execution_count": 92,
   "id": "34e8d339-6727-4a60-a7b4-8adfae719db5",
   "metadata": {},
   "outputs": [],
   "source": [
    "samples = min([ak.count_nonzero(fn), \n",
    "              ak.count_nonzero(invbeta)])"
   ]
  },
  {
   "cell_type": "code",
   "execution_count": 93,
   "id": "6e4d60db-595c-42ed-be44-200e716f134a",
   "metadata": {},
   "outputs": [],
   "source": [
    "x1 = all_data[fn][:samples]\n",
    "x1 = ak.concatenate((x1, all_data[invbeta][:samples]))\n",
    "\n",
    "data_to_manipulate = [all_data[fn][:samples],\n",
    "                     all_data[invbeta][:samples]\n",
    "                     ]"
   ]
  },
  {
   "cell_type": "code",
   "execution_count": 94,
   "id": "b9cfb55c-051f-4568-b6cd-d2a2343b19a5",
   "metadata": {},
   "outputs": [
    {
     "name": "stdout",
     "output_type": "stream",
     "text": [
      "Remaining variables selected for analysis: 42\n"
     ]
    }
   ],
   "source": [
    "# eplus = get_dims(positrons, dimensions=dimensions)[:samples]\n",
    "X1 = get_dims(x1, dimensions=dimensions)\n",
    "X1 = ak.to_pandas(X1)"
   ]
  },
  {
   "cell_type": "code",
   "execution_count": 95,
   "id": "42043888-af21-40f6-a682-f55f91558ac6",
   "metadata": {},
   "outputs": [
    {
     "name": "stdout",
     "output_type": "stream",
     "text": [
      "Running set 1 of 2\n",
      "Running set 2 of 2\n"
     ]
    }
   ],
   "source": [
    "X2, y = prep_net_data(data_to_manipulate, prompt=True, restime=True, maxlen=200)"
   ]
  },
  {
   "cell_type": "code",
   "execution_count": 119,
   "id": "85d2bf1b-adec-4c57-b004-6bfe4491fa25",
   "metadata": {},
   "outputs": [],
   "source": [
    "# Split dataset into training set and test set\n",
    "X_train1, X_test1, X_train2, X_test2, y_train, y_test = train_test_split(X1, X2, y, test_size=0.25, random_state=43) "
   ]
  },
  {
   "cell_type": "code",
   "execution_count": 120,
   "id": "190ce7d8-06bb-4fb3-bf0c-0083912b6635",
   "metadata": {},
   "outputs": [],
   "source": [
    "X_save = X_test1\n",
    "sc = StandardScaler()\n",
    "X_train1 = sc.fit_transform(X_train1)\n",
    "X_test1 = sc.transform(X_test1)"
   ]
  },
  {
   "cell_type": "code",
   "execution_count": 103,
   "id": "53163a8d-b71d-4cbe-833a-9005f4bc68f7",
   "metadata": {
    "scrolled": true,
    "tags": []
   },
   "outputs": [
    {
     "name": "stdout",
     "output_type": "stream",
     "text": [
      "Epoch 1/100\n",
      "597/597 [==============================] - 601s 998ms/step - loss: 0.4497 - accuracy: 0.7735 - val_loss: 0.3801 - val_accuracy: 0.8139\n",
      "\n",
      "Epoch 00001: saving model to training_1_cp.ckpt\n",
      "Epoch 2/100\n",
      "597/597 [==============================] - 595s 997ms/step - loss: 0.3832 - accuracy: 0.8135 - val_loss: 0.3721 - val_accuracy: 0.8167\n",
      "\n",
      "Epoch 00002: saving model to training_1_cp.ckpt\n",
      "Epoch 3/100\n",
      "597/597 [==============================] - 597s 1s/step - loss: 0.3710 - accuracy: 0.8204 - val_loss: 0.3670 - val_accuracy: 0.8177\n",
      "\n",
      "Epoch 00003: saving model to training_1_cp.ckpt\n",
      "Epoch 4/100\n",
      "597/597 [==============================] - 598s 1s/step - loss: 0.3649 - accuracy: 0.8232 - val_loss: 0.3641 - val_accuracy: 0.8211\n",
      "\n",
      "Epoch 00004: saving model to training_1_cp.ckpt\n",
      "Epoch 5/100\n",
      "597/597 [==============================] - 597s 1s/step - loss: 0.3638 - accuracy: 0.8261 - val_loss: 0.3624 - val_accuracy: 0.8233\n",
      "\n",
      "Epoch 00005: saving model to training_1_cp.ckpt\n",
      "Epoch 6/100\n",
      "597/597 [==============================] - 609s 1s/step - loss: 0.3592 - accuracy: 0.8291 - val_loss: 0.3602 - val_accuracy: 0.8220\n",
      "\n",
      "Epoch 00006: saving model to training_1_cp.ckpt\n",
      "Epoch 7/100\n",
      "597/597 [==============================] - 644s 1s/step - loss: 0.3548 - accuracy: 0.8308 - val_loss: 0.3639 - val_accuracy: 0.8207\n",
      "\n",
      "Epoch 00007: saving model to training_1_cp.ckpt\n",
      "Epoch 8/100\n",
      "597/597 [==============================] - 647s 1s/step - loss: 0.3503 - accuracy: 0.8322 - val_loss: 0.3575 - val_accuracy: 0.8236\n",
      "\n",
      "Epoch 00008: saving model to training_1_cp.ckpt\n",
      "Epoch 9/100\n",
      "597/597 [==============================] - 645s 1s/step - loss: 0.3500 - accuracy: 0.8318 - val_loss: 0.3554 - val_accuracy: 0.8214\n",
      "\n",
      "Epoch 00009: saving model to training_1_cp.ckpt\n",
      "Epoch 10/100\n",
      "597/597 [==============================] - 652s 1s/step - loss: 0.3502 - accuracy: 0.8330 - val_loss: 0.3553 - val_accuracy: 0.8258\n",
      "\n",
      "Epoch 00010: saving model to training_1_cp.ckpt\n",
      "Epoch 11/100\n",
      "597/597 [==============================] - 651s 1s/step - loss: 0.3461 - accuracy: 0.8345 - val_loss: 0.3546 - val_accuracy: 0.8258\n",
      "\n",
      "Epoch 00011: saving model to training_1_cp.ckpt\n",
      "Epoch 12/100\n",
      "597/597 [==============================] - 609s 1s/step - loss: 0.3452 - accuracy: 0.8339 - val_loss: 0.3585 - val_accuracy: 0.8238\n",
      "\n",
      "Epoch 00012: saving model to training_1_cp.ckpt\n",
      "Epoch 13/100\n",
      "597/597 [==============================] - 597s 1s/step - loss: 0.3418 - accuracy: 0.8359 - val_loss: 0.3561 - val_accuracy: 0.8272\n",
      "\n",
      "Epoch 00013: saving model to training_1_cp.ckpt\n",
      "Epoch 14/100\n",
      "597/597 [==============================] - 597s 1s/step - loss: 0.3380 - accuracy: 0.8382 - val_loss: 0.3597 - val_accuracy: 0.8276\n",
      "\n",
      "Epoch 00014: saving model to training_1_cp.ckpt\n",
      "Epoch 15/100\n",
      "597/597 [==============================] - 598s 1s/step - loss: 0.3406 - accuracy: 0.8347 - val_loss: 0.3568 - val_accuracy: 0.8243\n",
      "\n",
      "Epoch 00015: saving model to training_1_cp.ckpt\n",
      "Epoch 16/100\n",
      "597/597 [==============================] - 594s 995ms/step - loss: 0.3336 - accuracy: 0.8400 - val_loss: 0.3562 - val_accuracy: 0.8229\n",
      "\n",
      "Epoch 00016: saving model to training_1_cp.ckpt\n",
      "Epoch 17/100\n",
      "597/597 [==============================] - 597s 1s/step - loss: 0.3321 - accuracy: 0.8387 - val_loss: 0.3571 - val_accuracy: 0.8255\n",
      "\n",
      "Epoch 00017: saving model to training_1_cp.ckpt\n",
      "Epoch 18/100\n",
      "597/597 [==============================] - 608s 1s/step - loss: 0.3327 - accuracy: 0.8433 - val_loss: 0.3568 - val_accuracy: 0.8247\n",
      "\n",
      "Epoch 00018: saving model to training_1_cp.ckpt\n",
      "Epoch 19/100\n",
      "569/597 [===========================>..] - ETA: 24s - loss: 0.3377 - accuracy: 0.8416"
     ]
    },
    {
     "ename": "KeyboardInterrupt",
     "evalue": "",
     "output_type": "error",
     "traceback": [
      "\u001b[0;31m---------------------------------------------------------------------------\u001b[0m",
      "\u001b[0;31mKeyboardInterrupt\u001b[0m                         Traceback (most recent call last)",
      "\u001b[0;32m<ipython-input-103-b8ea2c004f9f>\u001b[0m in \u001b[0;36m<module>\u001b[0;34m\u001b[0m\n\u001b[0;32m----> 1\u001b[0;31m history = newModel2.fit([X_train1, X_train2], y_train,\n\u001b[0m\u001b[1;32m      2\u001b[0m                        \u001b[0mvalidation_data\u001b[0m\u001b[0;34m=\u001b[0m\u001b[0;34m(\u001b[0m\u001b[0;34m[\u001b[0m\u001b[0mX_test1\u001b[0m\u001b[0;34m,\u001b[0m \u001b[0mX_test2\u001b[0m\u001b[0;34m]\u001b[0m\u001b[0;34m,\u001b[0m \u001b[0my_test\u001b[0m\u001b[0;34m)\u001b[0m\u001b[0;34m,\u001b[0m\u001b[0;34m\u001b[0m\u001b[0;34m\u001b[0m\u001b[0m\n\u001b[1;32m      3\u001b[0m                        \u001b[0mepochs\u001b[0m\u001b[0;34m=\u001b[0m\u001b[0;36m100\u001b[0m\u001b[0;34m,\u001b[0m \u001b[0mbatch_size\u001b[0m\u001b[0;34m=\u001b[0m\u001b[0;36m64\u001b[0m\u001b[0;34m,\u001b[0m\u001b[0;34m\u001b[0m\u001b[0;34m\u001b[0m\u001b[0m\n\u001b[1;32m      4\u001b[0m                        \u001b[0mcallbacks\u001b[0m\u001b[0;34m=\u001b[0m\u001b[0;34m[\u001b[0m\u001b[0mcp_callback\u001b[0m\u001b[0;34m]\u001b[0m\u001b[0;34m\u001b[0m\u001b[0;34m\u001b[0m\u001b[0m\n\u001b[1;32m      5\u001b[0m          )\n",
      "\u001b[0;32m~/.local/lib/python3.8/site-packages/keras/engine/training.py\u001b[0m in \u001b[0;36mfit\u001b[0;34m(self, x, y, batch_size, epochs, verbose, callbacks, validation_split, validation_data, shuffle, class_weight, sample_weight, initial_epoch, steps_per_epoch, validation_steps, validation_batch_size, validation_freq, max_queue_size, workers, use_multiprocessing)\u001b[0m\n\u001b[1;32m   1156\u001b[0m                 _r=1):\n\u001b[1;32m   1157\u001b[0m               \u001b[0mcallbacks\u001b[0m\u001b[0;34m.\u001b[0m\u001b[0mon_train_batch_begin\u001b[0m\u001b[0;34m(\u001b[0m\u001b[0mstep\u001b[0m\u001b[0;34m)\u001b[0m\u001b[0;34m\u001b[0m\u001b[0;34m\u001b[0m\u001b[0m\n\u001b[0;32m-> 1158\u001b[0;31m               \u001b[0mtmp_logs\u001b[0m \u001b[0;34m=\u001b[0m \u001b[0mself\u001b[0m\u001b[0;34m.\u001b[0m\u001b[0mtrain_function\u001b[0m\u001b[0;34m(\u001b[0m\u001b[0miterator\u001b[0m\u001b[0;34m)\u001b[0m\u001b[0;34m\u001b[0m\u001b[0;34m\u001b[0m\u001b[0m\n\u001b[0m\u001b[1;32m   1159\u001b[0m               \u001b[0;32mif\u001b[0m \u001b[0mdata_handler\u001b[0m\u001b[0;34m.\u001b[0m\u001b[0mshould_sync\u001b[0m\u001b[0;34m:\u001b[0m\u001b[0;34m\u001b[0m\u001b[0;34m\u001b[0m\u001b[0m\n\u001b[1;32m   1160\u001b[0m                 \u001b[0mcontext\u001b[0m\u001b[0;34m.\u001b[0m\u001b[0masync_wait\u001b[0m\u001b[0;34m(\u001b[0m\u001b[0;34m)\u001b[0m\u001b[0;34m\u001b[0m\u001b[0;34m\u001b[0m\u001b[0m\n",
      "\u001b[0;32m~/.local/lib/python3.8/site-packages/tensorflow/python/eager/def_function.py\u001b[0m in \u001b[0;36m__call__\u001b[0;34m(self, *args, **kwds)\u001b[0m\n\u001b[1;32m    887\u001b[0m \u001b[0;34m\u001b[0m\u001b[0m\n\u001b[1;32m    888\u001b[0m       \u001b[0;32mwith\u001b[0m \u001b[0mOptionalXlaContext\u001b[0m\u001b[0;34m(\u001b[0m\u001b[0mself\u001b[0m\u001b[0;34m.\u001b[0m\u001b[0m_jit_compile\u001b[0m\u001b[0;34m)\u001b[0m\u001b[0;34m:\u001b[0m\u001b[0;34m\u001b[0m\u001b[0;34m\u001b[0m\u001b[0m\n\u001b[0;32m--> 889\u001b[0;31m         \u001b[0mresult\u001b[0m \u001b[0;34m=\u001b[0m \u001b[0mself\u001b[0m\u001b[0;34m.\u001b[0m\u001b[0m_call\u001b[0m\u001b[0;34m(\u001b[0m\u001b[0;34m*\u001b[0m\u001b[0margs\u001b[0m\u001b[0;34m,\u001b[0m \u001b[0;34m**\u001b[0m\u001b[0mkwds\u001b[0m\u001b[0;34m)\u001b[0m\u001b[0;34m\u001b[0m\u001b[0;34m\u001b[0m\u001b[0m\n\u001b[0m\u001b[1;32m    890\u001b[0m \u001b[0;34m\u001b[0m\u001b[0m\n\u001b[1;32m    891\u001b[0m       \u001b[0mnew_tracing_count\u001b[0m \u001b[0;34m=\u001b[0m \u001b[0mself\u001b[0m\u001b[0;34m.\u001b[0m\u001b[0mexperimental_get_tracing_count\u001b[0m\u001b[0;34m(\u001b[0m\u001b[0;34m)\u001b[0m\u001b[0;34m\u001b[0m\u001b[0;34m\u001b[0m\u001b[0m\n",
      "\u001b[0;32m~/.local/lib/python3.8/site-packages/tensorflow/python/eager/def_function.py\u001b[0m in \u001b[0;36m_call\u001b[0;34m(self, *args, **kwds)\u001b[0m\n\u001b[1;32m    915\u001b[0m       \u001b[0;31m# In this case we have created variables on the first call, so we run the\u001b[0m\u001b[0;34m\u001b[0m\u001b[0;34m\u001b[0m\u001b[0;34m\u001b[0m\u001b[0m\n\u001b[1;32m    916\u001b[0m       \u001b[0;31m# defunned version which is guaranteed to never create variables.\u001b[0m\u001b[0;34m\u001b[0m\u001b[0;34m\u001b[0m\u001b[0;34m\u001b[0m\u001b[0m\n\u001b[0;32m--> 917\u001b[0;31m       \u001b[0;32mreturn\u001b[0m \u001b[0mself\u001b[0m\u001b[0;34m.\u001b[0m\u001b[0m_stateless_fn\u001b[0m\u001b[0;34m(\u001b[0m\u001b[0;34m*\u001b[0m\u001b[0margs\u001b[0m\u001b[0;34m,\u001b[0m \u001b[0;34m**\u001b[0m\u001b[0mkwds\u001b[0m\u001b[0;34m)\u001b[0m  \u001b[0;31m# pylint: disable=not-callable\u001b[0m\u001b[0;34m\u001b[0m\u001b[0;34m\u001b[0m\u001b[0m\n\u001b[0m\u001b[1;32m    918\u001b[0m     \u001b[0;32melif\u001b[0m \u001b[0mself\u001b[0m\u001b[0;34m.\u001b[0m\u001b[0m_stateful_fn\u001b[0m \u001b[0;32mis\u001b[0m \u001b[0;32mnot\u001b[0m \u001b[0;32mNone\u001b[0m\u001b[0;34m:\u001b[0m\u001b[0;34m\u001b[0m\u001b[0;34m\u001b[0m\u001b[0m\n\u001b[1;32m    919\u001b[0m       \u001b[0;31m# Release the lock early so that multiple threads can perform the call\u001b[0m\u001b[0;34m\u001b[0m\u001b[0;34m\u001b[0m\u001b[0;34m\u001b[0m\u001b[0m\n",
      "\u001b[0;32m~/.local/lib/python3.8/site-packages/tensorflow/python/eager/function.py\u001b[0m in \u001b[0;36m__call__\u001b[0;34m(self, *args, **kwargs)\u001b[0m\n\u001b[1;32m   3021\u001b[0m       (graph_function,\n\u001b[1;32m   3022\u001b[0m        filtered_flat_args) = self._maybe_define_function(args, kwargs)\n\u001b[0;32m-> 3023\u001b[0;31m     return graph_function._call_flat(\n\u001b[0m\u001b[1;32m   3024\u001b[0m         filtered_flat_args, captured_inputs=graph_function.captured_inputs)  # pylint: disable=protected-access\n\u001b[1;32m   3025\u001b[0m \u001b[0;34m\u001b[0m\u001b[0m\n",
      "\u001b[0;32m~/.local/lib/python3.8/site-packages/tensorflow/python/eager/function.py\u001b[0m in \u001b[0;36m_call_flat\u001b[0;34m(self, args, captured_inputs, cancellation_manager)\u001b[0m\n\u001b[1;32m   1958\u001b[0m         and executing_eagerly):\n\u001b[1;32m   1959\u001b[0m       \u001b[0;31m# No tape is watching; skip to running the function.\u001b[0m\u001b[0;34m\u001b[0m\u001b[0;34m\u001b[0m\u001b[0;34m\u001b[0m\u001b[0m\n\u001b[0;32m-> 1960\u001b[0;31m       return self._build_call_outputs(self._inference_function.call(\n\u001b[0m\u001b[1;32m   1961\u001b[0m           ctx, args, cancellation_manager=cancellation_manager))\n\u001b[1;32m   1962\u001b[0m     forward_backward = self._select_forward_and_backward_functions(\n",
      "\u001b[0;32m~/.local/lib/python3.8/site-packages/tensorflow/python/eager/function.py\u001b[0m in \u001b[0;36mcall\u001b[0;34m(self, ctx, args, cancellation_manager)\u001b[0m\n\u001b[1;32m    589\u001b[0m       \u001b[0;32mwith\u001b[0m \u001b[0m_InterpolateFunctionError\u001b[0m\u001b[0;34m(\u001b[0m\u001b[0mself\u001b[0m\u001b[0;34m)\u001b[0m\u001b[0;34m:\u001b[0m\u001b[0;34m\u001b[0m\u001b[0;34m\u001b[0m\u001b[0m\n\u001b[1;32m    590\u001b[0m         \u001b[0;32mif\u001b[0m \u001b[0mcancellation_manager\u001b[0m \u001b[0;32mis\u001b[0m \u001b[0;32mNone\u001b[0m\u001b[0;34m:\u001b[0m\u001b[0;34m\u001b[0m\u001b[0;34m\u001b[0m\u001b[0m\n\u001b[0;32m--> 591\u001b[0;31m           outputs = execute.execute(\n\u001b[0m\u001b[1;32m    592\u001b[0m               \u001b[0mstr\u001b[0m\u001b[0;34m(\u001b[0m\u001b[0mself\u001b[0m\u001b[0;34m.\u001b[0m\u001b[0msignature\u001b[0m\u001b[0;34m.\u001b[0m\u001b[0mname\u001b[0m\u001b[0;34m)\u001b[0m\u001b[0;34m,\u001b[0m\u001b[0;34m\u001b[0m\u001b[0;34m\u001b[0m\u001b[0m\n\u001b[1;32m    593\u001b[0m               \u001b[0mnum_outputs\u001b[0m\u001b[0;34m=\u001b[0m\u001b[0mself\u001b[0m\u001b[0;34m.\u001b[0m\u001b[0m_num_outputs\u001b[0m\u001b[0;34m,\u001b[0m\u001b[0;34m\u001b[0m\u001b[0;34m\u001b[0m\u001b[0m\n",
      "\u001b[0;32m~/.local/lib/python3.8/site-packages/tensorflow/python/eager/execute.py\u001b[0m in \u001b[0;36mquick_execute\u001b[0;34m(op_name, num_outputs, inputs, attrs, ctx, name)\u001b[0m\n\u001b[1;32m     57\u001b[0m   \u001b[0;32mtry\u001b[0m\u001b[0;34m:\u001b[0m\u001b[0;34m\u001b[0m\u001b[0;34m\u001b[0m\u001b[0m\n\u001b[1;32m     58\u001b[0m     \u001b[0mctx\u001b[0m\u001b[0;34m.\u001b[0m\u001b[0mensure_initialized\u001b[0m\u001b[0;34m(\u001b[0m\u001b[0;34m)\u001b[0m\u001b[0;34m\u001b[0m\u001b[0;34m\u001b[0m\u001b[0m\n\u001b[0;32m---> 59\u001b[0;31m     tensors = pywrap_tfe.TFE_Py_Execute(ctx._handle, device_name, op_name,\n\u001b[0m\u001b[1;32m     60\u001b[0m                                         inputs, attrs, num_outputs)\n\u001b[1;32m     61\u001b[0m   \u001b[0;32mexcept\u001b[0m \u001b[0mcore\u001b[0m\u001b[0;34m.\u001b[0m\u001b[0m_NotOkStatusException\u001b[0m \u001b[0;32mas\u001b[0m \u001b[0me\u001b[0m\u001b[0;34m:\u001b[0m\u001b[0;34m\u001b[0m\u001b[0;34m\u001b[0m\u001b[0m\n",
      "\u001b[0;31mKeyboardInterrupt\u001b[0m: "
     ]
    }
   ],
   "source": [
    "history = newModel2.fit([X_train1, X_train2], y_train,\n",
    "                       validation_data=([X_test1, X_test2], y_test),\n",
    "                       epochs=100, batch_size=64, \n",
    "                       callbacks=[cp_callback]\n",
    "         )"
   ]
  },
  {
   "cell_type": "code",
   "execution_count": 104,
   "id": "336cbb7c-135e-4c31-9ea9-5840f58c78e0",
   "metadata": {},
   "outputs": [
    {
     "ename": "NameError",
     "evalue": "name 'history' is not defined",
     "output_type": "error",
     "traceback": [
      "\u001b[0;31m---------------------------------------------------------------------------\u001b[0m",
      "\u001b[0;31mNameError\u001b[0m                                 Traceback (most recent call last)",
      "\u001b[0;32m<ipython-input-104-9474b2d39ff5>\u001b[0m in \u001b[0;36m<module>\u001b[0;34m\u001b[0m\n\u001b[0;32m----> 1\u001b[0;31m plt.plot(history['val_loss'], \n\u001b[0m\u001b[1;32m      2\u001b[0m          \u001b[0mcolor\u001b[0m\u001b[0;34m=\u001b[0m\u001b[0;34m'r'\u001b[0m\u001b[0;34m,\u001b[0m \u001b[0mlw\u001b[0m\u001b[0;34m=\u001b[0m\u001b[0;36m2\u001b[0m\u001b[0;34m,\u001b[0m \u001b[0mlabel\u001b[0m\u001b[0;34m=\u001b[0m\u001b[0;34m'Validation Loss'\u001b[0m\u001b[0;34m,\u001b[0m\u001b[0;34m\u001b[0m\u001b[0;34m\u001b[0m\u001b[0m\n\u001b[1;32m      3\u001b[0m         )\n\u001b[1;32m      4\u001b[0m plt.plot(history['loss'], \n\u001b[1;32m      5\u001b[0m          \u001b[0mcolor\u001b[0m\u001b[0;34m=\u001b[0m\u001b[0;34m'b'\u001b[0m\u001b[0;34m,\u001b[0m \u001b[0mlw\u001b[0m\u001b[0;34m=\u001b[0m\u001b[0;36m2\u001b[0m\u001b[0;34m,\u001b[0m \u001b[0mlabel\u001b[0m\u001b[0;34m=\u001b[0m\u001b[0;34m'Training Loss'\u001b[0m\u001b[0;34m,\u001b[0m\u001b[0;34m\u001b[0m\u001b[0;34m\u001b[0m\u001b[0m\n",
      "\u001b[0;31mNameError\u001b[0m: name 'history' is not defined"
     ]
    }
   ],
   "source": [
    "plt.plot(history['val_loss'], \n",
    "         color='r', lw=2, label='Validation Loss', \n",
    "        )\n",
    "plt.plot(history['loss'], \n",
    "         color='b', lw=2, label='Training Loss', \n",
    "        )\n",
    "\n",
    "plt.plot(history['val_acc'], \n",
    "         color='r', lw=2, linestyle='--', \n",
    "         label='Validation Accuracy', \n",
    "        )\n",
    "plt.plot(history['loss'], \n",
    "         color='b', lw=2, linestyle='--', \n",
    "         label='Training Accuracy', \n",
    "        )"
   ]
  },
  {
   "cell_type": "code",
   "execution_count": 112,
   "id": "4415fbdb-fc3a-4f4c-8c2d-fff9cfd600e7",
   "metadata": {},
   "outputs": [],
   "source": [
    "scores = newModel2.predict([X_test1, X_test2])"
   ]
  },
  {
   "cell_type": "code",
   "execution_count": 113,
   "id": "3822256f-2eb9-46a9-877f-c63a119eb9ad",
   "metadata": {},
   "outputs": [],
   "source": [
    "y_pred_2 = np.round(scores)\n",
    "y_test_2 = y_test"
   ]
  },
  {
   "cell_type": "code",
   "execution_count": 114,
   "id": "8e3e8bfa-d9a9-4bba-bf31-c0122201523c",
   "metadata": {
    "tags": []
   },
   "outputs": [
    {
     "data": {
      "image/png": "[encoded data removed]",
      "text/plain": [
       "<Figure size 432x288 with 2 Axes>"
      ]
     },
     "metadata": {
      "needs_background": "light"
     },
     "output_type": "display_data"
    }
   ],
   "source": [
    "confmat = confusion_matrix(y_test_2, y_pred_2)\n",
    "ax = sns.heatmap(confmat, annot=True, fmt='g', \n",
    "#                  norm=LogNorm()\n",
    "                )\n",
    "\n",
    "ax.set_title('Confusion Matrix from IBD/fast-neutron RNN')\n",
    "ax.set_xlabel('Predicted PID')\n",
    "ax.set_ylabel('Actual PID')\n",
    "\n",
    "ax.xaxis.set_ticklabels(['fastn', 'ibd'])\n",
    "ax.yaxis.set_ticklabels(['fastn', 'ibd'])\n",
    "\n",
    "plt.show()"
   ]
  },
  {
   "cell_type": "code",
   "execution_count": 117,
   "id": "5a866678-45d5-4799-a608-3fd7bd8f7043",
   "metadata": {
    "tags": []
   },
   "outputs": [
    {
     "data": {
      "image/png": "[encoded data removed]",
      "text/plain": [
       "<Figure size 576x360 with 1 Axes>"
      ]
     },
     "metadata": {
      "needs_background": "light"
     },
     "output_type": "display_data"
    }
   ],
   "source": [
    "cat1 = [0]\n",
    "cat2 = [1]\n",
    "labels = ['fastn/ibd', \n",
    "         ]\n",
    "plt.figure(figsize=(8,5))\n",
    "for i, j, label in zip(cat1, cat2, \n",
    "                        labels,\n",
    "                         ):\n",
    "    mask = [any(t) for t in zip(y_test_2==i, y_test_2==j)]\n",
    "    prob = scores[mask]\n",
    "    \n",
    "    guesses = y_test_2[mask]\n",
    "    guesses = guesses - np.min(guesses)\n",
    "    guesses = guesses/np.max(guesses)\n",
    "\n",
    "    fpr, tpr, thresholds = roc_curve(guesses, prob)\n",
    "        \n",
    "    auc = roc_auc_score(y_test_2[mask], prob)\n",
    "    plt.plot(fpr, tpr, \n",
    "         label='%s (AUC = %0.3f)'%(label, auc), \n",
    "#          color='darkorange', \n",
    "         lw=2, \n",
    "        )\n",
    "plt.xlim([-0.01, 1.0])\n",
    "plt.ylim([0, 1.05])\n",
    "plt.xlabel('False Positive Rate')\n",
    "plt.ylabel('True Positive Rate')\n",
    "plt.title('RNN ROC: Overall ibd vs fast-neutrons')\n",
    "plt.plot([0, 1], [0, 1], color='navy', lw=2, linestyle='--')\n",
    "plt.legend()\n",
    "plt.grid()\n",
    "plt.show()"
   ]
  },
  {
   "cell_type": "code",
   "execution_count": 131,
   "id": "2443b28a-a0c0-47f7-a466-07dfdf97d9ce",
   "metadata": {},
   "outputs": [],
   "source": [
    "wrong = X_save[y_pred_2!=y_test]"
   ]
  },
  {
   "cell_type": "code",
   "execution_count": 129,
   "id": "ffac32fc-23da-47f1-9685-add265e96033",
   "metadata": {},
   "outputs": [],
   "source": [
    "rightpred = y_test[y_pred_2!=y_test]"
   ]
  },
  {
   "cell_type": "code",
   "execution_count": 158,
   "id": "a049a081-c9ac-4641-80d2-35ab1160b6d3",
   "metadata": {},
   "outputs": [],
   "source": [
    "fastnwrong = fastn[wrong[rightpred==0].index.values]\n",
    "ibdwrong = ibd[wrong[rightpred==1].index.values-samples]"
   ]
  },
  {
   "cell_type": "code",
   "execution_count": 182,
   "id": "d6d26e80-1bff-47d7-aca1-288544537bc1",
   "metadata": {},
   "outputs": [
    {
     "data": {
      "image/png": "[encoded data removed]",
      "text/plain": [
       "<Figure size 432x288 with 1 Axes>"
      ]
     },
     "metadata": {
      "needs_background": "light"
     },
     "output_type": "display_data"
    }
   ],
   "source": [
    "key = 'drPrevr'\n",
    "kw = dict(histtype='step', density=True)\n",
    "bins = plt.hist(fastnwrong[key], bins=50, **kw)\n",
    "plt.hist(ibdwrong[key], bins=bins[1], **kw)\n",
    "plt.show()"
   ]
  },
  {
   "cell_type": "code",
   "execution_count": null,
   "id": "9c116572-aa2e-45b5-87f8-28c6ac371ece",
   "metadata": {},
   "outputs": [],
   "source": []
  }
 ],
 "metadata": {
  "kernelspec": {
   "display_name": "Python [conda env:.conda-sjf]",
   "language": "python",
   "name": "conda-env-.conda-sjf-py"
  },
  "language_info": {
   "codemirror_mode": {
    "name": "ipython",
    "version": 3
   },
   "file_extension": ".py",
   "mimetype": "text/x-python",
   "name": "python",
   "nbconvert_exporter": "python",
   "pygments_lexer": "ipython3",
   "version": "3.8.2"
  }
 },
 "nbformat": 4,
 "nbformat_minor": 5
}
