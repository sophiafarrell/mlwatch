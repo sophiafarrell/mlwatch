{
 "cells": [
  {
   "cell_type": "markdown",
   "id": "c5ec63f8",
   "metadata": {},
   "source": [
    "# Reading the ROOT files"
   ]
  },
  {
   "cell_type": "code",
   "execution_count": 1,
   "id": "e559d40d",
   "metadata": {},
   "outputs": [],
   "source": [
    "# %matplotlib notebook"
   ]
  },
  {
   "cell_type": "code",
   "execution_count": 2,
   "id": "9e349e22",
   "metadata": {},
   "outputs": [],
   "source": [
    "from tensorflow.keras.models import Sequential\n",
    "from tensorflow.keras.layers import LSTM, Dense, Dropout, Masking, Embedding, Input, InputLayer\n",
    "from tensorflow.keras.preprocessing import sequence"
   ]
  },
  {
   "cell_type": "code",
   "execution_count": 3,
   "id": "36db0391",
   "metadata": {},
   "outputs": [],
   "source": [
    "import uproot\n",
    "import numpy as np\n",
    "import pandas as pd"
   ]
  },
  {
   "cell_type": "code",
   "execution_count": 4,
   "id": "695babfc",
   "metadata": {},
   "outputs": [],
   "source": [
    "import matplotlib.pyplot as plt\n",
    "import awkward as ak\n",
    "from mpl_toolkits.mplot3d import axes3d \n",
    "from matplotlib.colors import LogNorm\n",
    "import IPython\n",
    "from sklearn import metrics"
   ]
  },
  {
   "cell_type": "code",
   "execution_count": 5,
   "id": "de2fe1f8",
   "metadata": {},
   "outputs": [],
   "source": [
    "from sklearn.model_selection import train_test_split\n",
    "from sklearn.metrics import confusion_matrix, roc_auc_score, roc_curve\n",
    "import seaborn as sns\n",
    "from sklearn.preprocessing import StandardScaler\n",
    "from sklearn.ensemble import RandomForestClassifier"
   ]
  },
  {
   "cell_type": "code",
   "execution_count": 6,
   "id": "c48ded4f",
   "metadata": {},
   "outputs": [],
   "source": [
    "from scipy.stats import norm\n",
    "import scipy.interpolate as interpolate\n",
    "from scipy.ndimage import median as med"
   ]
  },
  {
   "cell_type": "code",
   "execution_count": 7,
   "id": "332b809a-dea3-4b72-a6bd-52ea0b33d0b8",
   "metadata": {},
   "outputs": [],
   "source": [
    "pmtpos = np.loadtxt('pmtpositions.csv', delimiter=',')\n",
    "pmtpos = np.vstack((np.array([0, 0, 0]), pmtpos))"
   ]
  },
  {
   "cell_type": "code",
   "execution_count": 9,
   "id": "36494c16-a9d6-436a-bc3c-58a919dec918",
   "metadata": {},
   "outputs": [],
   "source": [
    "ibd = ak.from_json('data/ibd.json')\n",
    "fastn = ak.from_json('data/fastn.json')"
   ]
  },
  {
   "cell_type": "markdown",
   "id": "99b26e4b",
   "metadata": {},
   "source": [
    "Separate out prompt/delayed IBD and delta-ray/neutron capture fast-neutrons"
   ]
  },
  {
   "cell_type": "code",
   "execution_count": 125,
   "id": "79d20c36",
   "metadata": {},
   "outputs": [],
   "source": [
    "data = ibd[ibd['subid']==0]\n",
    "b1 = data.beta_one\n",
    "b2 = data.beta_two\n",
    "b3 = data.beta_three\n",
    "b4 = data.beta_four\n",
    "b5 = data.beta_five\n",
    "b6 = ibd.beta_six"
   ]
  },
  {
   "cell_type": "code",
   "execution_count": 131,
   "id": "e3a2ed98-d69b-4780-8dad-0121edd73722",
   "metadata": {},
   "outputs": [
    {
     "data": {
      "image/png": "[encoded data removed]",
      "text/plain": [
       "<Figure size 432x288 with 1 Axes>"
      ]
     },
     "metadata": {
      "needs_background": "light"
     },
     "output_type": "display_data"
    }
   ],
   "source": [
    "kw = dict(bins=np.linspace(0,1, 50), histtype='step')\n",
    "plt.hist(fastn[fastn['subid']>0].beta_two, **kw)\n",
    "plt.hist(data.beta_three, **kw)\n",
    "plt.show()"
   ]
  },
  {
   "cell_type": "code",
   "execution_count": 99,
   "id": "cb6ea997",
   "metadata": {},
   "outputs": [
    {
     "data": {
      "image/png": "[encoded data removed]",
      "text/plain": [
       "<Figure size 432x288 with 1 Axes>"
      ]
     },
     "metadata": {
      "needs_background": "light"
     },
     "output_type": "display_data"
    }
   ],
   "source": [
    "kw = dict(bins=50)\n",
    "plt.hist2d(np.array(ibd.beta_one), np.array(ibd.beta_three), **kw)\n",
    "plt.hist2d(np.array(fastn.beta_one), np.array(fastn.beta_three), **kw)\n",
    "\n",
    "plt.show()"
   ]
  },
  {
   "cell_type": "markdown",
   "id": "f3076815",
   "metadata": {},
   "source": [
    "Make sure all times that are larger than ~600 us are set to some constant, e.g. 500 us. \n",
    "<br>\n",
    "This is because the rates are arbitrary in the case of us using these samples -- these are just injected rates. "
   ]
  },
  {
   "cell_type": "code",
   "execution_count": 103,
   "id": "d6b04867",
   "metadata": {},
   "outputs": [
    {
     "data": {
      "image/png": "[encoded data removed]",
      "text/plain": [
       "<Figure size 432x288 with 1 Axes>"
      ]
     },
     "metadata": {
      "needs_background": "light"
     },
     "output_type": "display_data"
    }
   ],
   "source": [
    "kw = dict(bins=np.logspace(-1, 9, 100), histtype='step')\n",
    "plt.hist(fastn['dt_next_us'],**kw )\n",
    "plt.hist(ibd['dt_next_us'],**kw )\n",
    "\n",
    "plt.vlines(600, 1, 1e3, color='red')\n",
    "plt.loglog()\n",
    "plt.show()"
   ]
  },
  {
   "cell_type": "code",
   "execution_count": 106,
   "id": "687bb444",
   "metadata": {},
   "outputs": [],
   "source": [
    "#do we need to also remove the distance information? \n",
    "for data in [fastn, ibd]:\n",
    "    data = calcr(data)\n",
    "    for t, varbls in zip(['dt_prev_us', 'dt_next_us'], [prev_vars, post_vars]):\n",
    "        prox_mask = data[t]<600\n",
    "        for key in varbls: \n",
    "            data[key] = ak.where(prox_mask, data[key], -1e5)"
   ]
  },
  {
   "cell_type": "code",
   "execution_count": 11,
   "id": "6c8db9de",
   "metadata": {},
   "outputs": [],
   "source": [
    "def get_dims(data, dimensions=dimensions):\n",
    "    df_cut = data[dimensions]\n",
    "    print('Remaining variables selected for analysis: %i'%(len(dimensions)))\n",
    "    return df_cut"
   ]
  },
  {
   "cell_type": "code",
   "execution_count": 10,
   "id": "826ef8f6",
   "metadata": {},
   "outputs": [],
   "source": [
    "dimensions = [\n",
    "    'n9', 'n9_prev', 'n9_next',\n",
    "    'x', 'y', 'z',  'r',\n",
    "    'id_plus_dr_hit', 'inner_hit_prev', 'inner_hit_next',\n",
    "    'good_dir', 'good_dir_prev', 'good_dir_next',\n",
    "    'good_pos','good_pos_prev', 'good_pos_next',\n",
    "#     'distpmt', \n",
    "    'closestPMT', 'closestPMT_prev', 'closestPMT_next', \n",
    "    'drPrevr', 'dzPrevz', 'drNextr', 'dzNextz',\n",
    "     'dt_prev_us', 'dt_next_us',\n",
    "    'azimuth_ks', 'azimuth_ks_prev','azimuth_ks_next',\n",
    "    'n100', 'pe', \n",
    "    'beta_one', 'beta_two', 'beta_three', 'beta_four', 'beta_five', 'beta_six',\n",
    "    'beta_one_prev', 'beta_two_prev', 'beta_three_prev', 'beta_four_prev', 'beta_five_prev', 'beta_six_prev',\n",
    "]"
   ]
  },
  {
   "cell_type": "code",
   "execution_count": 12,
   "id": "bb9406f0",
   "metadata": {},
   "outputs": [],
   "source": [
    "samples = np.min([len(fastn), len(ibd)])"
   ]
  },
  {
   "cell_type": "code",
   "execution_count": 13,
   "id": "cd56f18b",
   "metadata": {},
   "outputs": [
    {
     "name": "stdout",
     "output_type": "stream",
     "text": [
      "Remaining variables selected for analysis: 42\n",
      "Remaining variables selected for analysis: 42\n"
     ]
    }
   ],
   "source": [
    "# eplus = get_dims(positrons, dimensions=dimensions)[:samples]\n",
    "fastns = get_dims(fastn, dimensions=dimensions)[:samples]\n",
    "ibds = get_dims(ibd, dimensions=dimensions)[:samples]"
   ]
  },
  {
   "cell_type": "code",
   "execution_count": 14,
   "id": "4c7bebd9",
   "metadata": {},
   "outputs": [],
   "source": [
    "y = np.zeros(len(fastns))\n",
    "y = np.append(y, np.ones(len(ibds)))"
   ]
  },
  {
   "cell_type": "code",
   "execution_count": 15,
   "id": "a604f25b",
   "metadata": {},
   "outputs": [],
   "source": [
    "x = pd.concat([ak.to_pandas(fastns), ak.to_pandas(ibds)])"
   ]
  },
  {
   "cell_type": "code",
   "execution_count": 16,
   "id": "61ad22b6",
   "metadata": {},
   "outputs": [],
   "source": [
    "# Split dataset into training set and test set\n",
    "X_train, X_test, y_train, y_test = train_test_split(x, y, test_size=0.25) "
   ]
  },
  {
   "cell_type": "code",
   "execution_count": 17,
   "id": "073d1cf5",
   "metadata": {},
   "outputs": [],
   "source": [
    "X_save = X_test"
   ]
  },
  {
   "cell_type": "code",
   "execution_count": 18,
   "id": "effdd3c1",
   "metadata": {},
   "outputs": [],
   "source": [
    "sc = StandardScaler()\n",
    "X_train = sc.fit_transform(X_train)\n",
    "X_test = sc.transform(X_test)"
   ]
  },
  {
   "cell_type": "code",
   "execution_count": 19,
   "id": "692ae35b",
   "metadata": {},
   "outputs": [],
   "source": [
    "#Create a Gaussian Classifier\n",
    "clf=RandomForestClassifier(\n",
    "#     n_estimators=200, max_depth=10\n",
    ")\n",
    "\n",
    "#Train the model using the training sets\n",
    "clf.fit(X_train,y_train)\n",
    "y_train_pred = clf.predict(X_train)\n",
    "y_test_pred=clf.predict(X_test)"
   ]
  },
  {
   "cell_type": "code",
   "execution_count": 20,
   "id": "fb428ac5",
   "metadata": {},
   "outputs": [],
   "source": [
    "y_test_prob = clf.predict_proba(X_test)"
   ]
  },
  {
   "cell_type": "code",
   "execution_count": 21,
   "id": "085bce7d",
   "metadata": {},
   "outputs": [
    {
     "name": "stdout",
     "output_type": "stream",
     "text": [
      "Train Accuracy: 100.00%\n",
      "Test Accuracy: 83.31%\n"
     ]
    }
   ],
   "source": [
    "# Model Accuracy, how often is the classifier correct?\n",
    "print(\"Train Accuracy: %.2f%%\"%(metrics.accuracy_score(y_train, y_train_pred)*100))\n",
    "print(\"Test Accuracy: %.2f%%\"%(metrics.accuracy_score(y_test, y_test_pred)*100))"
   ]
  },
  {
   "cell_type": "code",
   "execution_count": 22,
   "id": "c8181eff",
   "metadata": {},
   "outputs": [],
   "source": [
    "feature_imp = pd.Series(clf.feature_importances_,index=dimensions).sort_values(ascending=False)"
   ]
  },
  {
   "cell_type": "code",
   "execution_count": 23,
   "id": "41e78b59",
   "metadata": {},
   "outputs": [
    {
     "data": {
      "image/png": "[encoded data removed]",
      "text/plain": [
       "<Figure size 432x576 with 1 Axes>"
      ]
     },
     "metadata": {
      "needs_background": "light"
     },
     "output_type": "display_data"
    }
   ],
   "source": [
    "# Creating a bar plot\n",
    "plt.figure(figsize=(6, 8))\n",
    "sns.barplot(x=feature_imp, y=feature_imp.index)\n",
    "# Add labels to your graph\n",
    "plt.xlabel('Feature Importance Score')\n",
    "plt.xscale('log')\n",
    "plt.ylabel('Features')\n",
    "plt.title(\"Feature Importance: RF IBDs vs. fast-neutrons\")\n",
    "# plt.legend()\n",
    "plt.show()"
   ]
  },
  {
   "cell_type": "code",
   "execution_count": 24,
   "id": "40efc410",
   "metadata": {},
   "outputs": [],
   "source": [
    "scores = y_test_prob[:,1]"
   ]
  },
  {
   "cell_type": "code",
   "execution_count": 25,
   "id": "82c273df",
   "metadata": {},
   "outputs": [],
   "source": [
    "fpr, tpr, thresholds = roc_curve(y_test, scores)\n",
    "auc = roc_auc_score(y_test, scores)"
   ]
  },
  {
   "cell_type": "code",
   "execution_count": 27,
   "id": "0b61ef6b",
   "metadata": {},
   "outputs": [
    {
     "data": {
      "image/png": "[encoded data removed]",
      "text/plain": [
       "<Figure size 432x288 with 1 Axes>"
      ]
     },
     "metadata": {
      "needs_background": "light"
     },
     "output_type": "display_data"
    }
   ],
   "source": [
    "plt.plot(fpr, tpr, \n",
    "         label='ROC curve (area = %0.3f)'%(auc), \n",
    "         color='darkorange', \n",
    "         lw=2.3, \n",
    "        )\n",
    "plt.xlim([-0.01, 1.0])\n",
    "plt.ylim([0, 1.05])\n",
    "plt.xlabel('False Positive Rate')\n",
    "plt.ylabel('True Positive Rate')\n",
    "plt.title('ROC: fast-neutrons vs. IBD')\n",
    "plt.plot([0, 1], [0, 1], color='navy', lw=2.3, linestyle='--')\n",
    "plt.legend()\n",
    "plt.grid()\n",
    "# plt.xlim([1e-6, 1.0])\n",
    "# plt.ylim([1e-2, 1.05])\n",
    "# plt.xscale('log')\n",
    "# plt.yscale('log')\n",
    "plt.show()"
   ]
  },
  {
   "cell_type": "code",
   "execution_count": 124,
   "id": "d3465314",
   "metadata": {},
   "outputs": [
    {
     "data": {
      "image/png": "[encoded data removed]",
      "text/plain": [
       "<Figure size 432x288 with 2 Axes>"
      ]
     },
     "metadata": {
      "needs_background": "light"
     },
     "output_type": "display_data"
    }
   ],
   "source": [
    "confmat = metrics.confusion_matrix(y_test, y_test_pred)\n",
    "ax = sns.heatmap(confmat, annot=True, fmt='g', \n",
    "#                  norm=LogNorm()\n",
    "                )\n",
    "\n",
    "ax.set_title('Confusion Matrix from RF: fast-n vs. IBDs')\n",
    "ax.set_xlabel('Predicted PID')\n",
    "ax.set_ylabel('Actual PID')\n",
    "\n",
    "cmlabels = ['fast-n', 'ibd']\n",
    "ax.xaxis.set_ticklabels(cmlabels)\n",
    "ax.yaxis.set_ticklabels(cmlabels)\n",
    "\n",
    "plt.show()"
   ]
  },
  {
   "cell_type": "code",
   "execution_count": 85,
   "id": "f0e21d39",
   "metadata": {},
   "outputs": [],
   "source": [
    "wrong = X_save[y_test_pred!=y_test]"
   ]
  },
  {
   "cell_type": "code",
   "execution_count": 86,
   "id": "aa09e241",
   "metadata": {},
   "outputs": [],
   "source": [
    "rightpred = y_test[y_test_pred!=y_test]"
   ]
  },
  {
   "cell_type": "code",
   "execution_count": 87,
   "id": "9ceae178",
   "metadata": {},
   "outputs": [],
   "source": [
    "wrongfastn = fastn[wrong[rightpred==0].index]\n",
    "wrongibd = ibd[wrong[rightpred==1].index]"
   ]
  },
  {
   "cell_type": "markdown",
   "id": "455e8c13-2e2f-4515-a068-ebb77ee5057c",
   "metadata": {},
   "source": [
    "## RF with multiple classes"
   ]
  },
  {
   "cell_type": "code",
   "execution_count": 28,
   "id": "88d57ccd-72c1-424e-aba8-a313fd382b88",
   "metadata": {},
   "outputs": [],
   "source": [
    "all_data = ak.concatenate([ibd, fastn])"
   ]
  },
  {
   "cell_type": "code",
   "execution_count": 29,
   "id": "4f2abf92-9975-4929-80ae-e25483b396e2",
   "metadata": {},
   "outputs": [],
   "source": [
    "fn = all_data['code']==2\n",
    "invbeta = all_data['code']==1\n",
    "id0 = all_data['subid']==0\n",
    "id1p = all_data['subid']>0 # >0 changes things "
   ]
  },
  {
   "cell_type": "code",
   "execution_count": 30,
   "id": "e3a6e61f-34c4-4e50-a082-023aa0ff7b9e",
   "metadata": {},
   "outputs": [],
   "source": [
    "ibd0_mask = ak.from_iter([all(t) for t in zip(invbeta, id0)])\n",
    "ibd1_mask = ak.from_iter([all(t) for t in zip(invbeta, id1p)])\n",
    "fastn0_mask = ak.from_iter([all(t) for t in zip(fn, id0)])\n",
    "fastn1_mask = ak.from_iter([all(t) for t in zip(fn, id1p)])"
   ]
  },
  {
   "cell_type": "code",
   "execution_count": 31,
   "id": "05630dab-b4f4-4846-a685-908b91cbd166",
   "metadata": {},
   "outputs": [],
   "source": [
    "samples = min([ak.count_nonzero(fn), \n",
    "#               ak.count_nonzero(fastn1_mask), \n",
    "              ak.count_nonzero(ibd0_mask), \n",
    "              ak.count_nonzero(ibd1_mask)])"
   ]
  },
  {
   "cell_type": "code",
   "execution_count": 32,
   "id": "0aa693cd-3f36-4a15-baf4-f3a5ee2fc726",
   "metadata": {},
   "outputs": [],
   "source": [
    "x1 = all_data[fn][:samples]\n",
    "# x1 = ak.concatenate((x1, all_data[fastn1_mask][:samples]), axis=0)\n",
    "x1 = ak.concatenate((x1, all_data[ibd0_mask][:samples]), axis=0)\n",
    "x1 = ak.concatenate((x1, all_data[ibd1_mask][:samples]), axis=0)"
   ]
  },
  {
   "cell_type": "code",
   "execution_count": 33,
   "id": "6db6c1f4-560b-43cb-9da2-4b8a97ea4ef8",
   "metadata": {},
   "outputs": [],
   "source": [
    "y1 = np.zeros(3*samples)\n",
    "y1[samples:2*samples] = 1\n",
    "y1[2*samples:3*samples] = 2\n",
    "# y1[3*samples:] = 2"
   ]
  },
  {
   "cell_type": "code",
   "execution_count": 34,
   "id": "1f034007-6f20-4a94-80b0-6a66c2bf682d",
   "metadata": {},
   "outputs": [
    {
     "name": "stdout",
     "output_type": "stream",
     "text": [
      "Remaining variables selected for analysis: 42\n"
     ]
    }
   ],
   "source": [
    "# eplus = get_dims(positrons, dimensions=dimensions)[:samples]\n",
    "x = get_dims(x1, dimensions=dimensions)\n",
    "x = ak.to_pandas(x)"
   ]
  },
  {
   "cell_type": "code",
   "execution_count": 35,
   "id": "75f81f37-db86-4e34-a2ab-2445a5a6d823",
   "metadata": {},
   "outputs": [],
   "source": [
    "# Split dataset into training set and test set\n",
    "X_train, X_test, y_train, y_test = train_test_split(x, y1, test_size=0.25, random_state=43) "
   ]
  },
  {
   "cell_type": "code",
   "execution_count": 36,
   "id": "5a69de01-8990-49ab-946d-8b23e3d3cf31",
   "metadata": {},
   "outputs": [],
   "source": [
    "X_save = X_test"
   ]
  },
  {
   "cell_type": "code",
   "execution_count": 37,
   "id": "b1ed79bc-2577-4980-9d86-98e1d387b29c",
   "metadata": {},
   "outputs": [],
   "source": [
    "sc = StandardScaler()\n",
    "X_train = sc.fit_transform(X_train)\n",
    "X_test = sc.transform(X_test)"
   ]
  },
  {
   "cell_type": "code",
   "execution_count": 38,
   "id": "5e256120-96bc-40bb-90dd-d2ab528a993d",
   "metadata": {},
   "outputs": [],
   "source": [
    "#Create a Gaussian Classifier\n",
    "clf=RandomForestClassifier(\n",
    "#     n_estimators=200, max_depth=10\n",
    ")\n",
    "\n",
    "#Train the model using the training sets\n",
    "clf.fit(X_train,y_train)\n",
    "y_train_pred = clf.predict(X_train)\n",
    "y_test_pred=clf.predict(X_test)"
   ]
  },
  {
   "cell_type": "code",
   "execution_count": 39,
   "id": "583628ae-f28e-49a5-a330-2e7a9bbe8091",
   "metadata": {},
   "outputs": [],
   "source": [
    "y_test_prob = clf.predict_proba(X_test)"
   ]
  },
  {
   "cell_type": "code",
   "execution_count": 40,
   "id": "072434e0-5607-42fa-9e4c-78d8b8da799f",
   "metadata": {},
   "outputs": [
    {
     "name": "stdout",
     "output_type": "stream",
     "text": [
      "Train Accuracy: 100.00%\n",
      "Test Accuracy: 70.64%\n"
     ]
    }
   ],
   "source": [
    "# Model Accuracy, how often is the classifier correct?\n",
    "print(\"Train Accuracy: %.2f%%\"%(metrics.accuracy_score(y_train, y_train_pred)*100))\n",
    "print(\"Test Accuracy: %.2f%%\"%(metrics.accuracy_score(y_test, y_test_pred)*100))"
   ]
  },
  {
   "cell_type": "code",
   "execution_count": 41,
   "id": "391718e8-e86e-4c9d-bb40-a10eb3bdd904",
   "metadata": {},
   "outputs": [],
   "source": [
    "feature_imp = pd.Series(clf.feature_importances_,index=dimensions).sort_values(ascending=False)"
   ]
  },
  {
   "cell_type": "code",
   "execution_count": 43,
   "id": "f37a0145-37ed-4364-9174-06a4e3db2979",
   "metadata": {},
   "outputs": [
    {
     "data": {
      "image/png": "[encoded data removed]",
      "text/plain": [
       "<Figure size 432x576 with 1 Axes>"
      ]
     },
     "metadata": {
      "needs_background": "light"
     },
     "output_type": "display_data"
    }
   ],
   "source": [
    "# Creating a bar plot\n",
    "plt.figure(figsize=(6, 8))\n",
    "sns.barplot(x=feature_imp, y=feature_imp.index)\n",
    "# Add labels to your graph\n",
    "plt.xlabel('Feature Importance Score')\n",
    "plt.xscale('log')\n",
    "plt.ylabel('Features')\n",
    "plt.title(\"Feature Importance: RF IBDs (split) vs. fast-neutrons\")\n",
    "# plt.legend()\n",
    "plt.show()"
   ]
  },
  {
   "cell_type": "code",
   "execution_count": 44,
   "id": "2a923911-bc75-4f79-b521-b68a0359a6c2",
   "metadata": {},
   "outputs": [],
   "source": [
    "scores = clf.predict_proba(X_test)"
   ]
  },
  {
   "cell_type": "code",
   "execution_count": 45,
   "id": "0bbe4e3c-762c-411c-bfb2-c03f2701f49e",
   "metadata": {},
   "outputs": [],
   "source": [
    "y_pred_2 = np.argmax(scores, axis=1)\n",
    "# y_test_2 = np.argmax(y_test, axis=1)"
   ]
  },
  {
   "cell_type": "code",
   "execution_count": 46,
   "id": "7a9e58d0-d904-4477-bf09-379b286f881d",
   "metadata": {},
   "outputs": [],
   "source": [
    "# y_pred = np.round(scores)"
   ]
  },
  {
   "cell_type": "code",
   "execution_count": 47,
   "id": "29edca3f-340f-4ff0-a6a2-e9619389807e",
   "metadata": {
    "tags": []
   },
   "outputs": [
    {
     "data": {
      "image/png": "[encoded data removed]",
      "text/plain": [
       "<Figure size 432x288 with 2 Axes>"
      ]
     },
     "metadata": {
      "needs_background": "light"
     },
     "output_type": "display_data"
    }
   ],
   "source": [
    "confmat = confusion_matrix(y_test, y_pred_2)\n",
    "ax = sns.heatmap(confmat, annot=True, fmt='g', \n",
    "#                  norm=LogNorm()\n",
    "                )\n",
    "\n",
    "ax.set_title('Confusion Matrix from IBD (split)/fast-neutron RF')\n",
    "ax.set_xlabel('Predicted PID')\n",
    "ax.set_ylabel('Actual PID')\n",
    "\n",
    "ax.xaxis.set_ticklabels(['fastn', 'ibd0', 'ibd1'])\n",
    "ax.yaxis.set_ticklabels(['fastn', 'ibd0', 'ibd1'])\n",
    "\n",
    "plt.show()"
   ]
  },
  {
   "cell_type": "code",
   "execution_count": 48,
   "id": "176fcbfa-d7cd-420a-b5a1-110e09f0225b",
   "metadata": {
    "tags": []
   },
   "outputs": [
    {
     "data": {
      "image/png": "[encoded data removed]",
      "text/plain": [
       "<Figure size 576x360 with 1 Axes>"
      ]
     },
     "metadata": {
      "needs_background": "light"
     },
     "output_type": "display_data"
    }
   ],
   "source": [
    "cat1 = [0, 0, 0, 1, 1, 2]\n",
    "cat2 = [1, 2, 3, 2, 3, 3]\n",
    "labels = ['fastn0/fastn1', 'fastn0/ibd0', 'fastn0/ibd1', \n",
    "          'fastn1/ibd0', 'fastn1/ibd1', \n",
    "          'ibd0/ibd1', \n",
    "         ]\n",
    "cat1 = [0, 0, 1]\n",
    "cat2 = [1, 2, 2]\n",
    "labels = ['fastn/ibd0', 'fastn/ibd1', 'ibd0/ibd1', \n",
    "#           'fastn1/ibd0', 'fastn1/ibd1', \n",
    "#           'ibd0/ibd1', \n",
    "         ]\n",
    "plt.figure(figsize=(8,5))\n",
    "for i, j, label in zip(cat1, cat2, \n",
    "                        labels,\n",
    "                         ):\n",
    "    mask = [any(t) for t in zip(y_test==i, y_test==j)]\n",
    "    prob = scores[:, j][mask]\n",
    "    \n",
    "    guesses = y_test[mask]\n",
    "    guesses = guesses - np.min(guesses)\n",
    "    guesses = guesses/np.max(guesses)\n",
    "\n",
    "    fpr, tpr, thresholds = roc_curve(guesses, prob)\n",
    "        \n",
    "    auc = roc_auc_score(y_test[mask], prob)\n",
    "    plt.plot(fpr, tpr, \n",
    "         label='%s (AUC = %0.3f)'%(label, auc), \n",
    "#          color='darkorange', \n",
    "         lw=2, \n",
    "        )\n",
    "plt.xlim([-0.01, 1.0])\n",
    "plt.ylim([0, 1.05])\n",
    "plt.xlabel('False Positive Rate')\n",
    "plt.ylabel('True Positive Rate')\n",
    "plt.title('Random Forest ROC: Sub-class of ibd vs fast-neutrons')\n",
    "plt.plot([0, 1], [0, 1], color='navy', lw=2, linestyle='--')\n",
    "plt.legend()\n",
    "plt.grid()\n",
    "plt.show()"
   ]
  },
  {
   "cell_type": "code",
   "execution_count": null,
   "id": "dd1feeaa-db70-42be-91da-cb3f2c1bb592",
   "metadata": {},
   "outputs": [],
   "source": []
  },
  {
   "cell_type": "code",
   "execution_count": null,
   "id": "663808cc-c91a-4f6f-b7b9-168b71ae5b4e",
   "metadata": {},
   "outputs": [],
   "source": []
  },
  {
   "cell_type": "code",
   "execution_count": null,
   "id": "9ca9dee4-289d-470f-8619-87180f9bf4be",
   "metadata": {},
   "outputs": [],
   "source": []
  },
  {
   "cell_type": "code",
   "execution_count": null,
   "id": "c067cb61-2e6b-40b4-b5c3-d58f1f67cb11",
   "metadata": {},
   "outputs": [],
   "source": []
  },
  {
   "cell_type": "markdown",
   "id": "8fb0712d-3dc3-4556-8a9a-9e0c13d8116a",
   "metadata": {},
   "source": [
    "## RNN Prep"
   ]
  },
  {
   "cell_type": "markdown",
   "id": "84ee1904-e4b5-4755-aa3e-e0a1a95f1749",
   "metadata": {},
   "source": [
    "Add in residual time and pmt info (can cut for promptness in mask if wanted. Now not doing.) "
   ]
  },
  {
   "cell_type": "code",
   "execution_count": 153,
   "id": "df96322a",
   "metadata": {
    "scrolled": true
   },
   "outputs": [
    {
     "name": "stdout",
     "output_type": "stream",
     "text": [
      "set 1 of 3\n",
      "-----Processing sample 0 of 36834-----\n",
      "-----Processing sample 10000 of 36834-----\n",
      "-----Processing sample 20000 of 36834-----\n",
      "-----Processing sample 30000 of 36834-----\n",
      "set 2 of 3\n",
      "-----Processing sample 0 of 25469-----\n",
      "-----Processing sample 10000 of 25469-----\n",
      "-----Processing sample 20000 of 25469-----\n"
     ]
    }
   ],
   "source": [
    "delaytime = 1e5\n",
    "c = 21.8 #cm/ns\n",
    "\n",
    "for j, data in enumerate([ibd, fastn]):\n",
    "    channels = []\n",
    "    charges = []\n",
    "    timess = []\n",
    "    chn = data['channel']    \n",
    "    print('set %i of %i'%(j+1, 3))\n",
    "    times = data['hittime']-800.\n",
    "    for i, ht in enumerate(data['hittime']): \n",
    "        if i%10_000==0:\n",
    "            print('-----Processing sample %i of %i-----'%(i, len(data)))\n",
    "        xyz = pmtpos[chn[i]] #cm\n",
    "        vertex = [data['x'][i]/10., data['y'][i]/10., data['z'][i]/10.] #cm\n",
    "        dist = np.sqrt(np.sum((xyz - vertex)**2, axis=1)) # cm\n",
    "        res = times[i] - dist/c\n",
    "        promptmask = np.logical_and(res<delaytime, res>-1*delaytime)\n",
    "        channels.append(data['channel'][i][promptmask])\n",
    "        charges.append(data['pmtcharge'][i][promptmask])\n",
    "        timess.append(res[promptmask])\n",
    "    data['restime'] = ak.Array(timess)\n",
    "    data['promptchan'], data['promptcharge'], data['prompttime'] = ak.Array(channels), ak.Array(charges), ak.Array(timess)"
   ]
  },
  {
   "cell_type": "markdown",
   "id": "7b90ec20",
   "metadata": {},
   "source": [
    "------"
   ]
  },
  {
   "cell_type": "code",
   "execution_count": 167,
   "id": "b2f0d838",
   "metadata": {},
   "outputs": [],
   "source": [
    "def prep_net_data(data_to_manipulate, \n",
    "                  prompt=True, restime=True,\n",
    "                  maxlen=100):\n",
    "    X = []\n",
    "    y = np.array([])\n",
    "    \n",
    "    if prompt==True:\n",
    "        keys = ['promptchan', 'promptcharge', 'prompttime']\n",
    "    elif prompt==False:\n",
    "        keys = ['channel', 'pmtcharge', 'hittime']\n",
    "    if restime==True:\n",
    "        keys.append('restime')\n",
    "        \n",
    "    diminput = len(keys)\n",
    "    for d, dat in enumerate(data_to_manipulate):\n",
    "        print('Running set %i of %i'%(d+1, len(data_to_manipulate)))\n",
    "        new = np.empty(shape=(len(dat), maxlen, diminput+2))\n",
    "\n",
    "        chn = sequence.pad_sequences(dat[keys[0]]+1, maxlen=maxlen, \n",
    "                                     padding='post', \n",
    "                                     dtype='int32')\n",
    "        chrg = sequence.pad_sequences(dat[keys[1]], maxlen=maxlen, \n",
    "                                      padding='post', \n",
    "                                      dtype='float64')\n",
    "        \n",
    "        xyz = pmtpos[chn]+1 #since value of 0 has meaning..\n",
    "        \n",
    "        time = sequence.pad_sequences(dat[keys[2]], maxlen=maxlen, \n",
    "                                      padding='post', \n",
    "                                      dtype='float64')\n",
    "        new[:,:,0] = chrg\n",
    "        new[:,:,1] = time    \n",
    "        new[:,:,2:5] = xyz+1\n",
    "        \n",
    "        if restime==True:\n",
    "            res_times = sequence.pad_sequences(dat[keys[3]], maxlen=maxlen, \n",
    "                                      padding='post', \n",
    "                                      dtype='float64')\n",
    "            new[:,:,5] = res_times\n",
    "            \n",
    "        if len(X)>0:\n",
    "            X = np.append(X, new, axis=0)\n",
    "        else: \n",
    "            X = new\n",
    "        y=np.append(y, d*np.ones(len(new)))    \n",
    "    return X, y"
   ]
  },
  {
   "cell_type": "code",
   "execution_count": 169,
   "id": "09374a33-413d-4737-8f8d-dab0abc51078",
   "metadata": {},
   "outputs": [],
   "source": [
    "samples = np.min([len(fastn), len(ibd)])\n",
    "data_to_manipulate = [fastn[:samples], ibd[:samples]]"
   ]
  },
  {
   "cell_type": "code",
   "execution_count": 170,
   "id": "b9518fdf-b465-4849-be59-dffa010d0cf9",
   "metadata": {},
   "outputs": [
    {
     "name": "stdout",
     "output_type": "stream",
     "text": [
      "Running set 1 of 2\n",
      "Running set 2 of 2\n"
     ]
    }
   ],
   "source": [
    "X, y = prep_net_data(data_to_manipulate, prompt=True, restime=True, maxlen=200)"
   ]
  },
  {
   "cell_type": "code",
   "execution_count": 171,
   "id": "de6273fb-cd18-4323-be5f-a66da6c89047",
   "metadata": {},
   "outputs": [],
   "source": [
    "X_train, X_test, y_train, y_test = train_test_split(X, y, test_size=0.25, random_state=42)"
   ]
  },
  {
   "cell_type": "code",
   "execution_count": null,
   "id": "e03c2225-d563-41ce-bce9-80939ebb5b60",
   "metadata": {},
   "outputs": [],
   "source": []
  },
  {
   "cell_type": "code",
   "execution_count": 175,
   "id": "49b729db-3d1e-4e87-8002-c67e5fe71309",
   "metadata": {},
   "outputs": [],
   "source": [
    "regressor = Sequential()\n",
    "input_shape = X.shape[1:]\n",
    "regressor.add(InputLayer(input_shape=input_shape))\n",
    "# regressor.add(LSTM(units=256, \n",
    "#                    return_sequences=True, \n",
    "#                    dropout=0.1,\n",
    "#                   ))  \n",
    "\n",
    "regressor.add(LSTM(units=128, \n",
    "                   return_sequences=True, \n",
    "                   dropout=0.1, \n",
    "                   \n",
    "                  ))\n",
    "\n",
    "regressor.add(LSTM(units=64, \n",
    "                   return_sequences=True, \n",
    "                  dropout=0.0, \n",
    "                  ))\n",
    "\n",
    "# regressor.add(LSTM(units=32, \n",
    "#                    return_sequences=False, \n",
    "#                   dropout=0.0, \n",
    "#                   ))\n",
    "\n",
    "# regressor.add(Dense(128, \n",
    "#                     activation='relu', \n",
    "#                    ))\n",
    "\n",
    "# regressor.add(Dropout(0.2))\n",
    "\n",
    "# regressor.add(Dense(32, \n",
    "#                    activation='relu', \n",
    "#                    ))\n",
    "\n",
    "regressor.add(Dense(1, activation='sigmoid'))\n",
    "\n",
    "regressor.compile(loss='binary_crossentropy', optimizer='adam', metrics=['accuracy'])"
   ]
  },
  {
   "cell_type": "code",
   "execution_count": 176,
   "id": "658b2f35-d269-4944-8a42-cfed94c94c16",
   "metadata": {},
   "outputs": [
    {
     "name": "stdout",
     "output_type": "stream",
     "text": [
      "Model: \"sequential_9\"\n",
      "_________________________________________________________________\n",
      "Layer (type)                 Output Shape              Param #   \n",
      "=================================================================\n",
      "lstm_2 (LSTM)                (None, 200, 128)          69120     \n",
      "_________________________________________________________________\n",
      "lstm_3 (LSTM)                (None, 200, 64)           49408     \n",
      "_________________________________________________________________\n",
      "dense_28 (Dense)             (None, 200, 1)            65        \n",
      "=================================================================\n",
      "Total params: 118,593\n",
      "Trainable params: 118,593\n",
      "Non-trainable params: 0\n",
      "_________________________________________________________________\n"
     ]
    }
   ],
   "source": [
    "regressor.summary()"
   ]
  },
  {
   "cell_type": "code",
   "execution_count": 177,
   "id": "bed93984-4096-4f1b-b333-6729ce7a9f5c",
   "metadata": {
    "scrolled": true,
    "tags": []
   },
   "outputs": [
    {
     "name": "stdout",
     "output_type": "stream",
     "text": [
      "Epoch 1/10\n",
      "597/597 [==============================] - 245s 402ms/step - loss: 0.6904 - accuracy: 0.5235 - val_loss: 0.6878 - val_accuracy: 0.5322\n",
      "Epoch 2/10\n",
      "597/597 [==============================] - 241s 404ms/step - loss: 0.6831 - accuracy: 0.5425 - val_loss: 0.6653 - val_accuracy: 0.5880\n",
      "Epoch 3/10\n",
      " 21/597 [>.............................] - ETA: 3:19 - loss: 0.6647 - accuracy: 0.5872"
     ]
    },
    {
     "ename": "KeyboardInterrupt",
     "evalue": "",
     "output_type": "error",
     "traceback": [
      "\u001b[0;31m---------------------------------------------------------------------------\u001b[0m",
      "\u001b[0;31mKeyboardInterrupt\u001b[0m                         Traceback (most recent call last)",
      "\u001b[0;32m<ipython-input-177-890486677fad>\u001b[0m in \u001b[0;36m<module>\u001b[0;34m\u001b[0m\n\u001b[0;32m----> 1\u001b[0;31m history = regressor.fit(X_train, y_train, \n\u001b[0m\u001b[1;32m      2\u001b[0m           \u001b[0mvalidation_data\u001b[0m\u001b[0;34m=\u001b[0m\u001b[0;34m(\u001b[0m\u001b[0mX_test\u001b[0m\u001b[0;34m,\u001b[0m \u001b[0my_test\u001b[0m\u001b[0;34m)\u001b[0m\u001b[0;34m,\u001b[0m\u001b[0;34m\u001b[0m\u001b[0;34m\u001b[0m\u001b[0m\n\u001b[1;32m      3\u001b[0m           \u001b[0mepochs\u001b[0m\u001b[0;34m=\u001b[0m\u001b[0;36m10\u001b[0m\u001b[0;34m,\u001b[0m \u001b[0mbatch_size\u001b[0m\u001b[0;34m=\u001b[0m\u001b[0;36m64\u001b[0m\u001b[0;34m,\u001b[0m\u001b[0;34m\u001b[0m\u001b[0;34m\u001b[0m\u001b[0m\n\u001b[1;32m      4\u001b[0m          )\n",
      "\u001b[0;32m~/.local/lib/python3.8/site-packages/keras/engine/training.py\u001b[0m in \u001b[0;36mfit\u001b[0;34m(self, x, y, batch_size, epochs, verbose, callbacks, validation_split, validation_data, shuffle, class_weight, sample_weight, initial_epoch, steps_per_epoch, validation_steps, validation_batch_size, validation_freq, max_queue_size, workers, use_multiprocessing)\u001b[0m\n\u001b[1;32m   1156\u001b[0m                 _r=1):\n\u001b[1;32m   1157\u001b[0m               \u001b[0mcallbacks\u001b[0m\u001b[0;34m.\u001b[0m\u001b[0mon_train_batch_begin\u001b[0m\u001b[0;34m(\u001b[0m\u001b[0mstep\u001b[0m\u001b[0;34m)\u001b[0m\u001b[0;34m\u001b[0m\u001b[0;34m\u001b[0m\u001b[0m\n\u001b[0;32m-> 1158\u001b[0;31m               \u001b[0mtmp_logs\u001b[0m \u001b[0;34m=\u001b[0m \u001b[0mself\u001b[0m\u001b[0;34m.\u001b[0m\u001b[0mtrain_function\u001b[0m\u001b[0;34m(\u001b[0m\u001b[0miterator\u001b[0m\u001b[0;34m)\u001b[0m\u001b[0;34m\u001b[0m\u001b[0;34m\u001b[0m\u001b[0m\n\u001b[0m\u001b[1;32m   1159\u001b[0m               \u001b[0;32mif\u001b[0m \u001b[0mdata_handler\u001b[0m\u001b[0;34m.\u001b[0m\u001b[0mshould_sync\u001b[0m\u001b[0;34m:\u001b[0m\u001b[0;34m\u001b[0m\u001b[0;34m\u001b[0m\u001b[0m\n\u001b[1;32m   1160\u001b[0m                 \u001b[0mcontext\u001b[0m\u001b[0;34m.\u001b[0m\u001b[0masync_wait\u001b[0m\u001b[0;34m(\u001b[0m\u001b[0;34m)\u001b[0m\u001b[0;34m\u001b[0m\u001b[0;34m\u001b[0m\u001b[0m\n",
      "\u001b[0;32m~/.local/lib/python3.8/site-packages/tensorflow/python/eager/def_function.py\u001b[0m in \u001b[0;36m__call__\u001b[0;34m(self, *args, **kwds)\u001b[0m\n\u001b[1;32m    887\u001b[0m \u001b[0;34m\u001b[0m\u001b[0m\n\u001b[1;32m    888\u001b[0m       \u001b[0;32mwith\u001b[0m \u001b[0mOptionalXlaContext\u001b[0m\u001b[0;34m(\u001b[0m\u001b[0mself\u001b[0m\u001b[0;34m.\u001b[0m\u001b[0m_jit_compile\u001b[0m\u001b[0;34m)\u001b[0m\u001b[0;34m:\u001b[0m\u001b[0;34m\u001b[0m\u001b[0;34m\u001b[0m\u001b[0m\n\u001b[0;32m--> 889\u001b[0;31m         \u001b[0mresult\u001b[0m \u001b[0;34m=\u001b[0m \u001b[0mself\u001b[0m\u001b[0;34m.\u001b[0m\u001b[0m_call\u001b[0m\u001b[0;34m(\u001b[0m\u001b[0;34m*\u001b[0m\u001b[0margs\u001b[0m\u001b[0;34m,\u001b[0m \u001b[0;34m**\u001b[0m\u001b[0mkwds\u001b[0m\u001b[0;34m)\u001b[0m\u001b[0;34m\u001b[0m\u001b[0;34m\u001b[0m\u001b[0m\n\u001b[0m\u001b[1;32m    890\u001b[0m \u001b[0;34m\u001b[0m\u001b[0m\n\u001b[1;32m    891\u001b[0m       \u001b[0mnew_tracing_count\u001b[0m \u001b[0;34m=\u001b[0m \u001b[0mself\u001b[0m\u001b[0;34m.\u001b[0m\u001b[0mexperimental_get_tracing_count\u001b[0m\u001b[0;34m(\u001b[0m\u001b[0;34m)\u001b[0m\u001b[0;34m\u001b[0m\u001b[0;34m\u001b[0m\u001b[0m\n",
      "\u001b[0;32m~/.local/lib/python3.8/site-packages/tensorflow/python/eager/def_function.py\u001b[0m in \u001b[0;36m_call\u001b[0;34m(self, *args, **kwds)\u001b[0m\n\u001b[1;32m    915\u001b[0m       \u001b[0;31m# In this case we have created variables on the first call, so we run the\u001b[0m\u001b[0;34m\u001b[0m\u001b[0;34m\u001b[0m\u001b[0;34m\u001b[0m\u001b[0m\n\u001b[1;32m    916\u001b[0m       \u001b[0;31m# defunned version which is guaranteed to never create variables.\u001b[0m\u001b[0;34m\u001b[0m\u001b[0;34m\u001b[0m\u001b[0;34m\u001b[0m\u001b[0m\n\u001b[0;32m--> 917\u001b[0;31m       \u001b[0;32mreturn\u001b[0m \u001b[0mself\u001b[0m\u001b[0;34m.\u001b[0m\u001b[0m_stateless_fn\u001b[0m\u001b[0;34m(\u001b[0m\u001b[0;34m*\u001b[0m\u001b[0margs\u001b[0m\u001b[0;34m,\u001b[0m \u001b[0;34m**\u001b[0m\u001b[0mkwds\u001b[0m\u001b[0;34m)\u001b[0m  \u001b[0;31m# pylint: disable=not-callable\u001b[0m\u001b[0;34m\u001b[0m\u001b[0;34m\u001b[0m\u001b[0m\n\u001b[0m\u001b[1;32m    918\u001b[0m     \u001b[0;32melif\u001b[0m \u001b[0mself\u001b[0m\u001b[0;34m.\u001b[0m\u001b[0m_stateful_fn\u001b[0m \u001b[0;32mis\u001b[0m \u001b[0;32mnot\u001b[0m \u001b[0;32mNone\u001b[0m\u001b[0;34m:\u001b[0m\u001b[0;34m\u001b[0m\u001b[0;34m\u001b[0m\u001b[0m\n\u001b[1;32m    919\u001b[0m       \u001b[0;31m# Release the lock early so that multiple threads can perform the call\u001b[0m\u001b[0;34m\u001b[0m\u001b[0;34m\u001b[0m\u001b[0;34m\u001b[0m\u001b[0m\n",
      "\u001b[0;32m~/.local/lib/python3.8/site-packages/tensorflow/python/eager/function.py\u001b[0m in \u001b[0;36m__call__\u001b[0;34m(self, *args, **kwargs)\u001b[0m\n\u001b[1;32m   3021\u001b[0m       (graph_function,\n\u001b[1;32m   3022\u001b[0m        filtered_flat_args) = self._maybe_define_function(args, kwargs)\n\u001b[0;32m-> 3023\u001b[0;31m     return graph_function._call_flat(\n\u001b[0m\u001b[1;32m   3024\u001b[0m         filtered_flat_args, captured_inputs=graph_function.captured_inputs)  # pylint: disable=protected-access\n\u001b[1;32m   3025\u001b[0m \u001b[0;34m\u001b[0m\u001b[0m\n",
      "\u001b[0;32m~/.local/lib/python3.8/site-packages/tensorflow/python/eager/function.py\u001b[0m in \u001b[0;36m_call_flat\u001b[0;34m(self, args, captured_inputs, cancellation_manager)\u001b[0m\n\u001b[1;32m   1958\u001b[0m         and executing_eagerly):\n\u001b[1;32m   1959\u001b[0m       \u001b[0;31m# No tape is watching; skip to running the function.\u001b[0m\u001b[0;34m\u001b[0m\u001b[0;34m\u001b[0m\u001b[0;34m\u001b[0m\u001b[0m\n\u001b[0;32m-> 1960\u001b[0;31m       return self._build_call_outputs(self._inference_function.call(\n\u001b[0m\u001b[1;32m   1961\u001b[0m           ctx, args, cancellation_manager=cancellation_manager))\n\u001b[1;32m   1962\u001b[0m     forward_backward = self._select_forward_and_backward_functions(\n",
      "\u001b[0;32m~/.local/lib/python3.8/site-packages/tensorflow/python/eager/function.py\u001b[0m in \u001b[0;36mcall\u001b[0;34m(self, ctx, args, cancellation_manager)\u001b[0m\n\u001b[1;32m    589\u001b[0m       \u001b[0;32mwith\u001b[0m \u001b[0m_InterpolateFunctionError\u001b[0m\u001b[0;34m(\u001b[0m\u001b[0mself\u001b[0m\u001b[0;34m)\u001b[0m\u001b[0;34m:\u001b[0m\u001b[0;34m\u001b[0m\u001b[0;34m\u001b[0m\u001b[0m\n\u001b[1;32m    590\u001b[0m         \u001b[0;32mif\u001b[0m \u001b[0mcancellation_manager\u001b[0m \u001b[0;32mis\u001b[0m \u001b[0;32mNone\u001b[0m\u001b[0;34m:\u001b[0m\u001b[0;34m\u001b[0m\u001b[0;34m\u001b[0m\u001b[0m\n\u001b[0;32m--> 591\u001b[0;31m           outputs = execute.execute(\n\u001b[0m\u001b[1;32m    592\u001b[0m               \u001b[0mstr\u001b[0m\u001b[0;34m(\u001b[0m\u001b[0mself\u001b[0m\u001b[0;34m.\u001b[0m\u001b[0msignature\u001b[0m\u001b[0;34m.\u001b[0m\u001b[0mname\u001b[0m\u001b[0;34m)\u001b[0m\u001b[0;34m,\u001b[0m\u001b[0;34m\u001b[0m\u001b[0;34m\u001b[0m\u001b[0m\n\u001b[1;32m    593\u001b[0m               \u001b[0mnum_outputs\u001b[0m\u001b[0;34m=\u001b[0m\u001b[0mself\u001b[0m\u001b[0;34m.\u001b[0m\u001b[0m_num_outputs\u001b[0m\u001b[0;34m,\u001b[0m\u001b[0;34m\u001b[0m\u001b[0;34m\u001b[0m\u001b[0m\n",
      "\u001b[0;32m~/.local/lib/python3.8/site-packages/tensorflow/python/eager/execute.py\u001b[0m in \u001b[0;36mquick_execute\u001b[0;34m(op_name, num_outputs, inputs, attrs, ctx, name)\u001b[0m\n\u001b[1;32m     57\u001b[0m   \u001b[0;32mtry\u001b[0m\u001b[0;34m:\u001b[0m\u001b[0;34m\u001b[0m\u001b[0;34m\u001b[0m\u001b[0m\n\u001b[1;32m     58\u001b[0m     \u001b[0mctx\u001b[0m\u001b[0;34m.\u001b[0m\u001b[0mensure_initialized\u001b[0m\u001b[0;34m(\u001b[0m\u001b[0;34m)\u001b[0m\u001b[0;34m\u001b[0m\u001b[0;34m\u001b[0m\u001b[0m\n\u001b[0;32m---> 59\u001b[0;31m     tensors = pywrap_tfe.TFE_Py_Execute(ctx._handle, device_name, op_name,\n\u001b[0m\u001b[1;32m     60\u001b[0m                                         inputs, attrs, num_outputs)\n\u001b[1;32m     61\u001b[0m   \u001b[0;32mexcept\u001b[0m \u001b[0mcore\u001b[0m\u001b[0;34m.\u001b[0m\u001b[0m_NotOkStatusException\u001b[0m \u001b[0;32mas\u001b[0m \u001b[0me\u001b[0m\u001b[0;34m:\u001b[0m\u001b[0;34m\u001b[0m\u001b[0;34m\u001b[0m\u001b[0m\n",
      "\u001b[0;31mKeyboardInterrupt\u001b[0m: "
     ]
    }
   ],
   "source": [
    "hisconcatenatey = regressor.fit(X_train, y_train, \n",
    "          validation_data=(X_test, y_test),\n",
    "          epochs=10, batch_size=64, \n",
    "         )"
   ]
  },
  {
   "cell_type": "code",
   "execution_count": null,
   "id": "8f59079c-2db7-4b60-b640-99772c4f90fe",
   "metadata": {},
   "outputs": [],
   "source": []
  },
  {
   "cell_type": "code",
   "execution_count": null,
   "id": "a900e893-4222-411c-bdbf-9586c08a45ec",
   "metadata": {},
   "outputs": [],
   "source": []
  },
  {
   "cell_type": "code",
   "execution_count": 560,
   "id": "865616c4-cd1d-449c-b44c-c1b2ee7a942b",
   "metadata": {},
   "outputs": [],
   "source": [
    "import lhsmdu"
   ]
  },
  {
   "cell_type": "code",
   "execution_count": 561,
   "id": "67c9a747-e758-4af2-8a17-deac2f4187d4",
   "metadata": {},
   "outputs": [],
   "source": [
    "k = lhsmdu.sample(2, 20)"
   ]
  },
  {
   "cell_type": "code",
   "execution_count": 570,
   "id": "1392df23-ab45-4c78-9a2a-c24e8bbb4eee",
   "metadata": {},
   "outputs": [],
   "source": [
    "k = np.array(k)"
   ]
  },
  {
   "cell_type": "markdown",
   "id": "6982f8a7-a2ef-45a4-9e83-e81439c75796",
   "metadata": {
    "tags": []
   },
   "source": [
    "## Trying RNN With multiple sub-classes "
   ]
  },
  {
   "cell_type": "code",
   "execution_count": 221,
   "id": "9abf6f89-9fd8-4b43-b456-31c500f4b9a4",
   "metadata": {},
   "outputs": [],
   "source": [
    "all_data = ak.concatenate(data_to_manipulate)"
   ]
  },
  {
   "cell_type": "code",
   "execution_count": 327,
   "id": "30f588b7-3f09-4645-8952-c0c41fbcdcc1",
   "metadata": {},
   "outputs": [],
   "source": [
    "fn = all_data['code']==2\n",
    "invbeta = all_data['code']==1\n",
    "id0 = all_data['subid']==0\n",
    "id1p = all_data['subid']==1 # >0 changes things "
   ]
  },
  {
   "cell_type": "code",
   "execution_count": 328,
   "id": "a60f99b9-26ed-440f-a854-b7a1e9779df8",
   "metadata": {},
   "outputs": [],
   "source": [
    "sm1 = all_data['code']==2\n",
    "sm2 = all_data['subid'] ==0"
   ]
  },
  {
   "cell_type": "code",
   "execution_count": 329,
   "id": "d21fb78b-06ad-447c-b527-83c8eccf1e4c",
   "metadata": {},
   "outputs": [],
   "source": [
    "ibd0_mask = ak.from_iter([all(t) for t in zip(invbeta, id0)])\n",
    "ibd1_mask = ak.from_iter([all(t) for t in zip(invbeta, id1p)])\n",
    "fastn0_mask = ak.from_iter([all(t) for t in zip(fn, id0)])\n",
    "fastn1_mask = ak.from_iter([all(t) for t in zip(fn, id1p)])"
   ]
  },
  {
   "cell_type": "code",
   "execution_count": 330,
   "id": "1734a65a-f5a5-4b0c-9bc3-3be00c4f25a2",
   "metadata": {},
   "outputs": [],
   "source": [
    "samples = min([ak.count_nonzero(fastn0_mask), \n",
    "              ak.count_nonzero(fastn1_mask), \n",
    "              ak.count_nonzero(ibd0_mask), \n",
    "              ak.count_nonzero(ibd1_mask)])"
   ]
  },
  {
   "cell_type": "code",
   "execution_count": 325,
   "id": "2137fb5e-05b5-4331-8d5e-fc5b11295eb9",
   "metadata": {},
   "outputs": [],
   "source": [
    "x1 = all_data[fastn0_mask][:samples]\n",
    "x1 = ak.concatenate((x1, all_data[fastn1_mask][:samples]))\n",
    "x1 = ak.concatenate((x1, all_data[ibd0_mask][:samples]))\n",
    "x1 = ak.concatenate((x1, all_data[ibd1_mask][:samples]))"
   ]
  },
  {
   "cell_type": "code",
   "execution_count": 334,
   "id": "8ec63417-37ba-4b79-aae2-f3624050051e",
   "metadata": {},
   "outputs": [
    {
     "data": {
      "text/plain": [
       "30748"
      ]
     },
     "execution_count": 334,
     "metadata": {},
     "output_type": "execute_result"
    }
   ],
   "source": [
    "len(x1)"
   ]
  },
  {
   "cell_type": "code",
   "execution_count": 335,
   "id": "9eaa3dc3-1141-4e5a-9ea7-4e0228c178dd",
   "metadata": {},
   "outputs": [],
   "source": [
    "data_to_manipulate = [all_data[fastn0_mask][:samples], all_data[fastn1_mask][:samples],\n",
    "                     all_data[ibd0_mask][:samples], all_data[ibd1_mask][:samples]\n",
    "                     ]"
   ]
  },
  {
   "cell_type": "code",
   "execution_count": 336,
   "id": "b7db1470-5d39-490e-b946-14608c52b3f7",
   "metadata": {},
   "outputs": [
    {
     "name": "stdout",
     "output_type": "stream",
     "text": [
      "Running set 1 of 4\n",
      "Running set 2 of 4\n",
      "Running set 3 of 4\n",
      "Running set 4 of 4\n"
     ]
    }
   ],
   "source": [
    "X, y = prep_net_data(data_to_manipulate, prompt=True, restime=True, maxlen=200)"
   ]
  },
  {
   "cell_type": "code",
   "execution_count": 235,
   "id": "1f478a92-d7af-4cb2-a397-ef0970f1129a",
   "metadata": {},
   "outputs": [],
   "source": [
    "y1 = ak.where(fastn0_mask, 0, 0)\n",
    "y1 = ak.where(fastn1_mask, 1, y1)\n",
    "y1 = ak.where(ibd0_mask, 2, y1)\n",
    "y1 = ak.where(ibd1_mask, 3, y1)"
   ]
  },
  {
   "cell_type": "code",
   "execution_count": 240,
   "id": "2104e420-c4d9-4631-9926-f34d1bc70916",
   "metadata": {},
   "outputs": [],
   "source": [
    "yy = ak.to_numpy(y1)"
   ]
  },
  {
   "cell_type": "code",
   "execution_count": 340,
   "id": "9e6894b0-7098-4dce-ad11-7c3e924d1923",
   "metadata": {},
   "outputs": [],
   "source": [
    "a = np.array(y.astype(int))\n",
    "b = np.zeros((a.size, a.max()+1), dtype='int32')\n",
    "b[np.arange(a.size),a] = 1\n",
    "y = b"
   ]
  },
  {
   "cell_type": "code",
   "execution_count": 341,
   "id": "1530936c-1378-404c-ae1c-ed7058496505",
   "metadata": {},
   "outputs": [],
   "source": [
    "X_train, X_test, y_train, y_test = train_test_split(X, y, test_size=0.25, random_state=42)"
   ]
  },
  {
   "cell_type": "code",
   "execution_count": 367,
   "id": "bbbae941-313e-479a-a42d-43f8db4c7a13",
   "metadata": {},
   "outputs": [],
   "source": [
    "regressor = Sequential()\n",
    "input_shape = X.shape[1:]\n",
    "regressor.add(InputLayer(input_shape=input_shape))\n",
    "regressor.add(LSTM(units=256, \n",
    "                   return_sequences=True, \n",
    "                   dropout=0.1,\n",
    "                  ))  \n",
    "\n",
    "regressor.add(LSTM(units=128, \n",
    "                   return_sequences=True, \n",
    "                   dropout=0.1, \n",
    "                   \n",
    "                  ))\n",
    "regressor.add(LSTM(units=64, \n",
    "                   return_sequences=False, \n",
    "                   dropout=0.1, \n",
    "                   \n",
    "                  ))\n",
    "regressor.add(Dense(32, activation='relu'))\n",
    "# regressor.add(LSTM(units=50, return_sequences=True))\n",
    "# regressor.add(Dropout(0.2))\n",
    "\n",
    "regressor.add(Dense(4, activation='softmax'))\n",
    "\n",
    "regressor.compile(loss='categorical_crossentropy', optimizer='adamax', metrics=['accuracy'])"
   ]
  },
  {
   "cell_type": "code",
   "execution_count": 368,
   "id": "dfb984bd-47bf-4c80-8123-c56983032a99",
   "metadata": {},
   "outputs": [
    {
     "name": "stdout",
     "output_type": "stream",
     "text": [
      "Model: \"sequential_14\"\n",
      "_________________________________________________________________\n",
      "Layer (type)                 Output Shape              Param #   \n",
      "=================================================================\n",
      "lstm_13 (LSTM)               (None, 200, 256)          269312    \n",
      "_________________________________________________________________\n",
      "lstm_14 (LSTM)               (None, 200, 128)          197120    \n",
      "_________________________________________________________________\n",
      "lstm_15 (LSTM)               (None, 64)                49408     \n",
      "_________________________________________________________________\n",
      "dense_34 (Dense)             (None, 32)                2080      \n",
      "_________________________________________________________________\n",
      "dense_35 (Dense)             (None, 4)                 132       \n",
      "=================================================================\n",
      "Total params: 518,052\n",
      "Trainable params: 518,052\n",
      "Non-trainable params: 0\n",
      "_________________________________________________________________\n"
     ]
    }
   ],
   "source": [
    "regressor.summary()"
   ]
  },
  {
   "cell_type": "code",
   "execution_count": 369,
   "id": "957ad4fc-f465-4936-bf1c-637173894fa6",
   "metadata": {
    "scrolled": true,
    "tags": []
   },
   "outputs": [
    {
     "name": "stdout",
     "output_type": "stream",
     "text": [
      "Epoch 1/20\n",
      "326/326 [==============================] - 311s 941ms/step - loss: 1.3789 - accuracy: 0.2665 - val_loss: 1.3648 - val_accuracy: 0.2699\n",
      "Epoch 2/20\n",
      "326/326 [==============================] - 306s 940ms/step - loss: 1.3322 - accuracy: 0.3084 - val_loss: 1.2815 - val_accuracy: 0.3747\n",
      "Epoch 3/20\n",
      "326/326 [==============================] - 305s 937ms/step - loss: 1.2838 - accuracy: 0.3661 - val_loss: 1.2805 - val_accuracy: 0.3842\n",
      "Epoch 4/20\n",
      " 10/326 [..............................] - ETA: 4:14 - loss: 1.2629 - accuracy: 0.4047"
     ]
    },
    {
     "ename": "KeyboardInterrupt",
     "evalue": "",
     "output_type": "error",
     "traceback": [
      "\u001b[0;31m---------------------------------------------------------------------------\u001b[0m",
      "\u001b[0;31mKeyboardInterrupt\u001b[0m                         Traceback (most recent call last)",
      "\u001b[0;32m<ipython-input-369-3af53df81827>\u001b[0m in \u001b[0;36m<module>\u001b[0;34m\u001b[0m\n\u001b[0;32m----> 1\u001b[0;31m history = regressor.fit(X_train, y_train, \n\u001b[0m\u001b[1;32m      2\u001b[0m           \u001b[0mvalidation_data\u001b[0m\u001b[0;34m=\u001b[0m\u001b[0;34m(\u001b[0m\u001b[0mX_test\u001b[0m\u001b[0;34m,\u001b[0m \u001b[0my_test\u001b[0m\u001b[0;34m)\u001b[0m\u001b[0;34m,\u001b[0m\u001b[0;34m\u001b[0m\u001b[0;34m\u001b[0m\u001b[0m\n\u001b[1;32m      3\u001b[0m           \u001b[0mepochs\u001b[0m\u001b[0;34m=\u001b[0m\u001b[0;36m20\u001b[0m\u001b[0;34m,\u001b[0m \u001b[0mbatch_size\u001b[0m\u001b[0;34m=\u001b[0m\u001b[0;36m64\u001b[0m\u001b[0;34m,\u001b[0m\u001b[0;34m\u001b[0m\u001b[0;34m\u001b[0m\u001b[0m\n\u001b[1;32m      4\u001b[0m          )\n",
      "\u001b[0;32m~/.local/lib/python3.8/site-packages/keras/engine/training.py\u001b[0m in \u001b[0;36mfit\u001b[0;34m(self, x, y, batch_size, epochs, verbose, callbacks, validation_split, validation_data, shuffle, class_weight, sample_weight, initial_epoch, steps_per_epoch, validation_steps, validation_batch_size, validation_freq, max_queue_size, workers, use_multiprocessing)\u001b[0m\n\u001b[1;32m   1156\u001b[0m                 _r=1):\n\u001b[1;32m   1157\u001b[0m               \u001b[0mcallbacks\u001b[0m\u001b[0;34m.\u001b[0m\u001b[0mon_train_batch_begin\u001b[0m\u001b[0;34m(\u001b[0m\u001b[0mstep\u001b[0m\u001b[0;34m)\u001b[0m\u001b[0;34m\u001b[0m\u001b[0;34m\u001b[0m\u001b[0m\n\u001b[0;32m-> 1158\u001b[0;31m               \u001b[0mtmp_logs\u001b[0m \u001b[0;34m=\u001b[0m \u001b[0mself\u001b[0m\u001b[0;34m.\u001b[0m\u001b[0mtrain_function\u001b[0m\u001b[0;34m(\u001b[0m\u001b[0miterator\u001b[0m\u001b[0;34m)\u001b[0m\u001b[0;34m\u001b[0m\u001b[0;34m\u001b[0m\u001b[0m\n\u001b[0m\u001b[1;32m   1159\u001b[0m               \u001b[0;32mif\u001b[0m \u001b[0mdata_handler\u001b[0m\u001b[0;34m.\u001b[0m\u001b[0mshould_sync\u001b[0m\u001b[0;34m:\u001b[0m\u001b[0;34m\u001b[0m\u001b[0;34m\u001b[0m\u001b[0m\n\u001b[1;32m   1160\u001b[0m                 \u001b[0mcontext\u001b[0m\u001b[0;34m.\u001b[0m\u001b[0masync_wait\u001b[0m\u001b[0;34m(\u001b[0m\u001b[0;34m)\u001b[0m\u001b[0;34m\u001b[0m\u001b[0;34m\u001b[0m\u001b[0m\n",
      "\u001b[0;32m~/.local/lib/python3.8/site-packages/tensorflow/python/eager/def_function.py\u001b[0m in \u001b[0;36m__call__\u001b[0;34m(self, *args, **kwds)\u001b[0m\n\u001b[1;32m    887\u001b[0m \u001b[0;34m\u001b[0m\u001b[0m\n\u001b[1;32m    888\u001b[0m       \u001b[0;32mwith\u001b[0m \u001b[0mOptionalXlaContext\u001b[0m\u001b[0;34m(\u001b[0m\u001b[0mself\u001b[0m\u001b[0;34m.\u001b[0m\u001b[0m_jit_compile\u001b[0m\u001b[0;34m)\u001b[0m\u001b[0;34m:\u001b[0m\u001b[0;34m\u001b[0m\u001b[0;34m\u001b[0m\u001b[0m\n\u001b[0;32m--> 889\u001b[0;31m         \u001b[0mresult\u001b[0m \u001b[0;34m=\u001b[0m \u001b[0mself\u001b[0m\u001b[0;34m.\u001b[0m\u001b[0m_call\u001b[0m\u001b[0;34m(\u001b[0m\u001b[0;34m*\u001b[0m\u001b[0margs\u001b[0m\u001b[0;34m,\u001b[0m \u001b[0;34m**\u001b[0m\u001b[0mkwds\u001b[0m\u001b[0;34m)\u001b[0m\u001b[0;34m\u001b[0m\u001b[0;34m\u001b[0m\u001b[0m\n\u001b[0m\u001b[1;32m    890\u001b[0m \u001b[0;34m\u001b[0m\u001b[0m\n\u001b[1;32m    891\u001b[0m       \u001b[0mnew_tracing_count\u001b[0m \u001b[0;34m=\u001b[0m \u001b[0mself\u001b[0m\u001b[0;34m.\u001b[0m\u001b[0mexperimental_get_tracing_count\u001b[0m\u001b[0;34m(\u001b[0m\u001b[0;34m)\u001b[0m\u001b[0;34m\u001b[0m\u001b[0;34m\u001b[0m\u001b[0m\n",
      "\u001b[0;32m~/.local/lib/python3.8/site-packages/tensorflow/python/eager/def_function.py\u001b[0m in \u001b[0;36m_call\u001b[0;34m(self, *args, **kwds)\u001b[0m\n\u001b[1;32m    915\u001b[0m       \u001b[0;31m# In this case we have created variables on the first call, so we run the\u001b[0m\u001b[0;34m\u001b[0m\u001b[0;34m\u001b[0m\u001b[0;34m\u001b[0m\u001b[0m\n\u001b[1;32m    916\u001b[0m       \u001b[0;31m# defunned version which is guaranteed to never create variables.\u001b[0m\u001b[0;34m\u001b[0m\u001b[0;34m\u001b[0m\u001b[0;34m\u001b[0m\u001b[0m\n\u001b[0;32m--> 917\u001b[0;31m       \u001b[0;32mreturn\u001b[0m \u001b[0mself\u001b[0m\u001b[0;34m.\u001b[0m\u001b[0m_stateless_fn\u001b[0m\u001b[0;34m(\u001b[0m\u001b[0;34m*\u001b[0m\u001b[0margs\u001b[0m\u001b[0;34m,\u001b[0m \u001b[0;34m**\u001b[0m\u001b[0mkwds\u001b[0m\u001b[0;34m)\u001b[0m  \u001b[0;31m# pylint: disable=not-callable\u001b[0m\u001b[0;34m\u001b[0m\u001b[0;34m\u001b[0m\u001b[0m\n\u001b[0m\u001b[1;32m    918\u001b[0m     \u001b[0;32melif\u001b[0m \u001b[0mself\u001b[0m\u001b[0;34m.\u001b[0m\u001b[0m_stateful_fn\u001b[0m \u001b[0;32mis\u001b[0m \u001b[0;32mnot\u001b[0m \u001b[0;32mNone\u001b[0m\u001b[0;34m:\u001b[0m\u001b[0;34m\u001b[0m\u001b[0;34m\u001b[0m\u001b[0m\n\u001b[1;32m    919\u001b[0m       \u001b[0;31m# Release the lock early so that multiple threads can perform the call\u001b[0m\u001b[0;34m\u001b[0m\u001b[0;34m\u001b[0m\u001b[0;34m\u001b[0m\u001b[0m\n",
      "\u001b[0;32m~/.local/lib/python3.8/site-packages/tensorflow/python/eager/function.py\u001b[0m in \u001b[0;36m__call__\u001b[0;34m(self, *args, **kwargs)\u001b[0m\n\u001b[1;32m   3021\u001b[0m       (graph_function,\n\u001b[1;32m   3022\u001b[0m        filtered_flat_args) = self._maybe_define_function(args, kwargs)\n\u001b[0;32m-> 3023\u001b[0;31m     return graph_function._call_flat(\n\u001b[0m\u001b[1;32m   3024\u001b[0m         filtered_flat_args, captured_inputs=graph_function.captured_inputs)  # pylint: disable=protected-access\n\u001b[1;32m   3025\u001b[0m \u001b[0;34m\u001b[0m\u001b[0m\n",
      "\u001b[0;32m~/.local/lib/python3.8/site-packages/tensorflow/python/eager/function.py\u001b[0m in \u001b[0;36m_call_flat\u001b[0;34m(self, args, captured_inputs, cancellation_manager)\u001b[0m\n\u001b[1;32m   1958\u001b[0m         and executing_eagerly):\n\u001b[1;32m   1959\u001b[0m       \u001b[0;31m# No tape is watching; skip to running the function.\u001b[0m\u001b[0;34m\u001b[0m\u001b[0;34m\u001b[0m\u001b[0;34m\u001b[0m\u001b[0m\n\u001b[0;32m-> 1960\u001b[0;31m       return self._build_call_outputs(self._inference_function.call(\n\u001b[0m\u001b[1;32m   1961\u001b[0m           ctx, args, cancellation_manager=cancellation_manager))\n\u001b[1;32m   1962\u001b[0m     forward_backward = self._select_forward_and_backward_functions(\n",
      "\u001b[0;32m~/.local/lib/python3.8/site-packages/tensorflow/python/eager/function.py\u001b[0m in \u001b[0;36mcall\u001b[0;34m(self, ctx, args, cancellation_manager)\u001b[0m\n\u001b[1;32m    589\u001b[0m       \u001b[0;32mwith\u001b[0m \u001b[0m_InterpolateFunctionError\u001b[0m\u001b[0;34m(\u001b[0m\u001b[0mself\u001b[0m\u001b[0;34m)\u001b[0m\u001b[0;34m:\u001b[0m\u001b[0;34m\u001b[0m\u001b[0;34m\u001b[0m\u001b[0m\n\u001b[1;32m    590\u001b[0m         \u001b[0;32mif\u001b[0m \u001b[0mcancellation_manager\u001b[0m \u001b[0;32mis\u001b[0m \u001b[0;32mNone\u001b[0m\u001b[0;34m:\u001b[0m\u001b[0;34m\u001b[0m\u001b[0;34m\u001b[0m\u001b[0m\n\u001b[0;32m--> 591\u001b[0;31m           outputs = execute.execute(\n\u001b[0m\u001b[1;32m    592\u001b[0m               \u001b[0mstr\u001b[0m\u001b[0;34m(\u001b[0m\u001b[0mself\u001b[0m\u001b[0;34m.\u001b[0m\u001b[0msignature\u001b[0m\u001b[0;34m.\u001b[0m\u001b[0mname\u001b[0m\u001b[0;34m)\u001b[0m\u001b[0;34m,\u001b[0m\u001b[0;34m\u001b[0m\u001b[0;34m\u001b[0m\u001b[0m\n\u001b[1;32m    593\u001b[0m               \u001b[0mnum_outputs\u001b[0m\u001b[0;34m=\u001b[0m\u001b[0mself\u001b[0m\u001b[0;34m.\u001b[0m\u001b[0m_num_outputs\u001b[0m\u001b[0;34m,\u001b[0m\u001b[0;34m\u001b[0m\u001b[0;34m\u001b[0m\u001b[0m\n",
      "\u001b[0;32m~/.local/lib/python3.8/site-packages/tensorflow/python/eager/execute.py\u001b[0m in \u001b[0;36mquick_execute\u001b[0;34m(op_name, num_outputs, inputs, attrs, ctx, name)\u001b[0m\n\u001b[1;32m     57\u001b[0m   \u001b[0;32mtry\u001b[0m\u001b[0;34m:\u001b[0m\u001b[0;34m\u001b[0m\u001b[0;34m\u001b[0m\u001b[0m\n\u001b[1;32m     58\u001b[0m     \u001b[0mctx\u001b[0m\u001b[0;34m.\u001b[0m\u001b[0mensure_initialized\u001b[0m\u001b[0;34m(\u001b[0m\u001b[0;34m)\u001b[0m\u001b[0;34m\u001b[0m\u001b[0;34m\u001b[0m\u001b[0m\n\u001b[0;32m---> 59\u001b[0;31m     tensors = pywrap_tfe.TFE_Py_Execute(ctx._handle, device_name, op_name,\n\u001b[0m\u001b[1;32m     60\u001b[0m                                         inputs, attrs, num_outputs)\n\u001b[1;32m     61\u001b[0m   \u001b[0;32mexcept\u001b[0m \u001b[0mcore\u001b[0m\u001b[0;34m.\u001b[0m\u001b[0m_NotOkStatusException\u001b[0m \u001b[0;32mas\u001b[0m \u001b[0me\u001b[0m\u001b[0;34m:\u001b[0m\u001b[0;34m\u001b[0m\u001b[0;34m\u001b[0m\u001b[0m\n",
      "\u001b[0;31mKeyboardInterrupt\u001b[0m: "
     ]
    }
   ],
   "source": [
    "history = regressor.fit(X_train, y_train, \n",
    "          validation_data=(X_test, y_test),\n",
    "          epochs=20, batch_size=64, \n",
    "         )"
   ]
  },
  {
   "cell_type": "code",
   "execution_count": 370,
   "id": "09b1bb08-c862-4691-a0c2-c2fdc5a63717",
   "metadata": {},
   "outputs": [],
   "source": [
    "scores = regressor.predict(X_test)\n",
    "y_pred = np.round(scores)"
   ]
  },
  {
   "cell_type": "code",
   "execution_count": 371,
   "id": "522b3731-31f5-4223-a151-f44fa38ad0fd",
   "metadata": {},
   "outputs": [],
   "source": [
    "y_pred_2 = np.argmax(scores, axis=1)\n",
    "y_test_2 = np.argmax(y_test, axis=1)"
   ]
  },
  {
   "cell_type": "code",
   "execution_count": 374,
   "id": "d78609d1-aa8b-4914-9dbb-2bb8ae95e8aa",
   "metadata": {},
   "outputs": [
    {
     "data": {
      "image/png": "[encoded data removed]",
      "text/plain": [
       "<Figure size 432x288 with 2 Axes>"
      ]
     },
     "metadata": {
      "needs_background": "light"
     },
     "output_type": "display_data"
    }
   ],
   "source": [
    "confmat = confusion_matrix(y_test_2, y_pred_2)\n",
    "ax = sns.heatmap(confmat, annot=True, fmt='g', \n",
    "#                  norm=LogNorm()\n",
    "                )\n",
    "\n",
    "ax.set_title('Confusion Matrix from IBD/fast-neutron RNN')\n",
    "ax.set_xlabel('Predicted PID')\n",
    "ax.set_ylabel('Actual PID')\n",
    "\n",
    "ax.xaxis.set_ticklabels(['fastn0', 'fastn1', 'ibd0', 'ibd1'])\n",
    "ax.yaxis.set_ticklabels(['fastn0', 'fastn1', 'ibd0', 'ibd1'])\n",
    "\n",
    "plt.show()"
   ]
  },
  {
   "cell_type": "code",
   "execution_count": 373,
   "id": "7c678ecd-25ef-4772-a8f4-c80e36b47a32",
   "metadata": {},
   "outputs": [
    {
     "data": {
      "image/png": "[encoded data removed]",
      "text/plain": [
       "<Figure size 576x360 with 1 Axes>"
      ]
     },
     "metadata": {
      "needs_background": "light"
     },
     "output_type": "display_data"
    }
   ],
   "source": [
    "cat1 = [0, 0, 0, 1, 1, 2]\n",
    "cat2 = [1, 2, 3, 2, 3, 3]\n",
    "labels = ['fastn0/fastn1', 'fastn0/ibd0', 'fastn0/ibd1', \n",
    "          'fastn1/ibd0', 'fastn1/ibd1', \n",
    "          'ibd0/ibd1', \n",
    "         ]\n",
    "\n",
    "plt.figure(figsize=(8,5))\n",
    "for i, j, label in zip(cat1, cat2, \n",
    "                        labels,\n",
    "                         ):\n",
    "    mask = [any(t) for t in zip(y_test_2==i, y_test_2==j)]\n",
    "    prob = scores[:, j][mask]\n",
    "    \n",
    "    guesses = y_test_2[mask]\n",
    "    guesses = guesses - np.min(guesses)\n",
    "    guesses = guesses/np.max(guesses)\n",
    "\n",
    "    fpr, tpr, thresholds = roc_curve(guesses, prob)\n",
    "        \n",
    "    auc = roc_auc_score(y_test_2[mask], prob)\n",
    "    plt.plot(fpr, tpr, \n",
    "         label='%s (AUC = %0.3f)'%(label, auc), \n",
    "#          color='darkorange', \n",
    "         lw=2, \n",
    "        )\n",
    "plt.xlim([-0.01, 1.0])\n",
    "plt.ylim([0, 1.05])\n",
    "plt.xlabel('False Positive Rate')\n",
    "plt.ylabel('True Positive Rate')\n",
    "plt.title('ROC: Sub-class of ibd vs fast-neutrons')\n",
    "plt.plot([0, 1], [0, 1], color='navy', lw=2, linestyle='--')\n",
    "plt.legend()\n",
    "plt.grid()\n",
    "plt.show()"
   ]
  },
  {
   "cell_type": "markdown",
   "id": "8a71dc58-cbb7-4d67-9367-8c81cc0aba49",
   "metadata": {
    "tags": []
   },
   "source": [
    "## Non-sequential Model"
   ]
  },
  {
   "cell_type": "code",
   "execution_count": 452,
   "id": "650ef3e7-4b3b-483d-abe5-fe976d6aae0d",
   "metadata": {},
   "outputs": [],
   "source": [
    "from keras.layers import Concatenate, Flatten\n",
    "from keras.models import Model\n"
   ]
  },
  {
   "cell_type": "code",
   "execution_count": 447,
   "id": "bfd8afec-969d-4123-adaa-c6fd5603f389",
   "metadata": {},
   "outputs": [],
   "source": [
    "model2 = Sequential()\n",
    "# create the model\n",
    "model2.add(InputLayer(42))\n",
    "model2.compile()"
   ]
  },
  {
   "cell_type": "code",
   "execution_count": 572,
   "id": "a64ef46f-d7d9-4e4a-8779-2b8442b3686e",
   "metadata": {},
   "outputs": [
    {
     "name": "stdout",
     "output_type": "stream",
     "text": [
      "Model: \"sequential_17\"\n",
      "_________________________________________________________________\n",
      "Layer (type)                 Output Shape              Param #   \n",
      "=================================================================\n",
      "lstm_19 (LSTM)               (None, 200, 256)          269312    \n",
      "_________________________________________________________________\n",
      "lstm_20 (LSTM)               (None, 200, 128)          197120    \n",
      "_________________________________________________________________\n",
      "lstm_21 (LSTM)               (None, 64)                49408     \n",
      "=================================================================\n",
      "Total params: 515,840\n",
      "Trainable params: 515,840\n",
      "Non-trainable params: 0\n",
      "_________________________________________________________________\n"
     ]
    }
   ],
   "source": [
    "regressor2 = Sequential()\n",
    "input_shape = X2.shape[1:]\n",
    "regressor2.add(InputLayer(input_shape=input_shape))\n",
    "regressor2.add(LSTM(units=256, \n",
    "                   return_sequences=True, \n",
    "                   dropout=0.1,\n",
    "                  ))  \n",
    "\n",
    "regressor2.add(LSTM(units=128, \n",
    "                   return_sequences=True, \n",
    "                   dropout=0.1, \n",
    "                   \n",
    "                  ))\n",
    "regressor2.add(LSTM(units=64, \n",
    "                   return_sequences=False, \n",
    "                   dropout=0.1, \n",
    "                   \n",
    "                  ))\n",
    "regressor2.summary()"
   ]
  },
  {
   "cell_type": "code",
   "execution_count": 573,
   "id": "4dcd75ef-7b22-4d7e-a777-0f4e457c0bc8",
   "metadata": {},
   "outputs": [],
   "source": [
    "mergedOut = Concatenate()([regressor2.output,model2.output])"
   ]
  },
  {
   "cell_type": "code",
   "execution_count": 579,
   "id": "f1ad9db8-d611-49e5-8a89-e31cbe13c1c4",
   "metadata": {},
   "outputs": [],
   "source": [
    "mergedOut = Flatten()(mergedOut)    \n",
    "mergedOut = Dense(128, activation='relu')(mergedOut)\n",
    "mergedOut = Dropout(.3)(mergedOut)\n",
    "mergedOut = Dense(64, activation='relu')(mergedOut)\n",
    "mergedOut = Dropout(.3)(mergedOut)\n",
    "\n",
    "# output layer\n",
    "mergedOut = Dense(3, activation='softmax')(mergedOut)\n"
   ]
  },
  {
   "cell_type": "code",
   "execution_count": 580,
   "id": "608f14b3-cfd6-48ac-a616-670d15625afa",
   "metadata": {},
   "outputs": [
    {
     "name": "stdout",
     "output_type": "stream",
     "text": [
      "Model: \"model_6\"\n",
      "__________________________________________________________________________________________________\n",
      "Layer (type)                    Output Shape         Param #     Connected to                     \n",
      "==================================================================================================\n",
      "input_18 (InputLayer)           [(None, 200, 6)]     0                                            \n",
      "__________________________________________________________________________________________________\n",
      "lstm_19 (LSTM)                  (None, 200, 256)     269312      input_18[0][0]                   \n",
      "__________________________________________________________________________________________________\n",
      "lstm_20 (LSTM)                  (None, 200, 128)     197120      lstm_19[0][0]                    \n",
      "__________________________________________________________________________________________________\n",
      "lstm_21 (LSTM)                  (None, 64)           49408       lstm_20[0][0]                    \n",
      "__________________________________________________________________________________________________\n",
      "input_16 (InputLayer)           [(None, 42)]         0                                            \n",
      "__________________________________________________________________________________________________\n",
      "concatenate_3 (Concatenate)     (None, 106)          0           lstm_21[0][0]                    \n",
      "                                                                 input_16[0][0]                   \n",
      "__________________________________________________________________________________________________\n",
      "flatten_5 (Flatten)             (None, 106)          0           concatenate_3[0][0]              \n",
      "__________________________________________________________________________________________________\n",
      "dense_42 (Dense)                (None, 128)          13696       flatten_5[0][0]                  \n",
      "__________________________________________________________________________________________________\n",
      "dropout_7 (Dropout)             (None, 128)          0           dense_42[0][0]                   \n",
      "__________________________________________________________________________________________________\n",
      "dense_43 (Dense)                (None, 64)           8256        dropout_7[0][0]                  \n",
      "__________________________________________________________________________________________________\n",
      "dropout_8 (Dropout)             (None, 64)           0           dense_43[0][0]                   \n",
      "__________________________________________________________________________________________________\n",
      "dense_44 (Dense)                (None, 4)            260         dropout_8[0][0]                  \n",
      "__________________________________________________________________________________________________\n",
      "flatten_6 (Flatten)             (None, 4)            0           dense_44[0][0]                   \n",
      "__________________________________________________________________________________________________\n",
      "dense_45 (Dense)                (None, 128)          640         flatten_6[0][0]                  \n",
      "__________________________________________________________________________________________________\n",
      "dropout_9 (Dropout)             (None, 128)          0           dense_45[0][0]                   \n",
      "__________________________________________________________________________________________________\n",
      "dense_46 (Dense)                (None, 64)           8256        dropout_9[0][0]                  \n",
      "__________________________________________________________________________________________________\n",
      "dropout_10 (Dropout)            (None, 64)           0           dense_46[0][0]                   \n",
      "__________________________________________________________________________________________________\n",
      "dense_47 (Dense)                (None, 3)            195         dropout_10[0][0]                 \n",
      "==================================================================================================\n",
      "Total params: 547,143\n",
      "Trainable params: 547,143\n",
      "Non-trainable params: 0\n",
      "__________________________________________________________________________________________________\n"
     ]
    }
   ],
   "source": [
    "newModel = Model([regressor2.input,model2.input], mergedOut)\n",
    "    #use lists if you want more than one input or output    \n",
    "newModel.summary()"
   ]
  },
  {
   "cell_type": "code",
   "execution_count": 581,
   "id": "4b68fa40-6e94-4736-8519-4c3f5e8df1e2",
   "metadata": {},
   "outputs": [],
   "source": [
    "newModel.compile(loss='categorical_crossentropy', optimizer='adam', metrics=['accuracy'])"
   ]
  },
  {
   "cell_type": "code",
   "execution_count": 501,
   "id": "8960a137-84a5-4168-b505-e8ce55babd2a",
   "metadata": {},
   "outputs": [],
   "source": [
    "all_data = ak.concatenate([ibd, fastn])"
   ]
  },
  {
   "cell_type": "code",
   "execution_count": 582,
   "id": "a78caac3-db46-43b2-a722-b91dfd09aeea",
   "metadata": {},
   "outputs": [],
   "source": [
    "samples = min([ak.count_nonzero(fn), \n",
    "#               ak.count_nonzero(fastn1_mask), \n",
    "              ak.count_nonzero(ibd0_mask), \n",
    "              ak.count_nonzero(ibd1_mask)])"
   ]
  },
  {
   "cell_type": "code",
   "execution_count": 578,
   "id": "297f3a22-a172-4402-9965-c5fea7b73d9e",
   "metadata": {},
   "outputs": [],
   "source": [
    "fn = all_data['code']==2\n",
    "invbeta = all_data['code']==1\n",
    "id0 = all_data['subid']==0\n",
    "id1p = all_data['subid']>0 # >0 changes things "
   ]
  },
  {
   "cell_type": "code",
   "execution_count": 382,
   "id": "6719d299-a3d4-4aed-82c5-d0ff3f61376d",
   "metadata": {},
   "outputs": [],
   "source": [
    "ibd0_mask = ak.from_iter([all(t) for t in zip(invbeta, id0)])\n",
    "ibd1_mask = ak.from_iter([all(t) for t in zip(invbeta, id1p)])\n",
    "fastn0_mask = ak.from_iter([all(t) for t in zip(fn, id0)])\n",
    "fastn1_mask = ak.from_iter([all(t) for t in zip(fn, id1p)])"
   ]
  },
  {
   "cell_type": "code",
   "execution_count": 583,
   "id": "50cf1af1-52fd-4cc1-ac9b-e1b50d8b8c1c",
   "metadata": {},
   "outputs": [],
   "source": [
    "x1 = all_data[fn][:samples]\n",
    "# x1 = ak.concatenate((x1, all_data[fastn1_mask][:samples]), axis=0)\n",
    "x1 = ak.concatenate((x1, all_data[ibd0_mask][:samples]), axis=0)\n",
    "x1 = ak.concatenate((x1, all_data[ibd1_mask][:samples]), axis=0)"
   ]
  },
  {
   "cell_type": "code",
   "execution_count": 584,
   "id": "8f8b914b-4746-4be0-8f15-46f3e5f48083",
   "metadata": {},
   "outputs": [],
   "source": [
    "y1 = np.zeros(3*samples)\n",
    "y1[samples:2*samples] = 1\n",
    "y1[2*samples:3*samples] = 2\n",
    "# y1[3*samples:] = 2"
   ]
  },
  {
   "cell_type": "code",
   "execution_count": 383,
   "id": "3ebe6c1d-5035-4620-a873-c208e1e37fd9",
   "metadata": {
    "tags": []
   },
   "outputs": [],
   "source": [
    "samples = min([ak.count_nonzero(fastn0_mask), \n",
    "              ak.count_nonzero(fastn1_mask), \n",
    "              ak.count_nonzero(ibd0_mask), \n",
    "              ak.count_nonzero(ibd1_mask)])"
   ]
  },
  {
   "cell_type": "code",
   "execution_count": 465,
   "id": "ce84bf16-ab15-4b5c-90a1-4b59dce2ff42",
   "metadata": {
    "tags": []
   },
   "outputs": [],
   "source": [
    "x1 = all_data[fastn0_mask][:samples]\n",
    "x1 = ak.concatenate((x1, all_data[fastn1_mask][:samples]), axis=0)\n",
    "x1 = ak.concatenate((x1, all_data[ibd0_mask][:samples]), axis=0)\n",
    "x1 = ak.concatenate((x1, all_data[ibd1_mask][:samples]), axis=0)"
   ]
  },
  {
   "cell_type": "code",
   "execution_count": 419,
   "id": "35b63585-cac3-48c8-9bec-a5822351a04f",
   "metadata": {
    "tags": []
   },
   "outputs": [],
   "source": [
    "y1 = np.zeros(4*samples)\n",
    "y1[samples:2*samples] = 1\n",
    "y1[2*samples:3*samples] = 2\n",
    "y1[3*samples:] = 3"
   ]
  },
  {
   "cell_type": "code",
   "execution_count": null,
   "id": "bc0c48f0-6744-47bf-b319-cb547c8c76eb",
   "metadata": {},
   "outputs": [],
   "source": []
  },
  {
   "cell_type": "code",
   "execution_count": 585,
   "id": "a8ca23f9-c10d-4973-89ad-34007fd073c1",
   "metadata": {},
   "outputs": [
    {
     "name": "stdout",
     "output_type": "stream",
     "text": [
      "Remaining variables selected for analysis: 42\n"
     ]
    }
   ],
   "source": [
    "# eplus = get_dims(positrons, dimensions=dimensions)[:samples]\n",
    "X1 = get_dims(x1, dimensions=dimensions)\n",
    "X1 = ak.to_pandas(X1)"
   ]
  },
  {
   "cell_type": "code",
   "execution_count": 586,
   "id": "ab57e417-f7e9-453d-8c8d-a864fce148ca",
   "metadata": {},
   "outputs": [],
   "source": [
    "data_to_manipulate = [x1\n",
    "                     ]"
   ]
  },
  {
   "cell_type": "code",
   "execution_count": 587,
   "id": "7869694f-52ad-416b-806f-59429e18bff1",
   "metadata": {},
   "outputs": [
    {
     "name": "stdout",
     "output_type": "stream",
     "text": [
      "Running set 1 of 1\n"
     ]
    }
   ],
   "source": [
    "X2, y2 = prep_net_data(data_to_manipulate, prompt=True, restime=True, maxlen=200)"
   ]
  },
  {
   "cell_type": "code",
   "execution_count": 588,
   "id": "b9d647cc-01c5-4bdb-a07c-05c1c1364a26",
   "metadata": {},
   "outputs": [],
   "source": [
    "y = ak.to_numpy(y1)\n",
    "a = np.array(y.astype(int))\n",
    "b = np.zeros((a.size, a.max()+1), dtype='int32')\n",
    "b[np.arange(a.size),a] = 1\n",
    "y = b"
   ]
  },
  {
   "cell_type": "code",
   "execution_count": 589,
   "id": "dffbc010-c785-4b1d-bc6f-078aa9210730",
   "metadata": {},
   "outputs": [],
   "source": [
    "# Split dataset into training set and test set\n",
    "X_train1, X_test1, X_train2, X_test2, y_train, y_test = train_test_split(X1, X2, y, test_size=0.25, random_state=43) "
   ]
  },
  {
   "cell_type": "code",
   "execution_count": 590,
   "id": "14435967-e413-4dc2-b6fb-8a590c7e43c6",
   "metadata": {},
   "outputs": [],
   "source": [
    "sc = StandardScaler()\n",
    "X_train1 = sc.fit_transform(X_train1)\n",
    "X_test1 = sc.transform(X_test1)"
   ]
  },
  {
   "cell_type": "markdown",
   "id": "78f609dc-b081-469e-ad37-0bd22fcfffbc",
   "metadata": {},
   "source": [
    "Typically seems to go down then slowly back up.. maybe training on the dense part too fast and propagating all errors there? give it more time maybe? "
   ]
  },
  {
   "cell_type": "code",
   "execution_count": 591,
   "id": "7cc44b87-dcc2-4ccb-9643-5796c2a623b2",
   "metadata": {
    "scrolled": true,
    "tags": []
   },
   "outputs": [
    {
     "name": "stdout",
     "output_type": "stream",
     "text": [
      "Epoch 1/20\n",
      "  8/606 [..............................] - ETA: 7:51 - loss: 1.1007 - accuracy: 0.3289"
     ]
    },
    {
     "ename": "KeyboardInterrupt",
     "evalue": "",
     "output_type": "error",
     "traceback": [
      "\u001b[0;31m---------------------------------------------------------------------------\u001b[0m",
      "\u001b[0;31mKeyboardInterrupt\u001b[0m                         Traceback (most recent call last)",
      "\u001b[0;32m<ipython-input-591-5e844d2d9252>\u001b[0m in \u001b[0;36m<module>\u001b[0;34m\u001b[0m\n\u001b[0;32m----> 1\u001b[0;31m history2 = newModel.fit([X_train2, X_train1], y_train,\n\u001b[0m\u001b[1;32m      2\u001b[0m           \u001b[0mvalidation_data\u001b[0m\u001b[0;34m=\u001b[0m\u001b[0;34m(\u001b[0m\u001b[0;34m[\u001b[0m\u001b[0mX_test2\u001b[0m\u001b[0;34m,\u001b[0m \u001b[0mX_test1\u001b[0m\u001b[0;34m]\u001b[0m\u001b[0;34m,\u001b[0m \u001b[0my_test\u001b[0m\u001b[0;34m)\u001b[0m\u001b[0;34m,\u001b[0m\u001b[0;34m\u001b[0m\u001b[0;34m\u001b[0m\u001b[0m\n\u001b[1;32m      3\u001b[0m           \u001b[0mepochs\u001b[0m\u001b[0;34m=\u001b[0m\u001b[0;36m20\u001b[0m\u001b[0;34m,\u001b[0m \u001b[0mbatch_size\u001b[0m\u001b[0;34m=\u001b[0m\u001b[0;36m64\u001b[0m\u001b[0;34m,\u001b[0m\u001b[0;34m\u001b[0m\u001b[0;34m\u001b[0m\u001b[0m\n\u001b[1;32m      4\u001b[0m          )\n",
      "\u001b[0;32m~/.local/lib/python3.8/site-packages/keras/engine/training.py\u001b[0m in \u001b[0;36mfit\u001b[0;34m(self, x, y, batch_size, epochs, verbose, callbacks, validation_split, validation_data, shuffle, class_weight, sample_weight, initial_epoch, steps_per_epoch, validation_steps, validation_batch_size, validation_freq, max_queue_size, workers, use_multiprocessing)\u001b[0m\n\u001b[1;32m   1156\u001b[0m                 _r=1):\n\u001b[1;32m   1157\u001b[0m               \u001b[0mcallbacks\u001b[0m\u001b[0;34m.\u001b[0m\u001b[0mon_train_batch_begin\u001b[0m\u001b[0;34m(\u001b[0m\u001b[0mstep\u001b[0m\u001b[0;34m)\u001b[0m\u001b[0;34m\u001b[0m\u001b[0;34m\u001b[0m\u001b[0m\n\u001b[0;32m-> 1158\u001b[0;31m               \u001b[0mtmp_logs\u001b[0m \u001b[0;34m=\u001b[0m \u001b[0mself\u001b[0m\u001b[0;34m.\u001b[0m\u001b[0mtrain_function\u001b[0m\u001b[0;34m(\u001b[0m\u001b[0miterator\u001b[0m\u001b[0;34m)\u001b[0m\u001b[0;34m\u001b[0m\u001b[0;34m\u001b[0m\u001b[0m\n\u001b[0m\u001b[1;32m   1159\u001b[0m               \u001b[0;32mif\u001b[0m \u001b[0mdata_handler\u001b[0m\u001b[0;34m.\u001b[0m\u001b[0mshould_sync\u001b[0m\u001b[0;34m:\u001b[0m\u001b[0;34m\u001b[0m\u001b[0;34m\u001b[0m\u001b[0m\n\u001b[1;32m   1160\u001b[0m                 \u001b[0mcontext\u001b[0m\u001b[0;34m.\u001b[0m\u001b[0masync_wait\u001b[0m\u001b[0;34m(\u001b[0m\u001b[0;34m)\u001b[0m\u001b[0;34m\u001b[0m\u001b[0;34m\u001b[0m\u001b[0m\n",
      "\u001b[0;32m~/.local/lib/python3.8/site-packages/tensorflow/python/eager/def_function.py\u001b[0m in \u001b[0;36m__call__\u001b[0;34m(self, *args, **kwds)\u001b[0m\n\u001b[1;32m    887\u001b[0m \u001b[0;34m\u001b[0m\u001b[0m\n\u001b[1;32m    888\u001b[0m       \u001b[0;32mwith\u001b[0m \u001b[0mOptionalXlaContext\u001b[0m\u001b[0;34m(\u001b[0m\u001b[0mself\u001b[0m\u001b[0;34m.\u001b[0m\u001b[0m_jit_compile\u001b[0m\u001b[0;34m)\u001b[0m\u001b[0;34m:\u001b[0m\u001b[0;34m\u001b[0m\u001b[0;34m\u001b[0m\u001b[0m\n\u001b[0;32m--> 889\u001b[0;31m         \u001b[0mresult\u001b[0m \u001b[0;34m=\u001b[0m \u001b[0mself\u001b[0m\u001b[0;34m.\u001b[0m\u001b[0m_call\u001b[0m\u001b[0;34m(\u001b[0m\u001b[0;34m*\u001b[0m\u001b[0margs\u001b[0m\u001b[0;34m,\u001b[0m \u001b[0;34m**\u001b[0m\u001b[0mkwds\u001b[0m\u001b[0;34m)\u001b[0m\u001b[0;34m\u001b[0m\u001b[0;34m\u001b[0m\u001b[0m\n\u001b[0m\u001b[1;32m    890\u001b[0m \u001b[0;34m\u001b[0m\u001b[0m\n\u001b[1;32m    891\u001b[0m       \u001b[0mnew_tracing_count\u001b[0m \u001b[0;34m=\u001b[0m \u001b[0mself\u001b[0m\u001b[0;34m.\u001b[0m\u001b[0mexperimental_get_tracing_count\u001b[0m\u001b[0;34m(\u001b[0m\u001b[0;34m)\u001b[0m\u001b[0;34m\u001b[0m\u001b[0;34m\u001b[0m\u001b[0m\n",
      "\u001b[0;32m~/.local/lib/python3.8/site-packages/tensorflow/python/eager/def_function.py\u001b[0m in \u001b[0;36m_call\u001b[0;34m(self, *args, **kwds)\u001b[0m\n\u001b[1;32m    915\u001b[0m       \u001b[0;31m# In this case we have created variables on the first call, so we run the\u001b[0m\u001b[0;34m\u001b[0m\u001b[0;34m\u001b[0m\u001b[0;34m\u001b[0m\u001b[0m\n\u001b[1;32m    916\u001b[0m       \u001b[0;31m# defunned version which is guaranteed to never create variables.\u001b[0m\u001b[0;34m\u001b[0m\u001b[0;34m\u001b[0m\u001b[0;34m\u001b[0m\u001b[0m\n\u001b[0;32m--> 917\u001b[0;31m       \u001b[0;32mreturn\u001b[0m \u001b[0mself\u001b[0m\u001b[0;34m.\u001b[0m\u001b[0m_stateless_fn\u001b[0m\u001b[0;34m(\u001b[0m\u001b[0;34m*\u001b[0m\u001b[0margs\u001b[0m\u001b[0;34m,\u001b[0m \u001b[0;34m**\u001b[0m\u001b[0mkwds\u001b[0m\u001b[0;34m)\u001b[0m  \u001b[0;31m# pylint: disable=not-callable\u001b[0m\u001b[0;34m\u001b[0m\u001b[0;34m\u001b[0m\u001b[0m\n\u001b[0m\u001b[1;32m    918\u001b[0m     \u001b[0;32melif\u001b[0m \u001b[0mself\u001b[0m\u001b[0;34m.\u001b[0m\u001b[0m_stateful_fn\u001b[0m \u001b[0;32mis\u001b[0m \u001b[0;32mnot\u001b[0m \u001b[0;32mNone\u001b[0m\u001b[0;34m:\u001b[0m\u001b[0;34m\u001b[0m\u001b[0;34m\u001b[0m\u001b[0m\n\u001b[1;32m    919\u001b[0m       \u001b[0;31m# Release the lock early so that multiple threads can perform the call\u001b[0m\u001b[0;34m\u001b[0m\u001b[0;34m\u001b[0m\u001b[0;34m\u001b[0m\u001b[0m\n",
      "\u001b[0;32m~/.local/lib/python3.8/site-packages/tensorflow/python/eager/function.py\u001b[0m in \u001b[0;36m__call__\u001b[0;34m(self, *args, **kwargs)\u001b[0m\n\u001b[1;32m   3021\u001b[0m       (graph_function,\n\u001b[1;32m   3022\u001b[0m        filtered_flat_args) = self._maybe_define_function(args, kwargs)\n\u001b[0;32m-> 3023\u001b[0;31m     return graph_function._call_flat(\n\u001b[0m\u001b[1;32m   3024\u001b[0m         filtered_flat_args, captured_inputs=graph_function.captured_inputs)  # pylint: disable=protected-access\n\u001b[1;32m   3025\u001b[0m \u001b[0;34m\u001b[0m\u001b[0m\n",
      "\u001b[0;32m~/.local/lib/python3.8/site-packages/tensorflow/python/eager/function.py\u001b[0m in \u001b[0;36m_call_flat\u001b[0;34m(self, args, captured_inputs, cancellation_manager)\u001b[0m\n\u001b[1;32m   1958\u001b[0m         and executing_eagerly):\n\u001b[1;32m   1959\u001b[0m       \u001b[0;31m# No tape is watching; skip to running the function.\u001b[0m\u001b[0;34m\u001b[0m\u001b[0;34m\u001b[0m\u001b[0;34m\u001b[0m\u001b[0m\n\u001b[0;32m-> 1960\u001b[0;31m       return self._build_call_outputs(self._inference_function.call(\n\u001b[0m\u001b[1;32m   1961\u001b[0m           ctx, args, cancellation_manager=cancellation_manager))\n\u001b[1;32m   1962\u001b[0m     forward_backward = self._select_forward_and_backward_functions(\n",
      "\u001b[0;32m~/.local/lib/python3.8/site-packages/tensorflow/python/eager/function.py\u001b[0m in \u001b[0;36mcall\u001b[0;34m(self, ctx, args, cancellation_manager)\u001b[0m\n\u001b[1;32m    589\u001b[0m       \u001b[0;32mwith\u001b[0m \u001b[0m_InterpolateFunctionError\u001b[0m\u001b[0;34m(\u001b[0m\u001b[0mself\u001b[0m\u001b[0;34m)\u001b[0m\u001b[0;34m:\u001b[0m\u001b[0;34m\u001b[0m\u001b[0;34m\u001b[0m\u001b[0m\n\u001b[1;32m    590\u001b[0m         \u001b[0;32mif\u001b[0m \u001b[0mcancellation_manager\u001b[0m \u001b[0;32mis\u001b[0m \u001b[0;32mNone\u001b[0m\u001b[0;34m:\u001b[0m\u001b[0;34m\u001b[0m\u001b[0;34m\u001b[0m\u001b[0m\n\u001b[0;32m--> 591\u001b[0;31m           outputs = execute.execute(\n\u001b[0m\u001b[1;32m    592\u001b[0m               \u001b[0mstr\u001b[0m\u001b[0;34m(\u001b[0m\u001b[0mself\u001b[0m\u001b[0;34m.\u001b[0m\u001b[0msignature\u001b[0m\u001b[0;34m.\u001b[0m\u001b[0mname\u001b[0m\u001b[0;34m)\u001b[0m\u001b[0;34m,\u001b[0m\u001b[0;34m\u001b[0m\u001b[0;34m\u001b[0m\u001b[0m\n\u001b[1;32m    593\u001b[0m               \u001b[0mnum_outputs\u001b[0m\u001b[0;34m=\u001b[0m\u001b[0mself\u001b[0m\u001b[0;34m.\u001b[0m\u001b[0m_num_outputs\u001b[0m\u001b[0;34m,\u001b[0m\u001b[0;34m\u001b[0m\u001b[0;34m\u001b[0m\u001b[0m\n",
      "\u001b[0;32m~/.local/lib/python3.8/site-packages/tensorflow/python/eager/execute.py\u001b[0m in \u001b[0;36mquick_execute\u001b[0;34m(op_name, num_outputs, inputs, attrs, ctx, name)\u001b[0m\n\u001b[1;32m     57\u001b[0m   \u001b[0;32mtry\u001b[0m\u001b[0;34m:\u001b[0m\u001b[0;34m\u001b[0m\u001b[0;34m\u001b[0m\u001b[0m\n\u001b[1;32m     58\u001b[0m     \u001b[0mctx\u001b[0m\u001b[0;34m.\u001b[0m\u001b[0mensure_initialized\u001b[0m\u001b[0;34m(\u001b[0m\u001b[0;34m)\u001b[0m\u001b[0;34m\u001b[0m\u001b[0;34m\u001b[0m\u001b[0m\n\u001b[0;32m---> 59\u001b[0;31m     tensors = pywrap_tfe.TFE_Py_Execute(ctx._handle, device_name, op_name,\n\u001b[0m\u001b[1;32m     60\u001b[0m                                         inputs, attrs, num_outputs)\n\u001b[1;32m     61\u001b[0m   \u001b[0;32mexcept\u001b[0m \u001b[0mcore\u001b[0m\u001b[0;34m.\u001b[0m\u001b[0m_NotOkStatusException\u001b[0m \u001b[0;32mas\u001b[0m \u001b[0me\u001b[0m\u001b[0;34m:\u001b[0m\u001b[0;34m\u001b[0m\u001b[0;34m\u001b[0m\u001b[0m\n",
      "\u001b[0;31mKeyboardInterrupt\u001b[0m: "
     ]
    }
   ],
   "source": [
    "history2 = newModel.fit([X_train2, X_train1], y_train,\n",
    "          validation_data=([X_test2, X_test1], y_test),\n",
    "          epochs=20, batch_size=64, \n",
    "         )"
   ]
  },
  {
   "cell_type": "code",
   "execution_count": null,
   "id": "c16addbb-f668-49bd-a5f2-ec3aec4cb60e",
   "metadata": {},
   "outputs": [],
   "source": []
  },
  {
   "cell_type": "markdown",
   "id": "58b6acb8",
   "metadata": {
    "tags": []
   },
   "source": [
    "## Multiple Regressor"
   ]
  },
  {
   "cell_type": "code",
   "execution_count": 156,
   "id": "a25fa85e",
   "metadata": {},
   "outputs": [],
   "source": [
    "samples = np.min([len(fastn), len(ibd)])\n",
    "data_to_manipulate = [fastn[:samples], ibd[:samples]]"
   ]
  },
  {
   "cell_type": "code",
   "execution_count": 157,
   "id": "03a49f9c",
   "metadata": {},
   "outputs": [],
   "source": [
    "vector_length=200"
   ]
  },
  {
   "cell_type": "code",
   "execution_count": 158,
   "id": "645015be",
   "metadata": {},
   "outputs": [
    {
     "name": "stdout",
     "output_type": "stream",
     "text": [
      "Running set 1 of 2\n"
     ]
    },
    {
     "ename": "ValueError",
     "evalue": "could not broadcast input array from shape (25469,200,3) into shape (25469,200,2)",
     "output_type": "error",
     "traceback": [
      "\u001b[0;31m---------------------------------------------------------------------------\u001b[0m",
      "\u001b[0;31mValueError\u001b[0m                                Traceback (most recent call last)",
      "\u001b[0;32m<ipython-input-158-b587fad52909>\u001b[0m in \u001b[0;36m<module>\u001b[0;34m\u001b[0m\n\u001b[0;32m----> 1\u001b[0;31m X, y = prep_net_data(data_to_manipulate, \n\u001b[0m\u001b[1;32m      2\u001b[0m                      prompt=True, restime=True, maxlen=vector_length)\n",
      "\u001b[0;32m<ipython-input-155-448d594941fb>\u001b[0m in \u001b[0;36mprep_net_data\u001b[0;34m(data_to_manipulate, prompt, restime, maxlen)\u001b[0m\n\u001b[1;32m     31\u001b[0m         \u001b[0mnew\u001b[0m\u001b[0;34m[\u001b[0m\u001b[0;34m:\u001b[0m\u001b[0;34m,\u001b[0m\u001b[0;34m:\u001b[0m\u001b[0;34m,\u001b[0m\u001b[0;36m0\u001b[0m\u001b[0;34m]\u001b[0m \u001b[0;34m=\u001b[0m \u001b[0mchrg\u001b[0m\u001b[0;34m\u001b[0m\u001b[0;34m\u001b[0m\u001b[0m\n\u001b[1;32m     32\u001b[0m         \u001b[0mnew\u001b[0m\u001b[0;34m[\u001b[0m\u001b[0;34m:\u001b[0m\u001b[0;34m,\u001b[0m\u001b[0;34m:\u001b[0m\u001b[0;34m,\u001b[0m\u001b[0;36m1\u001b[0m\u001b[0;34m]\u001b[0m \u001b[0;34m=\u001b[0m \u001b[0mtime\u001b[0m\u001b[0;34m\u001b[0m\u001b[0;34m\u001b[0m\u001b[0m\n\u001b[0;32m---> 33\u001b[0;31m         \u001b[0mnew\u001b[0m\u001b[0;34m[\u001b[0m\u001b[0;34m:\u001b[0m\u001b[0;34m,\u001b[0m\u001b[0;34m:\u001b[0m\u001b[0;34m,\u001b[0m\u001b[0;36m2\u001b[0m\u001b[0;34m:\u001b[0m\u001b[0;36m5\u001b[0m\u001b[0;34m]\u001b[0m \u001b[0;34m=\u001b[0m \u001b[0mxyz\u001b[0m\u001b[0;34m+\u001b[0m\u001b[0;36m1\u001b[0m\u001b[0;34m\u001b[0m\u001b[0;34m\u001b[0m\u001b[0m\n\u001b[0m\u001b[1;32m     34\u001b[0m \u001b[0;34m\u001b[0m\u001b[0m\n\u001b[1;32m     35\u001b[0m         \u001b[0;32mif\u001b[0m \u001b[0mrestime\u001b[0m\u001b[0;34m==\u001b[0m\u001b[0;32mTrue\u001b[0m\u001b[0;34m:\u001b[0m\u001b[0;34m\u001b[0m\u001b[0;34m\u001b[0m\u001b[0m\n",
      "\u001b[0;31mValueError\u001b[0m: could not broadcast input array from shape (25469,200,3) into shape (25469,200,2)"
     ]
    }
   ],
   "source": [
    "X, y = prep_net_data(data_to_manipulate, \n",
    "                     prompt=True, restime=True, maxlen=vector_length)"
   ]
  },
  {
   "cell_type": "code",
   "execution_count": 704,
   "id": "178d8dc9",
   "metadata": {},
   "outputs": [],
   "source": [
    "X_train, X_test, y_train, y_test = train_test_split(X, y, test_size=0.25, random_state=43)"
   ]
  },
  {
   "cell_type": "code",
   "execution_count": 737,
   "id": "db9c28c5",
   "metadata": {},
   "outputs": [],
   "source": [
    "regressor = Sequential()\n",
    "\n",
    "regressor.add(InputLayer(input_shape=(vector_length,5)))\n",
    "regressor.add(LSTM(units=256, \n",
    "                   return_sequences=True, \n",
    "                   dropout=0.1,\n",
    "                  ))  \n",
    "\n",
    "regressor.add(LSTM(units=128, \n",
    "                   return_sequences=True, \n",
    "                   dropout=0.1, \n",
    "                   \n",
    "                  ))\n",
    "\n",
    "regressor.add(LSTM(units=64, \n",
    "                   return_sequences=True, \n",
    "                  dropout=0.0, \n",
    "                  ))\n",
    "\n",
    "regressor.add(LSTM(units=32, \n",
    "                   return_sequences=False, \n",
    "                  dropout=0.0, \n",
    "                  ))\n",
    "\n",
    "# regressor.add(Dense(128, \n",
    "#                     activation='relu', \n",
    "#                    ))\n",
    "\n",
    "# regressor.add(Dropout(0.2))\n",
    "\n",
    "regressor.add(Dense(32, \n",
    "                   activation='relu', \n",
    "                   ))\n",
    "\n",
    "regressor.add(Dense(1, activation='sigmoid'))\n",
    "\n",
    "regressor.compile(loss='binary_crossentropy', optimizer='adam', metrics=['accuracy'])"
   ]
  },
  {
   "cell_type": "code",
   "execution_count": 738,
   "id": "91ac9494",
   "metadata": {},
   "outputs": [
    {
     "name": "stdout",
     "output_type": "stream",
     "text": [
      "Model: \"sequential_40\"\n",
      "_________________________________________________________________\n",
      "Layer (type)                 Output Shape              Param #   \n",
      "=================================================================\n",
      "lstm_95 (LSTM)               (None, 150, 256)          268288    \n",
      "_________________________________________________________________\n",
      "lstm_96 (LSTM)               (None, 150, 128)          197120    \n",
      "_________________________________________________________________\n",
      "lstm_97 (LSTM)               (None, 150, 64)           49408     \n",
      "_________________________________________________________________\n",
      "lstm_98 (LSTM)               (None, 32)                12416     \n",
      "_________________________________________________________________\n",
      "dense_41 (Dense)             (None, 32)                1056      \n",
      "_________________________________________________________________\n",
      "dense_42 (Dense)             (None, 1)                 33        \n",
      "=================================================================\n",
      "Total params: 528,321\n",
      "Trainable params: 528,321\n",
      "Non-trainable params: 0\n",
      "_________________________________________________________________\n"
     ]
    }
   ],
   "source": [
    "regressor.summary()"
   ]
  },
  {
   "cell_type": "code",
   "execution_count": 744,
   "id": "6d79af43",
   "metadata": {
    "scrolled": true
   },
   "outputs": [
    {
     "name": "stdout",
     "output_type": "stream",
     "text": [
      "Epoch 1/20\n",
      "503/503 [==============================] - 376s 748ms/step - loss: 0.4782 - accuracy: 0.7642 - val_loss: 0.4950 - val_accuracy: 0.7527\n",
      "Epoch 2/20\n",
      "503/503 [==============================] - 375s 745ms/step - loss: 0.4734 - accuracy: 0.7672 - val_loss: 0.4929 - val_accuracy: 0.7552\n",
      "Epoch 3/20\n",
      "503/503 [==============================] - 376s 748ms/step - loss: 0.4721 - accuracy: 0.7694 - val_loss: 0.4923 - val_accuracy: 0.7549\n",
      "Epoch 4/20\n",
      "503/503 [==============================] - 376s 747ms/step - loss: 0.4692 - accuracy: 0.7720 - val_loss: 0.4954 - val_accuracy: 0.7562\n",
      "Epoch 5/20\n",
      "503/503 [==============================] - 375s 745ms/step - loss: 0.4675 - accuracy: 0.7733 - val_loss: 0.5102 - val_accuracy: 0.7572\n",
      "Epoch 6/20\n",
      "503/503 [==============================] - 376s 748ms/step - loss: 0.4649 - accuracy: 0.7745 - val_loss: 0.4942 - val_accuracy: 0.7567\n",
      "Epoch 7/20\n",
      "503/503 [==============================] - 376s 747ms/step - loss: 0.4607 - accuracy: 0.7776 - val_loss: 0.4958 - val_accuracy: 0.7594\n",
      "Epoch 8/20\n",
      "503/503 [==============================] - 375s 746ms/step - loss: 0.4590 - accuracy: 0.7764 - val_loss: 0.4932 - val_accuracy: 0.7555\n",
      "Epoch 9/20\n",
      "503/503 [==============================] - 375s 746ms/step - loss: 0.4666 - accuracy: 0.7765 - val_loss: 0.4925 - val_accuracy: 0.7552\n",
      "Epoch 10/20\n",
      "503/503 [==============================] - 375s 745ms/step - loss: 0.4635 - accuracy: 0.7768 - val_loss: 0.4914 - val_accuracy: 0.7543\n",
      "Epoch 11/20\n",
      "503/503 [==============================] - 374s 744ms/step - loss: 0.4573 - accuracy: 0.7791 - val_loss: 0.4906 - val_accuracy: 0.7611\n",
      "Epoch 12/20\n",
      "503/503 [==============================] - 374s 744ms/step - loss: 0.4526 - accuracy: 0.7819 - val_loss: 0.4912 - val_accuracy: 0.7568\n",
      "Epoch 13/20\n",
      "503/503 [==============================] - 375s 746ms/step - loss: 0.4508 - accuracy: 0.7856 - val_loss: 0.4962 - val_accuracy: 0.7597\n",
      "Epoch 14/20\n",
      "503/503 [==============================] - 377s 750ms/step - loss: 0.4461 - accuracy: 0.7865 - val_loss: 0.4980 - val_accuracy: 0.7532\n",
      "Epoch 15/20\n",
      "503/503 [==============================] - 377s 749ms/step - loss: 0.4442 - accuracy: 0.7864 - val_loss: 0.5004 - val_accuracy: 0.7553\n",
      "Epoch 16/20\n",
      "503/503 [==============================] - 374s 744ms/step - loss: 0.4463 - accuracy: 0.7877 - val_loss: 0.4984 - val_accuracy: 0.7571\n",
      "Epoch 17/20\n",
      "503/503 [==============================] - 375s 746ms/step - loss: 0.4400 - accuracy: 0.7904 - val_loss: 0.5015 - val_accuracy: 0.7499\n",
      "Epoch 18/20\n",
      "503/503 [==============================] - 375s 746ms/step - loss: 0.4399 - accuracy: 0.7919 - val_loss: 0.5001 - val_accuracy: 0.7590\n",
      "Epoch 19/20\n",
      "503/503 [==============================] - 375s 745ms/step - loss: 0.4330 - accuracy: 0.7966 - val_loss: 0.4988 - val_accuracy: 0.7571\n",
      "Epoch 20/20\n",
      "503/503 [==============================] - 374s 744ms/step - loss: 0.4692 - accuracy: 0.7788 - val_loss: 0.4970 - val_accuracy: 0.7569\n"
     ]
    }
   ],
   "source": [
    "history = regressor.fit(X_train, y_train, \n",
    "          validation_data=(X_test, y_test),\n",
    "          epochs=20, batch_size=64, \n",
    "         )"
   ]
  },
  {
   "cell_type": "code",
   "execution_count": 745,
   "id": "692374ab",
   "metadata": {},
   "outputs": [],
   "source": [
    "scores = regressor.predict(X_test)\n",
    "y_pred = np.round(scores)"
   ]
  },
  {
   "cell_type": "code",
   "execution_count": 746,
   "id": "8d3eec72",
   "metadata": {},
   "outputs": [
    {
     "data": {
      "image/png": "[encoded data removed]",
      "text/plain": [
       "<Figure size 432x288 with 2 Axes>"
      ]
     },
     "metadata": {
      "needs_background": "light"
     },
     "output_type": "display_data"
    }
   ],
   "source": [
    "confmat = confusion_matrix(y_test, y_pred)\n",
    "ax = sns.heatmap(confmat, annot=True, fmt='g', \n",
    "#                  norm=LogNorm()\n",
    "                )\n",
    "\n",
    "ax.set_title('Confusion Matrix from RF: e+ vs. Neutrons')\n",
    "ax.set_xlabel('Predicted PID')\n",
    "ax.set_ylabel('Actual PID')\n",
    "\n",
    "ax.xaxis.set_ticklabels(['neutrons', 'e+'])\n",
    "ax.yaxis.set_ticklabels(['neutrons', 'e+'])\n",
    "\n",
    "plt.show()"
   ]
  },
  {
   "cell_type": "code",
   "execution_count": 747,
   "id": "523cb67c",
   "metadata": {},
   "outputs": [],
   "source": [
    "fpr, tpr, thresholds = roc_curve(y_test, scores)\n",
    "auc = roc_auc_score(y_test, scores)"
   ]
  },
  {
   "cell_type": "code",
   "execution_count": 748,
   "id": "c643e719",
   "metadata": {},
   "outputs": [
    {
     "data": {
      "image/png": "[encoded data removed]",
      "text/plain": [
       "<Figure size 432x288 with 1 Axes>"
      ]
     },
     "metadata": {
      "needs_background": "light"
     },
     "output_type": "display_data"
    }
   ],
   "source": [
    "plt.plot(fpr, tpr, \n",
    "         label='ROC curve (area = %0.3f)'%(auc), \n",
    "         color='darkorange', \n",
    "         lw=2.3, \n",
    "        )\n",
    "plt.xlim([-0.01, 1.0])\n",
    "plt.ylim([0, 1.05])\n",
    "plt.xlabel('False Positive Rate')\n",
    "plt.ylabel('True Positive Rate')\n",
    "plt.title('ROC: Neutrons vs. positrons')\n",
    "plt.plot([0, 1], [0, 1], color='navy', lw=2.3, linestyle='--')\n",
    "plt.legend()\n",
    "plt.grid()\n",
    "# plt.xlim([1e-6, 1.0])\n",
    "# plt.ylim([1e-2, 1.05])\n",
    "# plt.xscale('log')\n",
    "# plt.yscale('log')\n",
    "plt.show()"
   ]
  },
  {
   "cell_type": "markdown",
   "id": "96432fbf-35e3-4f2b-8f37-5c97e13007b4",
   "metadata": {
    "tags": []
   },
   "source": [
    "## Brief try at dense nn"
   ]
  },
  {
   "cell_type": "code",
   "execution_count": null,
   "id": "c6e43503-9c5b-4b3e-9c18-5980b5840a6d",
   "metadata": {},
   "outputs": [],
   "source": [
    "from keras.layers import LeakyReLU"
   ]
  },
  {
   "cell_type": "code",
   "execution_count": 147,
   "id": "63cc6f94-d2c1-4031-a3e5-8b9ae5857ebf",
   "metadata": {
    "tags": []
   },
   "outputs": [
    {
     "name": "stdout",
     "output_type": "stream",
     "text": [
      "Model: \"sequential_7\"\n",
      "_________________________________________________________________\n",
      "Layer (type)                 Output Shape              Param #   \n",
      "=================================================================\n",
      "dense_22 (Dense)             (None, 256)               11008     \n",
      "_________________________________________________________________\n",
      "leaky_re_lu_6 (LeakyReLU)    (None, 256)               0         \n",
      "_________________________________________________________________\n",
      "dropout (Dropout)            (None, 256)               0         \n",
      "_________________________________________________________________\n",
      "dense_23 (Dense)             (None, 128)               32896     \n",
      "_________________________________________________________________\n",
      "leaky_re_lu_7 (LeakyReLU)    (None, 128)               0         \n",
      "_________________________________________________________________\n",
      "dropout_1 (Dropout)          (None, 128)               0         \n",
      "_________________________________________________________________\n",
      "dense_24 (Dense)             (None, 64)                8256      \n",
      "_________________________________________________________________\n",
      "dropout_2 (Dropout)          (None, 64)                0         \n",
      "_________________________________________________________________\n",
      "dense_25 (Dense)             (None, 16)                1040      \n",
      "_________________________________________________________________\n",
      "dense_26 (Dense)             (None, 1)                 17        \n",
      "=================================================================\n",
      "Total params: 53,217\n",
      "Trainable params: 53,217\n",
      "Non-trainable params: 0\n",
      "_________________________________________________________________\n",
      "None\n"
     ]
    }
   ],
   "source": [
    "model = Sequential()\n",
    "# create the model\n",
    "model.add(InputLayer(42))\n",
    "model.add(Dense(256))\n",
    "model.add(LeakyReLU())\n",
    "model.add(Dropout(0.2))\n",
    "model.add(Dense(128))\n",
    "model.add(LeakyReLU())\n",
    "model.add(Dropout(0.2))\n",
    "model.add(Dense(64, activation='relu'))\n",
    "model.add(Dropout(0.2))\n",
    "model.add(Dense(16, activation='relu'))\n",
    "model.add(Dense(1, activation='sigmoid'))\n",
    "model.compile(loss='binary_crossentropy', optimizer='adam', metrics=['accuracy'])\n",
    "print(model.summary())"
   ]
  },
  {
   "cell_type": "code",
   "execution_count": 149,
   "id": "53b3625a-2a16-4cf6-a993-1e63b36ef147",
   "metadata": {},
   "outputs": [
    {
     "name": "stdout",
     "output_type": "stream",
     "text": [
      "Epoch 1/10\n",
      "1194/1194 [==============================] - 4s 3ms/step - loss: 0.4292 - accuracy: 0.7771 - val_loss: 0.4280 - val_accuracy: 0.7746\n",
      "Epoch 2/10\n",
      "1194/1194 [==============================] - 4s 3ms/step - loss: 0.4271 - accuracy: 0.7766 - val_loss: 0.4346 - val_accuracy: 0.7719\n",
      "Epoch 3/10\n",
      "1194/1194 [==============================] - 4s 3ms/step - loss: 0.4269 - accuracy: 0.7767 - val_loss: 0.4314 - val_accuracy: 0.7697\n",
      "Epoch 4/10\n",
      "1194/1194 [==============================] - 4s 3ms/step - loss: 0.4276 - accuracy: 0.7776 - val_loss: 0.4359 - val_accuracy: 0.7709\n",
      "Epoch 5/10\n",
      "1194/1194 [==============================] - 4s 3ms/step - loss: 0.4267 - accuracy: 0.7790 - val_loss: 0.4317 - val_accuracy: 0.7726\n",
      "Epoch 6/10\n",
      "1194/1194 [==============================] - 4s 3ms/step - loss: 0.4257 - accuracy: 0.7778 - val_loss: 0.4308 - val_accuracy: 0.7746\n",
      "Epoch 7/10\n",
      "1194/1194 [==============================] - 4s 3ms/step - loss: 0.4247 - accuracy: 0.7786 - val_loss: 0.4332 - val_accuracy: 0.7717\n",
      "Epoch 8/10\n",
      "1194/1194 [==============================] - 4s 3ms/step - loss: 0.4251 - accuracy: 0.7792 - val_loss: 0.4287 - val_accuracy: 0.7761\n",
      "Epoch 9/10\n",
      "1194/1194 [==============================] - 4s 3ms/step - loss: 0.4244 - accuracy: 0.7807 - val_loss: 0.4323 - val_accuracy: 0.7739\n",
      "Epoch 10/10\n",
      "1194/1194 [==============================] - 4s 3ms/step - loss: 0.4254 - accuracy: 0.7796 - val_loss: 0.4350 - val_accuracy: 0.7739\n"
     ]
    },
    {
     "data": {
      "text/plain": [
       "<keras.callbacks.History at 0x7f0423401eb0>"
      ]
     },
     "execution_count": 149,
     "metadata": {},
     "output_type": "execute_result"
    }
   ],
   "source": [
    "model.fit(X_train, y_train, \n",
    "          validation_data=(X_test, y_test),\n",
    "          epochs=10, batch_size=32, \n",
    "         )"
   ]
  },
  {
   "cell_type": "code",
   "execution_count": null,
   "id": "8df85960-ed34-436f-b981-9f5e5080ad8d",
   "metadata": {},
   "outputs": [],
   "source": []
  },
  {
   "cell_type": "markdown",
   "id": "643bdf82-494c-4ddf-8456-756194172708",
   "metadata": {},
   "source": [
    "---------"
   ]
  },
  {
   "cell_type": "code",
   "execution_count": 88,
   "id": "1741436a-b3cd-49eb-a130-524438d9d1d4",
   "metadata": {},
   "outputs": [
    {
     "data": {
      "image/png": "[encoded data removed]",
      "text/plain": [
       "<Figure size 432x288 with 1 Axes>"
      ]
     },
     "metadata": {
      "needs_background": "light"
     },
     "output_type": "display_data"
    }
   ],
   "source": [
    "plt.hist(wrongibd['subid'], bins=2)\n",
    "plt.show()"
   ]
  },
  {
   "cell_type": "code",
   "execution_count": 89,
   "id": "34d13da6-8dc4-41c1-8042-9ef95c57a766",
   "metadata": {},
   "outputs": [
    {
     "data": {
      "image/png": "[encoded data removed]",
      "text/plain": [
       "<Figure size 432x288 with 1 Axes>"
      ]
     },
     "metadata": {
      "needs_background": "light"
     },
     "output_type": "display_data"
    }
   ],
   "source": [
    "plt.hist(wrongfastn['subid'])\n",
    "plt.show()"
   ]
  },
  {
   "cell_type": "code",
   "execution_count": 90,
   "id": "05a452ce-a32b-4a45-b6ac-2fb92057d2e8",
   "metadata": {},
   "outputs": [
    {
     "data": {
      "image/png": "[encoded data removed]",
      "text/plain": [
       "<Figure size 432x288 with 1 Axes>"
      ]
     },
     "metadata": {
      "needs_background": "light"
     },
     "output_type": "display_data"
    }
   ],
   "source": [
    "kw = dict(bins=np.linspace(-1,100,100), histtype='step')\n",
    "plt.hist(wrongfastn['dt_prev_us'], **kw)\n",
    "plt.hist(wrongibd['dt_prev_us'], **kw)\n",
    "plt.yscale('log')\n",
    "plt.show()"
   ]
  },
  {
   "cell_type": "code",
   "execution_count": 91,
   "id": "a3e26395-40a0-44ef-99f3-b0c906909959",
   "metadata": {},
   "outputs": [
    {
     "data": {
      "image/png": "[encoded data removed]",
      "text/plain": [
       "<Figure size 432x288 with 1 Axes>"
      ]
     },
     "metadata": {
      "needs_background": "light"
     },
     "output_type": "display_data"
    }
   ],
   "source": [
    "kw = dict(bins=np.linspace(-1,100,100), histtype='step')\n",
    "plt.hist(wrongfastn['dt_next_us'], **kw)\n",
    "plt.hist(wrongibd['dt_next_us'], **kw)\n",
    "plt.yscale('log')\n",
    "plt.show()"
   ]
  },
  {
   "cell_type": "code",
   "execution_count": 92,
   "id": "6acfe06b-b9a0-4d90-a13e-ef97f40ca614",
   "metadata": {},
   "outputs": [
    {
     "data": {
      "image/png": "[encoded data removed]",
      "text/plain": [
       "<Figure size 432x288 with 1 Axes>"
      ]
     },
     "metadata": {
      "needs_background": "light"
     },
     "output_type": "display_data"
    }
   ],
   "source": [
    "plt.scatter(wrongfastn['dt_prev_us'],wrongfastn['dt_next_us'], \n",
    "#             c=rightpred\n",
    "           )\n",
    "plt.ylim(-20,650)\n",
    "plt.xlim(-2, 200)\n",
    "plt.show()"
   ]
  },
  {
   "cell_type": "code",
   "execution_count": null,
   "id": "ba4c652c",
   "metadata": {},
   "outputs": [],
   "source": []
  }
 ],
 "metadata": {
  "kernelspec": {
   "display_name": "Python [conda env:.conda-sjf]",
   "language": "python",
   "name": "conda-env-.conda-sjf-py"
  },
  "language_info": {
   "codemirror_mode": {
    "name": "ipython",
    "version": 3
   },
   "file_extension": ".py",
   "mimetype": "text/x-python",
   "name": "python",
   "nbconvert_exporter": "python",
   "pygments_lexer": "ipython3",
   "version": "3.8.2"
  }
 },
 "nbformat": 4,
 "nbformat_minor": 5
}
