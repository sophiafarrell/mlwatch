{
 "cells": [
  {
   "cell_type": "markdown",
   "id": "45d99bf1",
   "metadata": {},
   "source": [
    "# Reading the ROOT files"
   ]
  },
  {
   "cell_type": "code",
   "execution_count": 418,
   "id": "8c05c00f",
   "metadata": {},
   "outputs": [],
   "source": [
    "# %matplotlib notebook"
   ]
  },
  {
   "cell_type": "code",
   "execution_count": 749,
   "id": "b27a9772",
   "metadata": {},
   "outputs": [],
   "source": [
    "from keras.models import Sequential\n",
    "from keras.layers import LSTM, Dense, Dropout, Masking, Embedding, Input, InputLayer\n",
    "from keras.preprocessing import sequence"
   ]
  },
  {
   "cell_type": "code",
   "execution_count": 750,
   "id": "87dfe5c9",
   "metadata": {},
   "outputs": [],
   "source": [
    "import uproot\n",
    "import numpy as np\n",
    "# import pandas as pd"
   ]
  },
  {
   "cell_type": "code",
   "execution_count": 751,
   "id": "cc4f40c4",
   "metadata": {},
   "outputs": [],
   "source": [
    "import matplotlib.pyplot as plt\n",
    "import awkward as ak\n",
    "from mpl_toolkits.mplot3d import axes3d \n",
    "from matplotlib.colors import LogNorm\n",
    "import IPython"
   ]
  },
  {
   "cell_type": "code",
   "execution_count": 41,
   "id": "14cc7129",
   "metadata": {},
   "outputs": [],
   "source": [
    "from sklearn.model_selection import train_test_split\n",
    "from sklearn.metrics import confusion_matrix, roc_auc_score, roc_curve\n",
    "import seaborn as sns"
   ]
  },
  {
   "cell_type": "code",
   "execution_count": 42,
   "id": "d02390e1",
   "metadata": {},
   "outputs": [],
   "source": [
    "from scipy.stats import norm\n",
    "import scipy.interpolate as interpolate\n",
    "from scipy.ndimage import median as med"
   ]
  },
  {
   "cell_type": "code",
   "execution_count": 587,
   "id": "331581fc",
   "metadata": {},
   "outputs": [],
   "source": [
    "fastn = uproot.open('data/fastn2.root'+':data')\n",
    "sing = uproot.open('data/singles.root'+':data')\n",
    "eplus = uproot.open('data/e+.root'+':data')\n",
    "eminus = uproot.open('data/e-.root'+':data')\n",
    "fastnsing = uproot.open('data/fastn_singles.root'+':data')"
   ]
  },
  {
   "cell_type": "code",
   "execution_count": 592,
   "id": "13d1b164",
   "metadata": {},
   "outputs": [],
   "source": [
    "neutrons = fastn.arrays(library='awkward')\n",
    "singles = sing.arrays(library='awkward')#[:20000]\n",
    "positrons = eplus.arrays(library='awkward')[50000:150000]\n",
    "electrons = eminus.arrays(library='awkward')[50000:150000]\n",
    "# singles['channel']=singles['channel']-1 #need to reprocess.."
   ]
  },
  {
   "cell_type": "code",
   "execution_count": 378,
   "id": "627e6397",
   "metadata": {},
   "outputs": [],
   "source": [
    "nsing = fastnsing.arrays(library='awkward')\n",
    "moresingles = nsing[nsing['code']==4]\n",
    "moreneutrons = nsing[nsing['code']==2]"
   ]
  },
  {
   "cell_type": "code",
   "execution_count": 379,
   "id": "72d392ae",
   "metadata": {},
   "outputs": [],
   "source": [
    "singles = ak.concatenate([singles, moresingles])\n",
    "neutrons = ak.concatenate([neutrons, moreneutrons])"
   ]
  },
  {
   "cell_type": "code",
   "execution_count": 593,
   "id": "3a65c52c",
   "metadata": {},
   "outputs": [],
   "source": [
    "neutrons = neutrons[neutrons['inner_hit']>0]"
   ]
  },
  {
   "cell_type": "code",
   "execution_count": 12,
   "id": "fcd3e100",
   "metadata": {},
   "outputs": [],
   "source": [
    "# chargeprob = {\n",
    "# 'charge' : [0.0000, 0.1000, 0.2000, 0.3000, 0.4000, 0.5000, 0.6000, 0.7000, 0.8000, 0.9000, 1.0000, 1.1000, 1.2000, 1.3000, 1.4000, 1.5000, 1.6000, 1.7000, 1.8000, 1.9000, 2.0000, 2.1000, 2.2000, 2.3000, 2.4000, 2.5000, 2.6000, 2.7000, 2.8000, 2.9000, 3.0000, 3.1000, 3.2000, 3.3000, 3.4000],\n",
    "# 'charge_prob' : [2.320677e-02, 4.744035e-02, 8.994838e-02, 1.581799e-01, 2.580009e-01, 3.903046e-01, 5.476440e-01, 7.126976e-01, 8.602498e-01, 9.630662e-01, 1.000000e+00, 9.630662e-01, 8.602498e-01, 7.126976e-01, 5.476440e-01, 3.903046e-01, 2.580009e-01, 1.581799e-01, 8.994838e-02, 4.744035e-02, 2.320677e-02, 1.052916e-02, 4.430830e-03, 1.729373e-03, 6.260438e-04, 2.102001e-04, 6.545962e-05, 1.890716e-05, 5.065140e-06, 1.258545e-06, 2.900404e-07, 6.199556e-08, 1.229065e-08, 2.259964e-09, 3.854254e-10]\n",
    "# }\n",
    "# mu, sig = norm.fit(wht)\n",
    "# inv_cdf = interpolate.interp1d(chargeprob['charge_prob'], chargeprob['charge'])\n",
    "# x = np.random.rand(100000)\n",
    "# wht = inv_cdf(x)"
   ]
  },
  {
   "cell_type": "code",
   "execution_count": 531,
   "id": "a4289da7",
   "metadata": {},
   "outputs": [],
   "source": [
    "pmtx = pmtpos[:,0]\n",
    "pmty = pmtpos[:,1]\n",
    "pmtz = pmtpos[:,2]"
   ]
  },
  {
   "cell_type": "code",
   "execution_count": 532,
   "id": "74cc7544",
   "metadata": {},
   "outputs": [],
   "source": [
    "vx = data['x']/10.\n",
    "vy = data['y']/10.\n",
    "vz = data['z']/10.\n"
   ]
  },
  {
   "cell_type": "code",
   "execution_count": 522,
   "id": "63f2a81b",
   "metadata": {},
   "outputs": [],
   "source": [
    "pmtx = ak.from_numpy(pmtx)"
   ]
  },
  {
   "cell_type": "code",
   "execution_count": 523,
   "id": "d7bf69e3",
   "metadata": {},
   "outputs": [],
   "source": [
    "pmtxpos = []"
   ]
  },
  {
   "cell_type": "code",
   "execution_count": 527,
   "id": "dd8ce49b",
   "metadata": {
    "collapsed": true,
    "jupyter": {
     "outputs_hidden": true
    }
   },
   "outputs": [
    {
     "name": "stdout",
     "output_type": "stream",
     "text": [
      "-----Processing sample 0 of 221519-----\n",
      "-----Processing sample 10000 of 221519-----\n",
      "-----Processing sample 20000 of 221519-----\n",
      "-----Processing sample 30000 of 221519-----\n",
      "-----Processing sample 40000 of 221519-----\n",
      "-----Processing sample 50000 of 221519-----\n",
      "-----Processing sample 60000 of 221519-----\n",
      "-----Processing sample 70000 of 221519-----\n"
     ]
    },
    {
     "ename": "KeyboardInterrupt",
     "evalue": "",
     "output_type": "error",
     "traceback": [
      "\u001b[0;31m---------------------------------------------------------------------------\u001b[0m",
      "\u001b[0;31mKeyboardInterrupt\u001b[0m                         Traceback (most recent call last)",
      "\u001b[0;32m<ipython-input-527-81f60c815e7f>\u001b[0m in \u001b[0;36m<module>\u001b[0;34m\u001b[0m\n\u001b[1;32m      2\u001b[0m     \u001b[0;32mif\u001b[0m \u001b[0mi\u001b[0m\u001b[0;34m%\u001b[0m\u001b[0;36m10_000\u001b[0m\u001b[0;34m==\u001b[0m\u001b[0;36m0\u001b[0m\u001b[0;34m:\u001b[0m\u001b[0;34m\u001b[0m\u001b[0;34m\u001b[0m\u001b[0m\n\u001b[1;32m      3\u001b[0m         \u001b[0mprint\u001b[0m\u001b[0;34m(\u001b[0m\u001b[0;34m'-----Processing sample %i of %i-----'\u001b[0m\u001b[0;34m%\u001b[0m\u001b[0;34m(\u001b[0m\u001b[0mi\u001b[0m\u001b[0;34m,\u001b[0m \u001b[0mlen\u001b[0m\u001b[0;34m(\u001b[0m\u001b[0mdata\u001b[0m\u001b[0;34m)\u001b[0m\u001b[0;34m)\u001b[0m\u001b[0;34m)\u001b[0m\u001b[0;34m\u001b[0m\u001b[0;34m\u001b[0m\u001b[0m\n\u001b[0;32m----> 4\u001b[0;31m     \u001b[0mpmtxpos\u001b[0m\u001b[0;34m.\u001b[0m\u001b[0mappend\u001b[0m\u001b[0;34m(\u001b[0m\u001b[0mpmtx\u001b[0m\u001b[0;34m[\u001b[0m\u001b[0mdata\u001b[0m\u001b[0;34m[\u001b[0m\u001b[0;34m'channel'\u001b[0m\u001b[0;34m]\u001b[0m\u001b[0;34m[\u001b[0m\u001b[0;36m0\u001b[0m\u001b[0;34m]\u001b[0m\u001b[0;34m]\u001b[0m\u001b[0;34m)\u001b[0m\u001b[0;34m\u001b[0m\u001b[0;34m\u001b[0m\u001b[0m\n\u001b[0m",
      "\u001b[0;32m~/.local/lib/python3.8/site-packages/awkward/highlevel.py\u001b[0m in \u001b[0;36m__getitem__\u001b[0;34m(self, where)\u001b[0m\n\u001b[1;32m    991\u001b[0m         \"\"\"\n\u001b[1;32m    992\u001b[0m         \u001b[0;32mif\u001b[0m \u001b[0;32mnot\u001b[0m \u001b[0mhasattr\u001b[0m\u001b[0;34m(\u001b[0m\u001b[0mself\u001b[0m\u001b[0;34m,\u001b[0m \u001b[0;34m\"_tracers\"\u001b[0m\u001b[0;34m)\u001b[0m\u001b[0;34m:\u001b[0m\u001b[0;34m\u001b[0m\u001b[0;34m\u001b[0m\u001b[0m\n\u001b[0;32m--> 993\u001b[0;31m             \u001b[0mtmp\u001b[0m \u001b[0;34m=\u001b[0m \u001b[0mak\u001b[0m\u001b[0;34m.\u001b[0m\u001b[0m_util\u001b[0m\u001b[0;34m.\u001b[0m\u001b[0mwrap\u001b[0m\u001b[0;34m(\u001b[0m\u001b[0mself\u001b[0m\u001b[0;34m.\u001b[0m\u001b[0mlayout\u001b[0m\u001b[0;34m[\u001b[0m\u001b[0mwhere\u001b[0m\u001b[0;34m]\u001b[0m\u001b[0;34m,\u001b[0m \u001b[0mself\u001b[0m\u001b[0;34m.\u001b[0m\u001b[0m_behavior\u001b[0m\u001b[0;34m)\u001b[0m\u001b[0;34m\u001b[0m\u001b[0;34m\u001b[0m\u001b[0m\n\u001b[0m\u001b[1;32m    994\u001b[0m         \u001b[0;32melse\u001b[0m\u001b[0;34m:\u001b[0m\u001b[0;34m\u001b[0m\u001b[0;34m\u001b[0m\u001b[0m\n\u001b[1;32m    995\u001b[0m             \u001b[0mtmp\u001b[0m \u001b[0;34m=\u001b[0m \u001b[0mak\u001b[0m\u001b[0;34m.\u001b[0m\u001b[0m_connect\u001b[0m\u001b[0;34m.\u001b[0m\u001b[0m_jax\u001b[0m\u001b[0;34m.\u001b[0m\u001b[0mjax_utils\u001b[0m\u001b[0;34m.\u001b[0m\u001b[0m_jaxtracers_getitem\u001b[0m\u001b[0;34m(\u001b[0m\u001b[0mself\u001b[0m\u001b[0;34m,\u001b[0m \u001b[0mwhere\u001b[0m\u001b[0;34m)\u001b[0m\u001b[0;34m\u001b[0m\u001b[0;34m\u001b[0m\u001b[0m\n",
      "\u001b[0;32m~/.local/lib/python3.8/site-packages/awkward/highlevel.py\u001b[0m in \u001b[0;36mlayout\u001b[0;34m(self)\u001b[0m\n\u001b[1;32m    282\u001b[0m         \u001b[0mself\u001b[0m\u001b[0;34m.\u001b[0m\u001b[0m_caches\u001b[0m \u001b[0;34m=\u001b[0m \u001b[0mak\u001b[0m\u001b[0;34m.\u001b[0m\u001b[0m_util\u001b[0m\u001b[0;34m.\u001b[0m\u001b[0mfind_caches\u001b[0m\u001b[0;34m(\u001b[0m\u001b[0mself\u001b[0m\u001b[0;34m.\u001b[0m\u001b[0mlayout\u001b[0m\u001b[0;34m)\u001b[0m\u001b[0;34m\u001b[0m\u001b[0;34m\u001b[0m\u001b[0m\n\u001b[1;32m    283\u001b[0m \u001b[0;34m\u001b[0m\u001b[0m\n\u001b[0;32m--> 284\u001b[0;31m     \u001b[0;34m@\u001b[0m\u001b[0mproperty\u001b[0m\u001b[0;34m\u001b[0m\u001b[0;34m\u001b[0m\u001b[0m\n\u001b[0m\u001b[1;32m    285\u001b[0m     \u001b[0;32mdef\u001b[0m \u001b[0mlayout\u001b[0m\u001b[0;34m(\u001b[0m\u001b[0mself\u001b[0m\u001b[0;34m)\u001b[0m\u001b[0;34m:\u001b[0m\u001b[0;34m\u001b[0m\u001b[0;34m\u001b[0m\u001b[0m\n\u001b[1;32m    286\u001b[0m         \"\"\"\n",
      "\u001b[0;31mKeyboardInterrupt\u001b[0m: "
     ]
    }
   ],
   "source": [
    "for i, ht in enumerate(data['hittime']): \n",
    "    if i%10_000==0:\n",
    "        print('-----Processing sample %i of %i-----'%(i, len(data)))\n",
    "    pmtxpos.append(pmtx[data['channel'][0]])"
   ]
  },
  {
   "cell_type": "code",
   "execution_count": 567,
   "id": "24573dac",
   "metadata": {},
   "outputs": [
    {
     "data": {
      "text/plain": [
       "<Array [347, 411, 417, ... 1.56e+03, 1.73e+03] type='50 * float32'>"
      ]
     },
     "execution_count": 567,
     "metadata": {},
     "output_type": "execute_result"
    }
   ],
   "source": [
    "data['restime'][i]"
   ]
  },
  {
   "cell_type": "code",
   "execution_count": 578,
   "id": "8fd58aa2",
   "metadata": {},
   "outputs": [
    {
     "ename": "TypeError",
     "evalue": "__init__() got an unexpected keyword argument 'dtype'",
     "output_type": "error",
     "traceback": [
      "\u001b[0;31m---------------------------------------------------------------------------\u001b[0m",
      "\u001b[0;31mTypeError\u001b[0m                                 Traceback (most recent call last)",
      "\u001b[0;32m<ipython-input-578-1ba1b1d50411>\u001b[0m in \u001b[0;36m<module>\u001b[0;34m\u001b[0m\n\u001b[0;32m----> 1\u001b[0;31m \u001b[0mak\u001b[0m\u001b[0;34m.\u001b[0m\u001b[0mArray\u001b[0m\u001b[0;34m(\u001b[0m\u001b[0mres\u001b[0m\u001b[0;34m,\u001b[0m \u001b[0mdtype\u001b[0m\u001b[0;34m=\u001b[0m\u001b[0;34m'fl'\u001b[0m\u001b[0;34m)\u001b[0m\u001b[0;34m\u001b[0m\u001b[0;34m\u001b[0m\u001b[0m\n\u001b[0m",
      "\u001b[0;31mTypeError\u001b[0m: __init__() got an unexpected keyword argument 'dtype'"
     ]
    }
   ],
   "source": [
    "ak.Array()"
   ]
  },
  {
   "cell_type": "code",
   "execution_count": 594,
   "id": "4e4404a7",
   "metadata": {},
   "outputs": [
    {
     "name": "stdout",
     "output_type": "stream",
     "text": [
      "set 1 of 3\n",
      "set 2 of 3\n",
      "set 3 of 3\n"
     ]
    }
   ],
   "source": [
    "# Time-sort all the data arrays for recurrent/sequential purposes. \n",
    "for j, data in enumerate([neutrons, singles, positrons]):\n",
    "    data['restime'] = data['hittime']\n",
    "    print('set %i of %i'%(j+1, 3))\n",
    "    args = ak.argsort(data['hittime'])\n",
    "    for key in ['hittime', 'pmtcharge', 'channel']:\n",
    "        data[key] = data[key][args]\n",
    "    \n",
    "#         #Calculate residual time from vertex? \n",
    "#         chn = data['channel'] \n",
    "#         times = data['hittime']-800.\n",
    "#         for i, time in enumerate(times): \n",
    "#             if i%10_000==0:\n",
    "#                 print('-----Processing sample %i of %i-----'%(i, len(data)))\n",
    "#             xyz = pmtpos[chn[i]] #cm\n",
    "#             vertex = [data['x'][i]/10., data['y'][i]/10., data['z'][i]/10.] #cm\n",
    "#             dist = np.sqrt(np.sum((xyz - vertex)**2, axis=1)) # cm\n",
    "#             res = time - dist/c\n",
    "#             data['restime'][i] = res"
   ]
  },
  {
   "cell_type": "code",
   "execution_count": 595,
   "id": "e97b83c9",
   "metadata": {},
   "outputs": [
    {
     "name": "stdout",
     "output_type": "stream",
     "text": [
      "set 1 of 3\n",
      "-----Processing sample 0 of 21433-----\n",
      "-----Processing sample 10000 of 21433-----\n",
      "-----Processing sample 20000 of 21433-----\n",
      "set 2 of 3\n",
      "-----Processing sample 0 of 44400-----\n",
      "-----Processing sample 10000 of 44400-----\n",
      "-----Processing sample 20000 of 44400-----\n",
      "-----Processing sample 30000 of 44400-----\n",
      "-----Processing sample 40000 of 44400-----\n",
      "set 3 of 3\n",
      "-----Processing sample 0 of 100000-----\n",
      "-----Processing sample 10000 of 100000-----\n",
      "-----Processing sample 20000 of 100000-----\n",
      "-----Processing sample 30000 of 100000-----\n",
      "-----Processing sample 40000 of 100000-----\n",
      "-----Processing sample 50000 of 100000-----\n",
      "-----Processing sample 60000 of 100000-----\n",
      "-----Processing sample 70000 of 100000-----\n",
      "-----Processing sample 80000 of 100000-----\n",
      "-----Processing sample 90000 of 100000-----\n"
     ]
    }
   ],
   "source": [
    "delaytime = 800\n",
    "c = 21.8 #cm/ns\n",
    "\n",
    "for j, data in enumerate([neutrons, singles, positrons]):\n",
    "    channels = []\n",
    "    charges = []\n",
    "    timess = []\n",
    "    chn = data['channel']    \n",
    "    print('set %i of %i'%(j+1, 3))\n",
    "    times = data['hittime']-800.\n",
    "    for i, ht in enumerate(data['hittime']): \n",
    "        if i%10_000==0:\n",
    "            print('-----Processing sample %i of %i-----'%(i, len(data)))\n",
    "        xyz = pmtpos[chn[i]] #cm\n",
    "        vertex = [data['x'][i]/10., data['y'][i]/10., data['z'][i]/10.] #cm\n",
    "        dist = np.sqrt(np.sum((xyz - vertex)**2, axis=1)) # cm\n",
    "        res = times[i] - dist/c\n",
    "        promptmask = np.logical_and(res<delaytime, res>-1*delaytime)\n",
    "#         median = med(ht)\n",
    "#         ht = np.asarray(ht)\n",
    "#         promptmask = np.logical_and(ht>median-delaytime, ht<median+delaytime)\n",
    "        channels.append(data['channel'][i][promptmask])\n",
    "        charges.append(data['pmtcharge'][i][promptmask])\n",
    "        timess.append(res[promptmask])\n",
    "    data['promptchan'], data['promptcharge'], data['prompttime'] = ak.Array(channels), ak.Array(charges), ak.Array(timess)"
   ]
  },
  {
   "cell_type": "markdown",
   "id": "fc2ff2c5",
   "metadata": {},
   "source": [
    "Previously was doing hittime for the good results. Now trying prompttime. Both give similar-ish results. \n",
    "\n",
    "Note: feeding channel probably means we're just capturing on the length of the vector and cutting there. Should compare ROC curve from this to the number of hits. "
   ]
  },
  {
   "cell_type": "code",
   "execution_count": 596,
   "id": "c6e647ed",
   "metadata": {},
   "outputs": [],
   "source": [
    "samples = np.min([len(singles), len(positrons)])"
   ]
  },
  {
   "cell_type": "code",
   "execution_count": 73,
   "id": "01b714d4",
   "metadata": {},
   "outputs": [],
   "source": [
    "wht_n = sequence.pad_sequences(neutrons['promptcharge'], maxlen=100)[:samples]\n",
    "wht_s = sequence.pad_sequences(singles['promptcharge'], maxlen=100)[:samples]\n",
    "wht_e = sequence.pad_sequences(positrons['promptcharge'], maxlen=100)[:samples]"
   ]
  },
  {
   "cell_type": "code",
   "execution_count": 74,
   "id": "af38cafc",
   "metadata": {},
   "outputs": [],
   "source": [
    "# X2 = ak.concatenate([singles['prompttime'][:int(len(neutrons))], neutrons['prompttime']])"
   ]
  },
  {
   "cell_type": "code",
   "execution_count": 76,
   "id": "b6680eb7",
   "metadata": {},
   "outputs": [],
   "source": [
    "X = np.append(wht_s, wht_e, axis=0)\n",
    "y = np.append(np.zeros(len(wht_s)), np.ones(len(wht_e)))"
   ]
  },
  {
   "cell_type": "code",
   "execution_count": 77,
   "id": "dda5296a",
   "metadata": {},
   "outputs": [],
   "source": [
    "X_train, X_test, y_train, y_test = train_test_split(X, y, test_size=0.33, random_state=42)"
   ]
  },
  {
   "cell_type": "code",
   "execution_count": 365,
   "id": "5b51b580",
   "metadata": {},
   "outputs": [],
   "source": [
    "# X_train2 = ak.to_list(X_train)\n",
    "# X_test2 = ak.to_list(X_test)\n",
    "# y_train2 = list(y_train)\n",
    "# y_test2 = list(y_test)"
   ]
  },
  {
   "cell_type": "code",
   "execution_count": 123,
   "id": "721ff4f7",
   "metadata": {
    "collapsed": true,
    "jupyter": {
     "outputs_hidden": true
    }
   },
   "outputs": [
    {
     "name": "stdout",
     "output_type": "stream",
     "text": [
      "Model: \"sequential_2\"\n",
      "_________________________________________________________________\n",
      "Layer (type)                 Output Shape              Param #   \n",
      "=================================================================\n",
      "embedding_2 (Embedding)      (None, 100, 32)           74592     \n",
      "_________________________________________________________________\n",
      "lstm_2 (LSTM)                (None, 100)               53200     \n",
      "_________________________________________________________________\n",
      "dense_2 (Dense)              (None, 1)                 101       \n",
      "=================================================================\n",
      "Total params: 127,893\n",
      "Trainable params: 127,893\n",
      "Non-trainable params: 0\n",
      "_________________________________________________________________\n",
      "None\n"
     ]
    }
   ],
   "source": [
    "# create the model\n",
    "embedding_vecor_length = 32\n",
    "model = Sequential()\n",
    "model.add(Embedding(2331, \n",
    "                    embedding_vecor_length, \n",
    "                    input_length=100)\n",
    "         )\n",
    "model.add(LSTM(100))\n",
    "# model.add(Dense(10, activation='relu'))\n",
    "model.add(Dense(1, activation='sigmoid'))\n",
    "model.compile(loss='binary_crossentropy', optimizer='adam', metrics=['accuracy'])\n",
    "print(model.summary())"
   ]
  },
  {
   "cell_type": "code",
   "execution_count": 124,
   "id": "b3ee2fa8",
   "metadata": {
    "collapsed": true,
    "jupyter": {
     "outputs_hidden": true
    }
   },
   "outputs": [
    {
     "name": "stdout",
     "output_type": "stream",
     "text": [
      "Epoch 1/3\n",
      "16/16 [==============================] - 4s 151ms/step - loss: 0.6822 - accuracy: 0.5598 - val_loss: 0.6178 - val_accuracy: 0.9039\n",
      "Epoch 2/3\n",
      "16/16 [==============================] - 2s 110ms/step - loss: 0.5528 - accuracy: 0.8984 - val_loss: 0.2287 - val_accuracy: 0.9611\n",
      "Epoch 3/3\n",
      "16/16 [==============================] - 2s 104ms/step - loss: 0.2436 - accuracy: 0.9213 - val_loss: 0.1413 - val_accuracy: 0.9468\n"
     ]
    },
    {
     "data": {
      "text/plain": [
       "<keras.callbacks.History at 0x7fe0bc3c7c10>"
      ]
     },
     "execution_count": 124,
     "metadata": {},
     "output_type": "execute_result"
    }
   ],
   "source": [
    "model.fit(X_train, y_train, \n",
    "          validation_data=(X_test, y_test),\n",
    "          epochs=3, batch_size=64, \n",
    "         )"
   ]
  },
  {
   "cell_type": "code",
   "execution_count": 125,
   "id": "5c23eed3",
   "metadata": {
    "collapsed": true,
    "jupyter": {
     "outputs_hidden": true
    }
   },
   "outputs": [
    {
     "name": "stderr",
     "output_type": "stream",
     "text": [
      "/home/sophiafarrell/.local/lib/python3.8/site-packages/keras/engine/sequential.py:450: UserWarning: `model.predict_classes()` is deprecated and will be removed after 2021-01-01. Please use instead:* `np.argmax(model.predict(x), axis=-1)`,   if your model does multi-class classification   (e.g. if it uses a `softmax` last-layer activation).* `(model.predict(x) > 0.5).astype(\"int32\")`,   if your model does binary classification   (e.g. if it uses a `sigmoid` last-layer activation).\n",
      "  warnings.warn('`model.predict_classes()` is deprecated and '\n"
     ]
    }
   ],
   "source": [
    "y_pred = model.predict_classes(X_test)\n",
    "scores = model.predict(X_test)"
   ]
  },
  {
   "cell_type": "code",
   "execution_count": 140,
   "id": "5f15ce97",
   "metadata": {},
   "outputs": [],
   "source": [
    "fpr, tpr, thresholds = roc_curve(y_test, scores)\n",
    "auc = roc_auc_score(y_test, scores)"
   ]
  },
  {
   "cell_type": "code",
   "execution_count": 152,
   "id": "75b8f67d",
   "metadata": {
    "collapsed": true,
    "jupyter": {
     "outputs_hidden": true
    }
   },
   "outputs": [
    {
     "data": {
      "image/png": "[encoded data removed]",
      "text/plain": [
       "<Figure size 432x288 with 1 Axes>"
      ]
     },
     "metadata": {
      "needs_background": "light"
     },
     "output_type": "display_data"
    }
   ],
   "source": [
    "plt.plot(fpr, tpr, \n",
    "         label='ROC curve (area = %0.2f)'%(auc), \n",
    "         color='darkorange', \n",
    "         lw=2.3, \n",
    "        )\n",
    "plt.xlim([0.0, 1.0])\n",
    "plt.ylim([0.0, 1.05])\n",
    "plt.xlabel('False Positive Rate')\n",
    "plt.ylabel('True Positive Rate')\n",
    "plt.title('ROC: Singles vs. positrons')\n",
    "plt.plot([0, 1], [0, 1], color='navy', lw=2.3, linestyle='--')\n",
    "plt.legend()\n",
    "plt.grid()\n",
    "plt.show()"
   ]
  },
  {
   "cell_type": "code",
   "execution_count": 126,
   "id": "36d94d13",
   "metadata": {
    "tags": []
   },
   "outputs": [
    {
     "data": {
      "image/png": "[encoded data removed]",
      "text/plain": [
       "<Figure size 432x288 with 1 Axes>"
      ]
     },
     "metadata": {
      "needs_background": "light"
     },
     "output_type": "display_data"
    }
   ],
   "source": [
    "bins = plt.hist(model.predict(X_test[y_test==0]), \n",
    "         bins=np.linspace(0,1,50), histtype='step')\n",
    "plt.hist(model.predict(X_test[y_test==1]), \n",
    "         bins=bins[1], histtype='step')\n",
    "plt.show()"
   ]
  },
  {
   "cell_type": "code",
   "execution_count": 127,
   "id": "aabcf4a0",
   "metadata": {
    "collapsed": true,
    "jupyter": {
     "outputs_hidden": true
    }
   },
   "outputs": [
    {
     "data": {
      "image/png": "[encoded data removed]",
      "text/plain": [
       "<Figure size 432x288 with 2 Axes>"
      ]
     },
     "metadata": {
      "needs_background": "light"
     },
     "output_type": "display_data"
    }
   ],
   "source": [
    "confmat = confusion_matrix(y_test, y_pred)\n",
    "ax = sns.heatmap(confmat, annot=True, fmt='g', \n",
    "                 norm=LogNorm()\n",
    "                )\n",
    "\n",
    "ax.set_title('Confusion Matrix from RF: e+ vs. Singles')\n",
    "ax.set_xlabel('Predicted PID')\n",
    "ax.set_ylabel('Actual PID')\n",
    "\n",
    "ax.xaxis.set_ticklabels(['Singles', 'e+'])\n",
    "ax.yaxis.set_ticklabels(['Singles', 'e+'])\n",
    "\n",
    "plt.show()"
   ]
  },
  {
   "cell_type": "code",
   "execution_count": null,
   "id": "a783a932",
   "metadata": {},
   "outputs": [],
   "source": []
  },
  {
   "cell_type": "markdown",
   "id": "efe7470a",
   "metadata": {},
   "source": [
    "------"
   ]
  },
  {
   "cell_type": "code",
   "execution_count": 692,
   "id": "01a547b3",
   "metadata": {},
   "outputs": [],
   "source": [
    "def prep_net_data(data_to_manipulate, prompt=True, maxlen=100):\n",
    "    X = []\n",
    "    y = np.array([])\n",
    "    \n",
    "    if prompt==True:\n",
    "        keys = ['promptchan', 'promptcharge', 'prompttime']\n",
    "    else:\n",
    "        keys = ['channel', 'pmtcharge', 'hittime']\n",
    "        \n",
    "    for d, dat in enumerate(data_to_manipulate):\n",
    "        print('Running set %i of %i'%(d+1, len(data_to_manipulate)))\n",
    "        new = np.empty(shape=(len(dat), maxlen, 5))\n",
    "\n",
    "        chn = sequence.pad_sequences(dat[keys[0]]+1, maxlen=maxlen, \n",
    "                                     padding='post', \n",
    "                                     dtype='int32')\n",
    "        chrg = sequence.pad_sequences(dat[keys[1]], maxlen=maxlen, \n",
    "                                      padding='post', \n",
    "                                      dtype='float64')\n",
    "        xyz = pmtpos[chn]+1\n",
    "        time = sequence.pad_sequences(dat[keys[2]], maxlen=maxlen, \n",
    "                                      padding='post', \n",
    "                                      dtype='float64')\n",
    "        new[:,:,0] = chrg\n",
    "        new[:,:,1] = time    \n",
    "        new[:,:,2:5] = xyz+1\n",
    "        if len(X)>0:\n",
    "            X = np.append(X, new, axis=0)\n",
    "        else: \n",
    "            X = new\n",
    "        y=np.append(y, d*np.ones(len(new)))    \n",
    "    return X, y"
   ]
  },
  {
   "cell_type": "markdown",
   "id": "7a60a87d",
   "metadata": {},
   "source": [
    "## Multiple Regressor"
   ]
  },
  {
   "cell_type": "code",
   "execution_count": 285,
   "id": "f2871667",
   "metadata": {},
   "outputs": [
    {
     "data": {
      "image/png": "[encoded data removed]",
      "text/plain": [
       "<Figure size 432x288 with 1 Axes>"
      ]
     },
     "metadata": {
      "needs_background": "light"
     },
     "output_type": "display_data"
    }
   ],
   "source": [
    "bins = plt.hist(positrons['id_plus_dr_hit'], histtype='step', bins=np.linspace(0, 160, 161), density=True)\n",
    "plt.hist(singles['id_plus_dr_hit'], histtype='step', bins=bins[1], density=True)\n",
    "plt.hist(neutrons['id_plus_dr_hit'], histtype='step', bins=bins[1], density=True)\n",
    "\n",
    "plt.show()"
   ]
  },
  {
   "cell_type": "code",
   "execution_count": 597,
   "id": "771d03a9",
   "metadata": {},
   "outputs": [],
   "source": [
    "samples = np.min([len(singles), len(positrons)])"
   ]
  },
  {
   "cell_type": "code",
   "execution_count": 598,
   "id": "36a139a5",
   "metadata": {},
   "outputs": [],
   "source": [
    "data_to_manipulate = [singles[:samples], positrons[:samples]]"
   ]
  },
  {
   "cell_type": "code",
   "execution_count": 599,
   "id": "063b2e5c",
   "metadata": {},
   "outputs": [],
   "source": [
    "pmtpos = np.loadtxt('pmtpositions.csv', delimiter=',')\n",
    "pmtpos = np.vstack((np.array([0, 0, 0]), pmtpos))"
   ]
  },
  {
   "cell_type": "code",
   "execution_count": null,
   "id": "e12a3583",
   "metadata": {},
   "outputs": [],
   "source": [
    "X, y = prep_net_data(data_to_manipulate, promp=True)"
   ]
  },
  {
   "cell_type": "code",
   "execution_count": 601,
   "id": "f5292903",
   "metadata": {},
   "outputs": [],
   "source": [
    "X_train, X_test, y_train, y_test = train_test_split(X, y, test_size=0.25, random_state=42)"
   ]
  },
  {
   "cell_type": "code",
   "execution_count": 602,
   "id": "91393378",
   "metadata": {},
   "outputs": [],
   "source": [
    "embedding_vecor_length = 64\n",
    "regressor = Sequential()\n",
    "\n",
    "regressor.add(InputLayer(input_shape=(100,5)))\n",
    "regressor.add(LSTM(units=100, \n",
    "                   return_sequences=True, \n",
    "                   dropout=0.2,\n",
    "                  )) #second arg seems to have huge effect. \n",
    "\n",
    "regressor.add(LSTM(units=100, \n",
    "                   return_sequences=False, \n",
    "                   dropout=0.2, \n",
    "                   \n",
    "                  ))\n",
    "\n",
    "regressor.add(Dense(1, activation='sigmoid'))\n",
    "\n",
    "regressor.compile(loss='binary_crossentropy', optimizer='adam', metrics=['accuracy'])"
   ]
  },
  {
   "cell_type": "code",
   "execution_count": 603,
   "id": "a10f3e01",
   "metadata": {},
   "outputs": [
    {
     "name": "stdout",
     "output_type": "stream",
     "text": [
      "Model: \"sequential_27\"\n",
      "_________________________________________________________________\n",
      "Layer (type)                 Output Shape              Param #   \n",
      "=================================================================\n",
      "lstm_61 (LSTM)               (None, 100, 100)          42400     \n",
      "_________________________________________________________________\n",
      "lstm_62 (LSTM)               (None, 100)               80400     \n",
      "_________________________________________________________________\n",
      "dense_28 (Dense)             (None, 1)                 101       \n",
      "=================================================================\n",
      "Total params: 122,901\n",
      "Trainable params: 122,901\n",
      "Non-trainable params: 0\n",
      "_________________________________________________________________\n"
     ]
    }
   ],
   "source": [
    "regressor.summary()"
   ]
  },
  {
   "cell_type": "code",
   "execution_count": 604,
   "id": "de2b497b",
   "metadata": {},
   "outputs": [
    {
     "name": "stdout",
     "output_type": "stream",
     "text": [
      "1041/1041 [==============================] - 239s 227ms/step - loss: 0.2532 - accuracy: 0.8504 - val_loss: 0.0623 - val_accuracy: 0.9786\n"
     ]
    },
    {
     "data": {
      "text/plain": [
       "<keras.callbacks.History at 0x7f7eabf2a400>"
      ]
     },
     "execution_count": 604,
     "metadata": {},
     "output_type": "execute_result"
    }
   ],
   "source": [
    "regressor.fit(X_train, y_train, \n",
    "          validation_data=(X_test, y_test),\n",
    "          epochs=1, batch_size=64, \n",
    "         )"
   ]
  },
  {
   "cell_type": "code",
   "execution_count": 609,
   "id": "8b10ec2e",
   "metadata": {},
   "outputs": [],
   "source": [
    "scores = regressor.predict(X_test)\n",
    "# y_pred = regressor.predict_classes(X_test)\n",
    "y_pred = np.round(scores)"
   ]
  },
  {
   "cell_type": "code",
   "execution_count": 610,
   "id": "1d851bf8",
   "metadata": {},
   "outputs": [],
   "source": [
    "fpr, tpr, thresholds = roc_curve(y_test, scores)\n",
    "auc = roc_auc_score(y_test, scores)"
   ]
  },
  {
   "cell_type": "code",
   "execution_count": 607,
   "id": "cbf87cb4",
   "metadata": {},
   "outputs": [
    {
     "data": {
      "image/png": "[encoded data removed]",
      "text/plain": [
       "<Figure size 432x288 with 1 Axes>"
      ]
     },
     "metadata": {
      "needs_background": "light"
     },
     "output_type": "display_data"
    }
   ],
   "source": [
    "plt.plot(fpr, tpr, \n",
    "         label='ROC curve (area = %0.3f)'%(auc), \n",
    "         color='darkorange', \n",
    "         lw=2.3, \n",
    "        )\n",
    "plt.xlim([-0.01, 1.0])\n",
    "plt.ylim([0, 1.05])\n",
    "plt.xlabel('False Positive Rate')\n",
    "plt.ylabel('True Positive Rate')\n",
    "plt.title('ROC: Singles vs. positrons')\n",
    "plt.plot([0, 1], [0, 1], color='navy', lw=2.3, linestyle='--')\n",
    "plt.legend()\n",
    "plt.grid()\n",
    "plt.show()"
   ]
  },
  {
   "cell_type": "code",
   "execution_count": 608,
   "id": "4ee67ab3",
   "metadata": {},
   "outputs": [
    {
     "data": {
      "image/png": "[encoded data removed]",
      "text/plain": [
       "<Figure size 432x288 with 2 Axes>"
      ]
     },
     "metadata": {
      "needs_background": "light"
     },
     "output_type": "display_data"
    }
   ],
   "source": [
    "confmat = confusion_matrix(y_test, y_pred)\n",
    "ax = sns.heatmap(confmat, annot=True, fmt='g', \n",
    "#                  norm=LogNorm()\n",
    "                )\n",
    "\n",
    "ax.set_title('Confusion Matrix from RF: e+ vs. Singles')\n",
    "ax.set_xlabel('Predicted PID')\n",
    "ax.set_ylabel('Actual PID')\n",
    "\n",
    "ax.xaxis.set_ticklabels(['Singles', 'e+'])\n",
    "ax.yaxis.set_ticklabels(['Singles', 'e+'])\n",
    "\n",
    "plt.show()"
   ]
  },
  {
   "cell_type": "code",
   "execution_count": 476,
   "id": "aa458aa8",
   "metadata": {},
   "outputs": [
    {
     "data": {
      "image/png": "[encoded data removed]",
      "text/plain": [
       "<Figure size 432x288 with 1 Axes>"
      ]
     },
     "metadata": {
      "needs_background": "light"
     },
     "output_type": "display_data"
    }
   ],
   "source": [
    "bins = plt.hist(regressor.predict(X_test[y_test==0]), \n",
    "         bins=np.linspace(0,1,50), histtype='step')\n",
    "plt.hist(regressor.predict(X_test[y_test==1]), \n",
    "         bins=bins[1], histtype='step')\n",
    "plt.yscale('log')\n",
    "plt.show()"
   ]
  },
  {
   "cell_type": "markdown",
   "id": "40894633",
   "metadata": {},
   "source": [
    "## Fast-n vs. singles"
   ]
  },
  {
   "cell_type": "code",
   "execution_count": 613,
   "id": "7d463566",
   "metadata": {},
   "outputs": [],
   "source": [
    "samples = np.min([len(singles), len(neutrons)])\n",
    "data_to_manipulate = [singles[:samples], neutrons[:samples]]"
   ]
  },
  {
   "cell_type": "code",
   "execution_count": 614,
   "id": "0db752c5",
   "metadata": {},
   "outputs": [],
   "source": [
    "vector_length = 100"
   ]
  },
  {
   "cell_type": "code",
   "execution_count": 643,
   "id": "53b65b29",
   "metadata": {},
   "outputs": [
    {
     "name": "stdout",
     "output_type": "stream",
     "text": [
      "Running set 1 of 2\n",
      "Running set 2 of 2\n"
     ]
    }
   ],
   "source": [
    "X, y = prep_net_data(data_to_manipulate, prompt=False)"
   ]
  },
  {
   "cell_type": "code",
   "execution_count": 644,
   "id": "e347ba9d",
   "metadata": {},
   "outputs": [],
   "source": [
    "X_train, X_test, y_train, y_test = train_test_split(X, y, test_size=0.25, random_state=42)"
   ]
  },
  {
   "cell_type": "code",
   "execution_count": 645,
   "id": "77750036",
   "metadata": {},
   "outputs": [],
   "source": [
    "embedding_vecor_length = 64\n",
    "regressor = Sequential()\n",
    "\n",
    "regressor.add(InputLayer(input_shape=(100,5)))\n",
    "regressor.add(LSTM(units=100, \n",
    "                   return_sequences=True, \n",
    "                   dropout=0.1,\n",
    "                  )) #second arg seems to have huge effect. \n",
    "\n",
    "regressor.add(LSTM(units=100, \n",
    "                   return_sequences=False, \n",
    "                   dropout=0.1, \n",
    "                   \n",
    "                  ))\n",
    "\n",
    "regressor.add(Dense(1, activation='sigmoid'))\n",
    "\n",
    "regressor.compile(loss='binary_crossentropy', optimizer='adam', metrics=['accuracy'])"
   ]
  },
  {
   "cell_type": "code",
   "execution_count": 646,
   "id": "3cc6c2cf",
   "metadata": {},
   "outputs": [
    {
     "name": "stdout",
     "output_type": "stream",
     "text": [
      "Model: \"sequential_30\"\n",
      "_________________________________________________________________\n",
      "Layer (type)                 Output Shape              Param #   \n",
      "=================================================================\n",
      "lstm_67 (LSTM)               (None, 100, 100)          42400     \n",
      "_________________________________________________________________\n",
      "lstm_68 (LSTM)               (None, 100)               80400     \n",
      "_________________________________________________________________\n",
      "dense_31 (Dense)             (None, 1)                 101       \n",
      "=================================================================\n",
      "Total params: 122,901\n",
      "Trainable params: 122,901\n",
      "Non-trainable params: 0\n",
      "_________________________________________________________________\n"
     ]
    }
   ],
   "source": [
    "regressor.summary()"
   ]
  },
  {
   "cell_type": "code",
   "execution_count": 647,
   "id": "17119cd6",
   "metadata": {
    "scrolled": true
   },
   "outputs": [
    {
     "name": "stdout",
     "output_type": "stream",
     "text": [
      "Epoch 1/3\n",
      "503/503 [==============================] - 118s 229ms/step - loss: 0.4119 - accuracy: 0.7970 - val_loss: 0.2909 - val_accuracy: 0.8845\n",
      "Epoch 2/3\n",
      "503/503 [==============================] - 113s 226ms/step - loss: 0.2912 - accuracy: 0.8832 - val_loss: 0.3028 - val_accuracy: 0.8776\n",
      "Epoch 3/3\n",
      " 33/503 [>.............................] - ETA: 1:33 - loss: 0.2943 - accuracy: 0.8745"
     ]
    },
    {
     "ename": "KeyboardInterrupt",
     "evalue": "",
     "output_type": "error",
     "traceback": [
      "\u001b[0;31m---------------------------------------------------------------------------\u001b[0m",
      "\u001b[0;31mKeyboardInterrupt\u001b[0m                         Traceback (most recent call last)",
      "\u001b[0;32m<ipython-input-647-6b5e276d28ae>\u001b[0m in \u001b[0;36m<module>\u001b[0;34m\u001b[0m\n\u001b[0;32m----> 1\u001b[0;31m regressor.fit(X_train, y_train, \n\u001b[0m\u001b[1;32m      2\u001b[0m           \u001b[0mvalidation_data\u001b[0m\u001b[0;34m=\u001b[0m\u001b[0;34m(\u001b[0m\u001b[0mX_test\u001b[0m\u001b[0;34m,\u001b[0m \u001b[0my_test\u001b[0m\u001b[0;34m)\u001b[0m\u001b[0;34m,\u001b[0m\u001b[0;34m\u001b[0m\u001b[0;34m\u001b[0m\u001b[0m\n\u001b[1;32m      3\u001b[0m           \u001b[0mepochs\u001b[0m\u001b[0;34m=\u001b[0m\u001b[0;36m3\u001b[0m\u001b[0;34m,\u001b[0m \u001b[0mbatch_size\u001b[0m\u001b[0;34m=\u001b[0m\u001b[0;36m64\u001b[0m\u001b[0;34m,\u001b[0m\u001b[0;34m\u001b[0m\u001b[0;34m\u001b[0m\u001b[0m\n\u001b[1;32m      4\u001b[0m          )\n",
      "\u001b[0;32m~/.local/lib/python3.8/site-packages/keras/engine/training.py\u001b[0m in \u001b[0;36mfit\u001b[0;34m(self, x, y, batch_size, epochs, verbose, callbacks, validation_split, validation_data, shuffle, class_weight, sample_weight, initial_epoch, steps_per_epoch, validation_steps, validation_batch_size, validation_freq, max_queue_size, workers, use_multiprocessing)\u001b[0m\n\u001b[1;32m   1156\u001b[0m                 _r=1):\n\u001b[1;32m   1157\u001b[0m               \u001b[0mcallbacks\u001b[0m\u001b[0;34m.\u001b[0m\u001b[0mon_train_batch_begin\u001b[0m\u001b[0;34m(\u001b[0m\u001b[0mstep\u001b[0m\u001b[0;34m)\u001b[0m\u001b[0;34m\u001b[0m\u001b[0;34m\u001b[0m\u001b[0m\n\u001b[0;32m-> 1158\u001b[0;31m               \u001b[0mtmp_logs\u001b[0m \u001b[0;34m=\u001b[0m \u001b[0mself\u001b[0m\u001b[0;34m.\u001b[0m\u001b[0mtrain_function\u001b[0m\u001b[0;34m(\u001b[0m\u001b[0miterator\u001b[0m\u001b[0;34m)\u001b[0m\u001b[0;34m\u001b[0m\u001b[0;34m\u001b[0m\u001b[0m\n\u001b[0m\u001b[1;32m   1159\u001b[0m               \u001b[0;32mif\u001b[0m \u001b[0mdata_handler\u001b[0m\u001b[0;34m.\u001b[0m\u001b[0mshould_sync\u001b[0m\u001b[0;34m:\u001b[0m\u001b[0;34m\u001b[0m\u001b[0;34m\u001b[0m\u001b[0m\n\u001b[1;32m   1160\u001b[0m                 \u001b[0mcontext\u001b[0m\u001b[0;34m.\u001b[0m\u001b[0masync_wait\u001b[0m\u001b[0;34m(\u001b[0m\u001b[0;34m)\u001b[0m\u001b[0;34m\u001b[0m\u001b[0;34m\u001b[0m\u001b[0m\n",
      "\u001b[0;32m~/.local/lib/python3.8/site-packages/tensorflow/python/eager/def_function.py\u001b[0m in \u001b[0;36m__call__\u001b[0;34m(self, *args, **kwds)\u001b[0m\n\u001b[1;32m    887\u001b[0m \u001b[0;34m\u001b[0m\u001b[0m\n\u001b[1;32m    888\u001b[0m       \u001b[0;32mwith\u001b[0m \u001b[0mOptionalXlaContext\u001b[0m\u001b[0;34m(\u001b[0m\u001b[0mself\u001b[0m\u001b[0;34m.\u001b[0m\u001b[0m_jit_compile\u001b[0m\u001b[0;34m)\u001b[0m\u001b[0;34m:\u001b[0m\u001b[0;34m\u001b[0m\u001b[0;34m\u001b[0m\u001b[0m\n\u001b[0;32m--> 889\u001b[0;31m         \u001b[0mresult\u001b[0m \u001b[0;34m=\u001b[0m \u001b[0mself\u001b[0m\u001b[0;34m.\u001b[0m\u001b[0m_call\u001b[0m\u001b[0;34m(\u001b[0m\u001b[0;34m*\u001b[0m\u001b[0margs\u001b[0m\u001b[0;34m,\u001b[0m \u001b[0;34m**\u001b[0m\u001b[0mkwds\u001b[0m\u001b[0;34m)\u001b[0m\u001b[0;34m\u001b[0m\u001b[0;34m\u001b[0m\u001b[0m\n\u001b[0m\u001b[1;32m    890\u001b[0m \u001b[0;34m\u001b[0m\u001b[0m\n\u001b[1;32m    891\u001b[0m       \u001b[0mnew_tracing_count\u001b[0m \u001b[0;34m=\u001b[0m \u001b[0mself\u001b[0m\u001b[0;34m.\u001b[0m\u001b[0mexperimental_get_tracing_count\u001b[0m\u001b[0;34m(\u001b[0m\u001b[0;34m)\u001b[0m\u001b[0;34m\u001b[0m\u001b[0;34m\u001b[0m\u001b[0m\n",
      "\u001b[0;32m~/.local/lib/python3.8/site-packages/tensorflow/python/eager/def_function.py\u001b[0m in \u001b[0;36m_call\u001b[0;34m(self, *args, **kwds)\u001b[0m\n\u001b[1;32m    915\u001b[0m       \u001b[0;31m# In this case we have created variables on the first call, so we run the\u001b[0m\u001b[0;34m\u001b[0m\u001b[0;34m\u001b[0m\u001b[0;34m\u001b[0m\u001b[0m\n\u001b[1;32m    916\u001b[0m       \u001b[0;31m# defunned version which is guaranteed to never create variables.\u001b[0m\u001b[0;34m\u001b[0m\u001b[0;34m\u001b[0m\u001b[0;34m\u001b[0m\u001b[0m\n\u001b[0;32m--> 917\u001b[0;31m       \u001b[0;32mreturn\u001b[0m \u001b[0mself\u001b[0m\u001b[0;34m.\u001b[0m\u001b[0m_stateless_fn\u001b[0m\u001b[0;34m(\u001b[0m\u001b[0;34m*\u001b[0m\u001b[0margs\u001b[0m\u001b[0;34m,\u001b[0m \u001b[0;34m**\u001b[0m\u001b[0mkwds\u001b[0m\u001b[0;34m)\u001b[0m  \u001b[0;31m# pylint: disable=not-callable\u001b[0m\u001b[0;34m\u001b[0m\u001b[0;34m\u001b[0m\u001b[0m\n\u001b[0m\u001b[1;32m    918\u001b[0m     \u001b[0;32melif\u001b[0m \u001b[0mself\u001b[0m\u001b[0;34m.\u001b[0m\u001b[0m_stateful_fn\u001b[0m \u001b[0;32mis\u001b[0m \u001b[0;32mnot\u001b[0m \u001b[0;32mNone\u001b[0m\u001b[0;34m:\u001b[0m\u001b[0;34m\u001b[0m\u001b[0;34m\u001b[0m\u001b[0m\n\u001b[1;32m    919\u001b[0m       \u001b[0;31m# Release the lock early so that multiple threads can perform the call\u001b[0m\u001b[0;34m\u001b[0m\u001b[0;34m\u001b[0m\u001b[0;34m\u001b[0m\u001b[0m\n",
      "\u001b[0;32m~/.local/lib/python3.8/site-packages/tensorflow/python/eager/function.py\u001b[0m in \u001b[0;36m__call__\u001b[0;34m(self, *args, **kwargs)\u001b[0m\n\u001b[1;32m   3021\u001b[0m       (graph_function,\n\u001b[1;32m   3022\u001b[0m        filtered_flat_args) = self._maybe_define_function(args, kwargs)\n\u001b[0;32m-> 3023\u001b[0;31m     return graph_function._call_flat(\n\u001b[0m\u001b[1;32m   3024\u001b[0m         filtered_flat_args, captured_inputs=graph_function.captured_inputs)  # pylint: disable=protected-access\n\u001b[1;32m   3025\u001b[0m \u001b[0;34m\u001b[0m\u001b[0m\n",
      "\u001b[0;32m~/.local/lib/python3.8/site-packages/tensorflow/python/eager/function.py\u001b[0m in \u001b[0;36m_call_flat\u001b[0;34m(self, args, captured_inputs, cancellation_manager)\u001b[0m\n\u001b[1;32m   1958\u001b[0m         and executing_eagerly):\n\u001b[1;32m   1959\u001b[0m       \u001b[0;31m# No tape is watching; skip to running the function.\u001b[0m\u001b[0;34m\u001b[0m\u001b[0;34m\u001b[0m\u001b[0;34m\u001b[0m\u001b[0m\n\u001b[0;32m-> 1960\u001b[0;31m       return self._build_call_outputs(self._inference_function.call(\n\u001b[0m\u001b[1;32m   1961\u001b[0m           ctx, args, cancellation_manager=cancellation_manager))\n\u001b[1;32m   1962\u001b[0m     forward_backward = self._select_forward_and_backward_functions(\n",
      "\u001b[0;32m~/.local/lib/python3.8/site-packages/tensorflow/python/eager/function.py\u001b[0m in \u001b[0;36mcall\u001b[0;34m(self, ctx, args, cancellation_manager)\u001b[0m\n\u001b[1;32m    589\u001b[0m       \u001b[0;32mwith\u001b[0m \u001b[0m_InterpolateFunctionError\u001b[0m\u001b[0;34m(\u001b[0m\u001b[0mself\u001b[0m\u001b[0;34m)\u001b[0m\u001b[0;34m:\u001b[0m\u001b[0;34m\u001b[0m\u001b[0;34m\u001b[0m\u001b[0m\n\u001b[1;32m    590\u001b[0m         \u001b[0;32mif\u001b[0m \u001b[0mcancellation_manager\u001b[0m \u001b[0;32mis\u001b[0m \u001b[0;32mNone\u001b[0m\u001b[0;34m:\u001b[0m\u001b[0;34m\u001b[0m\u001b[0;34m\u001b[0m\u001b[0m\n\u001b[0;32m--> 591\u001b[0;31m           outputs = execute.execute(\n\u001b[0m\u001b[1;32m    592\u001b[0m               \u001b[0mstr\u001b[0m\u001b[0;34m(\u001b[0m\u001b[0mself\u001b[0m\u001b[0;34m.\u001b[0m\u001b[0msignature\u001b[0m\u001b[0;34m.\u001b[0m\u001b[0mname\u001b[0m\u001b[0;34m)\u001b[0m\u001b[0;34m,\u001b[0m\u001b[0;34m\u001b[0m\u001b[0;34m\u001b[0m\u001b[0m\n\u001b[1;32m    593\u001b[0m               \u001b[0mnum_outputs\u001b[0m\u001b[0;34m=\u001b[0m\u001b[0mself\u001b[0m\u001b[0;34m.\u001b[0m\u001b[0m_num_outputs\u001b[0m\u001b[0;34m,\u001b[0m\u001b[0;34m\u001b[0m\u001b[0;34m\u001b[0m\u001b[0m\n",
      "\u001b[0;32m~/.local/lib/python3.8/site-packages/tensorflow/python/eager/execute.py\u001b[0m in \u001b[0;36mquick_execute\u001b[0;34m(op_name, num_outputs, inputs, attrs, ctx, name)\u001b[0m\n\u001b[1;32m     57\u001b[0m   \u001b[0;32mtry\u001b[0m\u001b[0;34m:\u001b[0m\u001b[0;34m\u001b[0m\u001b[0;34m\u001b[0m\u001b[0m\n\u001b[1;32m     58\u001b[0m     \u001b[0mctx\u001b[0m\u001b[0;34m.\u001b[0m\u001b[0mensure_initialized\u001b[0m\u001b[0;34m(\u001b[0m\u001b[0;34m)\u001b[0m\u001b[0;34m\u001b[0m\u001b[0;34m\u001b[0m\u001b[0m\n\u001b[0;32m---> 59\u001b[0;31m     tensors = pywrap_tfe.TFE_Py_Execute(ctx._handle, device_name, op_name,\n\u001b[0m\u001b[1;32m     60\u001b[0m                                         inputs, attrs, num_outputs)\n\u001b[1;32m     61\u001b[0m   \u001b[0;32mexcept\u001b[0m \u001b[0mcore\u001b[0m\u001b[0;34m.\u001b[0m\u001b[0m_NotOkStatusException\u001b[0m \u001b[0;32mas\u001b[0m \u001b[0me\u001b[0m\u001b[0;34m:\u001b[0m\u001b[0;34m\u001b[0m\u001b[0;34m\u001b[0m\u001b[0m\n",
      "\u001b[0;31mKeyboardInterrupt\u001b[0m: "
     ]
    }
   ],
   "source": [
    "regressor.fit(X_train, y_train, \n",
    "          validation_data=(X_test, y_test),\n",
    "          epochs=3, batch_size=64, \n",
    "         )"
   ]
  },
  {
   "cell_type": "code",
   "execution_count": 648,
   "id": "4f4798f5",
   "metadata": {},
   "outputs": [],
   "source": [
    "scores = regressor.predict(X_test)\n",
    "y_pred = np.round(scores)"
   ]
  },
  {
   "cell_type": "code",
   "execution_count": 649,
   "id": "0521f66a",
   "metadata": {},
   "outputs": [],
   "source": [
    "fpr, tpr, thresholds = roc_curve(y_test, scores)\n",
    "auc = roc_auc_score(y_test, scores)"
   ]
  },
  {
   "cell_type": "code",
   "execution_count": 650,
   "id": "ea84e766",
   "metadata": {},
   "outputs": [
    {
     "data": {
      "image/png": "[encoded data removed]",
      "text/plain": [
       "<Figure size 432x288 with 1 Axes>"
      ]
     },
     "metadata": {
      "needs_background": "light"
     },
     "output_type": "display_data"
    }
   ],
   "source": [
    "plt.plot(fpr, tpr, \n",
    "         label='ROC curve (area = %0.3f)'%(auc), \n",
    "         color='darkorange', \n",
    "         lw=2.3, \n",
    "        )\n",
    "plt.xlim([-0.01, 1.0])\n",
    "plt.ylim([0, 1.05])\n",
    "plt.xlabel('False Positive Rate')\n",
    "plt.ylabel('True Positive Rate')\n",
    "plt.title('ROC: Singles vs. neutrons')\n",
    "plt.plot([0, 1], [0, 1], color='navy', lw=2.3, linestyle='--')\n",
    "plt.legend()\n",
    "plt.grid()\n",
    "# plt.xlim([1e-6, 1.0])\n",
    "# plt.ylim([1e-2, 1.05])\n",
    "# plt.xscale('log')\n",
    "# plt.yscale('log')\n",
    "plt.show()"
   ]
  },
  {
   "cell_type": "code",
   "execution_count": 651,
   "id": "bc31f2c9",
   "metadata": {},
   "outputs": [
    {
     "data": {
      "image/png": "[encoded data removed]",
      "text/plain": [
       "<Figure size 432x288 with 2 Axes>"
      ]
     },
     "metadata": {
      "needs_background": "light"
     },
     "output_type": "display_data"
    }
   ],
   "source": [
    "confmat = confusion_matrix(y_test, y_pred)\n",
    "ax = sns.heatmap(confmat, annot=True, fmt='g', \n",
    "#                  norm=LogNorm()\n",
    "                )\n",
    "\n",
    "ax.set_title('Confusion Matrix from RF: Singles vs. Neutrons')\n",
    "ax.set_xlabel('Predicted PID')\n",
    "ax.set_ylabel('Actual PID')\n",
    "\n",
    "ax.xaxis.set_ticklabels(['Singles', 'neutrons'])\n",
    "ax.yaxis.set_ticklabels(['Singles', 'neutrons'])\n",
    "\n",
    "plt.show()"
   ]
  },
  {
   "cell_type": "code",
   "execution_count": 652,
   "id": "b4f340aa",
   "metadata": {},
   "outputs": [
    {
     "data": {
      "image/png": "[encoded data removed]",
      "text/plain": [
       "<Figure size 432x288 with 1 Axes>"
      ]
     },
     "metadata": {
      "needs_background": "light"
     },
     "output_type": "display_data"
    }
   ],
   "source": [
    "bins = plt.hist(regressor.predict(X_test[y_test==0]), \n",
    "         bins=np.linspace(0,1,50), histtype='step')\n",
    "plt.hist(regressor.predict(X_test[y_test==1]), \n",
    "         bins=bins[1], histtype='step')\n",
    "plt.yscale('log')\n",
    "plt.show()"
   ]
  },
  {
   "cell_type": "markdown",
   "id": "d9747139",
   "metadata": {},
   "source": [
    "## Fast-n vs. singles vs. positrons regressor"
   ]
  },
  {
   "cell_type": "code",
   "execution_count": 653,
   "id": "a2a8dc89",
   "metadata": {},
   "outputs": [],
   "source": [
    "samples = np.min([len(singles), len(neutrons), len(positrons)])\n",
    "data_to_manipulate = [singles[:samples], positrons[:samples], neutrons[:samples]]"
   ]
  },
  {
   "cell_type": "code",
   "execution_count": 677,
   "id": "b7885161",
   "metadata": {},
   "outputs": [
    {
     "name": "stdout",
     "output_type": "stream",
     "text": [
      "Running set 1 of 3\n",
      "Running set 2 of 3\n",
      "Running set 3 of 3\n"
     ]
    }
   ],
   "source": [
    "X, y = prep_net_data(data_to_manipulate, prompt=False)"
   ]
  },
  {
   "cell_type": "code",
   "execution_count": 678,
   "id": "56d41f7e",
   "metadata": {},
   "outputs": [],
   "source": [
    "a = np.array(y.astype(int))\n",
    "b = np.zeros((a.size, a.max()+1), dtype='int32')\n",
    "b[np.arange(a.size),a] = 1\n",
    "y = b"
   ]
  },
  {
   "cell_type": "code",
   "execution_count": 679,
   "id": "c9a5ece5",
   "metadata": {},
   "outputs": [],
   "source": [
    "X_train, X_test, y_train, y_test = train_test_split(X, y, test_size=0.25, random_state=42)"
   ]
  },
  {
   "cell_type": "code",
   "execution_count": 680,
   "id": "50796564",
   "metadata": {},
   "outputs": [],
   "source": [
    "embedding_vecor_length = 64\n",
    "regressor = Sequential()\n",
    "\n",
    "regressor.add(InputLayer(input_shape=(100,5)))\n",
    "regressor.add(LSTM(units=100, \n",
    "                   return_sequences=True, \n",
    "                   dropout=0.2,\n",
    "                  )) #second arg seems to have huge effect. \n",
    "\n",
    "regressor.add(LSTM(units=100, \n",
    "                   return_sequences=False, \n",
    "                   dropout=0.2, \n",
    "                   \n",
    "                  ))\n",
    "\n",
    "# regressor.add(LSTM(units=50, return_sequences=True))\n",
    "# regressor.add(Dropout(0.2))\n",
    "\n",
    "regressor.add(Dense(3, activation='softmax'))\n",
    "\n",
    "regressor.compile(loss='categorical_crossentropy', optimizer='adam', metrics=['accuracy'])"
   ]
  },
  {
   "cell_type": "code",
   "execution_count": 681,
   "id": "14935644",
   "metadata": {},
   "outputs": [
    {
     "name": "stdout",
     "output_type": "stream",
     "text": [
      "Model: \"sequential_32\"\n",
      "_________________________________________________________________\n",
      "Layer (type)                 Output Shape              Param #   \n",
      "=================================================================\n",
      "lstm_71 (LSTM)               (None, 100, 100)          42400     \n",
      "_________________________________________________________________\n",
      "lstm_72 (LSTM)               (None, 100)               80400     \n",
      "_________________________________________________________________\n",
      "dense_33 (Dense)             (None, 3)                 303       \n",
      "=================================================================\n",
      "Total params: 123,103\n",
      "Trainable params: 123,103\n",
      "Non-trainable params: 0\n",
      "_________________________________________________________________\n"
     ]
    }
   ],
   "source": [
    "regressor.summary()"
   ]
  },
  {
   "cell_type": "code",
   "execution_count": 682,
   "id": "a47358ef",
   "metadata": {},
   "outputs": [
    {
     "name": "stdout",
     "output_type": "stream",
     "text": [
      "Epoch 1/4\n",
      "754/754 [==============================] - 174s 227ms/step - loss: 0.7531 - accuracy: 0.6015 - val_loss: 0.5729 - val_accuracy: 0.7267\n",
      "Epoch 2/4\n",
      "754/754 [==============================] - 170s 226ms/step - loss: 0.5715 - accuracy: 0.7267 - val_loss: 0.5695 - val_accuracy: 0.7304\n",
      "Epoch 3/4\n",
      "754/754 [==============================] - 171s 226ms/step - loss: 0.5609 - accuracy: 0.7297 - val_loss: 0.5756 - val_accuracy: 0.7281\n",
      "Epoch 4/4\n",
      "754/754 [==============================] - 171s 226ms/step - loss: 0.5546 - accuracy: 0.7353 - val_loss: 0.5553 - val_accuracy: 0.7339\n"
     ]
    },
    {
     "data": {
      "text/plain": [
       "<keras.callbacks.History at 0x7f7ea3a3f3a0>"
      ]
     },
     "execution_count": 682,
     "metadata": {},
     "output_type": "execute_result"
    }
   ],
   "source": [
    "regressor.fit(X_train, y_train, \n",
    "          validation_data=(X_test, y_test),\n",
    "          epochs=4, batch_size=64, \n",
    "         )"
   ]
  },
  {
   "cell_type": "code",
   "execution_count": 683,
   "id": "b2f88d26",
   "metadata": {},
   "outputs": [],
   "source": [
    "scores = regressor.predict(X_test)\n",
    "y_pred = np.round(scores)"
   ]
  },
  {
   "cell_type": "code",
   "execution_count": 684,
   "id": "413f3ba4",
   "metadata": {},
   "outputs": [],
   "source": [
    "y_pred_2 = np.argmax(y_pred, axis=1)\n",
    "y_test_2 = np.argmax(y_test, axis=1)"
   ]
  },
  {
   "cell_type": "code",
   "execution_count": 685,
   "id": "1d467a1f",
   "metadata": {},
   "outputs": [
    {
     "data": {
      "image/png": "[encoded data removed]",
      "text/plain": [
       "<Figure size 432x288 with 2 Axes>"
      ]
     },
     "metadata": {
      "needs_background": "light"
     },
     "output_type": "display_data"
    }
   ],
   "source": [
    "confmat = confusion_matrix(y_test_2, y_pred_2)\n",
    "ax = sns.heatmap(confmat, annot=True, fmt='g', \n",
    "#                  norm=LogNorm()\n",
    "                )\n",
    "\n",
    "ax.set_title('Confusion Matrix from RF: e+ vs. neutrons vs. Singles')\n",
    "ax.set_xlabel('Predicted PID')\n",
    "ax.set_ylabel('Actual PID')\n",
    "\n",
    "ax.xaxis.set_ticklabels(['singles', 'e+', 'neutrons'])\n",
    "ax.yaxis.set_ticklabels(['singles', 'e+', 'neutrons'])\n",
    "\n",
    "plt.show()"
   ]
  },
  {
   "cell_type": "code",
   "execution_count": 686,
   "id": "0a46aa49",
   "metadata": {},
   "outputs": [],
   "source": [
    "prob_01 = scores[:,1][y_test_2!=2]\n",
    "prob_02 = scores[:,2][y_test_2!=1]\n",
    "prob_12 = scores[:,2][y_test_2!=0]"
   ]
  },
  {
   "cell_type": "code",
   "execution_count": 687,
   "id": "2002505a",
   "metadata": {},
   "outputs": [
    {
     "data": {
      "image/png": "[encoded data removed]",
      "text/plain": [
       "<Figure size 432x288 with 1 Axes>"
      ]
     },
     "metadata": {
      "needs_background": "light"
     },
     "output_type": "display_data"
    }
   ],
   "source": [
    "plt.figure()\n",
    "for i, prob, label in zip([2, 1, 0], \n",
    "                          [prob_01, prob_02, prob_12], \n",
    "                          ['sing/e+', 'sing/n', 'n/e+']\n",
    "                         ):\n",
    "    if i==2:\n",
    "        fpr, tpr, thresholds = roc_curve(y_test_2[y_test_2!=i], prob)\n",
    "    else:\n",
    "        fpr, tpr, thresholds = roc_curve(y_test_2[y_test_2!=i]-1, prob)\n",
    "        \n",
    "    auc = roc_auc_score(y_test_2[y_test_2!=i], prob)\n",
    "    plt.plot(fpr, tpr, \n",
    "         label='%s (AUC = %0.3f)'%(label, auc), \n",
    "#          color='darkorange', \n",
    "         lw=2.3, \n",
    "        )\n",
    "plt.xlim([-0.01, 1.0])\n",
    "plt.ylim([0, 1.05])\n",
    "plt.xlabel('False Positive Rate')\n",
    "plt.ylabel('True Positive Rate')\n",
    "plt.title('ROC: Singles vs. neutrons vs. e+')\n",
    "plt.plot([0, 1], [0, 1], color='navy', lw=2.3, linestyle='--')\n",
    "plt.legend()\n",
    "plt.grid()\n",
    "plt.show()"
   ]
  },
  {
   "cell_type": "markdown",
   "id": "b1afa0d5",
   "metadata": {},
   "source": [
    "## Fast-n vs. positrons "
   ]
  },
  {
   "cell_type": "code",
   "execution_count": 688,
   "id": "8550d4c5",
   "metadata": {},
   "outputs": [],
   "source": [
    "samples = np.min([len(positrons), len(neutrons)])\n",
    "data_to_manipulate = [neutrons[:samples], positrons[:samples]]"
   ]
  },
  {
   "cell_type": "code",
   "execution_count": 694,
   "id": "e4f587f7",
   "metadata": {},
   "outputs": [],
   "source": [
    "vector_length=150"
   ]
  },
  {
   "cell_type": "code",
   "execution_count": null,
   "id": "048e49d7-e551-48a6-95da-1b5fcf00c815",
   "metadata": {},
   "outputs": [],
   "source": []
  },
  {
   "cell_type": "code",
   "execution_count": 703,
   "id": "1a0df045",
   "metadata": {},
   "outputs": [
    {
     "name": "stdout",
     "output_type": "stream",
     "text": [
      "Running set 1 of 2\n",
      "Running set 2 of 2\n"
     ]
    }
   ],
   "source": [
    "X, y = prep_net_data(data_to_manipulate, prompt=True, maxlen=vector_length)"
   ]
  },
  {
   "cell_type": "code",
   "execution_count": 704,
   "id": "b22ffe07",
   "metadata": {},
   "outputs": [],
   "source": [
    "X_train, X_test, y_train, y_test = train_test_split(X, y, test_size=0.25, random_state=43)"
   ]
  },
  {
   "cell_type": "code",
   "execution_count": 737,
   "id": "df693d6f",
   "metadata": {},
   "outputs": [],
   "source": [
    "regressor = Sequential()\n",
    "\n",
    "regressor.add(InputLayer(input_shape=(vector_length,5)))\n",
    "regressor.add(LSTM(units=256, \n",
    "                   return_sequences=True, \n",
    "                   dropout=0.1,\n",
    "                  ))  \n",
    "\n",
    "regressor.add(LSTM(units=128, \n",
    "                   return_sequences=True, \n",
    "                   dropout=0.1, \n",
    "                   \n",
    "                  ))\n",
    "\n",
    "regressor.add(LSTM(units=64, \n",
    "                   return_sequences=True, \n",
    "                  dropout=0.0, \n",
    "                  ))\n",
    "\n",
    "regressor.add(LSTM(units=32, \n",
    "                   return_sequences=False, \n",
    "                  dropout=0.0, \n",
    "                  ))\n",
    "\n",
    "# regressor.add(Dense(128, \n",
    "#                     activation='relu', \n",
    "#                    ))\n",
    "\n",
    "# regressor.add(Dropout(0.2))\n",
    "\n",
    "regressor.add(Dense(32, \n",
    "                   activation='relu', \n",
    "                   ))\n",
    "\n",
    "regressor.add(Dense(1, activation='sigmoid'))\n",
    "\n",
    "regressor.compile(loss='binary_crossentropy', optimizer='adam', metrics=['accuracy'])"
   ]
  },
  {
   "cell_type": "code",
   "execution_count": 738,
   "id": "692eafad",
   "metadata": {},
   "outputs": [
    {
     "name": "stdout",
     "output_type": "stream",
     "text": [
      "Model: \"sequential_40\"\n",
      "_________________________________________________________________\n",
      "Layer (type)                 Output Shape              Param #   \n",
      "=================================================================\n",
      "lstm_95 (LSTM)               (None, 150, 256)          268288    \n",
      "_________________________________________________________________\n",
      "lstm_96 (LSTM)               (None, 150, 128)          197120    \n",
      "_________________________________________________________________\n",
      "lstm_97 (LSTM)               (None, 150, 64)           49408     \n",
      "_________________________________________________________________\n",
      "lstm_98 (LSTM)               (None, 32)                12416     \n",
      "_________________________________________________________________\n",
      "dense_41 (Dense)             (None, 32)                1056      \n",
      "_________________________________________________________________\n",
      "dense_42 (Dense)             (None, 1)                 33        \n",
      "=================================================================\n",
      "Total params: 528,321\n",
      "Trainable params: 528,321\n",
      "Non-trainable params: 0\n",
      "_________________________________________________________________\n"
     ]
    }
   ],
   "source": [
    "regressor.summary()"
   ]
  },
  {
   "cell_type": "code",
   "execution_count": 744,
   "id": "23d270a8",
   "metadata": {
    "scrolled": true
   },
   "outputs": [
    {
     "name": "stdout",
     "output_type": "stream",
     "text": [
      "Epoch 1/20\n",
      "503/503 [==============================] - 376s 748ms/step - loss: 0.4782 - accuracy: 0.7642 - val_loss: 0.4950 - val_accuracy: 0.7527\n",
      "Epoch 2/20\n",
      "503/503 [==============================] - 375s 745ms/step - loss: 0.4734 - accuracy: 0.7672 - val_loss: 0.4929 - val_accuracy: 0.7552\n",
      "Epoch 3/20\n",
      "503/503 [==============================] - 376s 748ms/step - loss: 0.4721 - accuracy: 0.7694 - val_loss: 0.4923 - val_accuracy: 0.7549\n",
      "Epoch 4/20\n",
      "503/503 [==============================] - 376s 747ms/step - loss: 0.4692 - accuracy: 0.7720 - val_loss: 0.4954 - val_accuracy: 0.7562\n",
      "Epoch 5/20\n",
      "503/503 [==============================] - 375s 745ms/step - loss: 0.4675 - accuracy: 0.7733 - val_loss: 0.5102 - val_accuracy: 0.7572\n",
      "Epoch 6/20\n",
      "503/503 [==============================] - 376s 748ms/step - loss: 0.4649 - accuracy: 0.7745 - val_loss: 0.4942 - val_accuracy: 0.7567\n",
      "Epoch 7/20\n",
      "503/503 [==============================] - 376s 747ms/step - loss: 0.4607 - accuracy: 0.7776 - val_loss: 0.4958 - val_accuracy: 0.7594\n",
      "Epoch 8/20\n",
      "503/503 [==============================] - 375s 746ms/step - loss: 0.4590 - accuracy: 0.7764 - val_loss: 0.4932 - val_accuracy: 0.7555\n",
      "Epoch 9/20\n",
      "503/503 [==============================] - 375s 746ms/step - loss: 0.4666 - accuracy: 0.7765 - val_loss: 0.4925 - val_accuracy: 0.7552\n",
      "Epoch 10/20\n",
      "503/503 [==============================] - 375s 745ms/step - loss: 0.4635 - accuracy: 0.7768 - val_loss: 0.4914 - val_accuracy: 0.7543\n",
      "Epoch 11/20\n",
      "503/503 [==============================] - 374s 744ms/step - loss: 0.4573 - accuracy: 0.7791 - val_loss: 0.4906 - val_accuracy: 0.7611\n",
      "Epoch 12/20\n",
      "503/503 [==============================] - 374s 744ms/step - loss: 0.4526 - accuracy: 0.7819 - val_loss: 0.4912 - val_accuracy: 0.7568\n",
      "Epoch 13/20\n",
      "503/503 [==============================] - 375s 746ms/step - loss: 0.4508 - accuracy: 0.7856 - val_loss: 0.4962 - val_accuracy: 0.7597\n",
      "Epoch 14/20\n",
      "503/503 [==============================] - 377s 750ms/step - loss: 0.4461 - accuracy: 0.7865 - val_loss: 0.4980 - val_accuracy: 0.7532\n",
      "Epoch 15/20\n",
      "503/503 [==============================] - 377s 749ms/step - loss: 0.4442 - accuracy: 0.7864 - val_loss: 0.5004 - val_accuracy: 0.7553\n",
      "Epoch 16/20\n",
      "503/503 [==============================] - 374s 744ms/step - loss: 0.4463 - accuracy: 0.7877 - val_loss: 0.4984 - val_accuracy: 0.7571\n",
      "Epoch 17/20\n",
      "503/503 [==============================] - 375s 746ms/step - loss: 0.4400 - accuracy: 0.7904 - val_loss: 0.5015 - val_accuracy: 0.7499\n",
      "Epoch 18/20\n",
      "503/503 [==============================] - 375s 746ms/step - loss: 0.4399 - accuracy: 0.7919 - val_loss: 0.5001 - val_accuracy: 0.7590\n",
      "Epoch 19/20\n",
      "503/503 [==============================] - 375s 745ms/step - loss: 0.4330 - accuracy: 0.7966 - val_loss: 0.4988 - val_accuracy: 0.7571\n",
      "Epoch 20/20\n",
      "503/503 [==============================] - 374s 744ms/step - loss: 0.4692 - accuracy: 0.7788 - val_loss: 0.4970 - val_accuracy: 0.7569\n"
     ]
    }
   ],
   "source": [
    "history = regressor.fit(X_train, y_train, \n",
    "          validation_data=(X_test, y_test),\n",
    "          epochs=20, batch_size=64, \n",
    "         )"
   ]
  },
  {
   "cell_type": "code",
   "execution_count": 745,
   "id": "7d5f6394",
   "metadata": {},
   "outputs": [],
   "source": [
    "scores = regressor.predict(X_test)\n",
    "y_pred = np.round(scores)"
   ]
  },
  {
   "cell_type": "code",
   "execution_count": 746,
   "id": "852cc202",
   "metadata": {},
   "outputs": [
    {
     "data": {
      "image/png": "[encoded data removed]",
      "text/plain": [
       "<Figure size 432x288 with 2 Axes>"
      ]
     },
     "metadata": {
      "needs_background": "light"
     },
     "output_type": "display_data"
    }
   ],
   "source": [
    "confmat = confusion_matrix(y_test, y_pred)\n",
    "ax = sns.heatmap(confmat, annot=True, fmt='g', \n",
    "#                  norm=LogNorm()\n",
    "                )\n",
    "\n",
    "ax.set_title('Confusion Matrix from RF: e+ vs. Neutrons')\n",
    "ax.set_xlabel('Predicted PID')\n",
    "ax.set_ylabel('Actual PID')\n",
    "\n",
    "ax.xaxis.set_ticklabels(['neutrons', 'e+'])\n",
    "ax.yaxis.set_ticklabels(['neutrons', 'e+'])\n",
    "\n",
    "plt.show()"
   ]
  },
  {
   "cell_type": "code",
   "execution_count": 747,
   "id": "c36f80d2",
   "metadata": {},
   "outputs": [],
   "source": [
    "fpr, tpr, thresholds = roc_curve(y_test, scores)\n",
    "auc = roc_auc_score(y_test, scores)"
   ]
  },
  {
   "cell_type": "code",
   "execution_count": 748,
   "id": "c4fa9cb0",
   "metadata": {},
   "outputs": [
    {
     "data": {
      "image/png": "[encoded data removed]",
      "text/plain": [
       "<Figure size 432x288 with 1 Axes>"
      ]
     },
     "metadata": {
      "needs_background": "light"
     },
     "output_type": "display_data"
    }
   ],
   "source": [
    "plt.plot(fpr, tpr, \n",
    "         label='ROC curve (area = %0.3f)'%(auc), \n",
    "         color='darkorange', \n",
    "         lw=2.3, \n",
    "        )\n",
    "plt.xlim([-0.01, 1.0])\n",
    "plt.ylim([0, 1.05])\n",
    "plt.xlabel('False Positive Rate')\n",
    "plt.ylabel('True Positive Rate')\n",
    "plt.title('ROC: Neutrons vs. positrons')\n",
    "plt.plot([0, 1], [0, 1], color='navy', lw=2.3, linestyle='--')\n",
    "plt.legend()\n",
    "plt.grid()\n",
    "# plt.xlim([1e-6, 1.0])\n",
    "# plt.ylim([1e-2, 1.05])\n",
    "# plt.xscale('log')\n",
    "# plt.yscale('log')\n",
    "plt.show()"
   ]
  },
  {
   "cell_type": "code",
   "execution_count": null,
   "id": "030e4ac4",
   "metadata": {},
   "outputs": [],
   "source": []
  },
  {
   "cell_type": "markdown",
   "id": "5c9b4767",
   "metadata": {},
   "source": [
    "## Compare with dense.."
   ]
  },
  {
   "cell_type": "code",
   "execution_count": 342,
   "id": "0c0cb71d",
   "metadata": {
    "collapsed": true,
    "jupyter": {
     "outputs_hidden": true
    }
   },
   "outputs": [
    {
     "name": "stdout",
     "output_type": "stream",
     "text": [
      "WARNING:tensorflow:Please add `keras.layers.InputLayer` instead of `keras.Input` to Sequential model. `keras.Input` is intended to be used by Functional model.\n",
      "Model: \"sequential_40\"\n",
      "_________________________________________________________________\n",
      "Layer (type)                 Output Shape              Param #   \n",
      "=================================================================\n",
      "dense_49 (Dense)             (None, 200)               20200     \n",
      "_________________________________________________________________\n",
      "dense_50 (Dense)             (None, 32)                6432      \n",
      "_________________________________________________________________\n",
      "dense_51 (Dense)             (None, 1)                 33        \n",
      "=================================================================\n",
      "Total params: 26,665\n",
      "Trainable params: 26,665\n",
      "Non-trainable params: 0\n",
      "_________________________________________________________________\n",
      "None\n"
     ]
    }
   ],
   "source": [
    "model = Sequential()\n",
    "# create the model\n",
    "model.add(Input(100))\n",
    "model.add(Dense(200, activation='relu'))\n",
    "model.add(Dense(32, activation='relu'))\n",
    "# model.add(LSTM(100))\n",
    "# model.add(Dense(10, activation='relu'))\n",
    "model.add(Dense(1, activation='sigmoid'))\n",
    "model.compile(loss='binary_crossentropy', optimizer='adam', metrics=['accuracy'])\n",
    "print(model.summary())"
   ]
  },
  {
   "cell_type": "code",
   "execution_count": 343,
   "id": "0a147716",
   "metadata": {
    "collapsed": true,
    "jupyter": {
     "outputs_hidden": true
    }
   },
   "outputs": [
    {
     "name": "stdout",
     "output_type": "stream",
     "text": [
      "Epoch 1/4\n",
      "31/31 [==============================] - 1s 13ms/step - loss: 75.3347 - accuracy: 0.6782 - val_loss: 24.5491 - val_accuracy: 0.8495\n",
      "Epoch 2/4\n",
      "31/31 [==============================] - 0s 4ms/step - loss: 15.1592 - accuracy: 0.8757 - val_loss: 12.7255 - val_accuracy: 0.8351\n",
      "Epoch 3/4\n",
      "31/31 [==============================] - 0s 4ms/step - loss: 6.8806 - accuracy: 0.8535 - val_loss: 14.7000 - val_accuracy: 0.8804\n",
      "Epoch 4/4\n",
      "31/31 [==============================] - 0s 3ms/step - loss: 7.4078 - accuracy: 0.8882 - val_loss: 12.4183 - val_accuracy: 0.8639\n"
     ]
    },
    {
     "data": {
      "text/plain": [
       "<keras.callbacks.History at 0x7f7bfc6452e0>"
      ]
     },
     "execution_count": 343,
     "metadata": {},
     "output_type": "execute_result"
    }
   ],
   "source": [
    "model.fit(X_train, y_train, \n",
    "          validation_data=(X_test, y_test),\n",
    "          epochs=4, batch_size=32, \n",
    "         )"
   ]
  },
  {
   "cell_type": "code",
   "execution_count": 344,
   "id": "feb304c3",
   "metadata": {
    "collapsed": true,
    "jupyter": {
     "outputs_hidden": true
    }
   },
   "outputs": [
    {
     "name": "stderr",
     "output_type": "stream",
     "text": [
      "/home/sophiafarrell/.local/lib/python3.8/site-packages/keras/engine/sequential.py:450: UserWarning: `model.predict_classes()` is deprecated and will be removed after 2021-01-01. Please use instead:* `np.argmax(model.predict(x), axis=-1)`,   if your model does multi-class classification   (e.g. if it uses a `softmax` last-layer activation).* `(model.predict(x) > 0.5).astype(\"int32\")`,   if your model does binary classification   (e.g. if it uses a `sigmoid` last-layer activation).\n",
      "  warnings.warn('`model.predict_classes()` is deprecated and '\n"
     ]
    }
   ],
   "source": [
    "y_pred = model.predict_classes(X_test)"
   ]
  },
  {
   "cell_type": "code",
   "execution_count": 345,
   "id": "087a9c54",
   "metadata": {
    "collapsed": true,
    "jupyter": {
     "outputs_hidden": true
    }
   },
   "outputs": [
    {
     "data": {
      "image/png": "[encoded data removed]",
      "text/plain": [
       "<Figure size 432x288 with 1 Axes>"
      ]
     },
     "metadata": {
      "needs_background": "light"
     },
     "output_type": "display_data"
    }
   ],
   "source": [
    "bins = plt.hist(model.predict(X_test[y_test==0]), \n",
    "         bins=np.linspace(0,1,50), histtype='step')\n",
    "plt.hist(model.predict(X_test[y_test==1]), \n",
    "         bins=bins[1], histtype='step')\n",
    "plt.show()"
   ]
  },
  {
   "cell_type": "code",
   "execution_count": 346,
   "id": "c32bd926",
   "metadata": {
    "collapsed": true,
    "jupyter": {
     "outputs_hidden": true
    }
   },
   "outputs": [
    {
     "data": {
      "image/png": "[encoded data removed]",
      "text/plain": [
       "<Figure size 432x288 with 2 Axes>"
      ]
     },
     "metadata": {
      "needs_background": "light"
     },
     "output_type": "display_data"
    }
   ],
   "source": [
    "confmat = confusion_matrix(y_test, y_pred)\n",
    "ax = sns.heatmap(confmat, annot=True, fmt='g', \n",
    "#                  norm=LogNorm()\n",
    "                )\n",
    "\n",
    "ax.set_title('Confusion Matrix from RF: fast-n vs. Singles')\n",
    "ax.set_xlabel('Predicted PID')\n",
    "ax.set_ylabel('Actual PID')\n",
    "\n",
    "ax.xaxis.set_ticklabels(['Singles', 'fast-n'])\n",
    "ax.yaxis.set_ticklabels(['Singles', 'fast-n'])\n",
    "\n",
    "plt.show()"
   ]
  },
  {
   "cell_type": "code",
   "execution_count": null,
   "id": "21432b8a",
   "metadata": {},
   "outputs": [],
   "source": []
  },
  {
   "cell_type": "code",
   "execution_count": null,
   "id": "bdf267d8",
   "metadata": {},
   "outputs": [],
   "source": []
  },
  {
   "cell_type": "code",
   "execution_count": null,
   "id": "e620aedf",
   "metadata": {},
   "outputs": [],
   "source": []
  }
 ],
 "metadata": {
  "kernelspec": {
   "display_name": "Python [conda env:.conda-sjf]",
   "language": "python",
   "name": "conda-env-.conda-sjf-py"
  },
  "language_info": {
   "codemirror_mode": {
    "name": "ipython",
    "version": 3
   },
   "file_extension": ".py",
   "mimetype": "text/x-python",
   "name": "python",
   "nbconvert_exporter": "python",
   "pygments_lexer": "ipython3",
   "version": "3.8.2"
  }
 },
 "nbformat": 4,
 "nbformat_minor": 5
}
