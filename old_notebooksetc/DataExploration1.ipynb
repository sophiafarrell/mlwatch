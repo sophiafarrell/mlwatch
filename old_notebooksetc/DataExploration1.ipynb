{
 "cells": [
  {
   "cell_type": "code",
   "execution_count": 2,
   "metadata": {},
   "outputs": [],
   "source": [
    "import pandas as pd\n",
    "import numpy as np\n",
    "import matplotlib.pyplot as plt\n",
    "from pprint import pprint"
   ]
  },
  {
   "cell_type": "code",
   "execution_count": 3,
   "metadata": {},
   "outputs": [],
   "source": [
    "pd.set_option('display.max_columns', 500)"
   ]
  },
  {
   "cell_type": "code",
   "execution_count": 4,
   "metadata": {},
   "outputs": [],
   "source": [
    "FILE_NAME = 'b_fastneutrons.pkl'\n",
    "df = pd.read_pickle(FILE_NAME)"
   ]
  },
  {
   "cell_type": "code",
   "execution_count": 5,
   "metadata": {},
   "outputs": [
    {
     "data": {
      "text/html": [
       "<div>\n",
       "<style scoped>\n",
       "    .dataframe tbody tr th:only-of-type {\n",
       "        vertical-align: middle;\n",
       "    }\n",
       "\n",
       "    .dataframe tbody tr th {\n",
       "        vertical-align: top;\n",
       "    }\n",
       "\n",
       "    .dataframe thead th {\n",
       "        text-align: right;\n",
       "    }\n",
       "</style>\n",
       "<table border=\"1\" class=\"dataframe\">\n",
       "  <thead>\n",
       "    <tr style=\"text-align: right;\">\n",
       "      <th></th>\n",
       "      <th>gtid</th>\n",
       "      <th>mcid</th>\n",
       "      <th>subid</th>\n",
       "      <th>inner_hit</th>\n",
       "      <th>inner_hit_prev</th>\n",
       "      <th>id_plus_dr_hit</th>\n",
       "      <th>veto_hit</th>\n",
       "      <th>veto_plus_dr_hit</th>\n",
       "      <th>veto_hit_prev</th>\n",
       "      <th>pe</th>\n",
       "      <th>innerPE</th>\n",
       "      <th>vetoPE</th>\n",
       "      <th>n9</th>\n",
       "      <th>n9_prev</th>\n",
       "      <th>nOff</th>\n",
       "      <th>n100</th>\n",
       "      <th>n100_prev</th>\n",
       "      <th>n400</th>\n",
       "      <th>n400_prev</th>\n",
       "      <th>nX</th>\n",
       "      <th>nX_prev</th>\n",
       "      <th>good_pos</th>\n",
       "      <th>good_pos_prev</th>\n",
       "      <th>good_dir</th>\n",
       "      <th>good_dir_prev</th>\n",
       "      <th>x</th>\n",
       "      <th>y</th>\n",
       "      <th>z</th>\n",
       "      <th>t</th>\n",
       "      <th>u</th>\n",
       "      <th>v</th>\n",
       "      <th>w</th>\n",
       "      <th>azimuth_ks</th>\n",
       "      <th>azimuth_ks_prev</th>\n",
       "      <th>distpmt</th>\n",
       "      <th>mc_energy</th>\n",
       "      <th>mcx</th>\n",
       "      <th>mcy</th>\n",
       "      <th>mcz</th>\n",
       "      <th>mct</th>\n",
       "      <th>mcu</th>\n",
       "      <th>mcv</th>\n",
       "      <th>mcw</th>\n",
       "      <th>closestPMT</th>\n",
       "      <th>closestPMT_prev</th>\n",
       "      <th>dxPrevx</th>\n",
       "      <th>dyPrevy</th>\n",
       "      <th>dzPrevz</th>\n",
       "      <th>drPrevr</th>\n",
       "      <th>drPrevrQFit</th>\n",
       "      <th>dxmcx</th>\n",
       "      <th>dymcy</th>\n",
       "      <th>dzmcz</th>\n",
       "      <th>drmcr</th>\n",
       "      <th>dt_sub</th>\n",
       "      <th>dt_prev_us</th>\n",
       "      <th>timestamp</th>\n",
       "      <th>num_tested</th>\n",
       "      <th>best_like</th>\n",
       "      <th>worst_like</th>\n",
       "      <th>average_like</th>\n",
       "      <th>average_like_05m</th>\n",
       "    </tr>\n",
       "  </thead>\n",
       "  <tbody>\n",
       "    <tr>\n",
       "      <th>0</th>\n",
       "      <td>1</td>\n",
       "      <td>35</td>\n",
       "      <td>0</td>\n",
       "      <td>10</td>\n",
       "      <td>0</td>\n",
       "      <td>17</td>\n",
       "      <td>0</td>\n",
       "      <td>0</td>\n",
       "      <td>0</td>\n",
       "      <td>11.460295</td>\n",
       "      <td>11.460295</td>\n",
       "      <td>0.0</td>\n",
       "      <td>8.0</td>\n",
       "      <td>0.0</td>\n",
       "      <td>4.0</td>\n",
       "      <td>10.0</td>\n",
       "      <td>0.0</td>\n",
       "      <td>10.0</td>\n",
       "      <td>0.0</td>\n",
       "      <td>8.0</td>\n",
       "      <td>0.0</td>\n",
       "      <td>0.789278</td>\n",
       "      <td>0.000000</td>\n",
       "      <td>0.648118</td>\n",
       "      <td>0.000000</td>\n",
       "      <td>-5410.972290</td>\n",
       "      <td>115.584459</td>\n",
       "      <td>-5231.442871</td>\n",
       "      <td>-31.006592</td>\n",
       "      <td>0.499171</td>\n",
       "      <td>-0.064281</td>\n",
       "      <td>0.864116</td>\n",
       "      <td>0.254855</td>\n",
       "      <td>0.000000</td>\n",
       "      <td>542.238795</td>\n",
       "      <td>971.433350</td>\n",
       "      <td>-5780.381514</td>\n",
       "      <td>1267.406819</td>\n",
       "      <td>-8162.069238</td>\n",
       "      <td>0.000000</td>\n",
       "      <td>0.039815</td>\n",
       "      <td>-0.636746</td>\n",
       "      <td>0.770045</td>\n",
       "      <td>287.793344</td>\n",
       "      <td>0.000000</td>\n",
       "      <td>0.000000</td>\n",
       "      <td>0.000000</td>\n",
       "      <td>0.000000</td>\n",
       "      <td>0.000000</td>\n",
       "      <td>-999999.99</td>\n",
       "      <td>369.409224</td>\n",
       "      <td>-1151.822359</td>\n",
       "      <td>2930.626367</td>\n",
       "      <td>3170.446156</td>\n",
       "      <td>44830.671875</td>\n",
       "      <td>1.811148e+09</td>\n",
       "      <td>1.811148e+09</td>\n",
       "      <td>46</td>\n",
       "      <td>-39.944118</td>\n",
       "      <td>-64.162354</td>\n",
       "      <td>-45.441990</td>\n",
       "      <td>-47.000507</td>\n",
       "    </tr>\n",
       "    <tr>\n",
       "      <th>1</th>\n",
       "      <td>2</td>\n",
       "      <td>170</td>\n",
       "      <td>0</td>\n",
       "      <td>20</td>\n",
       "      <td>10</td>\n",
       "      <td>26</td>\n",
       "      <td>0</td>\n",
       "      <td>0</td>\n",
       "      <td>0</td>\n",
       "      <td>25.446104</td>\n",
       "      <td>25.446104</td>\n",
       "      <td>0.0</td>\n",
       "      <td>17.0</td>\n",
       "      <td>8.0</td>\n",
       "      <td>1.0</td>\n",
       "      <td>19.0</td>\n",
       "      <td>10.0</td>\n",
       "      <td>19.0</td>\n",
       "      <td>10.0</td>\n",
       "      <td>17.0</td>\n",
       "      <td>8.0</td>\n",
       "      <td>0.838849</td>\n",
       "      <td>0.789278</td>\n",
       "      <td>0.388606</td>\n",
       "      <td>0.648118</td>\n",
       "      <td>-3644.729614</td>\n",
       "      <td>-4685.351868</td>\n",
       "      <td>2142.980194</td>\n",
       "      <td>-4.913208</td>\n",
       "      <td>0.146642</td>\n",
       "      <td>0.964007</td>\n",
       "      <td>-0.221782</td>\n",
       "      <td>0.295343</td>\n",
       "      <td>0.254855</td>\n",
       "      <td>-279.212094</td>\n",
       "      <td>148.939896</td>\n",
       "      <td>-5744.316139</td>\n",
       "      <td>-7454.879993</td>\n",
       "      <td>-197.722908</td>\n",
       "      <td>0.000000</td>\n",
       "      <td>0.625811</td>\n",
       "      <td>0.589058</td>\n",
       "      <td>0.511245</td>\n",
       "      <td>-236.040438</td>\n",
       "      <td>287.793344</td>\n",
       "      <td>1766.242676</td>\n",
       "      <td>-4800.936327</td>\n",
       "      <td>7374.423065</td>\n",
       "      <td>8975.005201</td>\n",
       "      <td>-999999.99</td>\n",
       "      <td>2099.586525</td>\n",
       "      <td>2769.528125</td>\n",
       "      <td>2340.703102</td>\n",
       "      <td>4190.159976</td>\n",
       "      <td>42.877274</td>\n",
       "      <td>5.987450e+09</td>\n",
       "      <td>7.798598e+09</td>\n",
       "      <td>102</td>\n",
       "      <td>-26.860764</td>\n",
       "      <td>-77.578056</td>\n",
       "      <td>-41.626789</td>\n",
       "      <td>-43.895313</td>\n",
       "    </tr>\n",
       "    <tr>\n",
       "      <th>2</th>\n",
       "      <td>3</td>\n",
       "      <td>968</td>\n",
       "      <td>0</td>\n",
       "      <td>13</td>\n",
       "      <td>20</td>\n",
       "      <td>19</td>\n",
       "      <td>0</td>\n",
       "      <td>0</td>\n",
       "      <td>0</td>\n",
       "      <td>12.569269</td>\n",
       "      <td>12.569270</td>\n",
       "      <td>0.0</td>\n",
       "      <td>9.0</td>\n",
       "      <td>17.0</td>\n",
       "      <td>0.0</td>\n",
       "      <td>12.0</td>\n",
       "      <td>19.0</td>\n",
       "      <td>13.0</td>\n",
       "      <td>19.0</td>\n",
       "      <td>9.0</td>\n",
       "      <td>17.0</td>\n",
       "      <td>0.817432</td>\n",
       "      <td>0.838849</td>\n",
       "      <td>0.678714</td>\n",
       "      <td>0.388606</td>\n",
       "      <td>1930.450287</td>\n",
       "      <td>-5140.690308</td>\n",
       "      <td>-5948.630981</td>\n",
       "      <td>-11.479675</td>\n",
       "      <td>-0.223983</td>\n",
       "      <td>0.540341</td>\n",
       "      <td>0.811088</td>\n",
       "      <td>0.582609</td>\n",
       "      <td>0.295343</td>\n",
       "      <td>-306.540184</td>\n",
       "      <td>364.926514</td>\n",
       "      <td>2745.886785</td>\n",
       "      <td>-6309.694033</td>\n",
       "      <td>-8155.102040</td>\n",
       "      <td>0.000000</td>\n",
       "      <td>-0.277808</td>\n",
       "      <td>0.640063</td>\n",
       "      <td>0.716339</td>\n",
       "      <td>-248.630981</td>\n",
       "      <td>-236.040438</td>\n",
       "      <td>5575.179901</td>\n",
       "      <td>-455.338440</td>\n",
       "      <td>-8091.611176</td>\n",
       "      <td>9836.876305</td>\n",
       "      <td>-999999.99</td>\n",
       "      <td>-815.436498</td>\n",
       "      <td>1169.003726</td>\n",
       "      <td>2206.471058</td>\n",
       "      <td>2626.789090</td>\n",
       "      <td>3418.414062</td>\n",
       "      <td>4.205355e+10</td>\n",
       "      <td>4.985215e+10</td>\n",
       "      <td>59</td>\n",
       "      <td>-40.513748</td>\n",
       "      <td>-68.447044</td>\n",
       "      <td>-45.688889</td>\n",
       "      <td>-46.814968</td>\n",
       "    </tr>\n",
       "    <tr>\n",
       "      <th>3</th>\n",
       "      <td>4</td>\n",
       "      <td>968</td>\n",
       "      <td>1</td>\n",
       "      <td>22</td>\n",
       "      <td>13</td>\n",
       "      <td>37</td>\n",
       "      <td>0</td>\n",
       "      <td>0</td>\n",
       "      <td>0</td>\n",
       "      <td>23.591473</td>\n",
       "      <td>23.591472</td>\n",
       "      <td>0.0</td>\n",
       "      <td>18.0</td>\n",
       "      <td>9.0</td>\n",
       "      <td>1.0</td>\n",
       "      <td>23.0</td>\n",
       "      <td>12.0</td>\n",
       "      <td>26.0</td>\n",
       "      <td>13.0</td>\n",
       "      <td>18.0</td>\n",
       "      <td>9.0</td>\n",
       "      <td>0.814494</td>\n",
       "      <td>0.817432</td>\n",
       "      <td>0.584598</td>\n",
       "      <td>0.678714</td>\n",
       "      <td>2021.343994</td>\n",
       "      <td>-5126.560059</td>\n",
       "      <td>-6149.542236</td>\n",
       "      <td>-7.686523</td>\n",
       "      <td>-0.150731</td>\n",
       "      <td>0.477766</td>\n",
       "      <td>0.865460</td>\n",
       "      <td>0.492760</td>\n",
       "      <td>0.582609</td>\n",
       "      <td>-519.425937</td>\n",
       "      <td>364.926514</td>\n",
       "      <td>1944.139476</td>\n",
       "      <td>-4462.483905</td>\n",
       "      <td>-6087.760636</td>\n",
       "      <td>13.877545</td>\n",
       "      <td>-0.277808</td>\n",
       "      <td>0.640063</td>\n",
       "      <td>0.716339</td>\n",
       "      <td>-449.542236</td>\n",
       "      <td>-248.630981</td>\n",
       "      <td>90.893707</td>\n",
       "      <td>14.130249</td>\n",
       "      <td>-200.911255</td>\n",
       "      <td>220.967559</td>\n",
       "      <td>-999999.99</td>\n",
       "      <td>77.204518</td>\n",
       "      <td>-664.076153</td>\n",
       "      <td>-61.781601</td>\n",
       "      <td>671.397528</td>\n",
       "      <td>15360.767578</td>\n",
       "      <td>1.175000e+01</td>\n",
       "      <td>4.985215e+10</td>\n",
       "      <td>154</td>\n",
       "      <td>-55.290619</td>\n",
       "      <td>-124.414581</td>\n",
       "      <td>-76.677658</td>\n",
       "      <td>-78.842926</td>\n",
       "    </tr>\n",
       "    <tr>\n",
       "      <th>4</th>\n",
       "      <td>5</td>\n",
       "      <td>1616</td>\n",
       "      <td>0</td>\n",
       "      <td>22</td>\n",
       "      <td>22</td>\n",
       "      <td>29</td>\n",
       "      <td>0</td>\n",
       "      <td>0</td>\n",
       "      <td>0</td>\n",
       "      <td>21.095167</td>\n",
       "      <td>21.095168</td>\n",
       "      <td>0.0</td>\n",
       "      <td>15.0</td>\n",
       "      <td>18.0</td>\n",
       "      <td>0.0</td>\n",
       "      <td>21.0</td>\n",
       "      <td>23.0</td>\n",
       "      <td>24.0</td>\n",
       "      <td>26.0</td>\n",
       "      <td>15.0</td>\n",
       "      <td>18.0</td>\n",
       "      <td>0.734204</td>\n",
       "      <td>0.814494</td>\n",
       "      <td>0.267561</td>\n",
       "      <td>0.584598</td>\n",
       "      <td>-4105.549622</td>\n",
       "      <td>-2951.700745</td>\n",
       "      <td>4786.076660</td>\n",
       "      <td>-7.734741</td>\n",
       "      <td>0.704655</td>\n",
       "      <td>0.709526</td>\n",
       "      <td>-0.005781</td>\n",
       "      <td>0.225727</td>\n",
       "      <td>0.492760</td>\n",
       "      <td>651.413661</td>\n",
       "      <td>470.497040</td>\n",
       "      <td>-4293.614775</td>\n",
       "      <td>-8450.047557</td>\n",
       "      <td>3282.345016</td>\n",
       "      <td>0.000000</td>\n",
       "      <td>0.517760</td>\n",
       "      <td>0.848060</td>\n",
       "      <td>0.112774</td>\n",
       "      <td>643.511596</td>\n",
       "      <td>-449.542236</td>\n",
       "      <td>-6126.893616</td>\n",
       "      <td>2174.859314</td>\n",
       "      <td>10935.618896</td>\n",
       "      <td>12722.287493</td>\n",
       "      <td>-999999.99</td>\n",
       "      <td>188.065154</td>\n",
       "      <td>5498.346812</td>\n",
       "      <td>1503.731644</td>\n",
       "      <td>5703.366990</td>\n",
       "      <td>9267.703125</td>\n",
       "      <td>3.566026e+10</td>\n",
       "      <td>8.551242e+10</td>\n",
       "      <td>104</td>\n",
       "      <td>-46.699371</td>\n",
       "      <td>-87.276482</td>\n",
       "      <td>-59.234688</td>\n",
       "      <td>-61.327457</td>\n",
       "    </tr>\n",
       "  </tbody>\n",
       "</table>\n",
       "</div>"
      ],
      "text/plain": [
       "   gtid  mcid  subid  inner_hit  inner_hit_prev  id_plus_dr_hit  veto_hit  \\\n",
       "0     1    35      0         10               0              17         0   \n",
       "1     2   170      0         20              10              26         0   \n",
       "2     3   968      0         13              20              19         0   \n",
       "3     4   968      1         22              13              37         0   \n",
       "4     5  1616      0         22              22              29         0   \n",
       "\n",
       "   veto_plus_dr_hit  veto_hit_prev         pe    innerPE  vetoPE    n9  \\\n",
       "0                 0              0  11.460295  11.460295     0.0   8.0   \n",
       "1                 0              0  25.446104  25.446104     0.0  17.0   \n",
       "2                 0              0  12.569269  12.569270     0.0   9.0   \n",
       "3                 0              0  23.591473  23.591472     0.0  18.0   \n",
       "4                 0              0  21.095167  21.095168     0.0  15.0   \n",
       "\n",
       "   n9_prev  nOff  n100  n100_prev  n400  n400_prev    nX  nX_prev  good_pos  \\\n",
       "0      0.0   4.0  10.0        0.0  10.0        0.0   8.0      0.0  0.789278   \n",
       "1      8.0   1.0  19.0       10.0  19.0       10.0  17.0      8.0  0.838849   \n",
       "2     17.0   0.0  12.0       19.0  13.0       19.0   9.0     17.0  0.817432   \n",
       "3      9.0   1.0  23.0       12.0  26.0       13.0  18.0      9.0  0.814494   \n",
       "4     18.0   0.0  21.0       23.0  24.0       26.0  15.0     18.0  0.734204   \n",
       "\n",
       "   good_pos_prev  good_dir  good_dir_prev            x            y  \\\n",
       "0       0.000000  0.648118       0.000000 -5410.972290   115.584459   \n",
       "1       0.789278  0.388606       0.648118 -3644.729614 -4685.351868   \n",
       "2       0.838849  0.678714       0.388606  1930.450287 -5140.690308   \n",
       "3       0.817432  0.584598       0.678714  2021.343994 -5126.560059   \n",
       "4       0.814494  0.267561       0.584598 -4105.549622 -2951.700745   \n",
       "\n",
       "             z          t         u         v         w  azimuth_ks  \\\n",
       "0 -5231.442871 -31.006592  0.499171 -0.064281  0.864116    0.254855   \n",
       "1  2142.980194  -4.913208  0.146642  0.964007 -0.221782    0.295343   \n",
       "2 -5948.630981 -11.479675 -0.223983  0.540341  0.811088    0.582609   \n",
       "3 -6149.542236  -7.686523 -0.150731  0.477766  0.865460    0.492760   \n",
       "4  4786.076660  -7.734741  0.704655  0.709526 -0.005781    0.225727   \n",
       "\n",
       "   azimuth_ks_prev     distpmt   mc_energy          mcx          mcy  \\\n",
       "0         0.000000  542.238795  971.433350 -5780.381514  1267.406819   \n",
       "1         0.254855 -279.212094  148.939896 -5744.316139 -7454.879993   \n",
       "2         0.295343 -306.540184  364.926514  2745.886785 -6309.694033   \n",
       "3         0.582609 -519.425937  364.926514  1944.139476 -4462.483905   \n",
       "4         0.492760  651.413661  470.497040 -4293.614775 -8450.047557   \n",
       "\n",
       "           mcz        mct       mcu       mcv       mcw  closestPMT  \\\n",
       "0 -8162.069238   0.000000  0.039815 -0.636746  0.770045  287.793344   \n",
       "1  -197.722908   0.000000  0.625811  0.589058  0.511245 -236.040438   \n",
       "2 -8155.102040   0.000000 -0.277808  0.640063  0.716339 -248.630981   \n",
       "3 -6087.760636  13.877545 -0.277808  0.640063  0.716339 -449.542236   \n",
       "4  3282.345016   0.000000  0.517760  0.848060  0.112774  643.511596   \n",
       "\n",
       "   closestPMT_prev      dxPrevx      dyPrevy       dzPrevz       drPrevr  \\\n",
       "0         0.000000     0.000000     0.000000      0.000000      0.000000   \n",
       "1       287.793344  1766.242676 -4800.936327   7374.423065   8975.005201   \n",
       "2      -236.040438  5575.179901  -455.338440  -8091.611176   9836.876305   \n",
       "3      -248.630981    90.893707    14.130249   -200.911255    220.967559   \n",
       "4      -449.542236 -6126.893616  2174.859314  10935.618896  12722.287493   \n",
       "\n",
       "   drPrevrQFit        dxmcx        dymcy        dzmcz        drmcr  \\\n",
       "0   -999999.99   369.409224 -1151.822359  2930.626367  3170.446156   \n",
       "1   -999999.99  2099.586525  2769.528125  2340.703102  4190.159976   \n",
       "2   -999999.99  -815.436498  1169.003726  2206.471058  2626.789090   \n",
       "3   -999999.99    77.204518  -664.076153   -61.781601   671.397528   \n",
       "4   -999999.99   188.065154  5498.346812  1503.731644  5703.366990   \n",
       "\n",
       "         dt_sub    dt_prev_us     timestamp  num_tested  best_like  \\\n",
       "0  44830.671875  1.811148e+09  1.811148e+09          46 -39.944118   \n",
       "1     42.877274  5.987450e+09  7.798598e+09         102 -26.860764   \n",
       "2   3418.414062  4.205355e+10  4.985215e+10          59 -40.513748   \n",
       "3  15360.767578  1.175000e+01  4.985215e+10         154 -55.290619   \n",
       "4   9267.703125  3.566026e+10  8.551242e+10         104 -46.699371   \n",
       "\n",
       "   worst_like  average_like  average_like_05m  \n",
       "0  -64.162354    -45.441990        -47.000507  \n",
       "1  -77.578056    -41.626789        -43.895313  \n",
       "2  -68.447044    -45.688889        -46.814968  \n",
       "3 -124.414581    -76.677658        -78.842926  \n",
       "4  -87.276482    -59.234688        -61.327457  "
      ]
     },
     "execution_count": 5,
     "metadata": {},
     "output_type": "execute_result"
    }
   ],
   "source": [
    "df.head()"
   ]
  },
  {
   "cell_type": "markdown",
   "metadata": {},
   "source": [
    "### Clean out the non-constructed events"
   ]
  },
  {
   "cell_type": "code",
   "execution_count": 6,
   "metadata": {},
   "outputs": [],
   "source": [
    "def clean_data(df):\n",
    "    df_cleaned = df[df['azimuth_ks']>0]\n",
    "    return df_cleaned"
   ]
  },
  {
   "cell_type": "code",
   "execution_count": 7,
   "metadata": {},
   "outputs": [],
   "source": [
    "df = clean_data(df)"
   ]
  },
  {
   "cell_type": "code",
   "execution_count": 8,
   "metadata": {},
   "outputs": [],
   "source": [
    "# what = df.columns.values\n",
    "# new_labels = np.asarray([f.decode('utf-8') for f in what])\n",
    "# df.columns = new_labels"
   ]
  },
  {
   "cell_type": "markdown",
   "metadata": {},
   "source": [
    "Assuming dimensions of space (x, y, z, r) are in cm"
   ]
  },
  {
   "cell_type": "markdown",
   "metadata": {},
   "source": [
    "## Dimensions"
   ]
  },
  {
   "cell_type": "markdown",
   "metadata": {},
   "source": [
    "| Variable | Description | Units |\n",
    "| --- | --- | --- |\n",
    "| gtid | Event ID in frame | -- |\n",
    "| mcid | Eveny ID in MC process | -- |\n",
    "| subid | Sub-event id | -- |\n",
    "| inner_hit | Number of PMT hits from inside vol | # PMTs |\n",
    "| inner_hit_prev | inner_hit from previous event <br> (same of all X_prev variables) | # PMTs |\n",
    "| **id_plus_dr_hit** | ?? | ?? |  \n",
    "| veto_hit | # hits from veto PMTs | # PMTs |\n",
    "| **veto_plus_dr_hit** | ?? | ?? | \n",
    "| pe | total area from all hits | PE (photoelectrons) | \n",
    "| innerPE | area from inner_hit | PE (photoelectrons) | \n",
    "| vetoPE | area from veto_hit | PE (photoelectrons) | \n",
    "| n9 | prompt light collected (+6ns and -3ns) | **hits?** |\n",
    "| nOff | ?? | hits |\n",
    "| n100 | 100ns window of hits | hits |\n",
    "| n400 | 400ns window of hits | hits |\n",
    "| nX | variable prompt measurement | hits |\n",
    "| **good_dir** | ?? | ?? |\n",
    "| x, y, z | vertex (prompt?) (reconstructed) | mm |\n",
    "| **t, u, v, w** | time, direction of Cerenkov cone | us, ?? |\n",
    "| **azimuth_ks** | ks test on azimuthal measurement (isotropy) | -- |\n",
    "| **distpmt** | ?? (avg dist to PMTs with hits?) dist to aall? | mm |\n",
    "| **mc_energy** | True Energy of ?? (neutron, deposited?) | ?? | \n",
    "| mcx, mcy, mcz | Truth position (prompt?) | mm |\n",
    "| mct, mcu, mcv, mcw | Truth t, u, v, w variables | us, -- |\n",
    "| **closestPMT** | distance to closest PMT hit? (to wall?) | mm |\n",
    "| dxPrevx, dyPrevy, dzPrevz, drPrevr | difference in position between this and prev event | mm |\n",
    "| drPrevrQFit | diff in r position using QFit algo? | mm |\n",
    "| dxmcx, dxmcy, dxmcz, drmcr | diff in MC truth/reconstructed position | mm |\n",
    "| dt_sub | Time between sub events?? | ?? |\n",
    "| dt_prev_us | time difference between last event | us | \n",
    "| timestamp | MC(?) time of event | us |\n",
    "| **num_tested** | ?? | ?? |\n",
    "| **best_like**, **worst_like, average_like, average_like_05m** | ?? | ?? |"
   ]
  },
  {
   "cell_type": "code",
   "execution_count": 12,
   "metadata": {
    "jupyter": {
     "source_hidden": true
    }
   },
   "outputs": [
    {
     "name": "stdout",
     "output_type": "stream",
     "text": [
      "Index(['gtid', 'mcid', 'subid', 'inner_hit', 'inner_hit_prev',\n",
      "       'id_plus_dr_hit', 'veto_hit', 'veto_plus_dr_hit', 'veto_hit_prev', 'pe',\n",
      "       'innerPE', 'vetoPE', 'n9', 'n9_prev', 'nOff', 'n100', 'n100_prev',\n",
      "       'n400', 'n400_prev', 'nX', 'nX_prev', 'good_pos', 'good_pos_prev',\n",
      "       'good_dir', 'good_dir_prev', 'x', 'y', 'z', 't', 'u', 'v', 'w',\n",
      "       'azimuth_ks', 'azimuth_ks_prev', 'distpmt', 'mc_energy', 'mcx', 'mcy',\n",
      "       'mcz', 'mct', 'mcu', 'mcv', 'mcw', 'closestPMT', 'closestPMT_prev',\n",
      "       'dxPrevx', 'dyPrevy', 'dzPrevz', 'drPrevr', 'drPrevrQFit', 'dxmcx',\n",
      "       'dymcy', 'dzmcz', 'drmcr', 'dt_sub', 'dt_prev_us', 'timestamp',\n",
      "       'num_tested', 'best_like', 'worst_like', 'average_like',\n",
      "       'average_like_05m'],\n",
      "      dtype='object')\n"
     ]
    }
   ],
   "source": [
    "print(df.keys())"
   ]
  },
  {
   "cell_type": "code",
   "execution_count": 40,
   "metadata": {},
   "outputs": [
    {
     "data": {
      "image/png": "[encoded data removed]",
      "text/plain": [
       "<Figure size 432x288 with 2 Axes>"
      ]
     },
     "metadata": {
      "needs_background": "light"
     },
     "output_type": "display_data"
    }
   ],
   "source": [
    "plt.scatter(df['drPrevr']/1e3, df['dt_prev_us']/1e6, \n",
    "            c=df['n9'], \n",
    "           vmin=0, vmax=50, \n",
    "           )\n",
    "plt.colorbar(label='n9', )\n",
    "plt.xlabel('inter-event distance (m)', fontsize=12)\n",
    "plt.ylabel('inter-event time [s]', fontsize=12)\n",
    "plt.xscale('log')\n",
    "plt.yscale('log')\n",
    "plt.grid()"
   ]
  },
  {
   "cell_type": "code",
   "execution_count": 56,
   "metadata": {},
   "outputs": [
    {
     "data": {
      "image/png": "[encoded data removed]",
      "text/plain": [
       "<Figure size 432x288 with 2 Axes>"
      ]
     },
     "metadata": {
      "needs_background": "light"
     },
     "output_type": "display_data"
    }
   ],
   "source": [
    "plt.scatter(np.sqrt(df['x']**2+df['y']**2), \n",
    "            df['z'], \n",
    "            c=df['mc_energy'], #vmin=0, vmax=50\n",
    "           )\n",
    "plt.colorbar(label='mc_energy')\n",
    "plt.xlim(0, 7000)\n",
    "plt.ylim(-8000, 8000)\n",
    "plt.ylabel('z (mm)', fontsize=12)\n",
    "plt.xlabel('radius (mm)', fontsize=12)\n",
    "plt.show()"
   ]
  },
  {
   "cell_type": "code",
   "execution_count": 72,
   "metadata": {},
   "outputs": [
    {
     "data": {
      "image/png": "[encoded data removed]",
      "text/plain": [
       "<Figure size 432x288 with 2 Axes>"
      ]
     },
     "metadata": {
      "needs_background": "light"
     },
     "output_type": "display_data"
    }
   ],
   "source": [
    "plt.scatter(df['inner_hit'], df['inner_hit_prev'], \n",
    "           c=df['n9'], vmin=0, vmax=50)\n",
    "plt.colorbar(label='n9')\n",
    "plt.xlabel('inner_hit', fontsize=12)\n",
    "plt.ylabel('inner_hit_prev', fontsize=12)\n",
    "plt.xlim(0,100)\n",
    "plt.ylim(0,100)\n",
    "plt.show()"
   ]
  },
  {
   "cell_type": "code",
   "execution_count": 76,
   "metadata": {},
   "outputs": [
    {
     "data": {
      "image/png": "[encoded data removed]",
      "text/plain": [
       "<Figure size 432x288 with 1 Axes>"
      ]
     },
     "metadata": {
      "needs_background": "light"
     },
     "output_type": "display_data"
    }
   ],
   "source": [
    "plt.hist(df['w']**2+df['v']**2, bins=20, histtype='step')\n",
    "plt.hist(df['u']**2+df['v']**2, bins=20, histtype='step')\n",
    "plt.hist(df['u']**2+df['w']**2+df['v']**2, bins=20, histtype='step')\n",
    "# plt.xlim(0,1e4)\n",
    "plt.show()"
   ]
  },
  {
   "cell_type": "code",
   "execution_count": 64,
   "metadata": {},
   "outputs": [
    {
     "data": {
      "image/png": "[encoded data removed]",
      "text/plain": [
       "<Figure size 432x288 with 1 Axes>"
      ]
     },
     "metadata": {
      "needs_background": "light"
     },
     "output_type": "display_data"
    }
   ],
   "source": [
    "plt.hist(df['good_dir'])\n",
    "plt.show()"
   ]
  },
  {
   "cell_type": "code",
   "execution_count": 27,
   "metadata": {},
   "outputs": [
    {
     "data": {
      "image/png": "[encoded data removed]",
      "text/plain": [
       "<Figure size 432x288 with 1 Axes>"
      ]
     },
     "metadata": {
      "needs_background": "light"
     },
     "output_type": "display_data"
    }
   ],
   "source": [
    "plt.hist(df['drmcr'], bins=20, range=[-1e2,1e4])\n",
    "# plt.xlim(0,1e4)\n",
    "plt.show()"
   ]
  },
  {
   "cell_type": "code",
   "execution_count": 29,
   "metadata": {},
   "outputs": [
    {
     "data": {
      "image/png": "[encoded data removed]",
      "text/plain": [
       "<Figure size 432x288 with 1 Axes>"
      ]
     },
     "metadata": {
      "needs_background": "light"
     },
     "output_type": "display_data"
    }
   ],
   "source": [
    "plt.hist(df['azimuth_ks'], bins=20)\n",
    "# plt.xlim(0,1e4)\n",
    "plt.show()"
   ]
  },
  {
   "cell_type": "code",
   "execution_count": 46,
   "metadata": {},
   "outputs": [
    {
     "data": {
      "image/png": "[encoded data removed]",
      "text/plain": [
       "<Figure size 432x288 with 1 Axes>"
      ]
     },
     "metadata": {
      "needs_background": "light"
     },
     "output_type": "display_data"
    }
   ],
   "source": [
    "plt.hist(df['dt_sub'], bins=np.logspace(0,6,20))\n",
    "# plt.xlim(0,1e4)\n",
    "plt.xscale('log')\n",
    "plt.show()"
   ]
  }
 ],
 "metadata": {
  "kernelspec": {
   "display_name": "Python [conda env:.conda-sjf]",
   "language": "python",
   "name": "conda-env-.conda-sjf-py"
  },
  "language_info": {
   "codemirror_mode": {
    "name": "ipython",
    "version": 3
   },
   "file_extension": ".py",
   "mimetype": "text/x-python",
   "name": "python",
   "nbconvert_exporter": "python",
   "pygments_lexer": "ipython3",
   "version": "3.8.2"
  }
 },
 "nbformat": 4,
 "nbformat_minor": 4
}
