{
 "cells": [
  {
   "cell_type": "code",
   "execution_count": 12,
   "id": "ece80445-6158-43b7-aaaa-3cc9a5ed3a15",
   "metadata": {},
   "outputs": [],
   "source": [
    "import uproot\n",
    "import numpy as np\n",
    "import pandas as pd\n",
    "import awkward as ak\n",
    "import matplotlib.pyplot as plt\n"
   ]
  },
  {
   "cell_type": "code",
   "execution_count": 37,
   "id": "bdc2e20e-1b12-4ddd-a0c8-acddd67a56d2",
   "metadata": {},
   "outputs": [],
   "source": [
    "fastnwbls = uproot.open('data/fastn_wbls.root'+':data')\n",
    "ibdwbls = uproot.open('data/ibd_wbls.root'+':data')\n",
    "fastnwbls = fastnwbls.arrays(library='awkward')\n",
    "ibdwbls = ibdwbls.arrays(library='awkward')"
   ]
  },
  {
   "cell_type": "code",
   "execution_count": 38,
   "id": "4aa1d21d-da67-4f1a-9d9a-7977e985530f",
   "metadata": {
    "tags": []
   },
   "outputs": [
    {
     "name": "stdout",
     "output_type": "stream",
     "text": [
      "set 0\n",
      "set 1\n"
     ]
    }
   ],
   "source": [
    "# Time-sort all the data arrays for recurrent/sequential purposes. \n",
    "for j, data in enumerate([fastnwbls, ibdwbls]):\n",
    "#     data['restime'] = data['hittime']\n",
    "    print('set %i'%(j))\n",
    "    args = ak.argsort(data['hittime'])\n",
    "    for key in ['hittime', 'pmtcharge', 'channel']:\n",
    "        data[key] = data[key][args]"
   ]
  },
  {
   "cell_type": "code",
   "execution_count": 41,
   "id": "de3dc3c7-6421-41f2-b244-17fcf2b92ae5",
   "metadata": {},
   "outputs": [],
   "source": [
    "# Get rid of the first and last events of each run \n",
    "ibdwbls = ibdwbls[ibdwbls['inner_hit_prev']>0]\n",
    "ibdwbls = ibdwbls[ibdwbls['inner_hit_next']>0]\n",
    "ibdwbls = ibdwbls[ibdwbls['dt_prev_us']>0]\n",
    "fastnwbls = fastnwbls[fastnwbls['inner_hit_prev']>0]\n",
    "fastnwbls = fastnwbls[fastnwbls['inner_hit_next']>0]\n",
    "fastnwbls = fastnwbls[fastnwbls['dt_prev_us']>0]"
   ]
  },
  {
   "cell_type": "code",
   "execution_count": 45,
   "id": "d8d3f2de-2804-42ab-82c8-f5a401017774",
   "metadata": {},
   "outputs": [],
   "source": [
    "ak.to_json(ibdwbls, 'data/ibd_wbls.json')\n",
    "ak.to_json(fastnwbls, 'data/fastn_wbls.json')\n"
   ]
  },
  {
   "cell_type": "code",
   "execution_count": 44,
   "id": "9265e9ad-2b03-4017-966c-94bd064cadf0",
   "metadata": {
    "tags": []
   },
   "outputs": [
    {
     "data": {
      "image/png": "[encoded data removed]",
      "text/plain": [
       "<Figure size 640x480 with 1 Axes>"
      ]
     },
     "metadata": {},
     "output_type": "display_data"
    }
   ],
   "source": [
    "kw = dict(bins=np.linspace(0,100,101),histtype='step', density=True)\n",
    "plt.hist(fastnwbls.dt_prev_us, **kw)\n",
    "plt.hist(ibdwbls.dt_prev_us, **kw)\n",
    "plt.show()"
   ]
  },
  {
   "cell_type": "markdown",
   "id": "ac825486-28c1-4b2c-b0c8-7787ae2162cb",
   "metadata": {},
   "source": [
    "Separate out prompt/delayed IBD and delta-ray/neutron capture fast-neutrons"
   ]
  },
  {
   "cell_type": "code",
   "execution_count": 53,
   "id": "78e4ecf5-0626-4c62-9421-0fdf6a1ba007",
   "metadata": {
    "tags": []
   },
   "outputs": [],
   "source": [
    "# Get rid of the first and last events of each run \n",
    "ibd = ibd[ibd['inner_hit_prev']>0]\n",
    "ibd = ibd[ibd['inner_hit_next']>0]\n",
    "ibd = ibd[ibd['dt_prev_us']>0]\n",
    "fastn = fastn[fastn['inner_hit_prev']>0]\n",
    "fastn = fastn[fastn['inner_hit_next']>0]\n",
    "fastn = fastn[fastn['dt_prev_us']>0]"
   ]
  },
  {
   "cell_type": "code",
   "execution_count": 70,
   "id": "42a9ef05-2431-4d4a-a922-2f6c5095a096",
   "metadata": {},
   "outputs": [
    {
     "name": "stdout",
     "output_type": "stream",
     "text": [
      "set 0\n",
      "set 1\n"
     ]
    }
   ],
   "source": [
    "# Time-sort all the data arrays for recurrent/sequential purposes. \n",
    "for j, data in enumerate([fastn, ibd]):\n",
    "#     data['restime'] = data['hittime']\n",
    "    print('set %i'%(j))\n",
    "    args = ak.argsort(data['hittime'])\n",
    "    for key in ['hittime', 'pmtcharge', 'channel']:\n",
    "        data[key] = data[key][args]"
   ]
  },
  {
   "cell_type": "markdown",
   "id": "1789370b-a98b-45c8-9c77-d11266932a37",
   "metadata": {},
   "source": [
    "Separate out prompt/delayed IBD and delta-ray/neutron capture fast-neutrons"
   ]
  },
  {
   "cell_type": "code",
   "execution_count": 73,
   "id": "dad2da55-2b4a-4560-886b-bde13ef7d9ef",
   "metadata": {},
   "outputs": [],
   "source": [
    "# Get rid of the first and last events of each run \n",
    "ibd = ibd[ibd['inner_hit_prev']>0]\n",
    "ibd = ibd[ibd['inner_hit_next']>0]\n",
    "ibd = ibd[ibd['dt_prev_us']>0]\n",
    "ibd = ibd[ibd['dt_next_us']>0]\n",
    "fastn = fastn[fastn['inner_hit_prev']>0]\n",
    "fastn = fastn[fastn['inner_hit_next']>0]\n",
    "fastn = fastn[fastn['dt_prev_us']>0]\n",
    "fastn = fastn[fastn['dt_next_us']>0]"
   ]
  },
  {
   "cell_type": "markdown",
   "id": "28f6e386-9d3d-4ab6-a391-4d918505d7e2",
   "metadata": {},
   "source": [
    "Make sure all times that are larger than ~600 us are set to some constant, e.g. 500 us. \n",
    "<br>\n",
    "This is because the rates are arbitrary in the case of us using these samples -- these are just injected rates. "
   ]
  },
  {
   "cell_type": "code",
   "execution_count": 75,
   "id": "f1d100cb-aa65-47b4-a729-98ac6dc35aed",
   "metadata": {},
   "outputs": [],
   "source": [
    "dims = ak.fields(data)\n",
    "prev_vars = [i for i in dims if 'prev' in i.lower()]\n",
    "post_vars = [i for i in dims if 'next' in i.lower()]\n",
    "proxvars = np.append(prev_vars, post_vars)"
   ]
  },
  {
   "cell_type": "code",
   "execution_count": 76,
   "id": "f024917c-da63-4db7-8dd3-e0f3e6ec7c3e",
   "metadata": {},
   "outputs": [],
   "source": [
    "prev_vars_replace = [0, 0, 0, 0, 0, 0, 0, 0, 0, 0, \n",
    "                     1e4, 1e4, 1e4, 1e4, 600, \n",
    "                     0, 0, 0, 0, 0, 0]\n",
    "post_vars_replace = [0, 0, 0, 0, 0, 0, 0, 0, 0, \n",
    "                     1e4, 1e4, 1e4, 1e4, 600]\n",
    "                     "
   ]
  },
  {
   "cell_type": "code",
   "execution_count": 77,
   "id": "1fcb8e9c-4cc7-48aa-b917-524303da455b",
   "metadata": {},
   "outputs": [],
   "source": [
    "def calcr(data):\n",
    "    data['r'] = np.sqrt(data['x']**2+data['y']**2)\n",
    "    return data"
   ]
  },
  {
   "cell_type": "code",
   "execution_count": 78,
   "id": "6b58946a-746b-4280-9a1e-de57af9a876f",
   "metadata": {},
   "outputs": [],
   "source": [
    "#do we need to also remove the distance information? \n",
    "for data in [fastn, ibd]:\n",
    "    data = calcr(data)\n",
    "    for t, varbls, replace in zip(['dt_prev_us', 'dt_next_us'], [prev_vars, post_vars], \n",
    "                        [prev_vars_replace, post_vars_replace]):\n",
    "        prox_mask = data[t]<600\n",
    "        for k, key in enumerate(varbls): \n",
    "            data[key] = ak.where(prox_mask, data[key], replace[k])"
   ]
  },
  {
   "cell_type": "code",
   "execution_count": 79,
   "id": "ff16cc0d-de8f-45b7-961a-d40882657171",
   "metadata": {},
   "outputs": [],
   "source": [
    "dimensions = [\n",
    "    'n9', 'n9_prev', 'n9_next',\n",
    "    'x', 'y', 'z',  'r',\n",
    "    'id_plus_dr_hit', 'inner_hit_prev', 'inner_hit_next',\n",
    "    'good_dir', 'good_dir_prev', 'good_dir_next',\n",
    "    'good_pos','good_pos_prev', 'good_pos_next',\n",
    "    'distpmt', \n",
    "    'closestPMT', 'closestPMT_prev', 'closestPMT_next', \n",
    "    'drPrevr', 'dzPrevz', 'drNextr', 'dzNextz',\n",
    "     'dt_prev_us', 'dt_next_us',\n",
    "    'azimuth_ks', 'azimuth_ks_prev','azimuth_ks_next',\n",
    "    'n100', 'pe', \n",
    "    'beta_one', 'beta_two', 'beta_three', 'beta_four', 'beta_five', 'beta_six',\n",
    "    'beta_one_prev', 'beta_two_prev', 'beta_three_prev', 'beta_four_prev', 'beta_five_prev', 'beta_six_prev',\n",
    "]\n",
    "def get_dims(data, dimensions=dimensions):\n",
    "    df_cut = data[dimensions]\n",
    "    print('Remaining variables selected for analysis: %i'%(len(dimensions)))\n",
    "    return df_cut"
   ]
  },
  {
   "cell_type": "code",
   "execution_count": 80,
   "id": "8b25a3f3-60c7-4d49-871d-b37d592764a4",
   "metadata": {},
   "outputs": [],
   "source": [
    "samples = np.min([len(fastn), len(ibd)])"
   ]
  },
  {
   "cell_type": "code",
   "execution_count": 81,
   "id": "d877d828-d2f7-457c-9240-9ce1ac34d468",
   "metadata": {},
   "outputs": [
    {
     "name": "stdout",
     "output_type": "stream",
     "text": [
      "Remaining variables selected for analysis: 43\n",
      "Remaining variables selected for analysis: 43\n"
     ]
    }
   ],
   "source": [
    "dat1 = get_dims(fastn, dimensions=dimensions)[:samples]\n",
    "dat2 = get_dims(ibd, dimensions=dimensions)[:samples]\n",
    "\n",
    "label = np.zeros(2*samples)\n",
    "label[samples:]=1"
   ]
  },
  {
   "cell_type": "code",
   "execution_count": 97,
   "id": "4b9e78cc-7378-4301-88a2-2982ee4d1cce",
   "metadata": {},
   "outputs": [],
   "source": [
    "from sklearn.decomposition import PCA"
   ]
  },
  {
   "cell_type": "code",
   "execution_count": 123,
   "id": "8d406f73-c9ea-44e8-9659-c3ae756a199b",
   "metadata": {},
   "outputs": [],
   "source": [
    "pc = PCA(0.98)"
   ]
  },
  {
   "cell_type": "code",
   "execution_count": 82,
   "id": "a32f8193-7d6e-429c-bdaf-ad28a42f6532",
   "metadata": {},
   "outputs": [],
   "source": [
    "data = ak.concatenate([dat1, dat2], axis=0)\n",
    "data = ak.to_pandas(data)"
   ]
  },
  {
   "cell_type": "code",
   "execution_count": 83,
   "id": "10c576d9-de5c-4ff4-94a0-3d50139d930a",
   "metadata": {},
   "outputs": [],
   "source": [
    "x = StandardScaler().fit_transform(data) # normalizing the features"
   ]
  },
  {
   "cell_type": "code",
   "execution_count": 126,
   "id": "19ec218e-4857-44af-a21c-ab282270e1c1",
   "metadata": {},
   "outputs": [],
   "source": [
    "pcfit = pc.fit_transform(x)"
   ]
  },
  {
   "cell_type": "code",
   "execution_count": 127,
   "id": "c43d5e8b-8e03-4831-80d7-5fa9faba7ad0",
   "metadata": {},
   "outputs": [
    {
     "data": {
      "text/plain": [
       "27"
      ]
     },
     "execution_count": 127,
     "metadata": {},
     "output_type": "execute_result"
    }
   ],
   "source": [
    "pc.n_components_"
   ]
  },
  {
   "cell_type": "code",
   "execution_count": 84,
   "id": "d2909180-4c58-448d-9514-88bc7bd8a5c6",
   "metadata": {},
   "outputs": [],
   "source": [
    "# Split dataset into training set and test set\n",
    "X_train, X_test, y_train, y_test = train_test_split(x, label, test_size=0.25) "
   ]
  },
  {
   "cell_type": "code",
   "execution_count": 129,
   "id": "11c5ce86-906c-4a74-a270-f0b506057010",
   "metadata": {},
   "outputs": [],
   "source": [
    "X_train_trans = pc.transform(X_train)\n",
    "X_test_trans = pc.transform(X_test)\n"
   ]
  },
  {
   "cell_type": "code",
   "execution_count": 130,
   "id": "eef75041-a2d4-4c3a-af1f-10b9e9abc2c2",
   "metadata": {},
   "outputs": [],
   "source": [
    "#Create a Gaussian Classifier\n",
    "clf=RandomForestClassifier(\n",
    "#     n_estimators=200, max_depth=10\n",
    ")\n",
    "\n",
    "#Train the model using the training sets\n",
    "clf.fit(X_train_trans,y_train)\n",
    "y_train_pred = clf.predict(X_train_trans)\n",
    "y_test_pred=clf.predict(X_test_trans)"
   ]
  },
  {
   "cell_type": "code",
   "execution_count": 131,
   "id": "bfb74303-b6db-4fb5-96d0-cd55001bb817",
   "metadata": {},
   "outputs": [],
   "source": [
    "y_test_prob = clf.predict_proba(X_test_trans)"
   ]
  },
  {
   "cell_type": "code",
   "execution_count": 132,
   "id": "f8eab823-8c28-4b93-9d70-345ce7796bd4",
   "metadata": {},
   "outputs": [
    {
     "name": "stdout",
     "output_type": "stream",
     "text": [
      "Train Accuracy: 100.00%\n",
      "Test Accuracy: 81.33%\n"
     ]
    }
   ],
   "source": [
    "# Model Accuracy, how often is the classifier correct?\n",
    "print(\"Train Accuracy: %.2f%%\"%(metrics.accuracy_score(y_train, y_train_pred)*100))\n",
    "print(\"Test Accuracy: %.2f%%\"%(metrics.accuracy_score(y_test, y_test_pred)*100))"
   ]
  },
  {
   "cell_type": "code",
   "execution_count": 133,
   "id": "3e1ff9cf-b154-4411-95c5-252dc2105f33",
   "metadata": {},
   "outputs": [],
   "source": [
    "feature_imp = pd.Series(clf.feature_importances_).sort_values(ascending=False)"
   ]
  },
  {
   "cell_type": "code",
   "execution_count": 134,
   "id": "58f252f2-ba51-4b37-bdfd-a2ab6b900369",
   "metadata": {},
   "outputs": [],
   "source": [
    "indexes = ['pca_'+ str(i) for i in feature_imp.index]"
   ]
  },
  {
   "cell_type": "code",
   "execution_count": 135,
   "id": "170a3a6c-e9fb-4589-b668-86ff179b36b5",
   "metadata": {},
   "outputs": [
    {
     "data": {
      "image/png": "[encoded data removed]",
      "text/plain": [
       "<Figure size 432x576 with 1 Axes>"
      ]
     },
     "metadata": {
      "needs_background": "light"
     },
     "output_type": "display_data"
    }
   ],
   "source": [
    "# Creating a bar plot\n",
    "plt.figure(figsize=(6, 8))\n",
    "sns.barplot(x=feature_imp, y=indexes)\n",
    "# Add labels to your graph\n",
    "plt.xlabel('Feature Importance Score')\n",
    "plt.xscale('log')\n",
    "plt.ylabel('Features')\n",
    "plt.title(\"Feature Importance: RF IBDs vs. fast-neutrons\")\n",
    "# plt.legend()\n",
    "plt.show()"
   ]
  },
  {
   "cell_type": "code",
   "execution_count": 136,
   "id": "60ac1933-e824-40aa-b86e-aaa4656a4c5d",
   "metadata": {},
   "outputs": [],
   "source": [
    "scores = y_test_prob[:,1]"
   ]
  },
  {
   "cell_type": "code",
   "execution_count": 137,
   "id": "64ec7516-2a7a-4f20-a61f-bec4be0600d9",
   "metadata": {},
   "outputs": [],
   "source": [
    "fpr, tpr, thresholds = roc_curve(y_test, scores)\n",
    "auc = roc_auc_score(y_test, scores)"
   ]
  },
  {
   "cell_type": "code",
   "execution_count": 138,
   "id": "bc39ca3d-7b01-41a3-9425-29b46f0c5d9a",
   "metadata": {},
   "outputs": [
    {
     "data": {
      "image/png": "[encoded data removed]",
      "text/plain": [
       "<Figure size 432x288 with 1 Axes>"
      ]
     },
     "metadata": {
      "needs_background": "light"
     },
     "output_type": "display_data"
    }
   ],
   "source": [
    "plt.plot(fpr, tpr, \n",
    "         label='ROC curve (area = %0.3f)'%(auc), \n",
    "         color='darkorange', \n",
    "         lw=2.3, \n",
    "        )\n",
    "plt.xlim([-0.01, 1.0])\n",
    "plt.ylim([0, 1.05])\n",
    "plt.xlabel('False Positive Rate')\n",
    "plt.ylabel('True Positive Rate')\n",
    "plt.title('ROC: e+ vs. neutrons')\n",
    "plt.plot([0, 1], [0, 1], color='navy', lw=2.3, linestyle='--')\n",
    "plt.legend()\n",
    "plt.grid()\n",
    "# plt.xlim([1e-6, 1.0])\n",
    "# plt.ylim([1e-2, 1.05])\n",
    "# plt.xscale('log')\n",
    "# plt.yscale('log')\n",
    "plt.show()"
   ]
  },
  {
   "cell_type": "code",
   "execution_count": 139,
   "id": "800c1b40-be93-4d6e-9f66-9ecc79a0979e",
   "metadata": {},
   "outputs": [
    {
     "data": {
      "image/png": "[encoded data removed]",
      "text/plain": [
       "<Figure size 432x288 with 2 Axes>"
      ]
     },
     "metadata": {
      "needs_background": "light"
     },
     "output_type": "display_data"
    }
   ],
   "source": [
    "confmat = metrics.confusion_matrix(y_test, y_test_pred)\n",
    "ax = sns.heatmap(confmat, annot=True, fmt='g', \n",
    "#                  norm=LogNorm()\n",
    "                )\n",
    "\n",
    "ax.set_title('Confusion Matrix from RF: fast-n vs. IBDs')\n",
    "ax.set_xlabel('Predicted PID')\n",
    "ax.set_ylabel('Actual PID')\n",
    "\n",
    "cmlabels = ['fast-n', 'ibd']\n",
    "ax.xaxis.set_ticklabels(cmlabels)\n",
    "ax.yaxis.set_ticklabels(cmlabels)\n",
    "\n",
    "plt.show()"
   ]
  },
  {
   "cell_type": "code",
   "execution_count": 18,
   "id": "53475dd4-5deb-438f-8782-69183984880c",
   "metadata": {},
   "outputs": [],
   "source": [
    "from sklearn.manifold import TSNE\n",
    "from sklearn import manifold\n",
    "from time import time"
   ]
  },
  {
   "cell_type": "code",
   "execution_count": 142,
   "id": "4c683a8a-da96-44e7-a7c2-e26c99f20dc7",
   "metadata": {},
   "outputs": [],
   "source": [
    "n_components=2\n",
    "tsne = TSNE(n_components=n_components, init='pca',\n",
    "                                 random_state=0)"
   ]
  },
  {
   "cell_type": "code",
   "execution_count": 147,
   "id": "7ccedaa7-8927-4df8-b41c-1a30b36066b4",
   "metadata": {},
   "outputs": [],
   "source": [
    "dimensions = [\n",
    "    'n9', 'n9_prev', 'n9_next',\n",
    "    'x', 'y', 'z',  'r',\n",
    "    'id_plus_dr_hit', 'inner_hit_prev', 'inner_hit_next',\n",
    "#     'good_dir', 'good_dir_prev', 'good_dir_next',\n",
    "#     'good_pos','good_pos_prev', 'good_pos_next',\n",
    "#     'distpmt', \n",
    "    'closestPMT', 'closestPMT_prev', 'closestPMT_next', \n",
    "    'drPrevr', 'dzPrevz', 'drNextr', 'dzNextz',\n",
    "     'dt_prev_us', 'dt_next_us',\n",
    "    'azimuth_ks', 'azimuth_ks_prev','azimuth_ks_next',\n",
    "    'n100', 'pe', \n",
    "    'beta_one', 'beta_two', 'beta_three', 'beta_four', 'beta_five', 'beta_six',\n",
    "#     'beta_one_prev', 'beta_two_prev', 'beta_three_prev', 'beta_four_prev', 'beta_five_prev', 'beta_six_prev',\n",
    "]\n",
    "def get_dims(data, dimensions=dimensions):\n",
    "    df_cut = data[dimensions]\n",
    "    print('Remaining variables selected for analysis: %i'%(len(dimensions)))\n",
    "    return df_cut"
   ]
  },
  {
   "cell_type": "code",
   "execution_count": 59,
   "id": "6d80bcc5-4aaf-4e42-94cd-bb1bfe2bdc1c",
   "metadata": {},
   "outputs": [],
   "source": [
    "samples = np.min([len(fastn), len(ibd)])"
   ]
  },
  {
   "cell_type": "code",
   "execution_count": 60,
   "id": "9ad55dd7-e6d7-433d-aafc-53b190364932",
   "metadata": {},
   "outputs": [
    {
     "name": "stdout",
     "output_type": "stream",
     "text": [
      "Remaining variables selected for analysis: 43\n",
      "Remaining variables selected for analysis: 43\n"
     ]
    }
   ],
   "source": [
    "dat1 = get_dims(fastn, dimensions=dimensions)[:samples]\n",
    "dat2 = get_dims(ibd, dimensions=dimensions)[:samples]\n",
    "\n",
    "label = np.zeros(2*samples)\n",
    "label[samples:]=1"
   ]
  },
  {
   "cell_type": "code",
   "execution_count": 61,
   "id": "154de5b3-b77f-44d1-b73f-6c4154b167bb",
   "metadata": {},
   "outputs": [],
   "source": [
    "data = ak.concatenate([dat1, dat2], axis=0)\n",
    "data = ak.to_pandas(data)"
   ]
  },
  {
   "cell_type": "code",
   "execution_count": 62,
   "id": "0a9b19fb-6d25-4dd6-8c2c-b9d9f659ee14",
   "metadata": {
    "collapsed": true,
    "jupyter": {
     "outputs_hidden": true
    },
    "tags": []
   },
   "outputs": [
    {
     "ename": "ValueError",
     "evalue": "Found array with 0 sample(s) (shape=(0, 43)) while a minimum of 1 is required by StandardScaler.",
     "output_type": "error",
     "traceback": [
      "\u001b[0;31m---------------------------------------------------------------------------\u001b[0m",
      "\u001b[0;31mValueError\u001b[0m                                Traceback (most recent call last)",
      "\u001b[0;32m<ipython-input-62-62c74332799d>\u001b[0m in \u001b[0;36m<module>\u001b[0;34m\u001b[0m\n\u001b[0;32m----> 1\u001b[0;31m \u001b[0mx\u001b[0m \u001b[0;34m=\u001b[0m \u001b[0mStandardScaler\u001b[0m\u001b[0;34m(\u001b[0m\u001b[0;34m)\u001b[0m\u001b[0;34m.\u001b[0m\u001b[0mfit_transform\u001b[0m\u001b[0;34m(\u001b[0m\u001b[0mdata\u001b[0m\u001b[0;34m)\u001b[0m \u001b[0;31m# normalizing the features\u001b[0m\u001b[0;34m\u001b[0m\u001b[0;34m\u001b[0m\u001b[0m\n\u001b[0m",
      "\u001b[0;32m~/.conda/envs/sjf/lib/python3.8/site-packages/sklearn/base.py\u001b[0m in \u001b[0;36mfit_transform\u001b[0;34m(self, X, y, **fit_params)\u001b[0m\n\u001b[1;32m    697\u001b[0m         \u001b[0;32mif\u001b[0m \u001b[0my\u001b[0m \u001b[0;32mis\u001b[0m \u001b[0;32mNone\u001b[0m\u001b[0;34m:\u001b[0m\u001b[0;34m\u001b[0m\u001b[0;34m\u001b[0m\u001b[0m\n\u001b[1;32m    698\u001b[0m             \u001b[0;31m# fit method of arity 1 (unsupervised transformation)\u001b[0m\u001b[0;34m\u001b[0m\u001b[0;34m\u001b[0m\u001b[0;34m\u001b[0m\u001b[0m\n\u001b[0;32m--> 699\u001b[0;31m             \u001b[0;32mreturn\u001b[0m \u001b[0mself\u001b[0m\u001b[0;34m.\u001b[0m\u001b[0mfit\u001b[0m\u001b[0;34m(\u001b[0m\u001b[0mX\u001b[0m\u001b[0;34m,\u001b[0m \u001b[0;34m**\u001b[0m\u001b[0mfit_params\u001b[0m\u001b[0;34m)\u001b[0m\u001b[0;34m.\u001b[0m\u001b[0mtransform\u001b[0m\u001b[0;34m(\u001b[0m\u001b[0mX\u001b[0m\u001b[0;34m)\u001b[0m\u001b[0;34m\u001b[0m\u001b[0;34m\u001b[0m\u001b[0m\n\u001b[0m\u001b[1;32m    700\u001b[0m         \u001b[0;32melse\u001b[0m\u001b[0;34m:\u001b[0m\u001b[0;34m\u001b[0m\u001b[0;34m\u001b[0m\u001b[0m\n\u001b[1;32m    701\u001b[0m             \u001b[0;31m# fit method of arity 2 (supervised transformation)\u001b[0m\u001b[0;34m\u001b[0m\u001b[0;34m\u001b[0m\u001b[0;34m\u001b[0m\u001b[0m\n",
      "\u001b[0;32m~/.conda/envs/sjf/lib/python3.8/site-packages/sklearn/preprocessing/_data.py\u001b[0m in \u001b[0;36mfit\u001b[0;34m(self, X, y, sample_weight)\u001b[0m\n\u001b[1;32m    728\u001b[0m         \u001b[0;31m# Reset internal state before fitting\u001b[0m\u001b[0;34m\u001b[0m\u001b[0;34m\u001b[0m\u001b[0;34m\u001b[0m\u001b[0m\n\u001b[1;32m    729\u001b[0m         \u001b[0mself\u001b[0m\u001b[0;34m.\u001b[0m\u001b[0m_reset\u001b[0m\u001b[0;34m(\u001b[0m\u001b[0;34m)\u001b[0m\u001b[0;34m\u001b[0m\u001b[0;34m\u001b[0m\u001b[0m\n\u001b[0;32m--> 730\u001b[0;31m         \u001b[0;32mreturn\u001b[0m \u001b[0mself\u001b[0m\u001b[0;34m.\u001b[0m\u001b[0mpartial_fit\u001b[0m\u001b[0;34m(\u001b[0m\u001b[0mX\u001b[0m\u001b[0;34m,\u001b[0m \u001b[0my\u001b[0m\u001b[0;34m,\u001b[0m \u001b[0msample_weight\u001b[0m\u001b[0;34m)\u001b[0m\u001b[0;34m\u001b[0m\u001b[0;34m\u001b[0m\u001b[0m\n\u001b[0m\u001b[1;32m    731\u001b[0m \u001b[0;34m\u001b[0m\u001b[0m\n\u001b[1;32m    732\u001b[0m     \u001b[0;32mdef\u001b[0m \u001b[0mpartial_fit\u001b[0m\u001b[0;34m(\u001b[0m\u001b[0mself\u001b[0m\u001b[0;34m,\u001b[0m \u001b[0mX\u001b[0m\u001b[0;34m,\u001b[0m \u001b[0my\u001b[0m\u001b[0;34m=\u001b[0m\u001b[0;32mNone\u001b[0m\u001b[0;34m,\u001b[0m \u001b[0msample_weight\u001b[0m\u001b[0;34m=\u001b[0m\u001b[0;32mNone\u001b[0m\u001b[0;34m)\u001b[0m\u001b[0;34m:\u001b[0m\u001b[0;34m\u001b[0m\u001b[0;34m\u001b[0m\u001b[0m\n",
      "\u001b[0;32m~/.conda/envs/sjf/lib/python3.8/site-packages/sklearn/preprocessing/_data.py\u001b[0m in \u001b[0;36mpartial_fit\u001b[0;34m(self, X, y, sample_weight)\u001b[0m\n\u001b[1;32m    764\u001b[0m         \"\"\"\n\u001b[1;32m    765\u001b[0m         \u001b[0mfirst_call\u001b[0m \u001b[0;34m=\u001b[0m \u001b[0;32mnot\u001b[0m \u001b[0mhasattr\u001b[0m\u001b[0;34m(\u001b[0m\u001b[0mself\u001b[0m\u001b[0;34m,\u001b[0m \u001b[0;34m\"n_samples_seen_\"\u001b[0m\u001b[0;34m)\u001b[0m\u001b[0;34m\u001b[0m\u001b[0;34m\u001b[0m\u001b[0m\n\u001b[0;32m--> 766\u001b[0;31m         X = self._validate_data(X, accept_sparse=('csr', 'csc'),\n\u001b[0m\u001b[1;32m    767\u001b[0m                                 \u001b[0mestimator\u001b[0m\u001b[0;34m=\u001b[0m\u001b[0mself\u001b[0m\u001b[0;34m,\u001b[0m \u001b[0mdtype\u001b[0m\u001b[0;34m=\u001b[0m\u001b[0mFLOAT_DTYPES\u001b[0m\u001b[0;34m,\u001b[0m\u001b[0;34m\u001b[0m\u001b[0;34m\u001b[0m\u001b[0m\n\u001b[1;32m    768\u001b[0m                                 force_all_finite='allow-nan', reset=first_call)\n",
      "\u001b[0;32m~/.conda/envs/sjf/lib/python3.8/site-packages/sklearn/base.py\u001b[0m in \u001b[0;36m_validate_data\u001b[0;34m(self, X, y, reset, validate_separately, **check_params)\u001b[0m\n\u001b[1;32m    419\u001b[0m             \u001b[0mout\u001b[0m \u001b[0;34m=\u001b[0m \u001b[0mX\u001b[0m\u001b[0;34m\u001b[0m\u001b[0;34m\u001b[0m\u001b[0m\n\u001b[1;32m    420\u001b[0m         \u001b[0;32melif\u001b[0m \u001b[0misinstance\u001b[0m\u001b[0;34m(\u001b[0m\u001b[0my\u001b[0m\u001b[0;34m,\u001b[0m \u001b[0mstr\u001b[0m\u001b[0;34m)\u001b[0m \u001b[0;32mand\u001b[0m \u001b[0my\u001b[0m \u001b[0;34m==\u001b[0m \u001b[0;34m'no_validation'\u001b[0m\u001b[0;34m:\u001b[0m\u001b[0;34m\u001b[0m\u001b[0;34m\u001b[0m\u001b[0m\n\u001b[0;32m--> 421\u001b[0;31m             \u001b[0mX\u001b[0m \u001b[0;34m=\u001b[0m \u001b[0mcheck_array\u001b[0m\u001b[0;34m(\u001b[0m\u001b[0mX\u001b[0m\u001b[0;34m,\u001b[0m \u001b[0;34m**\u001b[0m\u001b[0mcheck_params\u001b[0m\u001b[0;34m)\u001b[0m\u001b[0;34m\u001b[0m\u001b[0;34m\u001b[0m\u001b[0m\n\u001b[0m\u001b[1;32m    422\u001b[0m             \u001b[0mout\u001b[0m \u001b[0;34m=\u001b[0m \u001b[0mX\u001b[0m\u001b[0;34m\u001b[0m\u001b[0;34m\u001b[0m\u001b[0m\n\u001b[1;32m    423\u001b[0m         \u001b[0;32melse\u001b[0m\u001b[0;34m:\u001b[0m\u001b[0;34m\u001b[0m\u001b[0;34m\u001b[0m\u001b[0m\n",
      "\u001b[0;32m~/.conda/envs/sjf/lib/python3.8/site-packages/sklearn/utils/validation.py\u001b[0m in \u001b[0;36minner_f\u001b[0;34m(*args, **kwargs)\u001b[0m\n\u001b[1;32m     61\u001b[0m             \u001b[0mextra_args\u001b[0m \u001b[0;34m=\u001b[0m \u001b[0mlen\u001b[0m\u001b[0;34m(\u001b[0m\u001b[0margs\u001b[0m\u001b[0;34m)\u001b[0m \u001b[0;34m-\u001b[0m \u001b[0mlen\u001b[0m\u001b[0;34m(\u001b[0m\u001b[0mall_args\u001b[0m\u001b[0;34m)\u001b[0m\u001b[0;34m\u001b[0m\u001b[0;34m\u001b[0m\u001b[0m\n\u001b[1;32m     62\u001b[0m             \u001b[0;32mif\u001b[0m \u001b[0mextra_args\u001b[0m \u001b[0;34m<=\u001b[0m \u001b[0;36m0\u001b[0m\u001b[0;34m:\u001b[0m\u001b[0;34m\u001b[0m\u001b[0;34m\u001b[0m\u001b[0m\n\u001b[0;32m---> 63\u001b[0;31m                 \u001b[0;32mreturn\u001b[0m \u001b[0mf\u001b[0m\u001b[0;34m(\u001b[0m\u001b[0;34m*\u001b[0m\u001b[0margs\u001b[0m\u001b[0;34m,\u001b[0m \u001b[0;34m**\u001b[0m\u001b[0mkwargs\u001b[0m\u001b[0;34m)\u001b[0m\u001b[0;34m\u001b[0m\u001b[0;34m\u001b[0m\u001b[0m\n\u001b[0m\u001b[1;32m     64\u001b[0m \u001b[0;34m\u001b[0m\u001b[0m\n\u001b[1;32m     65\u001b[0m             \u001b[0;31m# extra_args > 0\u001b[0m\u001b[0;34m\u001b[0m\u001b[0;34m\u001b[0m\u001b[0;34m\u001b[0m\u001b[0m\n",
      "\u001b[0;32m~/.conda/envs/sjf/lib/python3.8/site-packages/sklearn/utils/validation.py\u001b[0m in \u001b[0;36mcheck_array\u001b[0;34m(array, accept_sparse, accept_large_sparse, dtype, order, copy, force_all_finite, ensure_2d, allow_nd, ensure_min_samples, ensure_min_features, estimator)\u001b[0m\n\u001b[1;32m    724\u001b[0m         \u001b[0mn_samples\u001b[0m \u001b[0;34m=\u001b[0m \u001b[0m_num_samples\u001b[0m\u001b[0;34m(\u001b[0m\u001b[0marray\u001b[0m\u001b[0;34m)\u001b[0m\u001b[0;34m\u001b[0m\u001b[0;34m\u001b[0m\u001b[0m\n\u001b[1;32m    725\u001b[0m         \u001b[0;32mif\u001b[0m \u001b[0mn_samples\u001b[0m \u001b[0;34m<\u001b[0m \u001b[0mensure_min_samples\u001b[0m\u001b[0;34m:\u001b[0m\u001b[0;34m\u001b[0m\u001b[0;34m\u001b[0m\u001b[0m\n\u001b[0;32m--> 726\u001b[0;31m             raise ValueError(\"Found array with %d sample(s) (shape=%s) while a\"\n\u001b[0m\u001b[1;32m    727\u001b[0m                              \u001b[0;34m\" minimum of %d is required%s.\"\u001b[0m\u001b[0;34m\u001b[0m\u001b[0;34m\u001b[0m\u001b[0m\n\u001b[1;32m    728\u001b[0m                              % (n_samples, array.shape, ensure_min_samples,\n",
      "\u001b[0;31mValueError\u001b[0m: Found array with 0 sample(s) (shape=(0, 43)) while a minimum of 1 is required by StandardScaler."
     ]
    }
   ],
   "source": [
    "x = StandardScaler().fit_transform(data) # normalizing the features"
   ]
  },
  {
   "cell_type": "code",
   "execution_count": 158,
   "id": "95b34254-6d33-476c-90b6-40562076cd0e",
   "metadata": {},
   "outputs": [],
   "source": [
    "pc = PCA(0.9)"
   ]
  },
  {
   "cell_type": "code",
   "execution_count": 161,
   "id": "80cbdd24-009e-4f9f-b908-37eb303f5221",
   "metadata": {},
   "outputs": [
    {
     "name": "stdout",
     "output_type": "stream",
     "text": [
      "14\n"
     ]
    }
   ],
   "source": [
    "pcfit = pc.fit_transform(x)\n",
    "print(pc.n_components_)"
   ]
  },
  {
   "cell_type": "code",
   "execution_count": 25,
   "id": "b3aef1b1-1459-43ce-9bb1-17d93512af63",
   "metadata": {},
   "outputs": [
    {
     "ename": "NameError",
     "evalue": "name 'pcfit' is not defined",
     "output_type": "error",
     "traceback": [
      "\u001b[0;31m---------------------------------------------------------------------------\u001b[0m",
      "\u001b[0;31mNameError\u001b[0m                                 Traceback (most recent call last)",
      "\u001b[0;32m<ipython-input-25-9e7158b0cb96>\u001b[0m in \u001b[0;36m<module>\u001b[0;34m\u001b[0m\n\u001b[1;32m      1\u001b[0m \u001b[0;31m# Split dataset into training set and test set\u001b[0m\u001b[0;34m\u001b[0m\u001b[0;34m\u001b[0m\u001b[0;34m\u001b[0m\u001b[0m\n\u001b[1;32m      2\u001b[0m \u001b[0;31m# X_train, X_test, y_train, y_test = train_test_split(x, label, test_size=0.25)\u001b[0m\u001b[0;34m\u001b[0m\u001b[0;34m\u001b[0m\u001b[0;34m\u001b[0m\u001b[0m\n\u001b[0;32m----> 3\u001b[0;31m \u001b[0mX_train\u001b[0m\u001b[0;34m,\u001b[0m \u001b[0mX_test\u001b[0m\u001b[0;34m,\u001b[0m \u001b[0my_train\u001b[0m\u001b[0;34m,\u001b[0m \u001b[0my_test\u001b[0m \u001b[0;34m=\u001b[0m \u001b[0mtrain_test_split\u001b[0m\u001b[0;34m(\u001b[0m\u001b[0mpcfit\u001b[0m\u001b[0;34m,\u001b[0m \u001b[0mlabel\u001b[0m\u001b[0;34m,\u001b[0m \u001b[0mtest_size\u001b[0m\u001b[0;34m=\u001b[0m\u001b[0;36m0.25\u001b[0m\u001b[0;34m,\u001b[0m \u001b[0mrandom_state\u001b[0m\u001b[0;34m=\u001b[0m\u001b[0;36m0\u001b[0m\u001b[0;34m)\u001b[0m\u001b[0;34m\u001b[0m\u001b[0;34m\u001b[0m\u001b[0m\n\u001b[0m",
      "\u001b[0;31mNameError\u001b[0m: name 'pcfit' is not defined"
     ]
    }
   ],
   "source": [
    "# Split dataset into training set and test set\n",
    "# X_train, X_test, y_train, y_test = train_test_split(x, label, test_size=0.25) \n",
    "X_train, X_test, y_train, y_test = train_test_split(pcfit, label, test_size=0.25, random_state=0) "
   ]
  },
  {
   "cell_type": "code",
   "execution_count": 187,
   "id": "ff894675-c6e1-4fbb-b70f-f79c5eb70d23",
   "metadata": {},
   "outputs": [
    {
     "name": "stdout",
     "output_type": "stream",
     "text": [
      "68 sec (0.03 sec/sample)\n"
     ]
    }
   ],
   "source": [
    "nsamples = 2000\n",
    "fitdat = X_train[:nsamples]\n",
    "t0 = time()\n",
    "Y = tsne.fit_transform(fitdat)\n",
    "t1 = time()\n",
    "dt = t1-t0\n",
    "print(\"%.2g sec (%.2f sec/sample)\" %(dt, dt/nsamples ))"
   ]
  },
  {
   "cell_type": "code",
   "execution_count": 257,
   "id": "0fcfa593-e221-40cc-b5f9-b15114d72263",
   "metadata": {},
   "outputs": [],
   "source": [
    "group = np.asarray(['ibd' if w==1 else 'fast-n' for w in y_train[:nsamples]])"
   ]
  },
  {
   "cell_type": "code",
   "execution_count": null,
   "id": "d3221a90-1bc2-4ce4-a562-f055836dde08",
   "metadata": {},
   "outputs": [],
   "source": [
    "plt.figure()\n",
    "for g in np.unique(group):\n",
    "    i = np.where(group == g)\n",
    "    plt.scatter(Y[:, 0][i], Y[:, 1][i], \n",
    "#                 c=y_train[:nsamples][i], \n",
    "#            cmap=plt.cm.Spectral, \n",
    "            label = g\n",
    "          )\n",
    "plt.title(\"t-SNE fastn vs. IBD\")\n",
    "plt.xlabel('tsne0')\n",
    "plt.ylabel('tsne1')\n",
    "plt.legend()\n",
    "plt.show()"
   ]
  },
  {
   "cell_type": "code",
   "execution_count": 262,
   "id": "0f1542ba-bc38-4909-bf30-ea4b6f680ef4",
   "metadata": {},
   "outputs": [
    {
     "data": {
      "image/png": "[encoded data removed]",
      "text/plain": [
       "<Figure size 432x288 with 1 Axes>"
      ]
     },
     "metadata": {
      "needs_background": "light"
     },
     "output_type": "display_data"
    }
   ],
   "source": [
    "plt.figure()\n",
    "for g in np.unique(group):\n",
    "    i = np.where(group == g)\n",
    "    plt.scatter(Y[:, 0][i], Y[:, 1][i], \n",
    "#                 c=y_train[:nsamples][i], \n",
    "#            cmap=plt.cm.Spectral, \n",
    "            label = g\n",
    "          )\n",
    "plt.title(\"t-SNE fastn vs. IBD\")\n",
    "plt.xlabel('tsne0')\n",
    "plt.ylabel('tsne1')\n",
    "plt.legend()\n",
    "plt.show()"
   ]
  },
  {
   "cell_type": "code",
   "execution_count": 208,
   "id": "cda239b3-bd6f-4077-a1aa-3d05c93e4ae7",
   "metadata": {},
   "outputs": [],
   "source": [
    "alldat = ak.concatenate([fastn[:samples], ibd[:samples]])"
   ]
  },
  {
   "cell_type": "code",
   "execution_count": 132,
   "id": "6ff36b7e-7448-492b-916b-b7cd72b4dcb3",
   "metadata": {},
   "outputs": [],
   "source": [
    "X_og, X_test_og, y_og, y_test_og = train_test_split(data, label, test_size=0.25, random_state=0) "
   ]
  },
  {
   "cell_type": "code",
   "execution_count": 133,
   "id": "ba195f0d-692f-47dd-b2a6-4e4c77488af7",
   "metadata": {},
   "outputs": [],
   "source": [
    "alln = np.logical_and(Y[:,1]>25, np.abs(Y[:,0])<20)"
   ]
  },
  {
   "cell_type": "code",
   "execution_count": 134,
   "id": "3a59c1a1-fb85-485a-8ed2-f39ef9aa77bc",
   "metadata": {},
   "outputs": [],
   "source": [
    "bottom = np.logical_and(Y[:,1]<0, np.abs(Y[:,0])<20)\n",
    "left = np.logical_and(Y[:,0]<-10, np.abs(Y[:,1])<20)\n",
    "right = np.logical_and(Y[:,0]>20, np.abs(Y[:,1])<30)"
   ]
  },
  {
   "cell_type": "code",
   "execution_count": 135,
   "id": "8872fcbc-91dd-40d1-80b8-023e3b9dd31c",
   "metadata": {},
   "outputs": [],
   "source": [
    "topclump = X_og[:nsamples][alln]\n",
    "botclump = X_og[:nsamples][bottom]\n",
    "rightclump = X_og[:nsamples][right]\n",
    "leftclump = X_og[:nsamples][left]"
   ]
  },
  {
   "cell_type": "code",
   "execution_count": 138,
   "id": "b344fef3-282c-48e2-85ff-1cd41daccce6",
   "metadata": {},
   "outputs": [
    {
     "data": {
      "image/png": "[encoded data removed]",
      "text/plain": [
       "<Figure size 432x288 with 1 Axes>"
      ]
     },
     "metadata": {
      "needs_background": "light"
     },
     "output_type": "display_data"
    }
   ],
   "source": [
    "key = 'dt_next_us'\n",
    "kw = dict(histtype='step', density=False, )\n",
    "bins = plt.hist(X_og[:nsamples][key],bins=50, **kw)\n",
    "plt.hist(botclump[key], bins=bins[1], **kw, label='sole event')\n",
    "plt.hist(rightclump[key], bins=bins[1], **kw, label='last subevent')\n",
    "plt.hist(leftclump[key], bins=bins[1], **kw, label='first subevent')\n",
    "plt.hist(topclump[key], bins=bins[1], **kw, label='fast-n multi')\n",
    "plt.yscale('log')\n",
    "plt.legend(loc='upper left', ncol=2)\n",
    "plt.title('Intepreted t-sne clusters of %s'%(key))\n",
    "plt.show()"
   ]
  },
  {
   "cell_type": "code",
   "execution_count": 86,
   "id": "de707365-63d4-473e-8faf-a4932df00273",
   "metadata": {},
   "outputs": [],
   "source": [
    "X_og, X_test_og, y_og, y_test_og = train_test_split(data, label, test_size=0.25, random_state=0) "
   ]
  },
  {
   "cell_type": "code",
   "execution_count": 87,
   "id": "0467f3fd-edfc-4425-a30c-f9af05a5fb5e",
   "metadata": {},
   "outputs": [],
   "source": [
    "se = manifold.SpectralEmbedding(n_components=2)"
   ]
  },
  {
   "cell_type": "code",
   "execution_count": 88,
   "id": "035e1536-6dff-4f9f-8cb9-cf2bf3880fcc",
   "metadata": {},
   "outputs": [
    {
     "name": "stdout",
     "output_type": "stream",
     "text": [
      "0.75 sec (0.00 sec/sample)\n"
     ]
    }
   ],
   "source": [
    "nsamples = 2000\n",
    "fitdat = X_og[:nsamples]\n",
    "t0 = time()\n",
    "Y = se.fit_transform(fitdat)\n",
    "t1 = time()\n",
    "dt = t1-t0\n",
    "print(\"%.2g sec (%.2f sec/sample)\" %(dt, dt/nsamples ))"
   ]
  },
  {
   "cell_type": "code",
   "execution_count": 89,
   "id": "b8746ec3-6d7f-4e3b-973e-f6fc12a23569",
   "metadata": {},
   "outputs": [],
   "source": [
    "group = np.asarray(['ibd' if w==1 else 'fast-n' for w in y_og[:nsamples]])"
   ]
  },
  {
   "cell_type": "code",
   "execution_count": 90,
   "id": "54e21317-4ab2-401c-b589-9c1344e97698",
   "metadata": {},
   "outputs": [
    {
     "data": {
      "image/png": "[encoded data removed]",
      "text/plain": [
       "<Figure size 432x288 with 1 Axes>"
      ]
     },
     "metadata": {
      "needs_background": "light"
     },
     "output_type": "display_data"
    }
   ],
   "source": [
    "plt.figure()\n",
    "for g in np.unique(group):\n",
    "    i = np.where(group == g)\n",
    "    plt.scatter(Y[:, 0][i], Y[:, 1][i], \n",
    "#                 c=y_train[:nsamples][i], \n",
    "#            cmap=plt.cm.Spectral, \n",
    "            label = g\n",
    "          )\n",
    "plt.title(\"Spectral Embedding fastn vs. IBD\")\n",
    "plt.xlabel('se0')\n",
    "plt.ylabel('se1')\n",
    "plt.legend()\n",
    "plt.show()"
   ]
  },
  {
   "cell_type": "code",
   "execution_count": 92,
   "id": "ea4f1221-7bbc-4e05-b219-091542d3a0b8",
   "metadata": {},
   "outputs": [
    {
     "data": {
      "image/png": "[encoded data removed]",
      "text/plain": [
       "<Figure size 432x288 with 1 Axes>"
      ]
     },
     "metadata": {
      "needs_background": "light"
     },
     "output_type": "display_data"
    }
   ],
   "source": [
    "plt.hist(X_og.dt_next_us, bins=100,)\n",
    "plt.yscale('log')\n",
    "plt.show()"
   ]
  },
  {
   "cell_type": "code",
   "execution_count": 98,
   "id": "486f10a3-a7c8-4ab2-817f-e51a20a02669",
   "metadata": {
    "collapsed": true,
    "jupyter": {
     "outputs_hidden": true
    },
    "tags": []
   },
   "outputs": [
    {
     "data": {
      "image/png": "[encoded data removed]",
      "text/plain": [
       "<Figure size 432x288 with 1 Axes>"
      ]
     },
     "metadata": {
      "needs_background": "light"
     },
     "output_type": "display_data"
    },
    {
     "data": {
      "image/png": "[encoded data removed]",
      "text/plain": [
       "<Figure size 432x288 with 1 Axes>"
      ]
     },
     "metadata": {
      "needs_background": "light"
     },
     "output_type": "display_data"
    }
   ],
   "source": [
    "for g in np.unique(group):\n",
    "    i = np.where(group == g)\n",
    "    plt.scatter(X_og.dt_prev_us, X_og.dt_next_us, \n",
    "            label = g, s=5, alpha=0.3\n",
    "          )\n",
    "    plt.title(\"t-SNE fastn vs. IBD\")\n",
    "    plt.xlabel('tsne0')\n",
    "    plt.ylabel('tsne1')\n",
    "    plt.legend()\n",
    "    plt.show()"
   ]
  },
  {
   "cell_type": "markdown",
   "id": "0cf9d0a0-1ff8-401f-9173-e6f17ff52a82",
   "metadata": {},
   "source": [
    "## LDA"
   ]
  },
  {
   "cell_type": "code",
   "execution_count": 100,
   "id": "b78f3cd8-72d3-49d3-9377-9873e96dbe42",
   "metadata": {},
   "outputs": [],
   "source": [
    "from sklearn.discriminant_analysis import LinearDiscriminantAnalysis as LDA\n",
    "from sklearn.discriminant_analysis import QuadraticDiscriminantAnalysis as QDA"
   ]
  },
  {
   "cell_type": "code",
   "execution_count": 101,
   "id": "63385acb-3312-469d-b6af-7ca9503faa34",
   "metadata": {},
   "outputs": [],
   "source": [
    "x = StandardScaler().fit_transform(data) # normalizing the features"
   ]
  },
  {
   "cell_type": "code",
   "execution_count": 102,
   "id": "c1585585-1cab-4922-ac03-d8bab490c3ae",
   "metadata": {},
   "outputs": [],
   "source": [
    "# Split dataset into training set and test set\n",
    "X_train, X_test, y_train, y_test = train_test_split(x, label, test_size=0.25) "
   ]
  },
  {
   "cell_type": "code",
   "execution_count": 103,
   "id": "ba2e0171-555e-47c2-949f-010b68e7f8d2",
   "metadata": {},
   "outputs": [],
   "source": [
    "lda = LDA(solver=\"svd\", store_covariance=True)\n",
    "# y_pred = lda.fit(X_train, y_train).predict(X_train)\n",
    "ldacomp = lda.fit_transform(X_train, y_train)\n",
    "y_pred = lda.fit(X_train, y_train).predict(X_train)"
   ]
  },
  {
   "cell_type": "code",
   "execution_count": 123,
   "id": "1669a054-b539-4340-a6b2-522129fa7b15",
   "metadata": {},
   "outputs": [
    {
     "data": {
      "text/plain": [
       "0.7670606776989756"
      ]
     },
     "execution_count": 123,
     "metadata": {},
     "output_type": "execute_result"
    }
   ],
   "source": [
    "lda.score(X_test, y_test)"
   ]
  },
  {
   "cell_type": "code",
   "execution_count": 117,
   "id": "d09cf287-bf63-4850-9add-3c92420d5bd7",
   "metadata": {},
   "outputs": [
    {
     "data": {
      "text/plain": [
       "QuadraticDiscriminantAnalysis(store_covariance=True)"
      ]
     },
     "execution_count": 117,
     "metadata": {},
     "output_type": "execute_result"
    }
   ],
   "source": [
    "qda = QDA(store_covariance=True)\n",
    "# y_pred = qda.fit(X, y).predict(X)\n",
    "qda.fit(X_train, y_train)"
   ]
  },
  {
   "cell_type": "code",
   "execution_count": 115,
   "id": "ea938003-b59d-4551-9f60-b2993982bc16",
   "metadata": {},
   "outputs": [
    {
     "data": {
      "image/png": "[encoded data removed]",
      "text/plain": [
       "<Figure size 432x288 with 1 Axes>"
      ]
     },
     "metadata": {
      "needs_background": "light"
     },
     "output_type": "display_data"
    }
   ],
   "source": [
    "kw = dict(histtype='step', density=False, )\n",
    "bins = plt.hist(ldacomp[y_train==0], bins=50, **kw)\n",
    "plt.hist(ldacomp[y_train==1], bins=bins[1], **kw)\n",
    "plt.show()"
   ]
  },
  {
   "cell_type": "code",
   "execution_count": null,
   "id": "90e82d8c-6fa3-4735-a2a0-9e975aee9654",
   "metadata": {},
   "outputs": [],
   "source": [
    "lda = LinearDiscriminantAnalysis(solver=\"svd\", store_covariance=True)\n",
    "y_pred = lda.fit(X, y).predict(X)\n",
    "splot = plot_data(lda, X, y, y_pred, fig_index=2 * i + 1)\n",
    "plot_lda_cov(lda, splot)\n",
    "plt.axis('tight')\n",
    "\n",
    "# Quadratic Discriminant Analysis\n",
    "qda = QuadraticDiscriminantAnalysis(store_covariance=True)\n",
    "y_pred = qda.fit(X, y).predict(X)\n",
    "splot = plot_data(qda, X, y, y_pred, fig_index=2 * i + 2)\n",
    "plot_qda_cov(qda, splot)"
   ]
  },
  {
   "cell_type": "markdown",
   "id": "29c0c95d-9d1e-4693-a3bb-841f20f1633e",
   "metadata": {
    "tags": []
   },
   "source": [
    "## Data Prep"
   ]
  },
  {
   "cell_type": "markdown",
   "id": "1fdef025-d4c6-4bfb-85df-332464d46b7e",
   "metadata": {},
   "source": [
    "Add in residual time and pmt info (can cut for promptness in mask if wanted. Now not doing.) "
   ]
  }
 ],
 "metadata": {
  "kernelspec": {
   "display_name": "Python [conda env:.conda-sjf37]",
   "language": "python",
   "name": "conda-env-.conda-sjf37-py"
  },
  "language_info": {
   "codemirror_mode": {
    "name": "ipython",
    "version": 3
   },
   "file_extension": ".py",
   "mimetype": "text/x-python",
   "name": "python",
   "nbconvert_exporter": "python",
   "pygments_lexer": "ipython3",
   "version": "3.7.11"
  }
 },
 "nbformat": 4,
 "nbformat_minor": 5
}
