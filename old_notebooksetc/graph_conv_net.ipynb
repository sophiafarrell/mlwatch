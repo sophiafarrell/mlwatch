{
 "cells": [
  {
   "cell_type": "markdown",
   "id": "c5ec63f8",
   "metadata": {
    "tags": []
   },
   "source": [
    "# Reading the ROOT files"
   ]
  },
  {
   "cell_type": "code",
   "execution_count": 34,
   "id": "65d37937-a0a5-4f22-aa03-28dde7216595",
   "metadata": {},
   "outputs": [
    {
     "name": "stdout",
     "output_type": "stream",
     "text": [
      "2.3.0 /home/sophiafarrell/.local/lib/python3.7/site-packages/tensorflow/__init__.py\n"
     ]
    }
   ],
   "source": [
    "exec(open(\"./do_imports.py\").read())"
   ]
  },
  {
   "cell_type": "code",
   "execution_count": 3,
   "id": "13eeae8d-3b81-4286-ae51-d24f71ff2dbb",
   "metadata": {},
   "outputs": [],
   "source": [
    "import seaborn as sns"
   ]
  },
  {
   "cell_type": "code",
   "execution_count": 4,
   "id": "c6ab4c8f-61d5-4331-b1f1-3bcd4f8682f7",
   "metadata": {},
   "outputs": [],
   "source": [
    "import matplotlib.pyplot as plt\n",
    "from matplotlib.colors import LogNorm"
   ]
  },
  {
   "cell_type": "code",
   "execution_count": 5,
   "id": "efae56a3-32b1-492a-82c5-593bbcbb969e",
   "metadata": {},
   "outputs": [],
   "source": [
    "from sklearn.metrics import confusion_matrix, roc_auc_score, roc_curve\n",
    "import seaborn as sns\n",
    "from sklearn.preprocessing import StandardScaler\n",
    "from sklearn.ensemble import RandomForestClassifier\n",
    "from sklearn import metrics"
   ]
  },
  {
   "cell_type": "markdown",
   "id": "c7b3de20-5496-45d3-b6a0-e9353eebeff2",
   "metadata": {},
   "source": [
    "We want where quicknext<500 us (so another prompt follows) and the subid==1. "
   ]
  },
  {
   "cell_type": "markdown",
   "id": "4ab2244b-f00b-4757-bd08-f48f4b383363",
   "metadata": {},
   "source": [
    "What if we boost our fast-neutron stamps by not requiring it to be the first event (so tri-neutron events recorded too but in pairs?) \n",
    "<br>\n",
    "Obviously this is not realistic since we'd veto these by having 3, but we can at least pretend they're di-neutrons! \n",
    "\n",
    "Edit: the next code is already doing that! We gain 1149/5500 of the stats from that trick, which is necessary. "
   ]
  },
  {
   "cell_type": "code",
   "execution_count": 6,
   "id": "ce5b5ef3-d24f-4ca9-9b78-0c5529b0c551",
   "metadata": {},
   "outputs": [],
   "source": [
    "def get_paired_data(data):\n",
    "    next_ts = data.timestamp[1:]\n",
    "    next_ts = ak.concatenate([next_ts, 0])\n",
    "\n",
    "    condition_1 = next_ts - data.timestamp<600\n",
    "    condition_2 = next_ts - data.timestamp>0\n",
    "    condition_3 = data.dt_next_us < 600\n",
    "\n",
    "    both = condition_1 * condition_2 * condition_3\n",
    "\n",
    "    first_of_two = ak.where(both)[0]\n",
    "    signal1 = data[first_of_two]\n",
    "    signal2 = data[first_of_two+1]\n",
    "    \n",
    "    return signal1, signal2"
   ]
  },
  {
   "cell_type": "code",
   "execution_count": 33,
   "id": "7106a507-ebf5-4a27-b1e1-d8e13d276745",
   "metadata": {},
   "outputs": [],
   "source": [
    "fn0, fn1 = get_paired_data(fastn)\n",
    "ibd0, ibd1 = get_paired_data(ibd)"
   ]
  },
  {
   "cell_type": "markdown",
   "id": "d170e49f-ab33-4692-80e3-ab291b69af79",
   "metadata": {},
   "source": [
    "### Prep data for model input"
   ]
  },
  {
   "cell_type": "code",
   "execution_count": 11,
   "id": "3ab7ba7b-b310-44ce-acae-d0e15877810e",
   "metadata": {},
   "outputs": [],
   "source": [
    "selection = [ibd0, fn0]\n",
    "samples = min([len(i) for i in selection])\n",
    "# smth = [i[:samples] for i in selection]\n",
    "\n",
    "npmts = 2330\n",
    "timetot = 1500 #ns \n",
    "tres = 10 # ns \n",
    "div_factor = tres \n",
    "nbins = int(timetot/tres)\n"
   ]
  },
  {
   "cell_type": "code",
   "execution_count": 12,
   "id": "17da4ae6-f84b-4989-8295-3f43b2ccdec7",
   "metadata": {},
   "outputs": [
    {
     "name": "stdout",
     "output_type": "stream",
     "text": [
      "set 1 of 2\n",
      "set 2 of 2\n"
     ]
    }
   ],
   "source": [
    "size = samples * len(selection)\n",
    "y = np.array([]) \n",
    "\n",
    "first = np.zeros((size, npmts, nbins), dtype=np.float32)\n",
    "second = np.zeros_like(first)\n",
    "\n",
    "data_to_manipulate = [[fn0, fn1], [ibd0, ibd1]]\n",
    "for d, (signal1, signal2) in enumerate(data_to_manipulate):\n",
    "    print('set %i of %i'%(d+1, len(data_to_manipulate)))\n",
    "    \n",
    "    new_bins1 = ak.values_astype((signal1.hittime-300)/div_factor, np.int32)\n",
    "    new_bins2 = ak.values_astype((signal2.hittime-300)/div_factor, np.int32)\n",
    "\n",
    "    for i in range(0, samples):\n",
    "        first[(d+1)*i, signal1.channel[i], new_bins1[i]]=signal1.pmtcharge[i]\n",
    "        second[(d+1)*i, signal2.channel[i], new_bins2[i]]=signal2.pmtcharge[i]\n",
    "    y=np.append(y, d*np.ones(samples))\n"
   ]
  },
  {
   "cell_type": "code",
   "execution_count": 13,
   "id": "0725298c-34ce-43a5-8f9e-8185ebc0a12d",
   "metadata": {},
   "outputs": [],
   "source": [
    "X_train1, X_test1, X_train2, X_test2, y_train, y_test = train_test_split(\n",
    "    first, second, y,\n",
    "    test_size=0.25, random_state=43\n",
    ")"
   ]
  },
  {
   "cell_type": "code",
   "execution_count": 14,
   "id": "2787f1c4-4551-47a4-892d-10f731e6aec5",
   "metadata": {},
   "outputs": [
    {
     "data": {
      "text/plain": [
       "390"
      ]
     },
     "execution_count": 14,
     "metadata": {},
     "output_type": "execute_result"
    }
   ],
   "source": [
    "del first, second, data_to_manipulate, new_bins1, new_bins2, fn0, fn1, ibd0, ibd1\n",
    "gc.collect()"
   ]
  },
  {
   "cell_type": "markdown",
   "id": "86741727-809d-4fc0-b855-e3e1d1bc5d23",
   "metadata": {},
   "source": [
    "------"
   ]
  },
  {
   "cell_type": "markdown",
   "id": "99b26e4b",
   "metadata": {},
   "source": [
    "Separate out prompt/delayed IBD and delta-ray/neutron capture fast-neutrons"
   ]
  },
  {
   "cell_type": "code",
   "execution_count": 36,
   "id": "254a635b-197a-41f1-9ea7-b7f0b86bc4ae",
   "metadata": {},
   "outputs": [],
   "source": [
    "from tensorflow.keras import layers"
   ]
  },
  {
   "cell_type": "code",
   "execution_count": 37,
   "id": "21069336-8176-4a1a-b86f-5823aed63906",
   "metadata": {},
   "outputs": [],
   "source": [
    "class GraphConvLayer(layers.Layer):\n",
    "    def __init__(\n",
    "        self,\n",
    "        hidden_units,\n",
    "        dropout_rate=0.2,\n",
    "        aggregation_type=\"mean\",\n",
    "        combination_type=\"concat\",\n",
    "        normalize=False,\n",
    "        *args,\n",
    "        **kwargs,\n",
    "    ):\n",
    "        super(GraphConvLayer, self).__init__(*args, **kwargs)\n",
    "\n",
    "        self.aggregation_type = aggregation_type\n",
    "        self.combination_type = combination_type\n",
    "        self.normalize = normalize\n",
    "\n",
    "        self.ffn_prepare = create_ffn(hidden_units, dropout_rate)\n",
    "        if self.combination_type == \"gated\":\n",
    "            self.update_fn = layers.GRU(\n",
    "                units=hidden_units,\n",
    "                activation=\"tanh\",\n",
    "                recurrent_activation=\"sigmoid\",\n",
    "                dropout=dropout_rate,\n",
    "                return_state=True,\n",
    "                recurrent_dropout=dropout_rate,\n",
    "            )\n",
    "        else:\n",
    "            self.update_fn = create_ffn(hidden_units, dropout_rate)\n",
    "\n",
    "    def prepare(self, node_repesentations, weights=None):\n",
    "        # node_repesentations shape is [num_edges, embedding_dim].\n",
    "        messages = self.ffn_prepare(node_repesentations)\n",
    "        if weights is not None:\n",
    "            messages = messages * tf.expand_dims(weights, -1)\n",
    "        return messages\n",
    "\n",
    "    def aggregate(self, node_indices, neighbour_messages):\n",
    "        # node_indices shape is [num_edges].\n",
    "        # neighbour_messages shape: [num_edges, representation_dim].\n",
    "        num_nodes = tf.math.reduce_max(node_indices) + 1\n",
    "        if self.aggregation_type == \"sum\":\n",
    "            aggregated_message = tf.math.unsorted_segment_sum(\n",
    "                neighbour_messages, node_indices, num_segments=num_nodes\n",
    "            )\n",
    "        elif self.aggregation_type == \"mean\":\n",
    "            aggregated_message = tf.math.unsorted_segment_mean(\n",
    "                neighbour_messages, node_indices, num_segments=num_nodes\n",
    "            )\n",
    "        elif self.aggregation_type == \"max\":\n",
    "            aggregated_message = tf.math.unsorted_segment_max(\n",
    "                neighbour_messages, node_indices, num_segments=num_nodes\n",
    "            )\n",
    "        else:\n",
    "            raise ValueError(f\"Invalid aggregation type: {self.aggregation_type}.\")\n",
    "\n",
    "        return aggregated_message\n",
    "\n",
    "    def update(self, node_repesentations, aggregated_messages):\n",
    "        # node_repesentations shape is [num_nodes, representation_dim].\n",
    "        # aggregated_messages shape is [num_nodes, representation_dim].\n",
    "        if self.combination_type == \"gru\":\n",
    "            # Create a sequence of two elements for the GRU layer.\n",
    "            h = tf.stack([node_repesentations, aggregated_messages], axis=1)\n",
    "        elif self.combination_type == \"concat\":\n",
    "            # Concatenate the node_repesentations and aggregated_messages.\n",
    "            h = tf.concat([node_repesentations, aggregated_messages], axis=1)\n",
    "        elif self.combination_type == \"add\":\n",
    "            # Add node_repesentations and aggregated_messages.\n",
    "            h = node_repesentations + aggregated_messages\n",
    "        else:\n",
    "            raise ValueError(f\"Invalid combination type: {self.combination_type}.\")\n",
    "\n",
    "        # Apply the processing function.\n",
    "        node_embeddings = self.update_fn(h)\n",
    "        if self.combination_type == \"gru\":\n",
    "            node_embeddings = tf.unstack(node_embeddings, axis=1)[-1]\n",
    "\n",
    "        if self.normalize:\n",
    "            node_embeddings = tf.nn.l2_normalize(node_embeddings, axis=-1)\n",
    "        return node_embeddings\n",
    "\n",
    "    def call(self, inputs):\n",
    "        \"\"\"Process the inputs to produce the node_embeddings.\n",
    "\n",
    "        inputs: a tuple of three elements: node_repesentations, edges, edge_weights.\n",
    "        Returns: node_embeddings of shape [num_nodes, representation_dim].\n",
    "        \"\"\"\n",
    "\n",
    "        node_repesentations, edges, edge_weights = inputs\n",
    "        # Get node_indices (source) and neighbour_indices (target) from edges.\n",
    "        node_indices, neighbour_indices = edges[0], edges[1]\n",
    "        # neighbour_repesentations shape is [num_edges, representation_dim].\n",
    "        neighbour_repesentations = tf.gather(node_repesentations, neighbour_indices)\n",
    "\n",
    "        # Prepare the messages of the neighbours.\n",
    "        neighbour_messages = self.prepare(neighbour_repesentations, edge_weights)\n",
    "        # Aggregate the neighbour messages.\n",
    "        aggregated_messages = self.aggregate(node_indices, neighbour_messages)\n",
    "        # Update the node embedding with the neighbour messages.\n",
    "        return self.update(node_repesentations, aggregated_messages)"
   ]
  },
  {
   "cell_type": "code",
   "execution_count": 38,
   "id": "dbb27ee3-9358-4356-84b7-58bc31be1a9e",
   "metadata": {},
   "outputs": [],
   "source": [
    "class GNNNodeClassifier(tf.keras.Model):\n",
    "    def __init__(\n",
    "        self,\n",
    "        graph_info,\n",
    "        num_classes,\n",
    "        hidden_units,\n",
    "        aggregation_type=\"sum\",\n",
    "        combination_type=\"concat\",\n",
    "        dropout_rate=0.2,\n",
    "        normalize=True,\n",
    "        *args,\n",
    "        **kwargs,\n",
    "    ):\n",
    "        super(GNNNodeClassifier, self).__init__(*args, **kwargs)\n",
    "\n",
    "        # Unpack graph_info to three elements: node_features, edges, and edge_weight.\n",
    "        node_features, edges, edge_weights = graph_info\n",
    "        self.node_features = node_features\n",
    "        self.edges = edges\n",
    "        self.edge_weights = edge_weights\n",
    "        # Set edge_weights to ones if not provided.\n",
    "        if self.edge_weights is None:\n",
    "            self.edge_weights = tf.ones(shape=edges.shape[1])\n",
    "        # Scale edge_weights to sum to 1.\n",
    "        self.edge_weights = self.edge_weights / tf.math.reduce_sum(self.edge_weights)\n",
    "\n",
    "        # Create a process layer.\n",
    "        self.preprocess = create_ffn(hidden_units, dropout_rate, name=\"preprocess\")\n",
    "        # Create the first GraphConv layer.\n",
    "        self.conv1 = GraphConvLayer(\n",
    "            hidden_units,\n",
    "            dropout_rate,\n",
    "            aggregation_type,\n",
    "            combination_type,\n",
    "            normalize,\n",
    "            name=\"graph_conv1\",\n",
    "        )\n",
    "        # Create the second GraphConv layer.\n",
    "        self.conv2 = GraphConvLayer(\n",
    "            hidden_units,\n",
    "            dropout_rate,\n",
    "            aggregation_type,\n",
    "            combination_type,\n",
    "            normalize,\n",
    "            name=\"graph_conv2\",\n",
    "        )\n",
    "        # Create a postprocess layer.\n",
    "        self.postprocess = create_ffn(hidden_units, dropout_rate, name=\"postprocess\")\n",
    "        # Create a compute logits layer.\n",
    "        self.compute_logits = layers.Dense(units=num_classes, name=\"logits\")\n",
    "\n",
    "    def call(self, input_node_indices):\n",
    "        # Preprocess the node_features to produce node representations.\n",
    "        x = self.preprocess(self.node_features)\n",
    "        # Apply the first graph conv layer.\n",
    "        x1 = self.conv1((x, self.edges, self.edge_weights))\n",
    "        # Skip connection.\n",
    "        x = x1 + x\n",
    "        # Apply the second graph conv layer.\n",
    "        x2 = self.conv2((x, self.edges, self.edge_weights))\n",
    "        # Skip connection.\n",
    "        x = x2 + x\n",
    "        # Postprocess node embedding.\n",
    "        x = self.postprocess(x)\n",
    "        # Fetch node embeddings for the input node_indices.\n",
    "        node_embeddings = tf.squeeze(tf.gather(x, input_node_indices))\n",
    "        # Compute logits\n",
    "        return self.compute_logits(node_embeddings)"
   ]
  },
  {
   "cell_type": "code",
   "execution_count": null,
   "id": "850ab5b3-ad33-4616-aede-a0246e2c78f7",
   "metadata": {},
   "outputs": [],
   "source": []
  },
  {
   "cell_type": "code",
   "execution_count": null,
   "id": "14e633be-bfb6-4932-9f41-d8ad16e155e2",
   "metadata": {},
   "outputs": [],
   "source": [
    "# Create an edges array (sparse adjacency matrix) of shape [2, num_edges].\n",
    "edges = citations[[\"source\", \"target\"]].to_numpy().T\n",
    "# Create an edge weights array of ones.\n",
    "edge_weights = tf.ones(shape=edges.shape[1])\n",
    "# Create a node features array of shape [num_nodes, num_features].\n",
    "node_features = tf.cast(\n",
    "    papers.sort_values(\"paper_id\")[feature_names].to_numpy(), dtype=tf.dtypes.float32\n",
    ")\n",
    "# Create graph info tuple with node_features, edges, and edge_weights.\n",
    "graph_info = (node_features, edges, edge_weights)\n",
    "\n",
    "print(\"Edges shape:\", edges.shape)\n",
    "print(\"Nodes shape:\", node_features.shape)"
   ]
  },
  {
   "cell_type": "code",
   "execution_count": 39,
   "id": "2e33204e-d328-4aba-870a-9f73c82428fa",
   "metadata": {},
   "outputs": [
    {
     "ename": "NameError",
     "evalue": "name 'graph_info' is not defined",
     "output_type": "error",
     "traceback": [
      "\u001b[0;31m---------------------------------------------------------------------------\u001b[0m",
      "\u001b[0;31mNameError\u001b[0m                                 Traceback (most recent call last)",
      "\u001b[0;32m<ipython-input-39-5577555ae00d>\u001b[0m in \u001b[0;36m<module>\u001b[0;34m\u001b[0m\n\u001b[1;32m      1\u001b[0m gnn_model = GNNNodeClassifier(\n\u001b[0;32m----> 2\u001b[0;31m     \u001b[0mgraph_info\u001b[0m\u001b[0;34m=\u001b[0m\u001b[0mgraph_info\u001b[0m\u001b[0;34m,\u001b[0m\u001b[0;34m\u001b[0m\u001b[0;34m\u001b[0m\u001b[0m\n\u001b[0m\u001b[1;32m      3\u001b[0m     \u001b[0mnum_classes\u001b[0m\u001b[0;34m=\u001b[0m\u001b[0mnum_classes\u001b[0m\u001b[0;34m,\u001b[0m\u001b[0;34m\u001b[0m\u001b[0;34m\u001b[0m\u001b[0m\n\u001b[1;32m      4\u001b[0m     \u001b[0mhidden_units\u001b[0m\u001b[0;34m=\u001b[0m\u001b[0mhidden_units\u001b[0m\u001b[0;34m,\u001b[0m\u001b[0;34m\u001b[0m\u001b[0;34m\u001b[0m\u001b[0m\n\u001b[1;32m      5\u001b[0m     \u001b[0mdropout_rate\u001b[0m\u001b[0;34m=\u001b[0m\u001b[0mdropout_rate\u001b[0m\u001b[0;34m,\u001b[0m\u001b[0;34m\u001b[0m\u001b[0;34m\u001b[0m\u001b[0m\n",
      "\u001b[0;31mNameError\u001b[0m: name 'graph_info' is not defined"
     ]
    }
   ],
   "source": [
    "gnn_model = GNNNodeClassifier(\n",
    "    graph_info=graph_info,\n",
    "    num_classes=num_classes,\n",
    "    hidden_units=hidden_units,\n",
    "    dropout_rate=dropout_rate,\n",
    "    name=\"gnn_model\",\n",
    ")\n",
    "\n",
    "print(\"GNN output shape:\", gnn_model([1, 10, 100]))\n",
    "\n",
    "gnn_model.summary()"
   ]
  },
  {
   "cell_type": "markdown",
   "id": "6982f8a7-a2ef-45a4-9e83-e81439c75796",
   "metadata": {
    "tags": []
   },
   "source": [
    "## Getting data in input form"
   ]
  },
  {
   "cell_type": "markdown",
   "id": "78f6a789-053d-4881-adf1-293c256209eb",
   "metadata": {},
   "source": [
    "Need to get those with a 1 for sure as it has a 0, then take those separated by the 0 or 1 "
   ]
  },
  {
   "cell_type": "code",
   "execution_count": 15,
   "id": "b9b67410-455c-4cb4-973d-5299519c16fe",
   "metadata": {},
   "outputs": [],
   "source": [
    "model = load_model('weights/coupled_crnn_2.h5')"
   ]
  },
  {
   "cell_type": "code",
   "execution_count": 16,
   "id": "a71260c5-2c2c-46ea-9818-adf1867e5981",
   "metadata": {
    "scrolled": true,
    "tags": []
   },
   "outputs": [
    {
     "name": "stdout",
     "output_type": "stream",
     "text": [
      "Model: \"functional_1\"\n",
      "__________________________________________________________________________________________________\n",
      "Layer (type)                    Output Shape         Param #     Connected to                     \n",
      "==================================================================================================\n",
      "input_1 (InputLayer)            [(None, 2330, 150)]  0                                            \n",
      "__________________________________________________________________________________________________\n",
      "input_2 (InputLayer)            [(None, 2330, 150)]  0                                            \n",
      "__________________________________________________________________________________________________\n",
      "lstm (LSTM)                     (None, 2330, 128)    142848      input_1[0][0]                    \n",
      "__________________________________________________________________________________________________\n",
      "lstm_2 (LSTM)                   (None, 2330, 128)    142848      input_2[0][0]                    \n",
      "__________________________________________________________________________________________________\n",
      "lstm_1 (LSTM)                   (None, 2330, 64)     49408       lstm[0][0]                       \n",
      "__________________________________________________________________________________________________\n",
      "lstm_3 (LSTM)                   (None, 2330, 64)     49408       lstm_2[0][0]                     \n",
      "__________________________________________________________________________________________________\n",
      "reshape (Reshape)               (None, 2330, 64, 1)  0           lstm_1[0][0]                     \n",
      "__________________________________________________________________________________________________\n",
      "reshape_1 (Reshape)             (None, 2330, 64, 1)  0           lstm_3[0][0]                     \n",
      "__________________________________________________________________________________________________\n",
      "conv2d (Conv2D)                 (None, 2328, 62, 64) 640         reshape[0][0]                    \n",
      "__________________________________________________________________________________________________\n",
      "conv2d_3 (Conv2D)               (None, 2328, 62, 64) 640         reshape_1[0][0]                  \n",
      "__________________________________________________________________________________________________\n",
      "dropout (Dropout)               (None, 2328, 62, 64) 0           conv2d[0][0]                     \n",
      "__________________________________________________________________________________________________\n",
      "dropout_3 (Dropout)             (None, 2328, 62, 64) 0           conv2d_3[0][0]                   \n",
      "__________________________________________________________________________________________________\n",
      "max_pooling2d (MaxPooling2D)    (None, 582, 62, 64)  0           dropout[0][0]                    \n",
      "__________________________________________________________________________________________________\n",
      "max_pooling2d_3 (MaxPooling2D)  (None, 582, 62, 64)  0           dropout_3[0][0]                  \n",
      "__________________________________________________________________________________________________\n",
      "conv2d_1 (Conv2D)               (None, 580, 60, 64)  36928       max_pooling2d[0][0]              \n",
      "__________________________________________________________________________________________________\n",
      "conv2d_4 (Conv2D)               (None, 580, 60, 64)  36928       max_pooling2d_3[0][0]            \n",
      "__________________________________________________________________________________________________\n",
      "dropout_1 (Dropout)             (None, 580, 60, 64)  0           conv2d_1[0][0]                   \n",
      "__________________________________________________________________________________________________\n",
      "dropout_4 (Dropout)             (None, 580, 60, 64)  0           conv2d_4[0][0]                   \n",
      "__________________________________________________________________________________________________\n",
      "max_pooling2d_1 (MaxPooling2D)  (None, 145, 60, 64)  0           dropout_1[0][0]                  \n",
      "__________________________________________________________________________________________________\n",
      "max_pooling2d_4 (MaxPooling2D)  (None, 145, 60, 64)  0           dropout_4[0][0]                  \n",
      "__________________________________________________________________________________________________\n",
      "conv2d_2 (Conv2D)               (None, 143, 58, 64)  36928       max_pooling2d_1[0][0]            \n",
      "__________________________________________________________________________________________________\n",
      "conv2d_5 (Conv2D)               (None, 143, 58, 64)  36928       max_pooling2d_4[0][0]            \n",
      "__________________________________________________________________________________________________\n",
      "dropout_2 (Dropout)             (None, 143, 58, 64)  0           conv2d_2[0][0]                   \n",
      "__________________________________________________________________________________________________\n",
      "dropout_5 (Dropout)             (None, 143, 58, 64)  0           conv2d_5[0][0]                   \n",
      "__________________________________________________________________________________________________\n",
      "max_pooling2d_2 (MaxPooling2D)  (None, 71, 29, 64)   0           dropout_2[0][0]                  \n",
      "__________________________________________________________________________________________________\n",
      "max_pooling2d_5 (MaxPooling2D)  (None, 71, 29, 64)   0           dropout_5[0][0]                  \n",
      "__________________________________________________________________________________________________\n",
      "concatenate (Concatenate)       (None, 71, 29, 128)  0           max_pooling2d_2[0][0]            \n",
      "                                                                 max_pooling2d_5[0][0]            \n",
      "__________________________________________________________________________________________________\n",
      "conv2d_6 (Conv2D)               (None, 69, 27, 64)   73792       concatenate[0][0]                \n",
      "__________________________________________________________________________________________________\n",
      "dropout_6 (Dropout)             (None, 69, 27, 64)   0           conv2d_6[0][0]                   \n",
      "__________________________________________________________________________________________________\n",
      "max_pooling2d_6 (MaxPooling2D)  (None, 34, 13, 64)   0           dropout_6[0][0]                  \n",
      "__________________________________________________________________________________________________\n",
      "flatten (Flatten)               (None, 28288)        0           max_pooling2d_6[0][0]            \n",
      "__________________________________________________________________________________________________\n",
      "dense (Dense)                   (None, 64)           1810496     flatten[0][0]                    \n",
      "__________________________________________________________________________________________________\n",
      "dropout_7 (Dropout)             (None, 64)           0           dense[0][0]                      \n",
      "__________________________________________________________________________________________________\n",
      "dense_1 (Dense)                 (None, 32)           2080        dropout_7[0][0]                  \n",
      "__________________________________________________________________________________________________\n",
      "dropout_8 (Dropout)             (None, 32)           0           dense_1[0][0]                    \n",
      "__________________________________________________________________________________________________\n",
      "dense_2 (Dense)                 (None, 1)            33          dropout_8[0][0]                  \n",
      "==================================================================================================\n",
      "Total params: 2,419,905\n",
      "Trainable params: 2,419,905\n",
      "Non-trainable params: 0\n",
      "__________________________________________________________________________________________________\n"
     ]
    }
   ],
   "source": [
    "model.summary()"
   ]
  },
  {
   "cell_type": "code",
   "execution_count": 17,
   "id": "e9dbc674-1649-407a-9982-d039549e9b4e",
   "metadata": {},
   "outputs": [
    {
     "name": "stdout",
     "output_type": "stream",
     "text": [
      "89/89 [==============================] - 25s 282ms/step\n"
     ]
    }
   ],
   "source": [
    "scores = model.predict([X_test1, X_test2], verbose=1)\n",
    "rnn_out_test = scores"
   ]
  },
  {
   "cell_type": "code",
   "execution_count": 18,
   "id": "44fb2906-4ae8-463b-835c-a7112ef55cac",
   "metadata": {},
   "outputs": [
    {
     "name": "stdout",
     "output_type": "stream",
     "text": [
      "267/267 [==============================] - 80s 300ms/step\n"
     ]
    }
   ],
   "source": [
    "rnn_out_train = model.predict([X_train1, X_train2], verbose=1)"
   ]
  },
  {
   "cell_type": "code",
   "execution_count": 19,
   "id": "b21570db-9a7e-4eac-aa20-7cdc4d8c4e90",
   "metadata": {},
   "outputs": [],
   "source": [
    "if scores.shape[1]>1:\n",
    "    y_pred_2 = np.argmax(scores, axis=1)\n",
    "    y_test_2 = np.argmax(y_test, axis=1)\n",
    "else:\n",
    "    y_pred_2, y_test_2 = np.round(scores), y_test"
   ]
  },
  {
   "cell_type": "code",
   "execution_count": 20,
   "id": "9d0206e7-ba14-4284-acf2-c79551eb4bd3",
   "metadata": {
    "tags": []
   },
   "outputs": [],
   "source": [
    "def draw_confmat(classes=3, \n",
    "                 y_test_2=y_test_2, \n",
    "                 y_pred_2=y_pred_2, \n",
    "                 scores=scores):\n",
    "    confmat = confusion_matrix(y_test_2, y_pred_2)\n",
    "    plt.figure(figsize=(6,4))\n",
    "    ax = sns.heatmap(confmat, annot=True, fmt='g', \n",
    "                    )\n",
    "\n",
    "    ax.set_title('Confusion Matrix fast-n vs. ibd')\n",
    "    ax.set_xlabel('Predicted PID')\n",
    "    ax.set_ylabel('Actual PID')\n",
    "\n",
    "    if classes==2: labels = ['fastn', 'ibd']\n",
    "    elif classes==3: labels=['fastn', 'ibd0', 'ibd1']\n",
    "    ax.xaxis.set_ticklabels(labels)\n",
    "    ax.yaxis.set_ticklabels(labels)\n",
    "\n",
    "    plt.show()\n",
    "    \n",
    "def draw_roc(classes=3, y_test_2=y_test_2, scores=scores):\n",
    "    if classes==3: \n",
    "        cat1 = [0, 0, 1]\n",
    "        cat2 = [1, 2, 2]\n",
    "        labels = ['fastn/ibd0', 'fastn/ibd1', 'ibd0/ibd1',]\n",
    "    elif classes==2:\n",
    "        cat1 = [0]\n",
    "        cat2 = [1]\n",
    "        labels = ['fast-n/ibd']\n",
    "        \n",
    "    plt.figure(figsize=(6,4))\n",
    "    for i, j, label in zip(cat1, cat2, \n",
    "                            labels,\n",
    "                             ):\n",
    "        mask = [any(t) for t in zip(y_test_2==i, y_test_2==j)]\n",
    "        \n",
    "        if scores.shape[1]>1: prob = scores[:, j][mask]\n",
    "        else: prob = scores[mask]\n",
    "        guesses = y_test_2[mask]\n",
    "        guesses = guesses - np.min(guesses)\n",
    "        guesses = guesses/np.max(guesses)\n",
    "\n",
    "        fpr, tpr, thresholds = roc_curve(guesses, prob)\n",
    "\n",
    "        auc = roc_auc_score(y_test_2[mask], prob)\n",
    "        plt.plot(fpr, tpr, \n",
    "             label='%s (AUC = %0.3f)'%(label, auc), \n",
    "    #          color='darkorange', \n",
    "             lw=2, \n",
    "            )\n",
    "    plt.xlim([-0.01, 1.0])\n",
    "    plt.ylim([0, 1.05])\n",
    "    plt.xlabel('False Positive Rate')\n",
    "    plt.ylabel('True Positive Rate')\n",
    "    plt.title('RNN ROC: Fast-neutron vs. ibd')\n",
    "    plt.plot([0, 1], [0, 1], color='navy', lw=2, linestyle='--')\n",
    "    plt.legend()\n",
    "    plt.grid()\n",
    "    plt.show()    "
   ]
  },
  {
   "cell_type": "code",
   "execution_count": 21,
   "id": "73135ebf-6375-4f75-8579-8d7ab5e95dec",
   "metadata": {
    "tags": []
   },
   "outputs": [
    {
     "data": {
      "image/png": "[encoded data removed]",
      "text/plain": [
       "<Figure size 432x288 with 2 Axes>"
      ]
     },
     "metadata": {
      "needs_background": "light"
     },
     "output_type": "display_data"
    }
   ],
   "source": [
    "draw_confmat(classes=2)"
   ]
  },
  {
   "cell_type": "code",
   "execution_count": 22,
   "id": "dc507a75-5556-4e2a-b937-f79121e96c2e",
   "metadata": {},
   "outputs": [
    {
     "data": {
      "image/png": "[encoded data removed]",
      "text/plain": [
       "<Figure size 432x288 with 1 Axes>"
      ]
     },
     "metadata": {
      "needs_background": "light"
     },
     "output_type": "display_data"
    }
   ],
   "source": [
    "draw_roc(classes=2)"
   ]
  },
  {
   "cell_type": "code",
   "execution_count": 23,
   "id": "cb6fe437-369a-46d5-8ab2-fff5b9d589d6",
   "metadata": {},
   "outputs": [
    {
     "data": {
      "text/plain": [
       "8359"
      ]
     },
     "execution_count": 23,
     "metadata": {},
     "output_type": "execute_result"
    }
   ],
   "source": [
    "del model\n",
    "gc.collect()"
   ]
  },
  {
   "cell_type": "markdown",
   "id": "64cf818d-b64a-413f-84ce-0d2c5ada83ec",
   "metadata": {
    "tags": []
   },
   "source": [
    "## Take RNN output and add to X1 (RF) data"
   ]
  },
  {
   "cell_type": "code",
   "execution_count": 81,
   "id": "7c25bdb4-ddea-40c4-af43-48fac89524a7",
   "metadata": {},
   "outputs": [],
   "source": [
    "dimensions = [\n",
    "    'n9', 'n100', \n",
    "#     'x', 'y', 'z', \n",
    "#     'r',\n",
    "    'id_plus_dr_hit', \n",
    "    'good_dir', \n",
    "#     'good_dir_next', \n",
    "    'good_pos',\n",
    "#     'good_pos_next', \n",
    "#     'distpmt', \n",
    "    'closestPMT', 'closestPMT_next', \n",
    "    'drNextr', # 'dzNextz', \n",
    "     'dt_next_us', \n",
    "#     'azimuth_ks', \n",
    "#     'azimuth_ks_next',\n",
    "#     'n100_next','n9_next',\n",
    "    'pe', \n",
    "    'beta_one', \n",
    "#     'beta_one', 'beta_two', 'beta_three', 'beta_four', 'beta_five', 'beta_six',\n",
    "#     'beta_one_prev', 'beta_two_prev', 'beta_three_prev', 'beta_four_prev', 'beta_five_prev', 'beta_six_prev',\n",
    "]\n",
    "def get_dims(data, dimensions=dimensions):\n",
    "    df_cut = data[dimensions]\n",
    "    print('Remaining variables selected for analysis: %i'%(len(dimensions)))\n",
    "    return df_cut"
   ]
  },
  {
   "cell_type": "code",
   "execution_count": 82,
   "id": "66cb5a5d-0517-4c2c-90b0-3c55e2b98c17",
   "metadata": {},
   "outputs": [
    {
     "name": "stdout",
     "output_type": "stream",
     "text": [
      "Remaining variables selected for analysis: 11\n"
     ]
    }
   ],
   "source": [
    "data_to_manipulate = [fn0, ibd0]\n",
    "samples = min([len(i) for i in data_to_manipulate])\n",
    "\n",
    "x1 = data_to_manipulate[0][:samples]\n",
    "x1 = ak.concatenate((x1, data_to_manipulate[1][:samples]))\n",
    "\n",
    "X1 = get_dims(x1, dimensions=dimensions)\n",
    "X1 = ak.to_pandas(X1)\n",
    "\n",
    "X_train3, X_test3, y_train, y_test= train_test_split(X1, y, test_size=0.25, random_state=43) \n",
    "X_save = X_test3\n",
    "sc = StandardScaler()\n",
    "X_train3 = sc.fit_transform(X_train3)\n",
    "X_test3 = sc.transform(X_test3)"
   ]
  },
  {
   "cell_type": "code",
   "execution_count": 83,
   "id": "ae39f7ed-e0ab-4c2d-a2b3-010e77de829e",
   "metadata": {},
   "outputs": [],
   "source": [
    "# rnn_out_train = np.zeros((len(y_train),1))\n",
    "# rnn_out_test = np.zeros((len(y_test),1))"
   ]
  },
  {
   "cell_type": "code",
   "execution_count": 84,
   "id": "dd18eef3-2f0d-40e4-ba50-c72828887f7a",
   "metadata": {},
   "outputs": [],
   "source": [
    "def rnn_to_rf(classes=3, y_train=y_train, y_test=y_test):\n",
    "    if classes==2: \n",
    "        yy_train, yy_test = y_train, y_test\n",
    "    if classes>2:\n",
    "        yy_train = np.argmax(y_train, axis=1)\n",
    "        yy_test = np.argmax(y_test, axis=1)\n",
    "\n",
    "    new_train = np.hstack((X_train3, rnn_out_train))\n",
    "    new_test = np.hstack((X_test3, rnn_out_test))\n",
    "    \n",
    "    return new_train, new_test, yy_train, yy_test"
   ]
  },
  {
   "cell_type": "code",
   "execution_count": 85,
   "id": "bbdb705d-8be1-43ab-9ecb-8fea9e63acf5",
   "metadata": {},
   "outputs": [],
   "source": [
    "classes=2\n",
    "if classes==2: newdims = ['rnn_out']\n",
    "elif classes==3: newdims = ['rnn_out_fn', 'rnn_out_ibd0', 'rnn_out_ibd1']\n",
    "\n",
    "dims_add = dimensions.copy()\n",
    "for i in newdims:\n",
    "    dims_add.append(i)"
   ]
  },
  {
   "cell_type": "code",
   "execution_count": 86,
   "id": "d30f68ed-6df1-495e-a164-c47ce492c1ce",
   "metadata": {},
   "outputs": [],
   "source": [
    "new_train, new_test, yy_train, yy_test = rnn_to_rf(classes=2)"
   ]
  },
  {
   "cell_type": "code",
   "execution_count": 87,
   "id": "d6f8fcef-c6af-4a66-ab33-0430bb30a23c",
   "metadata": {},
   "outputs": [
    {
     "data": {
      "text/plain": [
       "RandomForestClassifier(bootstrap=True, ccp_alpha=0.0, class_weight=None,\n",
       "                       criterion='gini', max_depth=12, max_features='auto',\n",
       "                       max_leaf_nodes=None, max_samples=None,\n",
       "                       min_impurity_decrease=0.0, min_impurity_split=None,\n",
       "                       min_samples_leaf=1, min_samples_split=2,\n",
       "                       min_weight_fraction_leaf=0.0, n_estimators=100,\n",
       "                       n_jobs=None, oob_score=False, random_state=None,\n",
       "                       verbose=0, warm_start=False)"
      ]
     },
     "execution_count": 87,
     "metadata": {},
     "output_type": "execute_result"
    }
   ],
   "source": [
    "#Create a Gaussian Classifier\n",
    "clf=RandomForestClassifier(\n",
    "    n_estimators=100, \n",
    "    max_depth=12, \n",
    "#     min_samples_leaf=2,\n",
    "    bootstrap=True,\n",
    ")\n",
    "#Train the model using the training sets\n",
    "clf.fit(new_train,yy_train)"
   ]
  },
  {
   "cell_type": "code",
   "execution_count": 88,
   "id": "55f2b7c5-c888-40df-974d-55484f04b883",
   "metadata": {},
   "outputs": [],
   "source": [
    "y_train_pred = clf.predict(new_train)\n",
    "y_test_pred=clf.predict(new_test)"
   ]
  },
  {
   "cell_type": "code",
   "execution_count": 89,
   "id": "8de3e2eb-fcff-4340-b3c1-0422f45776e5",
   "metadata": {},
   "outputs": [
    {
     "name": "stdout",
     "output_type": "stream",
     "text": [
      "Train Accuracy: 99.12%\n",
      "Test Accuracy: 94.17%\n"
     ]
    }
   ],
   "source": [
    "# Model Accuracy, how often is the classifier correct?\n",
    "print(\"Train Accuracy: %.2f%%\"%(metrics.accuracy_score(yy_train, y_train_pred)*100))\n",
    "print(\"Test Accuracy: %.2f%%\"%(metrics.accuracy_score(yy_test, y_test_pred)*100))"
   ]
  },
  {
   "cell_type": "code",
   "execution_count": 56,
   "id": "b891ccd8-fe1e-4406-978e-3d7bdb5e2fd7",
   "metadata": {},
   "outputs": [],
   "source": [
    "feature_imp = pd.Series(clf.feature_importances_,index=dims_add).sort_values(ascending=False)"
   ]
  },
  {
   "cell_type": "code",
   "execution_count": 57,
   "id": "383ba2df-aca2-4530-9ec7-052c28faf6cd",
   "metadata": {},
   "outputs": [],
   "source": [
    "scores = clf.predict_proba(new_test)"
   ]
  },
  {
   "cell_type": "code",
   "execution_count": 58,
   "id": "e22c3e73-22c4-4606-8382-1c10725110b8",
   "metadata": {},
   "outputs": [
    {
     "data": {
      "image/png": "[encoded data removed]",
      "text/plain": [
       "<Figure size 432x648 with 1 Axes>"
      ]
     },
     "metadata": {
      "needs_background": "light"
     },
     "output_type": "display_data"
    }
   ],
   "source": [
    "# Creating a bar plot\n",
    "plt.figure(figsize=(6, 9))\n",
    "sns.barplot(x=feature_imp, y=feature_imp.index)\n",
    "# Add labels to your graph\n",
    "plt.xlabel('Feature Importance Score')\n",
    "plt.xscale('log')\n",
    "plt.ylabel('Features')\n",
    "plt.title(\"Feature Importance: RF fast-neutrons vs. IBDs\")\n",
    "# plt.legend()\n",
    "plt.show()"
   ]
  },
  {
   "cell_type": "code",
   "execution_count": 59,
   "id": "b6e735e9-0982-4111-ae38-ada2b9f58e34",
   "metadata": {},
   "outputs": [],
   "source": [
    "def draw_confmat(classes=3, \n",
    "                 y_test_2=yy_test, \n",
    "                 y_pred_2=y_test_pred, \n",
    "                 scores=scores,\n",
    "                **kwargs):\n",
    "    confmat = confusion_matrix(y_test_2, y_pred_2)\n",
    "    plt.figure(figsize=(6,4))\n",
    "    ax = sns.heatmap(confmat, annot=True, fmt='g', \n",
    "                    )\n",
    "\n",
    "    ax.set_title('Confusion Matrix fast-n vs. ibd')\n",
    "    ax.set_xlabel('Predicted PID')\n",
    "    ax.set_ylabel('Actual PID')\n",
    "\n",
    "    if classes==2: labels = ['fastn', 'ibd']\n",
    "    elif classes==3: labels=['fastn', 'ibd0', 'ibd1']\n",
    "    ax.xaxis.set_ticklabels(labels)\n",
    "    ax.yaxis.set_ticklabels(labels)\n",
    "\n",
    "    plt.show()\n",
    "    \n",
    "def draw_roc(classes=3, y_test_2=yy_test, scores=scores):\n",
    "    if classes==3: \n",
    "        cat1 = [0, 0, 1]\n",
    "        cat2 = [1, 2, 2]\n",
    "        labels = ['fastn/ibd0', 'fastn/ibd1', 'ibd0/ibd1',]\n",
    "    elif classes==2:\n",
    "        cat1 = [0]\n",
    "        cat2 = [1]\n",
    "        labels = ['fast-n/ibd']\n",
    "        \n",
    "    plt.figure(figsize=(6,4))\n",
    "    for i, j, label in zip(cat1, cat2, \n",
    "                            labels,\n",
    "                             ):\n",
    "        mask = [any(t) for t in zip(y_test_2==i, y_test_2==j)]\n",
    "        \n",
    "        if scores.shape[1]>1: prob = scores[:, j][mask]\n",
    "        else: prob = scores[mask]\n",
    "        guesses = y_test_2[mask]\n",
    "        guesses = guesses - np.min(guesses)\n",
    "        guesses = guesses/np.max(guesses)\n",
    "\n",
    "        fpr, tpr, thresholds = roc_curve(guesses, prob)\n",
    "\n",
    "        auc = roc_auc_score(y_test_2[mask], prob)\n",
    "        plt.plot(fpr, tpr, \n",
    "             label='%s (AUC = %0.3f)'%(label, auc), \n",
    "    #          color='darkorange', \n",
    "             lw=2, \n",
    "            )\n",
    "    plt.xlim([-0.01, 1.0])\n",
    "    plt.ylim([0, 1.05])\n",
    "    plt.xlabel('False Positive Rate')\n",
    "    plt.ylabel('True Positive Rate')\n",
    "    plt.title('NN into RF ROC: fast-n vs. ibd')\n",
    "    plt.plot([0, 1], [0, 1], color='navy', lw=2, linestyle='--')\n",
    "    plt.legend()\n",
    "    plt.grid()\n",
    "    plt.show()    "
   ]
  },
  {
   "cell_type": "code",
   "execution_count": 60,
   "id": "75d289c5-dd10-4bb3-ab27-c50734af8444",
   "metadata": {},
   "outputs": [],
   "source": [
    "if scores.shape[1]>1:\n",
    "    y_pred_2 = np.argmax(scores, axis=1)\n",
    "    try: y_test_2 = np.argmax(y_test, axis=1)\n",
    "    except: y_test_2=y_test\n",
    "else:\n",
    "    y_pred_2, y_test_2 = np.round(scores), y_test"
   ]
  },
  {
   "cell_type": "code",
   "execution_count": 61,
   "id": "721e3a5c-0f75-419c-b889-0964bcb27556",
   "metadata": {},
   "outputs": [
    {
     "data": {
      "image/png": "[encoded data removed]",
      "text/plain": [
       "<Figure size 432x288 with 2 Axes>"
      ]
     },
     "metadata": {
      "needs_background": "light"
     },
     "output_type": "display_data"
    }
   ],
   "source": [
    "draw_confmat(classes=2, y_test_2=y_test_2, y_pred_2=y_pred_2)"
   ]
  },
  {
   "cell_type": "code",
   "execution_count": 62,
   "id": "4b69335e-a71f-4af4-aa5e-252adf8f938e",
   "metadata": {},
   "outputs": [
    {
     "data": {
      "image/png": "[encoded data removed]",
      "text/plain": [
       "<Figure size 432x288 with 1 Axes>"
      ]
     },
     "metadata": {
      "needs_background": "light"
     },
     "output_type": "display_data"
    }
   ],
   "source": [
    "draw_roc(2, yy_test, scores)"
   ]
  },
  {
   "cell_type": "code",
   "execution_count": 41,
   "id": "6fccb3c7-648d-49d0-937f-eed508e0ce1d",
   "metadata": {},
   "outputs": [],
   "source": [
    "preds = y_pred_2.reshape(len(y_pred_2))\n",
    "error_inds = np.argwhere(y_test_2!=preds)\n",
    "error_inds = error_inds.reshape(len(error_inds))"
   ]
  },
  {
   "cell_type": "code",
   "execution_count": 42,
   "id": "3e0d7613-f01b-4b6f-b247-559412d10975",
   "metadata": {},
   "outputs": [],
   "source": [
    "true_label = y_test_2[error_inds]"
   ]
  },
  {
   "cell_type": "code",
   "execution_count": 43,
   "id": "da50a5e0-605e-4d56-8d1c-1f7e9b31d7d4",
   "metadata": {},
   "outputs": [],
   "source": [
    "wrong_data = X_save.iloc[error_inds]\n",
    "wrongibd = wrong_data[true_label==1]\n",
    "wrongfn = wrong_data[true_label==0]"
   ]
  },
  {
   "cell_type": "code",
   "execution_count": 46,
   "id": "54af0be8-040c-40b7-bc87-7fe318cf6da7",
   "metadata": {},
   "outputs": [
    {
     "data": {
      "image/png": "[encoded data removed]",
      "text/plain": [
       "<Figure size 432x288 with 1 Axes>"
      ]
     },
     "metadata": {
      "needs_background": "light"
     },
     "output_type": "display_data"
    }
   ],
   "source": [
    "kw = dict(histtype='step', density=True)\n",
    "key = 'good_dir'\n",
    "bins= plt.hist(wrongibd[key], bins=50, label='errors (true IBD)', **kw)\n",
    "plt.hist(wrongfn[key], bins=bins[1], label='errors (true fast-n)', **kw)\n",
    "plt.hist(ibd[key], bins=bins[1], label='all ibd', linestyle='--', **kw)\n",
    "plt.hist(fastn[key], bins=bins[1], label='all fast-n', linestyle='--', **kw)\n",
    "\n",
    "plt.title('Mis-predicted granddaughters, %s distribution'%(key))\n",
    "plt.legend(loc='upper left', ncol=2)\n",
    "plt.show()"
   ]
  },
  {
   "cell_type": "code",
   "execution_count": null,
   "id": "9c116572-aa2e-45b5-87f8-28c6ac371ece",
   "metadata": {},
   "outputs": [],
   "source": []
  }
 ],
 "metadata": {
  "kernelspec": {
   "display_name": "Python [conda env:.conda-sjf37]",
   "language": "python",
   "name": "conda-env-.conda-sjf37-py"
  },
  "language_info": {
   "codemirror_mode": {
    "name": "ipython",
    "version": 3
   },
   "file_extension": ".py",
   "mimetype": "text/x-python",
   "name": "python",
   "nbconvert_exporter": "python",
   "pygments_lexer": "ipython3",
   "version": "3.7.11"
  }
 },
 "nbformat": 4,
 "nbformat_minor": 5
}
