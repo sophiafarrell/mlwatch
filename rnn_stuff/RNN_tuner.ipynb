{
 "cells": [
  {
   "cell_type": "markdown",
   "id": "c5ec63f8",
   "metadata": {},
   "source": [
    "# Reading the ROOT files"
   ]
  },
  {
   "cell_type": "code",
   "execution_count": 1,
   "id": "e559d40d",
   "metadata": {},
   "outputs": [],
   "source": [
    "# %matplotlib notebook"
   ]
  },
  {
   "cell_type": "code",
   "execution_count": 2,
   "id": "2f37c24d-b384-4e8b-99ed-d2d9464fa803",
   "metadata": {},
   "outputs": [],
   "source": [
    "import keras_tuner as kt"
   ]
  },
  {
   "cell_type": "code",
   "execution_count": null,
   "id": "96356645-1664-4cc9-ab30-0021d3c103b8",
   "metadata": {},
   "outputs": [],
   "source": [
    "kt.Hyperband("
   ]
  },
  {
   "cell_type": "code",
   "execution_count": 3,
   "id": "8e52d5c6-e6e3-4507-a5b3-e1834ee85eda",
   "metadata": {},
   "outputs": [],
   "source": [
    "import uproot\n",
    "import numpy as np\n",
    "import pandas as pd\n",
    "import awkward as ak\n",
    "from scipy.stats import norm\n",
    "import scipy.interpolate as interpolate\n",
    "from scipy.ndimage import median as med"
   ]
  },
  {
   "cell_type": "code",
   "execution_count": 26,
   "id": "5000d073-e1cf-409a-b602-55fe2d674081",
   "metadata": {},
   "outputs": [],
   "source": [
    "import tensorflow.keras.backend as K\n",
    "import tensorflow as tf\n",
    "from tensorflow.keras import callbacks, regularizers\n",
    "\n",
    "from tensorflow.keras.models import Sequential, load_model\n",
    "from tensorflow.keras.layers import LSTM, Dense, Dropout, Masking, Embedding, Input, InputLayer\n",
    "from tensorflow.keras.layers import Concatenate, Flatten\n",
    "from tensorflow.keras.models import Model\n",
    "from tensorflow.keras.preprocessing import sequence\n",
    "\n",
    "from sklearn.model_selection import train_test_split\n",
    "from sklearn.metrics import confusion_matrix, roc_auc_score, roc_curve\n",
    "import seaborn as sns\n",
    "from sklearn.preprocessing import StandardScaler, LabelBinarizer"
   ]
  },
  {
   "cell_type": "code",
   "execution_count": 5,
   "id": "695babfc",
   "metadata": {},
   "outputs": [],
   "source": [
    "import matplotlib.pyplot as plt\n",
    "from mpl_toolkits.mplot3d import axes3d \n",
    "from matplotlib.colors import LogNorm\n",
    "import IPython\n",
    "from sklearn import metrics"
   ]
  },
  {
   "cell_type": "code",
   "execution_count": 6,
   "id": "332b809a-dea3-4b72-a6bd-52ea0b33d0b8",
   "metadata": {},
   "outputs": [],
   "source": [
    "pmtpos = np.loadtxt('pmtpositions.csv', delimiter=',')\n",
    "pmtpos = np.vstack((np.array([0, 0, 0]), pmtpos))"
   ]
  },
  {
   "cell_type": "markdown",
   "id": "84ee1904-e4b5-4755-aa3e-e0a1a95f1749",
   "metadata": {},
   "source": [
    "Add in residual time and pmt info (can cut for promptness in mask if wanted. Now not doing.) "
   ]
  },
  {
   "cell_type": "code",
   "execution_count": 7,
   "id": "71b5b6c8-6ce9-4f13-a591-67f53e566a31",
   "metadata": {},
   "outputs": [],
   "source": [
    "ibd = ak.from_json('data/ibd.json')\n",
    "fastn = ak.from_json('data/fastn.json')"
   ]
  },
  {
   "cell_type": "markdown",
   "id": "6982f8a7-a2ef-45a4-9e83-e81439c75796",
   "metadata": {
    "tags": []
   },
   "source": [
    "## Getting data in input form"
   ]
  },
  {
   "cell_type": "code",
   "execution_count": 8,
   "id": "abb439e2-ca8c-492e-a811-178f60f92b34",
   "metadata": {},
   "outputs": [],
   "source": [
    "dimensions = [\n",
    "    'n9', 'n9_prev', 'n9_next',\n",
    "    'x', 'y', 'z',  'r',\n",
    "    'id_plus_dr_hit', 'inner_hit_prev', 'inner_hit_next',\n",
    "    'good_dir', 'good_dir_prev', 'good_dir_next',\n",
    "    'good_pos','good_pos_prev', 'good_pos_next',\n",
    "#     'distpmt', \n",
    "    'closestPMT', 'closestPMT_prev', 'closestPMT_next', \n",
    "    'drPrevr', 'dzPrevz', 'drNextr', 'dzNextz',\n",
    "     'dt_prev_us', 'dt_next_us',\n",
    "    'azimuth_ks', 'azimuth_ks_prev','azimuth_ks_next',\n",
    "    'n100', 'pe', \n",
    "    'beta_one', 'beta_two', 'beta_three', 'beta_four', 'beta_five', 'beta_six',\n",
    "    'beta_one_prev', 'beta_two_prev', 'beta_three_prev', 'beta_four_prev', 'beta_five_prev', 'beta_six_prev',\n",
    "]\n",
    "def get_dims(data, dimensions=dimensions):\n",
    "    df_cut = data[dimensions]\n",
    "    print('Remaining variables selected for analysis: %i'%(len(dimensions)))\n",
    "    return df_cut\n",
    "\n",
    "def prep_net_data(data_to_manipulate, \n",
    "                  prompt=True, restime=True,\n",
    "                  maxlen=100):\n",
    "    X = []\n",
    "    y = np.array([])\n",
    "    \n",
    "    if prompt==True:\n",
    "        keys = ['promptchan', 'promptcharge', 'prompttime']\n",
    "    elif prompt==False:\n",
    "        keys = ['channel', 'pmtcharge', 'hittime']\n",
    "    if restime==True:\n",
    "        keys.append('restime')\n",
    "        \n",
    "    diminput = len(keys)\n",
    "    for d, dat in enumerate(data_to_manipulate):\n",
    "        print('Running set %i of %i'%(d+1, len(data_to_manipulate)))\n",
    "        new = np.empty(shape=(len(dat), maxlen, diminput+2))\n",
    "\n",
    "        chn = sequence.pad_sequences(dat[keys[0]]+1, maxlen=maxlen, \n",
    "                                     padding='post', \n",
    "                                     dtype='int32')\n",
    "        chrg = sequence.pad_sequences(dat[keys[1]], maxlen=maxlen, \n",
    "                                      padding='post', \n",
    "                                      dtype='float64')\n",
    "        \n",
    "        xyz = pmtpos[chn]+1 #since value of 0 has meaning..\n",
    "        \n",
    "        time = sequence.pad_sequences(dat[keys[2]], maxlen=maxlen, \n",
    "                                      padding='post', \n",
    "                                      dtype='float64')\n",
    "        new[:,:,0] = chrg\n",
    "        new[:,:,1] = time    \n",
    "        new[:,:,2:5] = xyz+1\n",
    "        \n",
    "        if restime==True:\n",
    "            res_times = sequence.pad_sequences(dat[keys[3]], maxlen=maxlen, \n",
    "                                      padding='post', \n",
    "                                      dtype='float64')\n",
    "            new[:,:,5] = res_times\n",
    "            \n",
    "        if len(X)>0:\n",
    "            X = np.append(X, new, axis=0)\n",
    "        else: \n",
    "            X = new\n",
    "        y=np.append(y, d*np.ones(len(new)))    \n",
    "    return X, y"
   ]
  },
  {
   "cell_type": "code",
   "execution_count": 9,
   "id": "9abf6f89-9fd8-4b43-b456-31c500f4b9a4",
   "metadata": {},
   "outputs": [],
   "source": [
    "all_data = ak.concatenate([ibd, fastn])"
   ]
  },
  {
   "cell_type": "code",
   "execution_count": 10,
   "id": "30f588b7-3f09-4645-8952-c0c41fbcdcc1",
   "metadata": {},
   "outputs": [],
   "source": [
    "fn = all_data['code']==2\n",
    "invbeta = all_data['code']==1\n",
    "id0 = all_data['subid']==0\n",
    "id1p = all_data['subid']>0 # >0 changes things "
   ]
  },
  {
   "cell_type": "code",
   "execution_count": 11,
   "id": "d21fb78b-06ad-447c-b527-83c8eccf1e4c",
   "metadata": {},
   "outputs": [],
   "source": [
    "ibd0_mask = ak.from_iter([all(t) for t in zip(invbeta, id0)])\n",
    "ibd1_mask = ak.from_iter([all(t) for t in zip(invbeta, id1p)])\n",
    "fastn0_mask = ak.from_iter([all(t) for t in zip(fn, id0)])\n",
    "fastn1_mask = ak.from_iter([all(t) for t in zip(fn, id1p)])"
   ]
  },
  {
   "cell_type": "code",
   "execution_count": 12,
   "id": "2137fb5e-05b5-4331-8d5e-fc5b11295eb9",
   "metadata": {},
   "outputs": [],
   "source": [
    "samples = min([ak.count_nonzero(fn), \n",
    "              ak.count_nonzero(ibd0_mask), \n",
    "              ak.count_nonzero(ibd1_mask)])\n",
    "x1 = all_data[fn][:samples]\n",
    "x1 = ak.concatenate((x1, all_data[ibd0_mask][:samples]))\n",
    "x1 = ak.concatenate((x1, all_data[ibd1_mask][:samples]))\n",
    "\n",
    "data_to_manipulate = [all_data[fn][:samples],\n",
    "                     all_data[ibd0_mask][:samples], all_data[ibd1_mask][:samples]\n",
    "                     ]"
   ]
  },
  {
   "cell_type": "code",
   "execution_count": 53,
   "id": "cf3dbfb0-ee1c-4fbb-9c1b-c847accd18b7",
   "metadata": {},
   "outputs": [
    {
     "name": "stdout",
     "output_type": "stream",
     "text": [
      "Remaining variables selected for analysis: 42\n",
      "Running set 1 of 3\n",
      "Running set 2 of 3\n",
      "Running set 3 of 3\n"
     ]
    }
   ],
   "source": [
    "X1 = get_dims(x1, dimensions=dimensions)\n",
    "X1 = ak.to_pandas(X1)\n",
    "\n",
    "X2, y = prep_net_data(data_to_manipulate, prompt=False, restime=True, maxlen=200)\n",
    "\n",
    "lb = LabelBinarizer()\n",
    "y = lb.fit_transform(y)\n",
    "indices = x1['timestamp']\n",
    "# Split dataset into training set and test set\n",
    "X_train1, X_test1, X_train2, X_test2, y_train, y_test, ind_train, ind_test= train_test_split(X1, X2, \n",
    "                                                                         y, indices, \n",
    "                                                                         test_size=0.25, random_state=43) \n",
    "sc = StandardScaler()\n",
    "X_train1 = sc.fit_transform(X_train1)\n",
    "X_test1 = sc.transform(X_test1)"
   ]
  },
  {
   "cell_type": "code",
   "execution_count": 67,
   "id": "1cf9ddfb-e907-4f72-8d60-8727e2a39bd1",
   "metadata": {},
   "outputs": [],
   "source": [
    "tested_ibd = ibd[[x in ind_test for x in ibd['timestamp']]]\n",
    "tested_fastn = fastn[[x in ind_test for x in fastn['timestamp']]]"
   ]
  },
  {
   "cell_type": "code",
   "execution_count": 74,
   "id": "205881b6-a8d4-4bdb-9e5d-432426a54543",
   "metadata": {},
   "outputs": [],
   "source": [
    "ibd_test_labels = y_test_2[y_test_2!=0]"
   ]
  },
  {
   "cell_type": "code",
   "execution_count": 77,
   "id": "887eb87c-0e19-4baf-974e-422b68c123bd",
   "metadata": {},
   "outputs": [
    {
     "data": {
      "text/plain": [
       "array([1, 2, 2, ..., 2, 2, 1])"
      ]
     },
     "execution_count": 77,
     "metadata": {},
     "output_type": "execute_result"
    }
   ],
   "source": [
    "ibd_test_labels"
   ]
  },
  {
   "cell_type": "code",
   "execution_count": 73,
   "id": "63674a7f-c470-49c6-98e9-f9ae747e0710",
   "metadata": {},
   "outputs": [
    {
     "data": {
      "text/plain": [
       "<Array [1, 1, 1, 0, 1, 1, ... 1, 1, 1, 1, 1, 1] type='8615 * int64'>"
      ]
     },
     "execution_count": 73,
     "metadata": {},
     "output_type": "execute_result"
    }
   ],
   "source": [
    "tested_ibd.subid"
   ]
  },
  {
   "cell_type": "code",
   "execution_count": 69,
   "id": "d51a5152-107d-450d-b6b6-56b23a939315",
   "metadata": {},
   "outputs": [
    {
     "data": {
      "text/plain": [
       "array([1, 1, 1, ..., 1, 1, 1])"
      ]
     },
     "execution_count": 69,
     "metadata": {},
     "output_type": "execute_result"
    }
   ],
   "source": [
    "y_test"
   ]
  },
  {
   "cell_type": "code",
   "execution_count": 68,
   "id": "ead4b77c-ea43-483b-8840-9c42025186c2",
   "metadata": {},
   "outputs": [
    {
     "data": {
      "text/plain": [
       "<Array [{gtid: 20, mcid: 33, ... 900]}] type='8615 * {\"gtid\": int64, \"mcid\": int...'>"
      ]
     },
     "execution_count": 68,
     "metadata": {},
     "output_type": "execute_result"
    }
   ],
   "source": [
    "pred_ibd = "
   ]
  },
  {
   "cell_type": "markdown",
   "id": "8a71dc58-cbb7-4d67-9367-8c81cc0aba49",
   "metadata": {
    "tags": []
   },
   "source": [
    "## Non-sequential Model"
   ]
  },
  {
   "cell_type": "code",
   "execution_count": null,
   "id": "03c4bf74-ece0-476a-a8c0-9cad3c9ad729",
   "metadata": {},
   "outputs": [],
   "source": []
  },
  {
   "cell_type": "code",
   "execution_count": 19,
   "id": "cd0e0be6-3777-42c3-ba06-ab21430b56a4",
   "metadata": {},
   "outputs": [],
   "source": [
    "modelload = load_model(\"weights/812scan_best_model_3class.h5\")"
   ]
  },
  {
   "cell_type": "code",
   "execution_count": 22,
   "id": "926d8dfb-396f-4716-a1b6-48c484301b96",
   "metadata": {},
   "outputs": [],
   "source": [
    "scores = modelload.predict([X_test1, X_test2])"
   ]
  },
  {
   "cell_type": "code",
   "execution_count": 23,
   "id": "e2d2e1ba-1ac0-4919-8e69-30867e24070e",
   "metadata": {},
   "outputs": [],
   "source": [
    "y_pred_2 = np.argmax(scores, axis=1)\n",
    "y_test_2 = np.argmax(y_test, axis=1)"
   ]
  },
  {
   "cell_type": "code",
   "execution_count": 24,
   "id": "050e77f6-a4e8-4b8e-9234-92f396c8fd64",
   "metadata": {
    "tags": []
   },
   "outputs": [
    {
     "data": {
      "image/png": "[encoded data removed]",
      "text/plain": [
       "<Figure size 432x288 with 2 Axes>"
      ]
     },
     "metadata": {
      "needs_background": "light"
     },
     "output_type": "display_data"
    }
   ],
   "source": [
    "confmat = confusion_matrix(y_test_2, y_pred_2)\n",
    "ax = sns.heatmap(confmat, annot=True, fmt='g', \n",
    "#                  norm=LogNorm()\n",
    "                )\n",
    "\n",
    "ax.set_title('Confusion Matrix from IBD/fast-neutron RNN')\n",
    "ax.set_xlabel('Predicted PID')\n",
    "ax.set_ylabel('Actual PID')\n",
    "\n",
    "ax.xaxis.set_ticklabels(['fastn', 'ibd0', 'ibd1'])\n",
    "ax.yaxis.set_ticklabels(['fastn', 'ibd0', 'ibd1'])\n",
    "\n",
    "plt.show()"
   ]
  },
  {
   "cell_type": "code",
   "execution_count": 25,
   "id": "b298a0c6-e8b9-4b23-a9f9-ca638be4b65a",
   "metadata": {
    "tags": []
   },
   "outputs": [
    {
     "data": {
      "image/png": "[encoded data removed]",
      "text/plain": [
       "<Figure size 576x360 with 1 Axes>"
      ]
     },
     "metadata": {
      "needs_background": "light"
     },
     "output_type": "display_data"
    }
   ],
   "source": [
    "cat1 = [0, 0, 1]\n",
    "cat2 = [1, 2, 2]\n",
    "labels = ['fastn/ibd0', 'fastn/ibd1', 'ibd0/ibd1', \n",
    "         ]\n",
    "plt.figure(figsize=(8,5))\n",
    "for i, j, label in zip(cat1, cat2, \n",
    "                        labels,\n",
    "                         ):\n",
    "    mask = [any(t) for t in zip(y_test_2==i, y_test_2==j)]\n",
    "    prob = scores[:, j][mask]\n",
    "    \n",
    "    guesses = y_test_2[mask]\n",
    "    guesses = guesses - np.min(guesses)\n",
    "    guesses = guesses/np.max(guesses)\n",
    "\n",
    "    fpr, tpr, thresholds = roc_curve(guesses, prob)\n",
    "        \n",
    "    auc = roc_auc_score(y_test_2[mask], prob)\n",
    "    plt.plot(fpr, tpr, \n",
    "         label='%s (AUC = %0.3f)'%(label, auc), \n",
    "#          color='darkorange', \n",
    "         lw=2, \n",
    "        )\n",
    "plt.xlim([-0.01, 1.0])\n",
    "plt.ylim([0, 1.05])\n",
    "plt.xlabel('False Positive Rate')\n",
    "plt.ylabel('True Positive Rate')\n",
    "plt.title('RNN ROC: Sub-class of ibd vs fast-neutrons')\n",
    "plt.plot([0, 1], [0, 1], color='navy', lw=2, linestyle='--')\n",
    "plt.legend()\n",
    "plt.grid()\n",
    "plt.show()"
   ]
  },
  {
   "cell_type": "markdown",
   "id": "00006319-0bff-4267-a200-c495c9d8c61f",
   "metadata": {},
   "source": [
    "## Clustering predictions "
   ]
  },
  {
   "cell_type": "markdown",
   "id": "f4203acc-eeb7-4fe5-8c0d-ff5c3d5228b0",
   "metadata": {},
   "source": [
    "Goal: Cluster the predictions together by nearby in time and try to come up with some ensembled prediction on whether or not it is a fast-n vs. ibd."
   ]
  },
  {
   "cell_type": "code",
   "execution_count": null,
   "id": "a3e13105-f402-4096-9515-a45aafcb19db",
   "metadata": {},
   "outputs": [],
   "source": []
  },
  {
   "cell_type": "code",
   "execution_count": null,
   "id": "d00e790d-a915-409e-bcf9-dc9598e0429a",
   "metadata": {},
   "outputs": [],
   "source": []
  },
  {
   "cell_type": "code",
   "execution_count": 104,
   "id": "336cbb7c-135e-4c31-9ea9-5840f58c78e0",
   "metadata": {},
   "outputs": [
    {
     "ename": "NameError",
     "evalue": "name 'history' is not defined",
     "output_type": "error",
     "traceback": [
      "\u001b[0;31m---------------------------------------------------------------------------\u001b[0m",
      "\u001b[0;31mNameError\u001b[0m                                 Traceback (most recent call last)",
      "\u001b[0;32m<ipython-input-104-9474b2d39ff5>\u001b[0m in \u001b[0;36m<module>\u001b[0;34m\u001b[0m\n\u001b[0;32m----> 1\u001b[0;31m plt.plot(history['val_loss'], \n\u001b[0m\u001b[1;32m      2\u001b[0m          \u001b[0mcolor\u001b[0m\u001b[0;34m=\u001b[0m\u001b[0;34m'r'\u001b[0m\u001b[0;34m,\u001b[0m \u001b[0mlw\u001b[0m\u001b[0;34m=\u001b[0m\u001b[0;36m2\u001b[0m\u001b[0;34m,\u001b[0m \u001b[0mlabel\u001b[0m\u001b[0;34m=\u001b[0m\u001b[0;34m'Validation Loss'\u001b[0m\u001b[0;34m,\u001b[0m\u001b[0;34m\u001b[0m\u001b[0;34m\u001b[0m\u001b[0m\n\u001b[1;32m      3\u001b[0m         )\n\u001b[1;32m      4\u001b[0m plt.plot(history['loss'], \n\u001b[1;32m      5\u001b[0m          \u001b[0mcolor\u001b[0m\u001b[0;34m=\u001b[0m\u001b[0;34m'b'\u001b[0m\u001b[0;34m,\u001b[0m \u001b[0mlw\u001b[0m\u001b[0;34m=\u001b[0m\u001b[0;36m2\u001b[0m\u001b[0;34m,\u001b[0m \u001b[0mlabel\u001b[0m\u001b[0;34m=\u001b[0m\u001b[0;34m'Training Loss'\u001b[0m\u001b[0;34m,\u001b[0m\u001b[0;34m\u001b[0m\u001b[0;34m\u001b[0m\u001b[0m\n",
      "\u001b[0;31mNameError\u001b[0m: name 'history' is not defined"
     ]
    }
   ],
   "source": [
    "plt.plot(history['val_loss'], \n",
    "         color='r', lw=2, label='Validation Loss', \n",
    "        )\n",
    "plt.plot(history['loss'], \n",
    "         color='b', lw=2, label='Training Loss', \n",
    "        )\n",
    "\n",
    "plt.plot(history['val_acc'], \n",
    "         color='r', lw=2, linestyle='--', \n",
    "         label='Validation Accuracy', \n",
    "        )\n",
    "plt.plot(history['loss'], \n",
    "         color='b', lw=2, linestyle='--', \n",
    "         label='Training Accuracy', \n",
    "        )"
   ]
  },
  {
   "cell_type": "code",
   "execution_count": 112,
   "id": "4415fbdb-fc3a-4f4c-8c2d-fff9cfd600e7",
   "metadata": {},
   "outputs": [],
   "source": [
    "scores = newModel2.predict([X_test1, X_test2])"
   ]
  },
  {
   "cell_type": "code",
   "execution_count": 113,
   "id": "3822256f-2eb9-46a9-877f-c63a119eb9ad",
   "metadata": {},
   "outputs": [],
   "source": [
    "y_pred_2 = np.round(scores)\n",
    "y_test_2 = y_test"
   ]
  },
  {
   "cell_type": "code",
   "execution_count": 114,
   "id": "8e3e8bfa-d9a9-4bba-bf31-c0122201523c",
   "metadata": {
    "tags": []
   },
   "outputs": [
    {
     "data": {
      "image/png": "[encoded data removed]",
      "text/plain": [
       "<Figure size 432x288 with 2 Axes>"
      ]
     },
     "metadata": {
      "needs_background": "light"
     },
     "output_type": "display_data"
    }
   ],
   "source": [
    "confmat = confusion_matrix(y_test_2, y_pred_2)\n",
    "ax = sns.heatmap(confmat, annot=True, fmt='g', \n",
    "#                  norm=LogNorm()\n",
    "                )\n",
    "\n",
    "ax.set_title('Confusion Matrix from IBD/fast-neutron RNN')\n",
    "ax.set_xlabel('Predicted PID')\n",
    "ax.set_ylabel('Actual PID')\n",
    "\n",
    "ax.xaxis.set_ticklabels(['fastn', 'ibd'])\n",
    "ax.yaxis.set_ticklabels(['fastn', 'ibd'])\n",
    "\n",
    "plt.show()"
   ]
  },
  {
   "cell_type": "code",
   "execution_count": 117,
   "id": "5a866678-45d5-4799-a608-3fd7bd8f7043",
   "metadata": {
    "tags": []
   },
   "outputs": [
    {
     "data": {
      "image/png": "[encoded data removed]",
      "text/plain": [
       "<Figure size 576x360 with 1 Axes>"
      ]
     },
     "metadata": {
      "needs_background": "light"
     },
     "output_type": "display_data"
    }
   ],
   "source": [
    "cat1 = [0]\n",
    "cat2 = [1]\n",
    "labels = ['fastn/ibd', \n",
    "         ]\n",
    "plt.figure(figsize=(8,5))\n",
    "for i, j, label in zip(cat1, cat2, \n",
    "                        labels,\n",
    "                         ):\n",
    "    mask = [any(t) for t in zip(y_test_2==i, y_test_2==j)]\n",
    "    prob = scores[mask]\n",
    "    \n",
    "    guesses = y_test_2[mask]\n",
    "    guesses = guesses - np.min(guesses)\n",
    "    guesses = guesses/np.max(guesses)\n",
    "\n",
    "    fpr, tpr, thresholds = roc_curve(guesses, prob)\n",
    "        \n",
    "    auc = roc_auc_score(y_test_2[mask], prob)\n",
    "    plt.plot(fpr, tpr, \n",
    "         label='%s (AUC = %0.3f)'%(label, auc), \n",
    "#          color='darkorange', \n",
    "         lw=2, \n",
    "        )\n",
    "plt.xlim([-0.01, 1.0])\n",
    "plt.ylim([0, 1.05])\n",
    "plt.xlabel('False Positive Rate')\n",
    "plt.ylabel('True Positive Rate')\n",
    "plt.title('RNN ROC: Overall ibd vs fast-neutrons')\n",
    "plt.plot([0, 1], [0, 1], color='navy', lw=2, linestyle='--')\n",
    "plt.legend()\n",
    "plt.grid()\n",
    "plt.show()"
   ]
  },
  {
   "cell_type": "code",
   "execution_count": 131,
   "id": "2443b28a-a0c0-47f7-a466-07dfdf97d9ce",
   "metadata": {},
   "outputs": [],
   "source": [
    "wrong = X_save[y_pred_2!=y_test]"
   ]
  },
  {
   "cell_type": "code",
   "execution_count": 129,
   "id": "ffac32fc-23da-47f1-9685-add265e96033",
   "metadata": {},
   "outputs": [],
   "source": [
    "rightpred = y_test[y_pred_2!=y_test]"
   ]
  },
  {
   "cell_type": "code",
   "execution_count": 158,
   "id": "a049a081-c9ac-4641-80d2-35ab1160b6d3",
   "metadata": {},
   "outputs": [],
   "source": [
    "fastnwrong = fastn[wrong[rightpred==0].index.values]\n",
    "ibdwrong = ibd[wrong[rightpred==1].index.values-samples]"
   ]
  },
  {
   "cell_type": "code",
   "execution_count": 182,
   "id": "d6d26e80-1bff-47d7-aca1-288544537bc1",
   "metadata": {},
   "outputs": [
    {
     "data": {
      "image/png": "[encoded data removed]",
      "text/plain": [
       "<Figure size 432x288 with 1 Axes>"
      ]
     },
     "metadata": {
      "needs_background": "light"
     },
     "output_type": "display_data"
    }
   ],
   "source": [
    "key = 'drPrevr'\n",
    "kw = dict(histtype='step', density=True)\n",
    "bins = plt.hist(fastnwrong[key], bins=50, **kw)\n",
    "plt.hist(ibdwrong[key], bins=bins[1], **kw)\n",
    "plt.show()"
   ]
  },
  {
   "cell_type": "code",
   "execution_count": null,
   "id": "9c116572-aa2e-45b5-87f8-28c6ac371ece",
   "metadata": {},
   "outputs": [],
   "source": []
  }
 ],
 "metadata": {
  "kernelspec": {
   "display_name": "Python [conda env:.conda-sjf]",
   "language": "python",
   "name": "conda-env-.conda-sjf-py"
  },
  "language_info": {
   "codemirror_mode": {
    "name": "ipython",
    "version": 3
   },
   "file_extension": ".py",
   "mimetype": "text/x-python",
   "name": "python",
   "nbconvert_exporter": "python",
   "pygments_lexer": "ipython3",
   "version": "3.8.2"
  }
 },
 "nbformat": 4,
 "nbformat_minor": 5
}
